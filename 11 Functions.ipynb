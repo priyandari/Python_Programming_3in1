{
 "cells": [
  {
   "attachments": {},
   "cell_type": "markdown",
   "metadata": {},
   "source": [
    "# Functions\n",
    "\n",
    "Pada sesi tutorial ini akan dibahas mengenai :\n",
    "* Penggunaan fungsi (function)\n",
    "* Arguments\n",
    "* Mengambil nilai dari sebuah function\n",
    "* Fungsi menerima nilai dari pengguna: <b>input</b>\n",
    "* Fungsi konversi: <b>int, flat, dan str</b>\n",
    "* Fungsi <b>type, dan help</b>\n",
    "* Fungsi penggabungan string"
   ]
  },
  {
   "attachments": {},
   "cell_type": "markdown",
   "metadata": {},
   "source": [
    "__Fungsi__ adalah penamaan untuk __sekumpulan perintah__ yang dijalankan atau dipanggil untuk menyelesaikan sebuah proses / tugas tertentu. Misal, fungsi menghitung luas segitiga, fungsi menghitung rata-rata nilai, fungsi menghitung tarif parkir, dan masih banyak lainnya. Pada __diagram alir__, fungsi disimbolkan sebagai __kotak prosedur__ (kotak dengan dua garis di tepi kanan dan kiri).\n",
    "\n",
    "Sebuah bahasa program, termasuk Python, secara umum memiliki memiliki dua bentuk fungsi berdasarkan proses pembuatannya, yakni \n",
    "1. Fungsi siap pakai (_built-in function_)\n",
    "2. Fungsi dibuat oleh programmer (_user-defined function_)\n",
    "\n",
    "Bentuk umum penggunaan function sebagai berikut\n",
    "\n",
    "> `<variabel_penerima_hasil>` = `nama_function(<argument>)`\n",
    "\n",
    "> Contoh: hasil_mutlak = abs(-9), pangkat = pow(3,2)\n",
    "\n",
    "_Argument_ adalah sebuah ekspresi atau nilai yang diberikan ke dalam function. Misal, pada abs(-9), nilai -9 adalah nilai yang dimasukkan ke fungsi untuk di proses.\n",
    "\n",
    "_Variabel_penerima_hasil_ adalah variabel yang dipakai untuk menyimpan nilai hasil pengolahan sebuah fungsi. Variabel ini tidak selalu harus ada, khususnya ketika sebuah fungsi tidak memberikan nilai balik (_return_). "
   ]
  },
  {
   "cell_type": "code",
   "execution_count": null,
   "metadata": {},
   "outputs": [],
   "source": [
    "hasil_mutlak = abs(-9)\n",
    "pangkat = pow(2,3)\n",
    "print(hasil_mutlak)\n",
    "print(pangkat)\n"
   ]
  },
  {
   "attachments": {},
   "cell_type": "markdown",
   "metadata": {},
   "source": [
    "### 1. Fungsi siap pakai (Built-in Function)\n",
    "\n",
    "Contoh fungsi siap pakai adalah fungsi-fungsi operasi aritmatika dasar seperti fungsi absolute `abs()`, pangkat tiga `pow()`, `input()`, dan fungsi-fungsi yang melekat pada proses konversi tipe data `int()`, `float()`, `string()`, fungsi yang melekat pada tipe data `.append(), split(), .extend(), .remove()` dan lain sebagainya."
   ]
  },
  {
   "attachments": {},
   "cell_type": "markdown",
   "metadata": {},
   "source": [
    "Beberapa fungsi matematik disimpan dalam __class math__ sehingga diperlukan proses import class math dan ketika menggunakan perlu memakai nama class math diawal fungsi."
   ]
  },
  {
   "cell_type": "code",
   "execution_count": null,
   "metadata": {},
   "outputs": [],
   "source": [
    "# Contoh Pemakaian fungsi dari class math\n",
    "import math\n",
    "\n",
    "akar_kuadrat = math.sqrt(49)\n",
    "print(akar_kuadrat)"
   ]
  },
  {
   "attachments": {},
   "cell_type": "markdown",
   "metadata": {},
   "source": [
    "fungsi `help()` dapat digunakan untuk membantu melihat panduan penggunaan sebuah fungsi, termasuk jika ingin mengetahui _argumen_ apa yang bisa digunakan pada fungsi."
   ]
  },
  {
   "cell_type": "code",
   "execution_count": null,
   "metadata": {
    "scrolled": false
   },
   "outputs": [],
   "source": [
    "# Penggunaan fungsi help()\n",
    "print(help(abs))"
   ]
  },
  {
   "attachments": {},
   "cell_type": "markdown",
   "metadata": {},
   "source": [
    "### 2. Function v.s. Procedure\n",
    "Pada beberapa program, fungsi yang memberikan nilai balik disebut __function__, sedangkan yang tidak memberikan nilai balik disebut __procedure__. Detail hal ini dapat dilihat pada pembahasan _user-defined function_."
   ]
  },
  {
   "attachments": {},
   "cell_type": "markdown",
   "metadata": {},
   "source": [
    "### 3. Fungsi dibuat Programmer (_User-defined function_)\n",
    "\n",
    "Dibahas secara khusus pada sesi berikutnya."
   ]
  }
 ],
 "metadata": {
  "kernelspec": {
   "display_name": "Python 3",
   "language": "python",
   "name": "python3"
  },
  "language_info": {
   "codemirror_mode": {
    "name": "ipython",
    "version": 3
   },
   "file_extension": ".py",
   "mimetype": "text/x-python",
   "name": "python",
   "nbconvert_exporter": "python",
   "pygments_lexer": "ipython3",
   "version": "3.9.10"
  }
 },
 "nbformat": 4,
 "nbformat_minor": 2
}
