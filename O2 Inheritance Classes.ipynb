{
 "cells": [
  {
   "attachments": {},
   "cell_type": "markdown",
   "metadata": {},
   "source": [
    "# Inheritance - Penurunan Classes"
   ]
  },
  {
   "attachments": {},
   "cell_type": "markdown",
   "metadata": {},
   "source": [
    "__Inheritance__ memudahkan mendefinisikan __class turunan__ dimana semua __method__ dan __properti__  berasal dari class lain.\n",
    "\n",
    "__Parent class__ adalah class yang  akan diturunkan menjadi class lain, atau disebut juga sebagai class basis.\n",
    "\n",
    "__Child class__ adalah class yang menjadi turunan class lain."
   ]
  },
  {
   "attachments": {},
   "cell_type": "markdown",
   "metadata": {},
   "source": [
    "Mahasiswa adalah sebuah class. Class Alumni dapat dibentuk dengan menurunkan class Mahasiswa. \n",
    "\n",
    "ALumni bisa dianggap turunan dari mahasiswa, karena alumni memiliki _basic properties_ dan _basic methods_ yang sama dengan class mahasiswa. Misal, alumni juga memiliki atribut Nama, Nim, dan Angkatan, serta memiliki fungsi dasar mencetak informasi umum.\n",
    "\n",
    "Perbedaan Class Alumni dan Mahasiswa, nantinya Alumni memiliki 'StatusLulus', 'TahunLulus', bidang 'Pekerjaan' dan sebagainya. Alumni diturunkan dari mahasiswa sebagai Child, karena tidak semua mahasiswa harus menjadi alumni atau lulus. \n",
    "\n",
    "Nantinya bisa juga dibuat turunan berupa MahasiswaDO, yakni mahasiswa yang _drop out_."
   ]
  },
  {
   "cell_type": "code",
   "execution_count": 12,
   "metadata": {},
   "outputs": [],
   "source": [
    "# Mendefinisikan bentuk Class atau blueprint\n",
    "class Mahasiswa:\n",
    "    def __init__(self, nama, nim):\n",
    "        self.Nama = nama\n",
    "        self.Nim = nim\n",
    "        # Fungsi ini selalu diperlukan saat inisiasi objek\n",
    "        def angkatan():\n",
    "            hasil = 2000 + int(self.Nim[3:5])\n",
    "            return hasil\n",
    "        self.Angkatan = angkatan()\n",
    "    \n",
    "    def __str__(self):\n",
    "        return f\" Nim \\t: {self.Nim} \\n Nama \\t: {self.Nama} \\n Angkatan: {self.Angkatan}\"\n",
    "\n",
    "    #Jika ada fungsi atau method lain\n",
    "    def dispaly(self):\n",
    "        print(\"NIM:\", self.Nim)\n",
    "        print(\"Nama:\", self.Nama)\n",
    "        # pass\n"
   ]
  },
  {
   "cell_type": "code",
   "execution_count": 14,
   "metadata": {},
   "outputs": [
    {
     "name": "stdout",
     "output_type": "stream",
     "text": [
      "Data Mahasiswa\n",
      " Nim \t: I0319001 \n",
      " Nama \t: Prisca \n",
      " Angkatan: 2019\n",
      "Data Alumni\n",
      " Nim \t: I0319001 \n",
      " Nama \t: Prisca \n",
      " Tahun Lulus: 2024\n"
     ]
    }
   ],
   "source": [
    "# Mendefinisikan Class Turunan dari Mahasiswa\n",
    "class Alumni(Mahasiswa):\n",
    "    def __init__(self, tahun_lulus, *args, **kwargs):\n",
    "        super().__init__(*args, **kwargs)\n",
    "        # Mahasiswa.__init__(*args, **kwargs) # Jika mau menyebutkan parent\n",
    "        self.StatusLulus = True\n",
    "        self.TahunLulus = tahun_lulus\n",
    "    \n",
    "    # Jika str tidak didefinisikan, otomatis ditampilkan diambil dari parent        \n",
    "    def __str__(self):\n",
    "        return f\" Nim \\t: {self.Nim} \\n Nama \\t: {self.Nama} \\n Tahun Lulus: {self.TahunLulus}\"\n",
    "\n",
    "    #Jika ada fungsi atau method lain\n",
    "    def dispaly(self):\n",
    "        super().dispaly()\n",
    "        print(\"Tahun Lulus:\", self.TahunLulus)\n",
    "        pass\n",
    "\n",
    "\n",
    "# Membentuk Objek mhs1\n",
    "mhs1 = Mahasiswa(\"Prisca\", \"I0319001\")\n",
    "print(\"Data Mahasiswa\")\n",
    "print(mhs1) # Mencetak objek mhs1\n",
    "\n",
    "# # Contoh membentuk objek alumni, sebagai turunan dari mahasiswa  \n",
    "alumni1 = Alumni(2024, mhs1.Nama, mhs1.Nim)\n",
    "# atau jika tidak tahu urutannya, maka harus disebutkan kuncinya (key)\n",
    "alumni1 = Alumni(2024, nim=mhs1.Nim, nama=mhs1.Nama)\n",
    "print(\"Data Alumni\")\n",
    "print(alumni1) # Mencetak objek alumni1"
   ]
  },
  {
   "attachments": {},
   "cell_type": "markdown",
   "metadata": {},
   "source": [
    "* Dalam contoh ini, *args dan **kwargs digunakan untuk menangkap semua argumen posisi dan argumen kata kunci yang diteruskan ke metode `__init__()` dari kelas induk (Mahasiswa). \n",
    "\n",
    "* Dengan demikian, saat membuat objek Alumni, hanya perlu menyediakan argumen baru tahun_lulus dan tidak perlu mengulangi argumen nama dan nim. Ini membuat kode menjadi lebih bersih dan lebih efisien, terutama ketika ada banyak atribut yang diwarisi dari kelas induk.\n",
    "\n",
    "* Penggunaan `super().` dapat otomatis menggantikan pemanggilan parent, misalkan `Mahasiswa.`\n",
    "\n",
    "* Jika `__str()__` pada child tidak didefinisikan, otomatis ditampilkan/diambil dari `__str()__` parent.  "
   ]
  }
 ],
 "metadata": {
  "kernelspec": {
   "display_name": "python_programming_3in1",
   "language": "python",
   "name": "python3"
  },
  "language_info": {
   "codemirror_mode": {
    "name": "ipython",
    "version": 3
   },
   "file_extension": ".py",
   "mimetype": "text/x-python",
   "name": "python",
   "nbconvert_exporter": "python",
   "pygments_lexer": "ipython3",
   "version": "3.9.10"
  },
  "orig_nbformat": 4
 },
 "nbformat": 4,
 "nbformat_minor": 2
}
