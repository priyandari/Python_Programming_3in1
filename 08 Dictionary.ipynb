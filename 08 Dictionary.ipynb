{
 "cells": [
  {
   "attachments": {},
   "cell_type": "markdown",
   "metadata": {},
   "source": [
    "# Dictionary"
   ]
  },
  {
   "cell_type": "markdown",
   "metadata": {},
   "source": [
    "Topik yang dibahas:\n",
    "* Dictionary\n",
    "* Using the in operator on a dictionary\n",
    "* Programming challenge\n",
    "* A Python dictionary to represent a programming dictionary\n",
    "* Iterating through a dictionary\n",
    "* Combining lists and dictionaries\n",
    "* JSON: JavaScript Object Notation\n",
    "* Example program to get weather data\n",
    "* XML data\n",
    "* Accessing repeating groupings in JSON and XML"
   ]
  },
  {
   "attachments": {},
   "cell_type": "markdown",
   "metadata": {},
   "source": [
    "__Dictionary__ adalah satu diantara empat __tipe struktur data__ di Python yang digunakan untuk menyimpan sekumpulan data pada sebuah variabel. Tiga tipe data lainnya adalah __List, Tuple, dan Sets__.\n",
    "\n",
    "__Karakteristik__ utama dictionary adalah memiliki __key (indeks)__ yang dapat didefinisikan (tidak harus default angka dari 0) untuk setiap __data (value)__. Dictionary disebut juga tipe data yang berisii __key__ dan __value__. \n",
    "\n",
    "Dictionary bisa diurutkan**, diubah, dan elemen (key) tidak ada yang duplikat.\n",
    "\n",
    "__Dictionary__ ditulis menggunakan kurung kurawal dengan format `{ key : value, key: value, ... }`."
   ]
  },
  {
   "attachments": {},
   "cell_type": "markdown",
   "metadata": {},
   "source": [
    "### 1. Membuat Dictionary Tunggal\n",
    "Ingat kembali bentuk list untuk nantinya membedakan dengan dictionary."
   ]
  },
  {
   "cell_type": "code",
   "execution_count": null,
   "metadata": {},
   "outputs": [],
   "source": [
    "mhs = ['I0319075', 'Andhika', '08562345678', 165, 'Surakarta']\n",
    "print(type(mhs))\n",
    "mahasiswas = [['I0319075', 'Andhika', '08562345678', 165, 'Surakarta'],\n",
    "              ['I0322098', 'Bowo', '08765432817', 175, 'Purwokerto']\n",
    "              ]\n",
    "# Ingat kembali cara mengakses kota asal Bowo pada variabel mahasiswas"
   ]
  },
  {
   "attachments": {},
   "cell_type": "markdown",
   "metadata": {},
   "source": [
    "Dengan menggunakan Dictionary, bisa diberikan __key__ bagi setiap elemen sehingga memudahkan memanggil item (__value__) data. \n",
    "Perhatikan modifikasi list menjadi dictionary."
   ]
  },
  {
   "cell_type": "code",
   "execution_count": null,
   "metadata": {},
   "outputs": [],
   "source": [
    "dict_mhs = {'nim':'I0319075', \n",
    "            'nama' : 'Andhika', \n",
    "            'telepon': '08562345678',\n",
    "            'tinggi' : 165, \n",
    "            'kota' : 'Surakarta'}\n",
    "print(type(dict_mhs))\n",
    "print(dict_mhs)"
   ]
  },
  {
   "attachments": {},
   "cell_type": "markdown",
   "metadata": {},
   "source": [
    "Ketika ingin menampilkan __value__ data nama dan telepon, tidak perlu mengingat nama dan telepon pada indeks ke berapa, tetapi dapat dipanggil menggunakan __key__."
   ]
  },
  {
   "cell_type": "code",
   "execution_count": null,
   "metadata": {},
   "outputs": [],
   "source": [
    "print(dict_mhs['nama'])\n",
    "print(dict_mhs['telepon'])"
   ]
  },
  {
   "attachments": {},
   "cell_type": "markdown",
   "metadata": {},
   "source": [
    "### 2. Mengakses key dan value Dictionary Tunggal"
   ]
  },
  {
   "cell_type": "code",
   "execution_count": null,
   "metadata": {},
   "outputs": [],
   "source": [
    "# Mengakses informasi keys yang digunakan\n",
    "print(dict_mhs.keys())\n",
    "\n",
    "# Mengakses seluruh data pada dictionary tunggal\n",
    "print(dict_mhs.values())\n",
    "\n",
    "# Mengakses panjang data dictionary tunggal\n",
    "print(len(dict_mhs))\n",
    "\n",
    "# Mengakses tipe data\n",
    "print(type(dict_mhs))"
   ]
  },
  {
   "attachments": {},
   "cell_type": "markdown",
   "metadata": {},
   "source": [
    "#### 2.1 Mengakses value menggunakan iterasi"
   ]
  },
  {
   "cell_type": "code",
   "execution_count": null,
   "metadata": {},
   "outputs": [],
   "source": [
    "# Mengakses key dan value menggunakan iterasi\n",
    "for key in dict_mhs:\n",
    "    print(key, dict_mhs[key])"
   ]
  },
  {
   "attachments": {},
   "cell_type": "markdown",
   "metadata": {},
   "source": [
    "#### 2.2. Memeriksa apakah Key dan Value ada dalam Dictionary"
   ]
  },
  {
   "cell_type": "code",
   "execution_count": null,
   "metadata": {},
   "outputs": [],
   "source": [
    "# Cek key dalam dictionary\n",
    "print('handphone' in dict_mhs)"
   ]
  },
  {
   "cell_type": "code",
   "execution_count": null,
   "metadata": {},
   "outputs": [],
   "source": [
    "# Periksa value ada dalam dictionary\n",
    "print('Andhika' in dict_mhs.values())"
   ]
  },
  {
   "attachments": {},
   "cell_type": "markdown",
   "metadata": {},
   "source": [
    "## 3. Multi Data dalam Dictionary\n",
    "\n",
    "Pada Dictionary tunggal, sebenarnya hanya menyimpan satu baris data (satu data mahasiswa). Dictionary memberikan kemudahan menyimpan banyak data (_records_). Metode yang sering digunakan adalah:\n",
    "1. Records Dictionary di dalam List\n",
    "2. Dictionary dalam Dictionary,\n"
   ]
  },
  {
   "attachments": {},
   "cell_type": "markdown",
   "metadata": {},
   "source": [
    "#### 3.1. Records Dictionary dalam List"
   ]
  },
  {
   "cell_type": "code",
   "execution_count": null,
   "metadata": {},
   "outputs": [],
   "source": [
    "# Records Dictionary dalam List\n",
    "mhs_2022 = [\n",
    "    {'nim':'I0322015', 'nama' : 'Anggito', 'telepon': '0856123', 'tinggi' : 165, 'kota' : 'Surakarta'},\n",
    "    {'nim':'I0322022', 'nama' : 'Berliana', 'telepon': '0856789', 'tinggi' : 162, 'kota' : 'Bali'},\n",
    "    {'nim':'I0322019', 'nama' : 'Chezava', 'telepon': '0856234', 'tinggi' : 160, 'kota' : 'Chili'},\n",
    "    {'nim':'I0322098', 'nama' : 'Daniel', 'telepon': '0856777', 'tinggi' : 170, 'kota' : 'Depok'}\n",
    "    ]"
   ]
  },
  {
   "cell_type": "code",
   "execution_count": null,
   "metadata": {},
   "outputs": [],
   "source": [
    "# Cek tipe data\n",
    "print(type(mhs_2022))\n",
    "\n",
    "# Menampilkan seluruh records\n",
    "print(mhs_2022)"
   ]
  },
  {
   "cell_type": "code",
   "execution_count": null,
   "metadata": {},
   "outputs": [],
   "source": [
    "# Menampilkan Setiap record menggunakan iterasi\n",
    "i = 1\n",
    "for mhs in mhs_2022:\n",
    "    print(f\":: Mahasiswa ke-{i} ::\")\n",
    "    for key in mhs:\n",
    "        print(key, mhs[key])\n",
    "    i+=1"
   ]
  },
  {
   "attachments": {},
   "cell_type": "markdown",
   "metadata": {},
   "source": [
    "#### 3.2. Records Dictionary di dalam Dictionary"
   ]
  },
  {
   "cell_type": "code",
   "execution_count": null,
   "metadata": {},
   "outputs": [],
   "source": [
    "# Dictionary dalam dictionary, dengan key integer\n",
    "mhs_2022_A = {\n",
    "    1: {'nim':'I0322015', 'nama' : 'Anggito', 'telepon': '0856123', 'tinggi' : 165, 'kota' : 'Surakarta'},\n",
    "    2: {'nim':'I0322022', 'nama' : 'Berliana', 'telepon': '0856789', 'tinggi' : 162, 'kota' : 'Bali'},\n",
    "    3: {'nim':'I0322019', 'nama' : 'Chezava', 'telepon': '0856234', 'tinggi' : 160, 'kota' : 'Chili'},\n",
    "    4: {'nim':'I0322098', 'nama' : 'Daniel', 'telepon': '0856777', 'tinggi' : 170, 'kota' : 'Depok'}\n",
    "    }\n",
    "# Cek tipe data\n",
    "print(type(mhs_2022_A))\n",
    "# Menampilkan keys\n",
    "print(mhs_2022_A.keys())\n",
    "\n",
    "# Memanggil sebuah data dengan key tertentu\n",
    "print(mhs_2022_A[1]['nama'])"
   ]
  },
  {
   "cell_type": "code",
   "execution_count": null,
   "metadata": {},
   "outputs": [],
   "source": [
    "# Mengakses setiap record key dan value menggunaka iterasi\n",
    "for key in mhs_2022_A:\n",
    "    print(key, mhs_2022_A[key])"
   ]
  },
  {
   "cell_type": "code",
   "execution_count": null,
   "metadata": {},
   "outputs": [],
   "source": [
    "# Mengakses setiap record key dan value menggunaka iterasi\n",
    "for i in mhs_2022_A:\n",
    "    # print(i, mhs_2022_A[i])\n",
    "    print(f\":: Mahasiswa ke-{i} :\")\n",
    "    for key in mhs_2022_A[i]:\n",
    "        print(key, mhs_2022_A[i][key])"
   ]
  },
  {
   "cell_type": "code",
   "execution_count": null,
   "metadata": {},
   "outputs": [],
   "source": [
    "# Mengakses setiap record key dan value menggunaka iterasi While\n",
    "i = 1\n",
    "while i <= len(mhs_2022_A):\n",
    "    # Mencetak Data di dalam dictionary\n",
    "    print(f\"Biodata Mahasiswa ke-{i}\")\n",
    "    print('NIM :', mhs_2022_A[i]['nim'])\n",
    "    print('NAMA :', mhs_2022_A[i]['nama'])\n",
    "    print('Telepon :', mhs_2022_A[i]['telepon'])\n",
    "    # for key in mhs_2022_A[i]:\n",
    "    #     print(key, mhs_2022_A[i][key])  \n",
    "    i += 1"
   ]
  },
  {
   "cell_type": "code",
   "execution_count": null,
   "metadata": {},
   "outputs": [],
   "source": [
    "# Dictionary dalam dictionary, dengan key integer\n",
    "mhs_2022_B = {\n",
    "    \"I0322015\": {'nim':'I0322015', 'nama' : 'Anggito', 'telepon': '0856123', 'tinggi' : 165, 'kota' : 'Surakarta'},\n",
    "    \"I0322022\": {'nim':'I0322022', 'nama' : 'Berliana', 'telepon': '0856789', 'tinggi' : 162, 'kota' : 'Bali'},\n",
    "    \"I0322019\": {'nim':'I0322019', 'nama' : 'Chezava', 'telepon': '0856234', 'tinggi' : 160, 'kota' : 'Chili'},\n",
    "    \"I0322098\": {'nim':'I0322098', 'nama' : 'Daniel', 'telepon': '0856777', 'tinggi' : 170, 'kota' : 'Depok'}\n",
    "    }\n",
    "# Cek tipe data\n",
    "print(type(mhs_2022_B))\n",
    "# Menampilkan keys\n",
    "print(mhs_2022_B.keys())\n",
    "\n",
    "# Memanggil sebuah data dengan key tertentu\n",
    "print(mhs_2022_B[\"I0322019\"]['nama'])"
   ]
  },
  {
   "cell_type": "code",
   "execution_count": null,
   "metadata": {},
   "outputs": [],
   "source": [
    "for nim in mhs_2022_B:\n",
    "    print(nim)\n",
    "    print(mhs_2022_B[nim]['nama'])\n",
    "    print(mhs_2022_B[nim]['kota'])\n",
    "    print(\"----------------\")"
   ]
  },
  {
   "cell_type": "code",
   "execution_count": null,
   "metadata": {},
   "outputs": [],
   "source": [
    "# Cara Lain mengakses data\n",
    "for nim, mahasiswa in mhs_2022_B.items():\n",
    "    print(nim)\n",
    "    print(mahasiswa['nama'])\n",
    "    print(mahasiswa['telepon'])\n",
    "    print(\"----------------\")"
   ]
  },
  {
   "attachments": {},
   "cell_type": "markdown",
   "metadata": {},
   "source": [
    "#### latihan Mandiri\n",
    "\n",
    "Buatlah program sederhana untuk menampung dictionary data nilai tugas, uts, dan uas mahasiswa.\n",
    "Prosesnya harus melalui __input data oleh pengguna__, bukan melalui inisiasi !"
   ]
  }
 ],
 "metadata": {
  "kernelspec": {
   "display_name": "Python 3 (ipykernel)",
   "language": "python",
   "name": "python3"
  },
  "language_info": {
   "codemirror_mode": {
    "name": "ipython",
    "version": 3
   },
   "file_extension": ".py",
   "mimetype": "text/x-python",
   "name": "python",
   "nbconvert_exporter": "python",
   "pygments_lexer": "ipython3",
   "version": "3.9.10"
  }
 },
 "nbformat": 4,
 "nbformat_minor": 2
}
