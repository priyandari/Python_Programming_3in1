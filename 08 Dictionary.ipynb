{
 "cells": [
  {
   "attachments": {},
   "cell_type": "markdown",
   "metadata": {},
   "source": [
    "# Dictionary"
   ]
  },
  {
   "attachments": {},
   "cell_type": "markdown",
   "metadata": {},
   "source": [
    "__Dictionary__ adalah satu diantara empat __tipe struktur data__ di Python yang digunakan untuk menyimpan sekumpulan data pada sebuah variabel. Tiga tipe data lainnya adalah __List, Tuple, dan Sets__.\n",
    "\n",
    "__Karakteristik__ utama dictionary adalah memiliki __key (indeks)__ yang dapat didefinisikan (tidak harus default angka dari 0) untuk setiap __data (value)__. Dictionary disebut juga tipe data yang berisii __key__ dan __value__. \n",
    "\n",
    "Dictionary bisa diurutkan**, diubah, dan elemen (key) tidak ada yang duplikat.\n",
    "\n",
    "__Dictionary__ ditulis menggunakan kurung kurawal dengan format `{ key : value, key: value, ... }`."
   ]
  },
  {
   "attachments": {},
   "cell_type": "markdown",
   "metadata": {},
   "source": [
    "### 1. Membuat Dictionary Tunggal\n",
    "Ingat kembali bentuk list untuk nantinya membedakan dengan dictionary."
   ]
  },
  {
   "cell_type": "code",
   "execution_count": 4,
   "metadata": {},
   "outputs": [
    {
     "name": "stdout",
     "output_type": "stream",
     "text": [
      "<class 'list'>\n"
     ]
    }
   ],
   "source": [
    "mhs = ['I0319075', 'Andhika', '08562345678', 165, 'Surakarta']\n",
    "print(type(mhs))\n",
    "mahasiswas = [['I0319075', 'Andhika', '08562345678', 165, 'Surakarta'],\n",
    "              ['I0322098', 'Bowo', '08765432817', 175, 'Purwokerto']\n",
    "              ]\n",
    "# Ingat kembali cara mengakses kota asal Bowo pada variabel mahasiswas"
   ]
  },
  {
   "attachments": {},
   "cell_type": "markdown",
   "metadata": {},
   "source": [
    "Dengan menggunakan Dictionary, bisa diberikan __key__ bagi setiap elemen sehingga memudahkan memanggil item (__value__) data. \n",
    "Perhatikan modifikasi list menjadi dictionary."
   ]
  },
  {
   "cell_type": "code",
   "execution_count": 1,
   "metadata": {},
   "outputs": [
    {
     "name": "stdout",
     "output_type": "stream",
     "text": [
      "<class 'dict'>\n",
      "{'nim': 'I0319075', 'nama': 'Andhika', 'telepon': '08562345678', 'tinggi': 165, 'kota': 'Surakarta'}\n"
     ]
    }
   ],
   "source": [
    "dict_mhs = {'nim':'I0319075', \n",
    "            'nama' : 'Andhika', \n",
    "            'telepon': '08562345678',\n",
    "            'tinggi' : 165, \n",
    "            'kota' : 'Surakarta'}\n",
    "print(type(dict_mhs))\n",
    "print(dict_mhs)"
   ]
  },
  {
   "attachments": {},
   "cell_type": "markdown",
   "metadata": {},
   "source": [
    "Ketika ingin menampilkan __value__ data nama dan telepon, tidak perlu mengingat nama dan telepon pada indeks ke berapa, tetapi dapat dipanggil menggunakan __key__."
   ]
  },
  {
   "cell_type": "code",
   "execution_count": 2,
   "metadata": {},
   "outputs": [
    {
     "name": "stdout",
     "output_type": "stream",
     "text": [
      "Andhika\n",
      "08562345678\n"
     ]
    }
   ],
   "source": [
    "print(dict_mhs['nama'])\n",
    "print(dict_mhs['telepon'])"
   ]
  },
  {
   "attachments": {},
   "cell_type": "markdown",
   "metadata": {},
   "source": [
    "#### 1.1. Mengganti sebuah value"
   ]
  },
  {
   "cell_type": "code",
   "execution_count": 10,
   "metadata": {},
   "outputs": [
    {
     "name": "stdout",
     "output_type": "stream",
     "text": [
      "089898989\n",
      "081212\n"
     ]
    }
   ],
   "source": [
    "# Mengganti dengan menggunakan indeks atau key\n",
    "dict_mhs['telepon'] = '089898989'\n",
    "print(dict_mhs['telepon'])\n",
    "\n",
    "# Mengganti dengan fungsi update()\n",
    "dict_mhs.update({\"telepon\": \"081212\"})\n",
    "print(dict_mhs['telepon'])"
   ]
  },
  {
   "attachments": {},
   "cell_type": "markdown",
   "metadata": {},
   "source": [
    "#### 1.2. Membuat Copy suatu Dictionary"
   ]
  },
  {
   "attachments": {},
   "cell_type": "markdown",
   "metadata": {},
   "source": [
    "Mencopy dua buah variabel dictionary __tidak boleh__  menggunakan  `dict2 = dict1`, karena menyebabkan perubahan pada dict1 akan juga mengubah isi pada dict2. \n",
    "\n",
    "gunakan fungsi `dict2.copy(dict1)` atau `dict2 = dict(dict1)`."
   ]
  },
  {
   "attachments": {},
   "cell_type": "markdown",
   "metadata": {},
   "source": [
    "#### 1.3. Menambah key dan value baru ke dalam Dictionary"
   ]
  },
  {
   "cell_type": "code",
   "execution_count": 17,
   "metadata": {},
   "outputs": [
    {
     "name": "stdout",
     "output_type": "stream",
     "text": [
      "{'nim': 'I0319075', 'nama': 'Andhika', 'telepon': '08562345678', 'tinggi': 165, 'kota': 'Surakarta', 'kost': True}\n"
     ]
    }
   ],
   "source": [
    "dict_mhs = {'nim':'I0319075', \n",
    "            'nama' : 'Andhika', \n",
    "            'telepon': '08562345678',\n",
    "            'tinggi' : 165, \n",
    "            'kota' : 'Surakarta'}\n",
    "\n",
    "# Cara pertama \n",
    "dict_mhs[\"kost\"] = True\n",
    "# Cara kedua\n",
    "dict_mhs.update({\"kost\": True})\n",
    "\n",
    "print(dict_mhs)"
   ]
  },
  {
   "attachments": {},
   "cell_type": "markdown",
   "metadata": {},
   "source": [
    "#### 1.4. Menghapus Satu Data, Semua Data, atau Menghapus variabel Dictionary"
   ]
  },
  {
   "cell_type": "code",
   "execution_count": 21,
   "metadata": {},
   "outputs": [
    {
     "name": "stdout",
     "output_type": "stream",
     "text": [
      "{'nim': 'I0319075', 'nama': 'Andhika', 'telepon': '08562345678', 'kota': 'Surakarta'}\n",
      "{}\n"
     ]
    }
   ],
   "source": [
    "dict_mhs = {'nim':'I0319075', \n",
    "            'nama' : 'Andhika', \n",
    "            'telepon': '08562345678',\n",
    "            'tinggi' : 165, \n",
    "            'kota' : 'Surakarta'}\n",
    "\n",
    "# Mengapus satu data\n",
    "dict_mhs.pop(\"tinggi\")\n",
    "print(dict_mhs)\n",
    "\n",
    "# Mengapus seluruh data\n",
    "dict_mhs.clear()\n",
    "print(dict_mhs)\n",
    "\n",
    "# Menghapus varibel dictionary\n",
    "del(dict_mhs)\n",
    "# print(dict_mhs)"
   ]
  },
  {
   "attachments": {},
   "cell_type": "markdown",
   "metadata": {},
   "source": [
    "### 2. Mengakses keys dan values Dictionary"
   ]
  },
  {
   "cell_type": "code",
   "execution_count": 24,
   "metadata": {},
   "outputs": [
    {
     "name": "stdout",
     "output_type": "stream",
     "text": [
      "Andhika\n",
      "dict_keys(['nim', 'nama', 'telepon', 'tinggi', 'kota'])\n",
      "dict_values(['I0319075', 'Andhika', '08562345678', 165, 'Surakarta'])\n",
      "5\n",
      "<class 'dict'>\n"
     ]
    }
   ],
   "source": [
    "dict_mhs = {'nim':'I0319075', \n",
    "            'nama' : 'Andhika', \n",
    "            'telepon': '08562345678',\n",
    "            'tinggi' : 165, \n",
    "            'kota' : 'Surakarta'}\n",
    "\n",
    "# Mengakses berdasarkan key (sudah dijelaskan di subbab sebelumnya)\n",
    "print(dict_mhs['nama'])\n",
    "\n",
    "# Mengakses informasi keys yang digunakan\n",
    "print(dict_mhs.keys())\n",
    "\n",
    "# Mengakses seluruh data pada dictionary tunggal\n",
    "print(dict_mhs.values())\n",
    "\n",
    "# Mengakses panjang data dictionary tunggal\n",
    "print(len(dict_mhs))\n",
    "\n",
    "# Mengakses tipe data\n",
    "print(type(dict_mhs))"
   ]
  },
  {
   "attachments": {},
   "cell_type": "markdown",
   "metadata": {},
   "source": [
    "#### 2.1 Mengakses value menggunakan iterasi"
   ]
  },
  {
   "cell_type": "code",
   "execution_count": 4,
   "metadata": {},
   "outputs": [
    {
     "name": "stdout",
     "output_type": "stream",
     "text": [
      "nim I0319075\n",
      "nama Andhika\n",
      "telepon 08562345678\n",
      "tinggi 165\n",
      "kota Surakarta\n"
     ]
    }
   ],
   "source": [
    "# Mengakses key dan value menggunakan iterasi\n",
    "for key in dict_mhs:\n",
    "    print(key, dict_mhs[key])"
   ]
  },
  {
   "attachments": {},
   "cell_type": "markdown",
   "metadata": {},
   "source": [
    "Cara lain mengakses value dan key, dengan mengimplementasikan fitur di atas sebagai berikut."
   ]
  },
  {
   "cell_type": "code",
   "execution_count": 25,
   "metadata": {},
   "outputs": [
    {
     "name": "stdout",
     "output_type": "stream",
     "text": [
      "I0319075\n",
      "Andhika\n",
      "08562345678\n",
      "165\n",
      "Surakarta\n"
     ]
    }
   ],
   "source": [
    "for value in dict_mhs.values():\n",
    "    print(value)"
   ]
  },
  {
   "cell_type": "code",
   "execution_count": 8,
   "metadata": {},
   "outputs": [
    {
     "name": "stdout",
     "output_type": "stream",
     "text": [
      "nim I0319075\n",
      "nama Andhika\n",
      "telepon 08562345678\n",
      "tinggi 165\n",
      "kota Surakarta\n"
     ]
    }
   ],
   "source": [
    "for key, value in dict_mhs.items():\n",
    "    print(key, value)"
   ]
  },
  {
   "attachments": {},
   "cell_type": "markdown",
   "metadata": {},
   "source": [
    "#### 2.2. Memeriksa apakah Key dan Value ada dalam Dictionary"
   ]
  },
  {
   "cell_type": "code",
   "execution_count": 9,
   "metadata": {},
   "outputs": [
    {
     "name": "stdout",
     "output_type": "stream",
     "text": [
      "False\n"
     ]
    }
   ],
   "source": [
    "# Cek key dalam dictionary\n",
    "print('handphone' in dict_mhs)"
   ]
  },
  {
   "cell_type": "code",
   "execution_count": 10,
   "metadata": {},
   "outputs": [
    {
     "name": "stdout",
     "output_type": "stream",
     "text": [
      "True\n"
     ]
    }
   ],
   "source": [
    "# Periksa value ada dalam dictionary\n",
    "print('Andhika' in dict_mhs.values())"
   ]
  },
  {
   "attachments": {},
   "cell_type": "markdown",
   "metadata": {},
   "source": [
    "## 3. Multi Data dalam Dictionary\n",
    "\n",
    "Pada Dictionary tunggal, sebenarnya hanya menyimpan satu baris data (satu data mahasiswa). Dictionary memberikan kemudahan menyimpan banyak data (_records_). Metode yang sering digunakan adalah:\n",
    "1. Records Dictionary di dalam List\n",
    "2. Dictionary dalam Dictionary (_nested dictionary_),\n"
   ]
  },
  {
   "attachments": {},
   "cell_type": "markdown",
   "metadata": {},
   "source": [
    "#### 3.1. Records Dictionary dalam List"
   ]
  },
  {
   "cell_type": "code",
   "execution_count": 26,
   "metadata": {},
   "outputs": [],
   "source": [
    "# Membuat Records Dictionary dalam List\n",
    "mhs_2022 = [\n",
    "    {'nim':'I0322015', 'nama' : 'Anggito', 'telepon': '0856123', 'tinggi' : 165, 'kota' : 'Surakarta'},\n",
    "    {'nim':'I0322022', 'nama' : 'Berliana', 'telepon': '0856789', 'tinggi' : 162, 'kota' : 'Bali'},\n",
    "    {'nim':'I0322019', 'nama' : 'Chezava', 'telepon': '0856234', 'tinggi' : 160, 'kota' : 'Chili'},\n",
    "    {'nim':'I0322098', 'nama' : 'Daniel', 'telepon': '0856777', 'tinggi' : 170, 'kota' : 'Depok'}\n",
    "    ]\n",
    "\n",
    "# Sintak di atas sama maknanya dengan:\n",
    "mhs1 = {'nim':'I0322015', 'nama' : 'Anggito', 'telepon': '0856123', 'tinggi' : 165, 'kota' : 'Surakarta'}\n",
    "mhs2 = {'nim':'I0322022', 'nama' : 'Berliana', 'telepon': '0856789', 'tinggi' : 162, 'kota' : 'Bali'}\n",
    "mhs3 = {'nim':'I0322019', 'nama' : 'Chezava', 'telepon': '0856234', 'tinggi' : 160, 'kota' : 'Chili'}\n",
    "mhs4 = {'nim':'I0322098', 'nama' : 'Daniel', 'telepon': '0856777', 'tinggi' : 170, 'kota' : 'Depok'}\n",
    "mhs_2022 = [mhs1, mhs2, mhs3, mhs4]\n",
    "\n",
    "# Dengan demikian dapat dikembangpan program input data satu persatu dari proses input oleh pengguna"
   ]
  },
  {
   "cell_type": "code",
   "execution_count": 27,
   "metadata": {},
   "outputs": [
    {
     "name": "stdout",
     "output_type": "stream",
     "text": [
      "<class 'list'>\n",
      "[{'nim': 'I0322015', 'nama': 'Anggito', 'telepon': '0856123', 'tinggi': 165, 'kota': 'Surakarta'}, {'nim': 'I0322022', 'nama': 'Berliana', 'telepon': '0856789', 'tinggi': 162, 'kota': 'Bali'}, {'nim': 'I0322019', 'nama': 'Chezava', 'telepon': '0856234', 'tinggi': 160, 'kota': 'Chili'}, {'nim': 'I0322098', 'nama': 'Daniel', 'telepon': '0856777', 'tinggi': 170, 'kota': 'Depok'}]\n"
     ]
    }
   ],
   "source": [
    "# Cek tipe data\n",
    "print(type(mhs_2022))\n",
    "\n",
    "# Menampilkan seluruh records\n",
    "print(mhs_2022)"
   ]
  },
  {
   "cell_type": "code",
   "execution_count": 13,
   "metadata": {},
   "outputs": [
    {
     "name": "stdout",
     "output_type": "stream",
     "text": [
      ":: Mahasiswa ke-1 ::\n",
      "nim I0322015\n",
      "nama Anggito\n",
      "telepon 0856123\n",
      "tinggi 165\n",
      "kota Surakarta\n",
      ":: Mahasiswa ke-2 ::\n",
      "nim I0322022\n",
      "nama Berliana\n",
      "telepon 0856789\n",
      "tinggi 162\n",
      "kota Bali\n",
      ":: Mahasiswa ke-3 ::\n",
      "nim I0322019\n",
      "nama Chezava\n",
      "telepon 0856234\n",
      "tinggi 160\n",
      "kota Chili\n",
      ":: Mahasiswa ke-4 ::\n",
      "nim I0322098\n",
      "nama Daniel\n",
      "telepon 0856777\n",
      "tinggi 170\n",
      "kota Depok\n"
     ]
    }
   ],
   "source": [
    "# Menampilkan Setiap record menggunakan iterasi\n",
    "i = 1\n",
    "for mhs in mhs_2022:\n",
    "    print(f\":: Mahasiswa ke-{i} ::\")\n",
    "    for key in mhs:\n",
    "        print(key, mhs[key])\n",
    "    i+=1"
   ]
  },
  {
   "attachments": {},
   "cell_type": "markdown",
   "metadata": {},
   "source": [
    "#### 3.2. Records Dictionary di dalam Dictionary"
   ]
  },
  {
   "cell_type": "code",
   "execution_count": 28,
   "metadata": {},
   "outputs": [
    {
     "name": "stdout",
     "output_type": "stream",
     "text": [
      "<class 'dict'>\n",
      "dict_keys([1, 2, 3, 4])\n",
      "Anggito\n"
     ]
    }
   ],
   "source": [
    "# Dictionary dalam dictionary, dengan key integer\n",
    "mhs_2022_A = {\n",
    "    1: {'nim':'I0322015', 'nama' : 'Anggito', 'telepon': '0856123', 'tinggi' : 165, 'kota' : 'Surakarta'},\n",
    "    2: {'nim':'I0322022', 'nama' : 'Berliana', 'telepon': '0856789', 'tinggi' : 162, 'kota' : 'Bali'},\n",
    "    3: {'nim':'I0322019', 'nama' : 'Chezava', 'telepon': '0856234', 'tinggi' : 160, 'kota' : 'Chili'},\n",
    "    4: {'nim':'I0322098', 'nama' : 'Daniel', 'telepon': '0856777', 'tinggi' : 170, 'kota' : 'Depok'}\n",
    "    }\n",
    "# Proses di atas sama maknanya dengan\n",
    "mhs_2022_A = {\n",
    "    1 : mhs1,\n",
    "    2 : mhs2,\n",
    "    3 : mhs3,\n",
    "    4 : mhs4\n",
    "    }\n",
    "\n",
    "# Cek tipe data\n",
    "print(type(mhs_2022_A))\n",
    "# Menampilkan keys\n",
    "print(mhs_2022_A.keys())\n",
    "\n",
    "# Memanggil sebuah data dengan key tertentu\n",
    "print(mhs_2022_A[1]['nama'])"
   ]
  },
  {
   "cell_type": "code",
   "execution_count": 15,
   "metadata": {},
   "outputs": [
    {
     "name": "stdout",
     "output_type": "stream",
     "text": [
      "1 {'nim': 'I0322015', 'nama': 'Anggito', 'telepon': '0856123', 'tinggi': 165, 'kota': 'Surakarta'}\n",
      "2 {'nim': 'I0322022', 'nama': 'Berliana', 'telepon': '0856789', 'tinggi': 162, 'kota': 'Bali'}\n",
      "3 {'nim': 'I0322019', 'nama': 'Chezava', 'telepon': '0856234', 'tinggi': 160, 'kota': 'Chili'}\n",
      "4 {'nim': 'I0322098', 'nama': 'Daniel', 'telepon': '0856777', 'tinggi': 170, 'kota': 'Depok'}\n"
     ]
    }
   ],
   "source": [
    "# Mengakses setiap record key dan value menggunaka iterasi\n",
    "for key in mhs_2022_A:\n",
    "    print(key, mhs_2022_A[key])"
   ]
  },
  {
   "cell_type": "code",
   "execution_count": 16,
   "metadata": {},
   "outputs": [
    {
     "name": "stdout",
     "output_type": "stream",
     "text": [
      ":: Mahasiswa ke-1 :\n",
      "nim I0322015\n",
      "nama Anggito\n",
      "telepon 0856123\n",
      "tinggi 165\n",
      "kota Surakarta\n",
      ":: Mahasiswa ke-2 :\n",
      "nim I0322022\n",
      "nama Berliana\n",
      "telepon 0856789\n",
      "tinggi 162\n",
      "kota Bali\n",
      ":: Mahasiswa ke-3 :\n",
      "nim I0322019\n",
      "nama Chezava\n",
      "telepon 0856234\n",
      "tinggi 160\n",
      "kota Chili\n",
      ":: Mahasiswa ke-4 :\n",
      "nim I0322098\n",
      "nama Daniel\n",
      "telepon 0856777\n",
      "tinggi 170\n",
      "kota Depok\n"
     ]
    }
   ],
   "source": [
    "# Mengakses setiap record key dan value menggunaka iterasi\n",
    "for i in mhs_2022_A:\n",
    "    # print(i, mhs_2022_A[i])\n",
    "    print(f\":: Mahasiswa ke-{i} :\")\n",
    "    for key in mhs_2022_A[i]:\n",
    "        print(key, mhs_2022_A[i][key])"
   ]
  },
  {
   "cell_type": "code",
   "execution_count": 17,
   "metadata": {},
   "outputs": [
    {
     "name": "stdout",
     "output_type": "stream",
     "text": [
      "Biodata Mahasiswa ke-1\n",
      "NIM : I0322015\n",
      "NAMA : Anggito\n",
      "Telepon : 0856123\n",
      "Biodata Mahasiswa ke-2\n",
      "NIM : I0322022\n",
      "NAMA : Berliana\n",
      "Telepon : 0856789\n",
      "Biodata Mahasiswa ke-3\n",
      "NIM : I0322019\n",
      "NAMA : Chezava\n",
      "Telepon : 0856234\n",
      "Biodata Mahasiswa ke-4\n",
      "NIM : I0322098\n",
      "NAMA : Daniel\n",
      "Telepon : 0856777\n"
     ]
    }
   ],
   "source": [
    "# Mengakses setiap record key dan value menggunaka iterasi While\n",
    "i = 1\n",
    "while i <= len(mhs_2022_A):\n",
    "    # Mencetak Data di dalam dictionary\n",
    "    print(f\"Biodata Mahasiswa ke-{i}\")\n",
    "    print('NIM :', mhs_2022_A[i]['nim'])\n",
    "    print('NAMA :', mhs_2022_A[i]['nama'])\n",
    "    print('Telepon :', mhs_2022_A[i]['telepon'])\n",
    "    # for key in mhs_2022_A[i]:\n",
    "    #     print(key, mhs_2022_A[i][key])  \n",
    "    i += 1"
   ]
  },
  {
   "cell_type": "code",
   "execution_count": 37,
   "metadata": {},
   "outputs": [
    {
     "name": "stdout",
     "output_type": "stream",
     "text": [
      "<class 'dict'>\n",
      "dict_keys(['I0322015', 'I0322022', 'I0322019', 'I0322098'])\n",
      "Chezava\n"
     ]
    }
   ],
   "source": [
    "# Dictionary dalam dictionary, dengan key integer\n",
    "mhs_2022_B = {\n",
    "    \"I0322015\": {'nim':'I0322015', 'nama' : 'Anggito', 'telepon': '0856123', 'tinggi' : 165, 'kota' : 'Surakarta'},\n",
    "    \"I0322022\": {'nim':'I0322022', 'nama' : 'Berliana', 'telepon': '0856789', 'tinggi' : 162, 'kota' : 'Bali'},\n",
    "    \"I0322019\": {'nim':'I0322019', 'nama' : 'Chezava', 'telepon': '0856234', 'tinggi' : 160, 'kota' : 'Chili'},\n",
    "    \"I0322098\": {'nim':'I0322098', 'nama' : 'Daniel', 'telepon': '0856777', 'tinggi' : 170, 'kota' : 'Depok'}\n",
    "    }\n",
    "# Cek tipe data\n",
    "print(type(mhs_2022_B))\n",
    "# Menampilkan keys\n",
    "print(mhs_2022_B.keys())\n",
    "\n",
    "# Memanggil sebuah data dengan key tertentu\n",
    "print(mhs_2022_B[\"I0322019\"]['nama'])"
   ]
  },
  {
   "cell_type": "code",
   "execution_count": 19,
   "metadata": {},
   "outputs": [
    {
     "name": "stdout",
     "output_type": "stream",
     "text": [
      "I0322015\n",
      "Anggito\n",
      "Surakarta\n",
      "----------------\n",
      "I0322022\n",
      "Berliana\n",
      "Bali\n",
      "----------------\n",
      "I0322019\n",
      "Chezava\n",
      "Chili\n",
      "----------------\n",
      "I0322098\n",
      "Daniel\n",
      "Depok\n",
      "----------------\n"
     ]
    }
   ],
   "source": [
    "for nim in mhs_2022_B:\n",
    "    print(nim)\n",
    "    print(mhs_2022_B[nim]['nama'])\n",
    "    print(mhs_2022_B[nim]['kota'])\n",
    "    print(\"----------------\")"
   ]
  },
  {
   "cell_type": "code",
   "execution_count": 20,
   "metadata": {},
   "outputs": [
    {
     "name": "stdout",
     "output_type": "stream",
     "text": [
      "I0322015\n",
      "Anggito\n",
      "0856123\n",
      "----------------\n",
      "I0322022\n",
      "Berliana\n",
      "0856789\n",
      "----------------\n",
      "I0322019\n",
      "Chezava\n",
      "0856234\n",
      "----------------\n",
      "I0322098\n",
      "Daniel\n",
      "0856777\n",
      "----------------\n"
     ]
    }
   ],
   "source": [
    "# Cara Lain mengakses data\n",
    "for nim, mahasiswa in mhs_2022_B.items():\n",
    "    print(nim)\n",
    "    print(mahasiswa['nama'])\n",
    "    print(mahasiswa['telepon'])\n",
    "    print(\"----------------\")"
   ]
  },
  {
   "cell_type": "code",
   "execution_count": 42,
   "metadata": {},
   "outputs": [
    {
     "name": "stdout",
     "output_type": "stream",
     "text": [
      "{\n",
      "    \"I0322015\": {\n",
      "        \"nim\": \"I0322015\",\n",
      "        \"nama\": \"Anggito\",\n",
      "        \"telepon\": \"0856123\",\n",
      "        \"tinggi\": 165,\n",
      "        \"kota\": \"Surakarta\"\n",
      "    },\n",
      "    \"I0322022\": {\n",
      "        \"nim\": \"I0322022\",\n",
      "        \"nama\": \"Berliana\",\n",
      "        \"telepon\": \"0856789\",\n",
      "        \"tinggi\": 162,\n",
      "        \"kota\": \"Bali\"\n",
      "    },\n",
      "    \"I0322019\": {\n",
      "        \"nim\": \"I0322019\",\n",
      "        \"nama\": \"Chezava\",\n",
      "        \"telepon\": \"0856234\",\n",
      "        \"tinggi\": 160,\n",
      "        \"kota\": \"Chili\"\n",
      "    },\n",
      "    \"I0322098\": {\n",
      "        \"nim\": \"I0322098\",\n",
      "        \"nama\": \"Daniel\",\n",
      "        \"telepon\": \"0856777\",\n",
      "        \"tinggi\": 170,\n",
      "        \"kota\": \"Depok\"\n",
      "    }\n",
      "}\n"
     ]
    }
   ],
   "source": [
    "# Melihat secara terstruktur seluruh data \n",
    "# json secara khusus di bahas pada sub bab 14.b\n",
    "import json\n",
    "print(json.dumps(mhs_2022_B, indent=4))"
   ]
  },
  {
   "attachments": {},
   "cell_type": "markdown",
   "metadata": {},
   "source": [
    "Membuat dan menambah data dictionary menggunakan fungsi."
   ]
  },
  {
   "cell_type": "code",
   "execution_count": 41,
   "metadata": {},
   "outputs": [
    {
     "name": "stdout",
     "output_type": "stream",
     "text": [
      "{\n",
      "    \"mahasiswa\": {\n",
      "        \"I0322022\": {\n",
      "            \"nama\": \"Berliana\",\n",
      "            \"kota\": \"Bali\"\n",
      "        },\n",
      "        \"I0322019\": {\n",
      "            \"nama\": \"Chezava\",\n",
      "            \"kota\": \"Chili\"\n",
      "        }\n",
      "    }\n",
      "}\n"
     ]
    }
   ],
   "source": [
    "# Inisialisasi nested dictionary kosong\n",
    "data = {}\n",
    "\n",
    "# Fungsi untuk menambahkan data ke dalam nested dictionary\n",
    "def tambah_data(nested_dict, keys, value):\n",
    "    # Iterasi melalui keys untuk mencapai nested level terakhir\n",
    "    for key in keys[:-1]:\n",
    "        # Jika key belum ada dalam nested_dict, tambahkan dictionary kosong\n",
    "        nested_dict = nested_dict.setdefault(key, {})\n",
    "    # Tambahkan value ke dalam nested_dict pada nested level terakhir\n",
    "    nested_dict[keys[-1]] = value\n",
    "\n",
    "# Contoh penggunaan\n",
    "tambah_data(data, ['mahasiswa', 'I0322022', 'nama'], 'Berliana')\n",
    "tambah_data(data, ['mahasiswa', 'I0322022', 'kota'], 'Bali')\n",
    "tambah_data(data, ['mahasiswa', 'I0322019', 'nama'], 'Chezava')\n",
    "tambah_data(data, ['mahasiswa', 'I0322019', 'kota'], 'Chili')\n",
    "\n",
    "# Print nested dictionary hasil penambahan data\n",
    "import json\n",
    "print(json.dumps(data, indent=4))"
   ]
  },
  {
   "cell_type": "code",
   "execution_count": 44,
   "metadata": {},
   "outputs": [
    {
     "name": "stdout",
     "output_type": "stream",
     "text": [
      "{\n",
      "    \"mahasiswa\": {\n",
      "        \"I0322022\": {\n",
      "            \"nama\": \"Berliana\",\n",
      "            \"kota\": \"Bali\"\n",
      "        },\n",
      "        \"I0322019\": {\n",
      "            \"nama\": \"Chezava\",\n",
      "            \"kota\": \"Chili\"\n",
      "        }\n",
      "    }\n",
      "}\n"
     ]
    }
   ],
   "source": [
    "# Inisialisasi nested dictionary kosong\n",
    "data ={}\n",
    "\n",
    "# Fungsi yang berbeda untuk menambahkan data ke dalam nested dictionary\n",
    "def tambah_data(nested_dict, keys, value):\n",
    "    if len(keys) == 1:\n",
    "        nested_dict[keys[0]] = value\n",
    "    else:\n",
    "        key = keys[0]\n",
    "        if key not in nested_dict:\n",
    "            nested_dict[key] = {}\n",
    "        tambah_data(nested_dict[key], keys[1:], value)\n",
    "        \n",
    "# Contoh penggunaan\n",
    "tambah_data(data, ['mahasiswa', 'I0322022', 'nama'], 'Berliana')\n",
    "tambah_data(data, ['mahasiswa', 'I0322022', 'kota'], 'Bali')\n",
    "tambah_data(data, ['mahasiswa', 'I0322019', 'nama'], 'Chezava')\n",
    "tambah_data(data, ['mahasiswa', 'I0322019', 'kota'], 'Chili')\n",
    "\n",
    "# Print nested dictionary hasil penambahan data\n",
    "import json\n",
    "print(json.dumps(data, indent=4))"
   ]
  },
  {
   "attachments": {},
   "cell_type": "markdown",
   "metadata": {},
   "source": [
    "#### latihan Mandiri\n",
    "\n",
    "Buatlah program sederhana untuk menampung dictionary data nilai tugas, uts, dan uas mahasiswa.\n",
    "Prosesnya harus melalui __input data oleh pengguna__, bukan melalui inisiasi !"
   ]
  }
 ],
 "metadata": {
  "kernelspec": {
   "display_name": "Python 3 (ipykernel)",
   "language": "python",
   "name": "python3"
  },
  "language_info": {
   "codemirror_mode": {
    "name": "ipython",
    "version": 3
   },
   "file_extension": ".py",
   "mimetype": "text/x-python",
   "name": "python",
   "nbconvert_exporter": "python",
   "pygments_lexer": "ipython3",
   "version": "3.9.10"
  }
 },
 "nbformat": 4,
 "nbformat_minor": 2
}
