{
 "cells": [
  {
   "attachments": {},
   "cell_type": "markdown",
   "metadata": {},
   "source": [
    "# Pemrograman Berorientasi Objek\n",
    "\n",
    "__Python__ pada dasarnya adalah bahasa program berorientasi objek (_object oriented programming language_). Hampir semua hal di dalam Python berupa __object__, yang memiliki __properties__ dan __methods__. "
   ]
  },
  {
   "attachments": {},
   "cell_type": "markdown",
   "metadata": {},
   "source": [
    "# Classes - Objects"
   ]
  },
  {
   "attachments": {},
   "cell_type": "markdown",
   "metadata": {},
   "source": [
    "__Class__ adalah istilah yang membangun/ mengkonstruksi _object_, atau __Class__ adalah sebuah \"__blueprint__\" untuk membuat sebuah _instans_."
   ]
  },
  {
   "attachments": {},
   "cell_type": "markdown",
   "metadata": {},
   "source": [
    "### 1. Fungsi `__init__()`"
   ]
  },
  {
   "attachments": {},
   "cell_type": "markdown",
   "metadata": {},
   "source": [
    "Fungsi `__init__()` adalah bagian pertama yang harus dipahami ketika membuat sebuah Class.\n",
    "\n",
    "Semua classes memiliki fungsi yang disebut `__init__()`,  yang selalu dieksekusi ketika Class diinisiasi (dibentuk).\n",
    "\n",
    "Penggunaan fungsi `__init__()` untuk melakukan _asignment_ (inisiasi) nilai __property__ (atribut) suatu objek, atau menginisiasi __operasi-operasi dasar (methods)__ yang pasti dilakukan ketika sebuah objek (instans) dibentuk. "
   ]
  },
  {
   "attachments": {},
   "cell_type": "markdown",
   "metadata": {},
   "source": [
    "* Pada contoh pertama di bawah ini, dibuat sebuah Class Mahasiswa. Setiap mahasiswa, tentu saja memiliki _atribut_ (`property`) berupa `Nama` dan `Nim`.\n",
    "* Ketika ada seseorang menjadi mahasiswa, maka orang (objek atau instans) tersebut memiliki data atribut berupa __Nim__ dan __Nama__\n",
    "* Dengan demikian, jika ada dua orang, maka orang pertama menjadi __objek__ __mhs1__ yang memiliki atribut __Nama__ berupa `Prisca`, dan Nim berisi `I0319001`.\n",
    "* Orang kedua atau __mhs2__ memiliki atribut __Nama__ berupa `Noorky`, dan __Nim__ berisi `I0319002`."
   ]
  },
  {
   "cell_type": "code",
   "execution_count": 7,
   "metadata": {},
   "outputs": [
    {
     "name": "stdout",
     "output_type": "stream",
     "text": [
      "Prisca\n",
      "Objek kedua bernama Noorky dan nim I0319002\n"
     ]
    }
   ],
   "source": [
    "# Mendefinisikan bentuk Class atau blueprint\n",
    "class Mahasiswa:\n",
    "    def __init__(self, nama, nim):\n",
    "        self.Nama = nama\n",
    "        self.Nim = nim\n",
    "\n",
    "\n",
    "# Membentuk Objek atau instans    \n",
    "mhs1 = Mahasiswa(\"Prisca\", \"I0319001\")\n",
    "print(mhs1.Nama)\n",
    "mhs2 = Mahasiswa(\"Noorky\", \"I0319002\")\n",
    "print(f\"Objek kedua bernama {mhs2.Nama} dan nim {mhs2.Nim}\")\n"
   ]
  },
  {
   "attachments": {},
   "cell_type": "markdown",
   "metadata": {},
   "source": [
    "### 2. Fungsi `__str__()`"
   ]
  },
  {
   "attachments": {},
   "cell_type": "markdown",
   "metadata": {},
   "source": [
    "Fungsi `__str__()` mengatur _apa yang dikembalikan (return)_ ketika sebuah objek dibentuk jika Class merepresentasikan _sebuah string_. \n",
    "\n",
    "* Dengan demikian, Jika fungsi `__str__()` __dibuat__, maka saat objek tersebut dicetak menggunakan fungsi `print()`, luaran cetak sesuai apa yang ditulis dalam fungsi  `__str__()`.\n",
    "\n",
    "* Jika fungsi `__str__()` __tidak dibuat__, maka Python akan secara otomatis menggunakan representasi bawaan dari objek tersebut. Representasi bawaan biasanya adalah string yang mencakup informasi dasar tentang jenis dan lokasi memori dari objek tersebut.\n"
   ]
  },
  {
   "cell_type": "code",
   "execution_count": 12,
   "metadata": {},
   "outputs": [
    {
     "name": "stdout",
     "output_type": "stream",
     "text": [
      "Data Mahasiswa \n",
      " Nim \t: I0319001 \n",
      " Nama \t: Prisca\n"
     ]
    }
   ],
   "source": [
    "# Mendefinisikan bentuk Class atau blueprint\n",
    "class Mahasiswa:\n",
    "    def __init__(self, nama, nim):\n",
    "        self.Nama = nama\n",
    "        self.Nim = nim\n",
    "    \n",
    "    def __str__(self):\n",
    "        return f\"Data Mahasiswa \\n Nim \\t: {self.Nim} \\n Nama \\t: {self.Nama}\"\n",
    "\n",
    "\n",
    "# Membentuk Objek atau instans    \n",
    "mhs1 = Mahasiswa(\"Prisca\", \"I0319001\")\n",
    "print(mhs1) # Mencetak objek mhs1"
   ]
  },
  {
   "attachments": {},
   "cell_type": "markdown",
   "metadata": {},
   "source": [
    "### 3. Parameter `__self__`\n",
    "Pada fungsi `__init(self, *params)__` terdapat parameter `self`, yakni sebuah parameter referensi ke instans saat ini dari kelas. Saat membuat objek dari sebuah kelas, _self_ akan merujuk pada objek tersebut. \n",
    "\n",
    "__self__ digunakan untuk mengakses variabel yang dimiliki oleh kelas. Ini memungkinkan metode dalam sebuah kelas untuk bekerja dengan atribut objek yang sesuai dengan instans-nya.\n",
    "\n",
    "Aturan pentingnya adalah bahwa parameter ini harus menjadi parameter pertama dalam setiap fungsi atau metode dalam kelas."
   ]
  },
  {
   "attachments": {},
   "cell_type": "markdown",
   "metadata": {},
   "source": [
    "### 4. Methods"
   ]
  },
  {
   "attachments": {},
   "cell_type": "markdown",
   "metadata": {},
   "source": [
    "__Methods__ atau __Functions__ adalah operasi-operasi (tindakan / perilaku) yang bisa dilakukan oleh sebuah objek (instans).\n",
    "* Jika operasi-operasi ini, hampir pasti dilakukan setiap membentuk objek, maka bisa diletakkan di dalam fungsi `__init(self)__`, atau\n",
    "* Jika operasi digunakan hanya saat tertentu, bisa diletakkan setara dengan fungsi `__init()__` (di luar fungsi `__init()__`)"
   ]
  },
  {
   "cell_type": "code",
   "execution_count": 17,
   "metadata": {},
   "outputs": [
    {
     "name": "stdout",
     "output_type": "stream",
     "text": [
      "Data Mahasiswa \n",
      " Nim \t: I0319001 \n",
      " Nama \t: Prisca \n",
      " Angkatan: 2019\n"
     ]
    }
   ],
   "source": [
    "# Mendefinisikan bentuk Class atau blueprint\n",
    "class Mahasiswa:\n",
    "    def __init__(self, nama, nim):\n",
    "        self.Nama = nama\n",
    "        self.Nim = nim\n",
    "        # Fungsi ini selalu diperlukan saat inisiasi objek\n",
    "        def angkatan():\n",
    "            hasil = 2000 + int(self.Nim[3:5])\n",
    "            return hasil\n",
    "        self.Angkatan = angkatan()\n",
    "    \n",
    "    def __str__(self):\n",
    "        return f\"Data Mahasiswa \\n Nim \\t: {self.Nim} \\n Nama \\t: {self.Nama} \\n Angkatan: {self.Angkatan}\"\n",
    "\n",
    "    #Jika ada fungsi atau method lain\n",
    "    def fungsiLain():\n",
    "        pass\n",
    "\n",
    "# Membentuk Objek atau instans    \n",
    "mhs1 = Mahasiswa(\"Prisca\", \"I0319001\")\n",
    "print(mhs1) # Mencetak objek mhs1"
   ]
  },
  {
   "attachments": {},
   "cell_type": "markdown",
   "metadata": {},
   "source": [
    "* Pada contoh di atas, ingin dibuat agar setiap menginsiasi/membentuk objek baru, ditampilkan Nim, Nama, dan Angkatan. \n",
    "* Padahal, saat membentuk objek hanya diinisasi data berupa Nama dan NIM. Akibatnya perlu ada perilaku/proses untuk memperolah nilai Angkatan. \n",
    "* dengan demikian, method atau fungsi untuk menentukan angkatan diletakkan di dalam `__init()__`"
   ]
  },
  {
   "attachments": {},
   "cell_type": "markdown",
   "metadata": {},
   "source": [
    "### 5. Memodifikasi isi Properties"
   ]
  },
  {
   "cell_type": "code",
   "execution_count": 3,
   "metadata": {},
   "outputs": [
    {
     "name": "stdout",
     "output_type": "stream",
     "text": [
      "Data Mahasiswa \n",
      " Nim \t: I0319001 \n",
      " Nama \t: Prisca \n",
      " Angkatan: 2019\n",
      "Data Mahasiswa \n",
      " Nim \t: I0319001 \n",
      " Nama \t: Prisca Judith \n",
      " Angkatan: 2019\n"
     ]
    }
   ],
   "source": [
    "# Mendefinisikan bentuk Class atau blueprint\n",
    "class Mahasiswa:\n",
    "    def __init__(self, nama, nim):\n",
    "        self.Nama = nama\n",
    "        self.Nim = nim\n",
    "        # Fungsi ini selalu diperlukan saat inisiasi objek\n",
    "        def angkatan():\n",
    "            hasil = 2000 + int(self.Nim[3:5])\n",
    "            return hasil\n",
    "        self.Angkatan = angkatan()\n",
    "    \n",
    "    def __str__(self):\n",
    "        return f\"Data Mahasiswa \\n Nim \\t: {self.Nim} \\n Nama \\t: {self.Nama} \\n Angkatan: {self.Angkatan}\"\n",
    "\n",
    "    #Jika ada fungsi atau method lain\n",
    "    def fungsiLain():\n",
    "        pass\n",
    "\n",
    "# Membentuk Objek atau instans    \n",
    "mhs1 = Mahasiswa(\"Prisca\", \"I0319001\")\n",
    "print(mhs1) # Mencetak objek mhs1\n",
    "\n",
    "# Mengubah nilai property pada Nama objek mhs1\n",
    "mhs1.Nama = \"Prisca Judith\"\n",
    "print(mhs1) # Mencetak objek mhs1\n"
   ]
  },
  {
   "attachments": {},
   "cell_type": "markdown",
   "metadata": {},
   "source": [
    "### 6. Menghapus Properties dan Objek"
   ]
  },
  {
   "cell_type": "code",
   "execution_count": 9,
   "metadata": {},
   "outputs": [
    {
     "name": "stdout",
     "output_type": "stream",
     "text": [
      "Data Mahasiswa \n",
      " Nim \t: I0319001 \n",
      " Nama \t: Prisca \n",
      " Angkatan: 2019\n",
      "Kota\t : Karanganyar\n",
      "Data Mahasiswa \n",
      " Nim \t: I0319001 \n",
      " Nama \t: Prisca \n",
      " Angkatan: 2019\n"
     ]
    },
    {
     "ename": "AttributeError",
     "evalue": "'Mahasiswa' object has no attribute 'Kota'",
     "output_type": "error",
     "traceback": [
      "\u001b[1;31m---------------------------------------------------------------------------\u001b[0m",
      "\u001b[1;31mAttributeError\u001b[0m                            Traceback (most recent call last)",
      "Cell \u001b[1;32mIn[9], line 28\u001b[0m\n\u001b[0;32m     26\u001b[0m \u001b[39mdel\u001b[39;00m mhs1\u001b[39m.\u001b[39mKota\n\u001b[0;32m     27\u001b[0m \u001b[39mprint\u001b[39m(mhs1) \u001b[39m# Mencetak objek mhs1\u001b[39;00m\n\u001b[1;32m---> 28\u001b[0m \u001b[39mprint\u001b[39m(\u001b[39m\"\u001b[39m\u001b[39mKota\u001b[39m\u001b[39m\\t\u001b[39;00m\u001b[39m :\u001b[39m\u001b[39m\"\u001b[39m, mhs1\u001b[39m.\u001b[39;49mKota)\n",
      "\u001b[1;31mAttributeError\u001b[0m: 'Mahasiswa' object has no attribute 'Kota'"
     ]
    }
   ],
   "source": [
    "# Mendefinisikan bentuk Class atau blueprint\n",
    "class Mahasiswa:\n",
    "    def __init__(self, nama, nim, kota):\n",
    "        self.Nama = nama\n",
    "        self.Nim = nim\n",
    "        # Fungsi ini selalu diperlukan saat inisiasi objek\n",
    "        def angkatan():\n",
    "            hasil = 2000 + int(self.Nim[3:5])\n",
    "            return hasil\n",
    "        self.Angkatan = angkatan()\n",
    "        self.Kota = kota\n",
    "    \n",
    "    def __str__(self):\n",
    "        return f\"Data Mahasiswa \\n Nim \\t: {self.Nim} \\n Nama \\t: {self.Nama} \\n Angkatan: {self.Angkatan}\"\n",
    "\n",
    "    #Jika ada fungsi atau method lain\n",
    "    def fungsiLain():\n",
    "        pass\n",
    "\n",
    "# Membentuk Objek atau instans    \n",
    "mhs1 = Mahasiswa(\"Prisca\", \"I0319001\", \"Karanganyar\")\n",
    "print(mhs1) # Mencetak objek mhs1\n",
    "print(\"Kota\\t :\", mhs1.Kota)\n",
    "\n",
    "# Mengapus properti Kota\n",
    "del mhs1.Kota\n",
    "print(mhs1) # Mencetak objek mhs1\n",
    "print(\"Kota\\t :\", mhs1.Kota)"
   ]
  },
  {
   "attachments": {},
   "cell_type": "markdown",
   "metadata": {},
   "source": [
    "Perhatikan, setelah atribut Kota dihapus, terjadi pesan error ketika dicetak atribut tersebut "
   ]
  }
 ],
 "metadata": {
  "kernelspec": {
   "display_name": "python_programming_3in1",
   "language": "python",
   "name": "python3"
  },
  "language_info": {
   "codemirror_mode": {
    "name": "ipython",
    "version": 3
   },
   "file_extension": ".py",
   "mimetype": "text/x-python",
   "name": "python",
   "nbconvert_exporter": "python",
   "pygments_lexer": "ipython3",
   "version": "3.9.10"
  },
  "orig_nbformat": 4
 },
 "nbformat": 4,
 "nbformat_minor": 2
}
