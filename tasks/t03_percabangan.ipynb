{
 "cells": [
  {
   "attachments": {},
   "cell_type": "markdown",
   "metadata": {},
   "source": [
    "### Tugas\n",
    "Buatlah program sederhana berdasarkan algoritma-algoritma yang telah disusun pada tugas pembuatan diagram alir, antara lain:\n",
    "1. Tarif Parkir Kendaraan di Bandara\n",
    "2. Menghitung Penggajian\n",
    "3. Menghitung BBI dan Status Berat Badan\n",
    "4. Tarif Parkir Kendaraan di Stasiun\n",
    "5. Menentukan kebutuhan cairan pengganti bagi dehidrasi\n",
    "6. Menentukan Tarif Tol Kendaraan"
   ]
  },
  {
   "cell_type": "markdown",
   "metadata": {},
   "source": []
  }
 ],
 "metadata": {
  "language_info": {
   "name": "python"
  },
  "orig_nbformat": 4
 },
 "nbformat": 4,
 "nbformat_minor": 2
}
