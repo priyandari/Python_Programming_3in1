{
 "cells": [
  {
   "attachments": {},
   "cell_type": "markdown",
   "metadata": {},
   "source": [
    "### Tugas Diagram Alir"
   ]
  },
  {
   "attachments": {},
   "cell_type": "markdown",
   "metadata": {},
   "source": [
    "1. Buatlah diagram alir menggunakan piranti lunak Microsoft Visio, Edraw, Google Drawing, Draw.io atau lainnya.\n",
    "2. konversi diagram yang dibuat menjadi file *.pdf.\n",
    "3. Kumpulkan tugas pada cloud yang disediakan."
   ]
  },
  {
   "attachments": {},
   "cell_type": "markdown",
   "metadata": {},
   "source": [
    "### Soal 1\n",
    "Diagram alir untuk menentukan tarif parkir yang dharus dibayar oleh suatu kendaraan (roda 2 atau roda 4) di lahan parkir. Perhatikan dengan teliti apa saja variabel yang digunakan, apa yang perlu diinput dari pengguna atau proses, dan apa luaran (output) yang ditampilkan dari program."
   ]
  },
  {
   "attachments": {},
   "cell_type": "markdown",
   "metadata": {},
   "source": [
    "<img src=\"../images/w02Soal01TarifParkir.png\">"
   ]
  },
  {
   "attachments": {},
   "cell_type": "markdown",
   "metadata": {},
   "source": [
    "### Soal 2\n",
    "Pendapatan bulanan seorang pegawai ditentukan oleh informasi pada tabel di bawah ini. Buatlah diagram alir yang dapat menghasilkan <b>nilai rupiah pajak</b> yang dikenakan dan <b>pendapatan bersih</b> yang diterima seorang pegawai. Perhatikan dengan teliti apa saja variabel yang perlu didefinisikan, input dari pengguna program, dan luaran program.\n"
   ]
  },
  {
   "attachments": {},
   "cell_type": "markdown",
   "metadata": {},
   "source": [
    "<img src=\"../images/w02Soal02PendapatanKaryawan.png\">"
   ]
  },
  {
   "cell_type": "markdown",
   "metadata": {},
   "source": [
    "### Soal 3\n",
    "Seorang konsultan kesehatan bermaksud menghitung <b>Berat Badan Ideal (BBI)</b> seseorang. Selain menghasilkan nilai BBI,  juga akan memberikan informasi apakah berat badan seseorang  termasuk Ideal, Di Bawah Ideal, atau Di Atas Ideal. Berat seseorang dikatakan Ideal jika berada +/- 1kg dari nilai BBI.\n",
    "\n",
    "Rumus menghitung nilai BBI sebagai berikut:\n",
    "\n",
    "a.\tBayi usia 0 – 12 bulan\n",
    "BBI = (umur/2) + 4\n",
    "Umur dalam satuan bulan\n",
    "\n",
    "b.\tAnak usia 1-10 tahun\n",
    "BBI = (umur x 2) + 8\n",
    "Umur dalam satuan tahun\n",
    "\n",
    "c.\tRemaja dan Dewasa\n",
    "BBI = (Tinggi Badan – 100) – (Tinggi Badan – 100)x10%\n",
    "atau \n",
    "BBI = (Tinggi Badan – 100)  x 90%\n",
    "Tinggi Badan dalam satuan centimeter.\n"
   ]
  },
  {
   "attachments": {},
   "cell_type": "markdown",
   "metadata": {},
   "source": [
    "### Soal 4\n",
    "Diagram alir untuk menentukan tarif parkir yang dharus dibayar oleh suatu kendaraan berdasarkan ketentuan Reska berikut ini. Perhatikan dengan teliti apa saja variabel yang digunakan, apa yang perlu diinput dari pengguna atau proses, dan apa luaran (output) yang ditampilkan dari program."
   ]
  },
  {
   "attachments": {},
   "cell_type": "markdown",
   "metadata": {},
   "source": [
    "<img src=\"../images/w02Soal04TarifParkirStasiun.jpg\">"
   ]
  },
  {
   "attachments": {},
   "cell_type": "markdown",
   "metadata": {},
   "source": [
    "### Soal 5\n",
    "Diagram alir untuk menentukan nilai akhir setiap pelajaran dan nilai rata-ratanya berdasarkan ketentuan dan contoh yang disajikan dalam gambar-gambar di bawah ini. Perhatikan dengan teliti apa saja variabel yang digunakan, apa yang perlu diinput dari pengguna atau proses, dan apa luaran (output) yang ditampilkan dari program."
   ]
  },
  {
   "attachments": {},
   "cell_type": "markdown",
   "metadata": {},
   "source": [
    "<img src=\"../images/w02Soal05NilaiUjian01.jpg\">"
   ]
  },
  {
   "attachments": {},
   "cell_type": "markdown",
   "metadata": {},
   "source": [
    "<img src=\"../images/w02Soal05NilaiUjian02.jpg\">"
   ]
  },
  {
   "attachments": {},
   "cell_type": "markdown",
   "metadata": {},
   "source": [
    "### Soal 6\n",
    "Diagram alir untuk menentukan kebutuhan cairan pengganti. Perhatikan dengan teliti apa saja variabel yang digunakan, apa yang perlu diinput dari pengguna atau proses, dan apa luaran (output) yang ditampilkan dari program.\n"
   ]
  },
  {
   "attachments": {},
   "cell_type": "markdown",
   "metadata": {},
   "source": [
    "<img src=\"../images/w02Soal06HitungCairanPengganti.jpg\">"
   ]
  },
  {
   "attachments": {},
   "cell_type": "markdown",
   "metadata": {},
   "source": [
    "### Soal 7\n",
    "Diagram alir untuk menentukan tarif pajak bumi dan bangunan suatu tanah dan/atau bangunan berdasarkan contoh di bawah ini. Bagaimana agar setiap ada PBB baru, petugas dapat menentukan pajak yang harus dibayar. Perhatikan dengan teliti apa saja variabel yang digunakan, apa yang perlu diinput dari pengguna atau proses, dan apa luaran (output) yang ditampilkan dari program."
   ]
  },
  {
   "attachments": {},
   "cell_type": "markdown",
   "metadata": {},
   "source": [
    "<img src=\"../images/w02Soal07HitungPBB.jpg\">"
   ]
  },
  {
   "attachments": {},
   "cell_type": "markdown",
   "metadata": {},
   "source": [
    "### Soal 8\n",
    "Diagram alir untuk menentukan gaji bersih bulanan yang akan diterima seorang pegawai berdasarkan contoh di bawah ini. Perhatikan dengan teliti apa saja variabel yang digunakan, apa yang perlu diinput dari pengguna atau proses, dan apa luaran (output) yang ditampilkan dari program."
   ]
  },
  {
   "attachments": {},
   "cell_type": "markdown",
   "metadata": {},
   "source": [
    "<img src=\"../images/w02Soal08HitungGajiKaryawan.jpg\">"
   ]
  },
  {
   "attachments": {},
   "cell_type": "markdown",
   "metadata": {},
   "source": [
    "### Soal 9\n",
    "Diagram alir untuk menentukan tarif tol yang harus dibayarkan suatu kendaraan berdasarkan ketentuan di bawah. Perhatikan dengan teliti apa saja variabel yang digunakan, apa yang perlu diinput dari pengguna atau proses, dan apa luaran (output) yang ditampilkan dari program."
   ]
  },
  {
   "attachments": {},
   "cell_type": "markdown",
   "metadata": {},
   "source": [
    "<img src=\"../images/w02Soal09HitungtarifTol.jpg\">"
   ]
  }
 ],
 "metadata": {
  "kernelspec": {
   "display_name": "Python 3",
   "language": "python",
   "name": "python3"
  },
  "language_info": {
   "codemirror_mode": {
    "name": "ipython",
    "version": 3
   },
   "file_extension": ".py",
   "mimetype": "text/x-python",
   "name": "python",
   "nbconvert_exporter": "python",
   "pygments_lexer": "ipython3",
   "version": "3.6.5"
  }
 },
 "nbformat": 4,
 "nbformat_minor": 2
}
