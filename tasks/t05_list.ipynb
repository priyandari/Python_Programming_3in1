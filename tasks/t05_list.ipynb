{
 "cells": [
  {
   "attachments": {},
   "cell_type": "markdown",
   "metadata": {},
   "source": [
    "## Latihan Penggunaan Lists\n",
    "\n",
    "1. Buatlah sebuah program sederhana menggunakan List. Program tersebut akan menerima input sejumlah bilangan dari pengguna, kemudian menyimpannya di dalam List, dan selanjutnya program akan <b> menghitung total, rata-rata, standar deviasi</b>. [NOTE] Gunakanlah proses pengulangan untuk penyelesaian soal ini, jangan menggunakan fungsi built in Average, mean, standar deviasi yang telah tersedia.\n",
    "2. Kembangkan program yang telah Anda buat dengan memberikan informasi mengenai bilangan <b>minimum dan maksimum</b> yang dinputkan oleh pengguna. Pencarian bilangan minimum dan maksimum hendaknya dilakukan menggunakan iterasi.\n",
    "3. Lakukan modifikasi program pada buku Irv Kalb halaman 218. Ilustrasikan program Anda untuk memesan <b>Martabak Manis</b> dengan berbagai toppings seperti <b> Keju, Coklat, Kacang, Pisang, Kismis</b> atau kombinasi dari topping tersebut.\n",
    "4. Praktekkan fungsi operasi pada list. Silahkan elaborasi di internet"
   ]
  }
 ],
 "metadata": {
  "language_info": {
   "name": "python"
  },
  "orig_nbformat": 4
 },
 "nbformat": 4,
 "nbformat_minor": 2
}
