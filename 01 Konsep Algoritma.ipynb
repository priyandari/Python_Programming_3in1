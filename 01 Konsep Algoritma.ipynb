{
 "cells": [
  {
   "cell_type": "markdown",
   "metadata": {},
   "source": [
    "# 1. Algoritma"
   ]
  },
  {
   "attachments": {},
   "cell_type": "markdown",
   "metadata": {},
   "source": [
    "Kata algoritma berasal dari nama seorang ahli matematika dari Uzbekistan bernama Abu Abdullah Muhammad Ibn Musa al-Khwarizmi (770-840 M) yang menulis kitab Al Jabr wa ’Al-muqabala (_rules of restoration and reduction_) sekitar tahun 825 M. Di dalam literatur barat dia lebih terkenal dengan sebutan Algorizm. Panggilan inilah yang kemudian dipakai untuk menyebut konsep algoritma yang ditemukannya."
   ]
  },
  {
   "cell_type": "markdown",
   "metadata": {},
   "source": [
    "a set of rules that must be followed when solving a particular problem (serangkaian aturan yang harus diikuti dalam menyelesaikan suatu masalah tertentu)(Oxford University Press 2010).\n",
    "\n",
    "Agoritma adalah prosedur sistematis untuk memecahkan masalah matematis dalam langkah-langkah terbatas; atau urutan logis pengambilan keputusan untuk pemecahan masalah (Pusat Bahasa – Departemen Pendidikan Nasional Republik Indonesia, 2012)\n"
   ]
  },
  {
   "cell_type": "markdown",
   "metadata": {},
   "source": [
    "Kata kunci atau prinsip algoritma\n",
    "* sekumpulan langkah sistematis\n",
    "* logis\n",
    "* digunakan untuk penyelesaian masalah tertentu. \n",
    "\n",
    "### Sekumpulan Langkah Sistematis\n",
    "Sekumpulan langkah sistematis bermakna bahwa algoritma tersusun atas langkah-langkah yang mengikuti suatu urutan atau pola tertentu dan tidak melompat-lompat atau acak. \n",
    "\n",
    "Urutan pemecahan masalah yang dibuat oleh seseorang bisa berbeda dengan orang lain asalkan memenuhi prinsip kedua (logis) dan menghasilkan keluaran yang sama dalam penyelesaian suatu masalah. \n",
    "\n",
    "### Logis\n",
    "Logis bermakna bahwa algoritma tidak saja dapat dipahami oleh satu pihak (penyusun algoritma) melainkan juga dapat dipahami bahkan diuji kebenarannya oleh pihak lain. \n",
    "\n",
    "Dengan demikian, algoritma dapat dikatakan benar apabila ada pihak lain yang dapat membaca, menggunakan hingga menghasilkan suatu solusi yang sama dengan solusi yang dihasilkan oleh pembuat algoritma. \n",
    "\n",
    "Oleh karena sebuah algoritma harus dapat dipahami dan diuji oleh pihak lain, maka sebuah algoritma harus diwujudkan dalam bentuk tulisan (bukan hanya lisan atau dalam pemikiran seseorang saja) dan ditulis dengan sebuah aturan tertentu. \n",
    "\n",
    "### Digunakan untuk Penyelesaian Masalah Tertentu\n",
    "Algoritma hanya untuk menyelesaikan suatu masalah tertentu yang berarti tidak semua masalah dapat diselesaikan dengan sebuah algoritma karena sebuah algoritma umumnya disusun untuk suatu masalah spesifik. Masalah lain dengan karakteristik yang sama dengan masalah awal saja yang dapat diselesaikan dengan sebuah algoritma. "
   ]
  },
  {
   "cell_type": "markdown",
   "metadata": {},
   "source": [
    "### Contoh Algoritma"
   ]
  },
  {
   "attachments": {},
   "cell_type": "markdown",
   "metadata": {},
   "source": [
    "<img src=\"images/w01IlustrasiMasalahAlgoritma.png\" >"
   ]
  },
  {
   "cell_type": "markdown",
   "metadata": {},
   "source": [
    "Langkah-langkah menyelesaikan permainan logika tersebut sebagai berikut:\n",
    "1.\tPetani membawa domba dari sisi A ke sisi B. \n",
    "2.\tPetani kembali ke sisi A. \n",
    "3.\tPetani membawa sayuran ke sisi B. \n",
    "4.\tPetani membawa kambing dari sisi B ke sisi A. \n",
    "5.\tPetani membawa serigala dari sisi A ke sisi B. \n",
    "6.\tPetani kembali ke sisi A. \n",
    "7.\tPetani membawa kambing dari sisi A ke sisi B. "
   ]
  },
  {
   "cell_type": "markdown",
   "metadata": {},
   "source": [
    "### Kriteria Algoritma\n",
    "Kriteria algoritma menurut Knuth (2000) sebagai berikut:\n",
    "* Algoritma dapat memiliki nol atau lebih masukan (input) dari luar. \n",
    "* Algoritma harus memiliki minimal satu buah keluaran (output). \n",
    "* Algoritma memiliki instruksi-instruksi yang jelas/pasti (definite) dan tidak ambigu. \n",
    "* Algoritma harus memiliki titik berhenti (stopping rule) atau ada pembatasan (finiteness). \n",
    "* Algoritma sebisa mungkin harus dapat dilaksanakan secara efisien (hemat sumber daya: waktu, memori, prosesor)."
   ]
  },
  {
   "cell_type": "markdown",
   "metadata": {},
   "source": [
    "# 2.  Penulisan Algoritma "
   ]
  },
  {
   "cell_type": "markdown",
   "metadata": {},
   "source": [
    "Penulisan algoritma dapat beberapa bentuk, diantarnya:\n",
    "* Menggunakan bahasa natural\n",
    "* Menggunakan diagram alir (flow chart)\n",
    "* Menggunakan pseudocode"
   ]
  },
  {
   "attachments": {},
   "cell_type": "markdown",
   "metadata": {},
   "source": [
    "## 2.1 Algoritma Menggunakan Bahasa Natural\n",
    "\n",
    "### Contoh Permasalahan:\n",
    "Bagaimana menukar isi air dari gelas A ke B, dan sebaliknya?\n"
   ]
  },
  {
   "cell_type": "markdown",
   "metadata": {},
   "source": [
    "<img src=\"images/w01MenukarIsiBejana01.png\" >"
   ]
  },
  {
   "attachments": {},
   "cell_type": "markdown",
   "metadata": {},
   "source": [
    "### Contoh Algoritma Solusi\n",
    "<img src=\"images/w01MenukarIsiBejana02.png\" >\n",
    "Langkah 1 : Pindahkan air dari gelas B ke gelas C"
   ]
  },
  {
   "attachments": {},
   "cell_type": "markdown",
   "metadata": {},
   "source": [
    "<img src=\"images/w01MenukarIsiBejana03.png\">\n",
    "Langkah 2 : Pindahkan air dari gelas A ke gelas B"
   ]
  },
  {
   "attachments": {},
   "cell_type": "markdown",
   "metadata": {},
   "source": [
    "<img src=\"images/w01MenukarIsiBejana04.png\">\n",
    "Langkah 3 : Pindahkan air dari gelas C ke gelas A"
   ]
  },
  {
   "cell_type": "markdown",
   "metadata": {},
   "source": [
    "## 2.2 Algoritma Menggunakan Diagram Alir"
   ]
  },
  {
   "attachments": {},
   "cell_type": "markdown",
   "metadata": {},
   "source": [
    "### Simbol-Simbol Diagram Alir\n",
    "<img src=\"images/w01SimbolDiagramAlir.png\">"
   ]
  },
  {
   "attachments": {},
   "cell_type": "markdown",
   "metadata": {},
   "source": [
    "### Contoh Algoritma Menghitung Luas Bangun Persegi\n",
    "<img src=\"images/w01DiagramAlirHitungLuasPersegi.png\">"
   ]
  },
  {
   "cell_type": "markdown",
   "metadata": {},
   "source": [
    "### Referensi:\n",
    "* Iftadi, Irwan. (2000). Pemrograman Pascal. Surakarta, UNS Press.\n",
    "* https://informatics-first.blogspot.com/2016/01/praktikum-01-pengenalan-algoritma.html\n",
    "* Knuth, Donald. 1997. Fundamental Algorithms, third editions. Reading, Massachusetts: Addison–Wesley   "
   ]
  },
  {
   "cell_type": "markdown",
   "metadata": {},
   "source": [
    "### Penugasan/Latihan Mandiri"
   ]
  },
  {
   "attachments": {},
   "cell_type": "markdown",
   "metadata": {},
   "source": [
    "1. Definisikan permasalahan yang akan diselesaikan, kemudian buatlah algoritma untuk menyelesaikan menggunakan bahasa natural. \n",
    "2. Konversi algoritma tersebut menjadi diagram alir.\n",
    "3. Diskusikan dengan teman, apakah diagram alir yang dibuat sudah sesuai dengan panduan atau aturan pembuatan diagram alir sebuah algoritma. \n",
    "4. Beberapa perwakilan mempresentasikan algoritma yang telah dibuat kepada rekan-rekan di kelas. \n",
    "5. Diskusikan, apakah ada cara lain dalam (a) menyelesaian masalah, (b) menyajikan algoritma dalam bentuk diagram alir yang berbeda."
   ]
  }
 ],
 "metadata": {
  "kernelspec": {
   "display_name": "Python 3",
   "language": "python",
   "name": "python3"
  },
  "language_info": {
   "codemirror_mode": {
    "name": "ipython",
    "version": 3
   },
   "file_extension": ".py",
   "mimetype": "text/x-python",
   "name": "python",
   "nbconvert_exporter": "python",
   "pygments_lexer": "ipython3",
   "version": "3.9.10"
  }
 },
 "nbformat": 4,
 "nbformat_minor": 2
}
