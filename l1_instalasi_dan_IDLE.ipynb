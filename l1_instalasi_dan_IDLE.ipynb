{
 "cells": [
  {
   "cell_type": "markdown",
   "metadata": {},
   "source": [
    "## 1. Instalasi"
   ]
  },
  {
   "attachments": {},
   "cell_type": "markdown",
   "metadata": {},
   "source": [
    "Silahkan unduh program Python pada alamat url http://python.org\n",
    "Tutorial kali ini menggunakan Python 3 dengan versi 3.9.x\n",
    "\n",
    "Selain menggunakan file instalasi dari http://python.org, Anda bisa juga melakukan instalasi menggunakan Anaconda https://www.anaconda.com/download/. Anaconda menyediakan program python dan juga sejumlah library yang cukup lengkap untuk data analytics.  "
   ]
  },
  {
   "attachments": {},
   "cell_type": "markdown",
   "metadata": {},
   "source": [
    "#### untuk OS  mac\n",
    "https://www.python.org/downloads/mac-osx/\n",
    "\n",
    "Disarankan menggunakan python versi 3.9.x saja"
   ]
  },
  {
   "cell_type": "markdown",
   "metadata": {},
   "source": [
    "## 2. Setting Path"
   ]
  },
  {
   "attachments": {},
   "cell_type": "markdown",
   "metadata": {},
   "source": [
    "Ketikkan perintah `python` pada terminal untuk memastikan bahwa program python sudah bisa dieksekusi dari lokasi mana saja pada komputer. "
   ]
  },
  {
   "attachments": {},
   "cell_type": "markdown",
   "metadata": {},
   "source": [
    "<img src=\"images/w03SetupSettingPath03.png\">"
   ]
  },
  {
   "attachments": {},
   "cell_type": "markdown",
   "metadata": {},
   "source": [
    "Jika masih error, dan belum jalan, lakukan setting sebagai berikut.\n"
   ]
  },
  {
   "attachments": {},
   "cell_type": "markdown",
   "metadata": {},
   "source": [
    "<img src=\"images/environment_setting00.jpg\">\n",
    "\n",
    "\n",
    "<img src=\"images/environment_setting01.jpg\">\n",
    "\n",
    "\n",
    "<img src=\"images/environment_setting02.jpg\">\n",
    "\n",
    "\n",
    "<img src=\"images/environment_setting03.jpg\">"
   ]
  },
  {
   "cell_type": "markdown",
   "metadata": {},
   "source": [
    "## 3. Aplikasi untuk Penulisan Program"
   ]
  },
  {
   "cell_type": "markdown",
   "metadata": {},
   "source": [
    "Penulisan program bisa menggunakan beberapa aplikasi :\n",
    "* Notepad\n",
    "* Sublime Text ()\n",
    "* Visual Studio Code ()\n",
    "\n",
    "Tutorial kali ini menggunakan Visual Studio Code."
   ]
  },
  {
   "attachments": {},
   "cell_type": "markdown",
   "metadata": {},
   "source": [
    "<img src=\"images/w03SetupIDE.png\">"
   ]
  },
  {
   "cell_type": "markdown",
   "metadata": {},
   "source": [
    "## 4. Menggunakan Terminal untuk Eksekusi Program"
   ]
  },
  {
   "cell_type": "markdown",
   "metadata": {},
   "source": [
    "Perhatikan contoh yang diberikan"
   ]
  },
  {
   "attachments": {},
   "cell_type": "markdown",
   "metadata": {},
   "source": [
    "<img src=\"images/w03SetupIDE02.png\">"
   ]
  },
  {
   "cell_type": "code",
   "execution_count": null,
   "metadata": {},
   "outputs": [],
   "source": []
  }
 ],
 "metadata": {
  "kernelspec": {
   "display_name": "Python 3",
   "language": "python",
   "name": "python3"
  },
  "language_info": {
   "codemirror_mode": {
    "name": "ipython",
    "version": 3
   },
   "file_extension": ".py",
   "mimetype": "text/x-python",
   "name": "python",
   "nbconvert_exporter": "python",
   "pygments_lexer": "ipython3",
   "version": "3.6.5"
  }
 },
 "nbformat": 4,
 "nbformat_minor": 2
}
