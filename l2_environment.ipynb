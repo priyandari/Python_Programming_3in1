{
 "cells": [
  {
   "attachments": {},
   "cell_type": "markdown",
   "metadata": {},
   "source": [
    "# Python Virtual Environment "
   ]
  },
  {
   "attachments": {},
   "cell_type": "markdown",
   "metadata": {},
   "source": [
    "__Environment__ (lingkungan kerja) pada Python memungkinkan programmer untuk __mengisolasi__ _dependensi_ dan _paket_ tertentu untuk __setiap proyek__ secara terpisah. Hal ini dapat mencegah konflik antar-versi dari paket yang berbeda yang mungkin diperlukan oleh proyek yang berbeda.\n",
    "\n",
    "Selain tujuan tersebut, berikut ini manfaat penggunaan environment.\n",
    "* Manajemen Dependensi: Dengan menggunakan environment seperti _Virtualenv_, programmer menginstal, menghapus, dan mengupgrade paket-paket sesuai kebutuhan proyek.\n",
    "\n",
    "* Eksperimen Aman: Environment yang terisolasi, memungkinkan melakukan eksperimen dengan paket baru atau versi yang berbeda tanpa khawatir merusak instalasi Python yang ada.\n",
    "\n",
    "* Kebersihan Kode: Penggunaan _environment_ yang terisolasi mendorong praktik-praktik pengembangan program yang baik dan kebersihan kode dengan memisahkan dependensi proyek dari instalasi _Python global_. \n",
    "\n",
    "* Reproducibility: Environment yang terisolasi dapat memastikan bahwa proyek dapat direproduksi di lingkungan yang sama persis dengan yang digunakan pada saat pengembangan. Hal ini penting untuk kolaborasi kerja tim dan replikasi hasil.\n",
    "\n",
    "* Kemudahan Deployment: Environment Python yang terisolasi memungkinkan pengembang untuk dengan mudah menyalin environment yang tepat ke server produksi tanpa menginstal paket yang tidak perlu atau konflik versi.\n"
   ]
  },
  {
   "attachments": {},
   "cell_type": "markdown",
   "metadata": {},
   "source": [
    "## 1. Instalasi Environment"
   ]
  },
  {
   "attachments": {},
   "cell_type": "markdown",
   "metadata": {},
   "source": [
    "Langkah-langkah secara umum sebagai berikut:\n",
    "1. Install Python dan pastikan python dapat dieksekusi dari berbagai lokasi terminal. Lihat [Instalasi dan Setting PATH](l1_instalasi_dan_IDE.ipynb)\n",
    "2. Install Pip. \n",
    "\n",
    "* Pastikan perintah pip dapat dijalankan pada terminal. test menggunakan `pip --version`\n",
    "* Jika perlu melakukan upgrade, gunakan perintah `py -m pip install --upgrade pip`\n",
    "\n",
    "3. Install VirtualEnv. \n",
    "\n",
    "* Gunakan terminal dan eksekusi perintah `pip install virtualenv`"
   ]
  },
  {
   "attachments": {},
   "cell_type": "markdown",
   "metadata": {},
   "source": [
    "## 2. Membuat dan Menjalankan Environment"
   ]
  },
  {
   "attachments": {},
   "cell_type": "markdown",
   "metadata": {},
   "source": [
    "Berikut langkah-langkahnya.\n",
    "* Buka __terminal__, dan masuklah ke dalam folder dimana akan dibuat sebuah lingkungan kerja. Pelajari perintah dasar terminal untuk berpindah dari sebuah folder ke folder lain, yakni `cd <PATH>`. `cd` adalah nama perintahnya, PATH adalah lokasi folder yang dituju, misal `cd D:\\20_DEV\\`\n",
    "* Jalankan perintah `python -m venv namaEnvironment`. Akan menghasilkan sebuah folder sesuai namaEnvironemt tersebut.\n",
    "* Masuklah ke dalam folder dengan mengetik `cd namaEnvironment`\n",
    "\n",
    "* Sebelum menjalankan environment, coba eksekusi terlebih dahulu perintah `pip list`. lihat bagian atas hasil eksekusi (ini hanya contoh, bisa berbeda setiap orang).\n",
    "![Alt text](images/l2_env_pip_list.jpg)"
   ]
  },
  {
   "attachments": {},
   "cell_type": "markdown",
   "metadata": {},
   "source": [
    "##### Eksekusi perintah untuk aktivasi environment.\n",
    "* ketika perintah `Scripts\\activate` dan enter. Scripts adalah folder yang terdapat dalam folder namaEnvironment yang telah dibuat.\n",
    "* Lihat bahwa di sisi paling kiri sintak terminal telah ada perubahan berupa nama environment. Coba sekarang ketik perintah `pip list`, dan lihat bagian atas hasil (ini hanya contoh, bisa berbeda setiap orang).\n",
    "![Alt text](images/l2_env_pip_list_dalam_envi.jpg)\n",
    "* Bisa dilihat adanya __perbedaan paket pada Python global dengan Python di lingkungan kerja__ saat ini.\n",
    "\n",
    "Hasil tersebut menandakan bahwa lingkungan kerja sudah siap digunakan. Jika melakukan penambahan paket atau library, maka penambahan hanya dimasukkan ke lingkungan kerja spesifik tersebut. \n",
    "\n",
    "Hal itu yang memungkinkan menghindari adanya konflik versi paket, untuk proyek yang berbeda dan membutuhkan paket atau versi paket yang berbeda.\n",
    "\n",
    "* Jika tidak ingin menggunakan environment, bisa ketik perintah `dectivate`\n",
    "\n"
   ]
  }
 ],
 "metadata": {
  "kernelspec": {
   "display_name": "Python 3",
   "language": "python",
   "name": "python3"
  },
  "language_info": {
   "codemirror_mode": {
    "name": "ipython",
    "version": 3
   },
   "file_extension": ".py",
   "mimetype": "text/x-python",
   "name": "python",
   "nbconvert_exporter": "python",
   "pygments_lexer": "ipython3",
   "version": "3.9.10"
  },
  "orig_nbformat": 4
 },
 "nbformat": 4,
 "nbformat_minor": 2
}
