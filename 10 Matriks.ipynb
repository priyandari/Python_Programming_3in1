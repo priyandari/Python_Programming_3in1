{
 "cells": [
  {
   "cell_type": "markdown",
   "metadata": {},
   "source": [
    "# Matriks\n",
    "\n",
    "Topik dibahas:\n",
    "* definisi matriks\n",
    "* membuat matriks dari list\n",
    "* membuat matriks menggunakan perulangan\n",
    "* operasi dasar pada matriks\n",
    "* Penggunaan NumPy untuk matriks"
   ]
  },
  {
   "attachments": {},
   "cell_type": "markdown",
   "metadata": {},
   "source": [
    "__Matriks__ adalah suatu variabel yang isi datanya disusun dalam baris dan kolom. Isi dari matriks disebut sebagai elemen-elemen matriks. Penulisan elemen matriks tersebut berada dalam kurung ( ... ) atau [ ... ]. Elemen horizontal disebut sebagai baris ( biasa disimbolkan dengan m), kemudian elemen vertikal disebut sebagai kolom (biasa disimbolkan sebagai n).\n",
    "\n",
    "Perhatikan ilustrasi sebuah matrik di bawah ini. Matriks A berisi sembilan elemen, dimana jumlah baris (m) adalah 3 dan jumlah kolom (n) adalah 3, atau dapat dinyatakan bahwa matrik A berukuran 3 x 3. Adapun bentuk umum matriks seperti disajikan pada gambar berikutnya."
   ]
  },
  {
   "cell_type": "markdown",
   "metadata": {},
   "source": [
    "<img src=\"images/w12matriks_contoh.JPG\">"
   ]
  },
  {
   "cell_type": "markdown",
   "metadata": {},
   "source": [
    "<img src=\"images/w12matriks_simbol.JPG\">"
   ]
  },
  {
   "attachments": {},
   "cell_type": "markdown",
   "metadata": {},
   "source": [
    "### 1. Membuat Matrik dari List\n",
    "\n",
    "Matriks digambarkan sebagai list bersarang atau _nested list_ atau list dua dimensi. Berikut ini ilustrasi membuat matriks. "
   ]
  },
  {
   "cell_type": "code",
   "execution_count": null,
   "metadata": {},
   "outputs": [],
   "source": [
    "# matriks berukuran 2 x 2\n",
    "matriksA = [ [11, 12], \n",
    "             [13, 14] ]\n",
    "\n",
    "print(matriksA)\n",
    "print(matriksA[0][0])\n",
    "print(matriksA[1][1])"
   ]
  },
  {
   "cell_type": "code",
   "execution_count": null,
   "metadata": {},
   "outputs": [],
   "source": [
    "# matriks berukuran 3 x 2\n",
    "matriksB = [ [1, 2], \n",
    "             [3, 4], \n",
    "             [5, 6] ]\n",
    "\n",
    "print(matriksB)\n",
    "matriksB[1][1] = 40\n",
    "print(matriksB)\n",
    "print(matriksB[2][0])\n"
   ]
  },
  {
   "cell_type": "code",
   "execution_count": null,
   "metadata": {},
   "outputs": [],
   "source": [
    "# matriks berukuran 4 x 4\n",
    "matriksC = [ [21, 22, 23, 24], \n",
    "             [5, 6, 7, 8], \n",
    "             [9, 10, 11, 12], \n",
    "             [13, 14, 15, 16] ]\n",
    "\n",
    "print(matriksC)\n",
    "print(\"Data pada baris ke-3, kolom ke-3 : \", matriksC[2][2])\n",
    "print(\"Data pada baris ke-3, kolom ke-4 : \", matriksC[2][3])\n"
   ]
  },
  {
   "attachments": {},
   "cell_type": "markdown",
   "metadata": {},
   "source": [
    "Contoh di bawah ini  bukan matriks, melainkan hanyalah sebuah list dua dimensi (nested list) saja. Hal ini karena panjang elemen pada setiap baris atau kolom tidak sama."
   ]
  },
  {
   "cell_type": "code",
   "execution_count": null,
   "metadata": {},
   "outputs": [],
   "source": [
    "# Bukan matriks\n",
    "bukanMatriks = [ [1, 2, 3, 4], \n",
    "                 [5, 6 ], \n",
    "                 [9, 10, 11, 12], \n",
    "                 [13, 14, 15, 16] ]\n",
    "\n",
    "print(bukanMatriks)"
   ]
  },
  {
   "attachments": {},
   "cell_type": "markdown",
   "metadata": {},
   "source": [
    "### 2. Membuat dan Mengakses Matrik menggunakan Pengulangan\n",
    "\n",
    "Membuat matriks dapat dilakukan menggunakan blok program perulangan menggunakan _for_. Perhatikan contoh di bawah ini."
   ]
  },
  {
   "cell_type": "code",
   "execution_count": null,
   "metadata": {},
   "outputs": [],
   "source": [
    "import random\n",
    "m = 4\n",
    "n = 5\n",
    "MA  = [0] * m\n",
    "\n",
    "print(MA)\n",
    "print(len(MA))\n",
    "for baris in range(m):\n",
    "    MA[baris] = [0] * n\n",
    "    MA[baris][0] = random.randrange(1,100)\n",
    "    MA[baris][1] = random.randrange(1,100)\n",
    "    MA[baris][2] = random.randrange(1,100)\n",
    "    MA[baris][3] = random.randrange(1,100)\n",
    "    MA[baris][4] = random.randrange(1,100)\n",
    "    \n",
    "print(\"hasil pembuatan matrik MA secara acak\")\n",
    "print(MA)\n",
    "print(\"Data pada baris ke-3, kolom ke-4 : \", matriksC[2][3])"
   ]
  },
  {
   "cell_type": "markdown",
   "metadata": {},
   "source": [
    "Contoh di atas mengilustrasikan pembuatan matrik berukuran m x n atau dimana jumlah baris atau m adalah 4 dan jumlah kolom atau n adalah 3. \n",
    "\n",
    "Langkah berikutnya adalah mendeklarasikan variabel list atau matriks MA yang jumlah barisnya adalah m dengan menuliskan \n",
    "<i> \n",
    "    \n",
    "    MA = [0] * m   # Hasil proses ini adalah [0, 0, 0, 0]\n",
    "</i>\n",
    "\n",
    "Kemudian buat perulangan sebanyak m ( 4 kali) dimulai dari indeks 0.\n",
    "<i> \n",
    "    \n",
    "    for i in range(m):  \n",
    "</i>\n",
    "\n",
    "Kemudian untuk setiap MA[i] diberikan nilai list satu dimensi berukuran _n_ yang isinya adalah bilangan 1.\n",
    "<i> \n",
    "    \n",
    "    MA[i] = [1] * n  \n",
    "</i>\n",
    "\n"
   ]
  },
  {
   "cell_type": "code",
   "execution_count": null,
   "metadata": {},
   "outputs": [],
   "source": [
    "# Menampilkan elemen matrik menggunakan pengulangan\n",
    "for baris in range(len(MA)):\n",
    "    for kolom in range(len(MA[baris])):\n",
    "        print(MA[baris][kolom],'\\t', end = '')\n",
    "    print()"
   ]
  },
  {
   "attachments": {},
   "cell_type": "markdown",
   "metadata": {},
   "source": [
    "Cara lain untuk mengisi elemen matrik adalah menggunakan perulangan bersarang (_nested for_)."
   ]
  },
  {
   "cell_type": "code",
   "execution_count": null,
   "metadata": {},
   "outputs": [],
   "source": [
    "# Membuat elemen matrik menggunakan pengulangan bersarang\n",
    "m = 4\n",
    "n = 5\n",
    "MB  = [0] * m\n",
    "for i in range(m):\n",
    "    MB[i] = [0] * n\n",
    "print(MB)\n",
    "    \n",
    "for baris in range(0, m):\n",
    "    for kolom in range(0, n):\n",
    "        MB[baris][kolom] = baris+kolom\n",
    "\n",
    "print(MB)"
   ]
  },
  {
   "attachments": {},
   "cell_type": "markdown",
   "metadata": {},
   "source": [
    "### 3. Penjumlahan dan Pengurangan Matriks\n",
    "Penjumlahan matriks dapat di lakukan pada matriks yang berukuran (ordo) sama. Setiap element pada matriks di jumlahkan satu persatu sehingga mendapat hasil yang di tata sesuai ordo awal."
   ]
  },
  {
   "cell_type": "code",
   "execution_count": null,
   "metadata": {},
   "outputs": [],
   "source": [
    "MatA = [\n",
    "    [8, 2],\n",
    "    [4, 6],\n",
    "]\n",
    "MatB = [\n",
    "    [3, 5],\n",
    "    [1, 3],\n",
    "]\n",
    "\n",
    "MATC = []\n",
    "\n",
    "for i in range(0, len(MatA)):\n",
    "    hasiljumlah = 0\n",
    "    row =[]\n",
    "    for j in range(0, len(MatA[0])):\n",
    "#         print (MatA[i][j] + MatB[i][j], end=' ')\n",
    "        hasiljumlah = MatA[i][j] + MatB[i][j]\n",
    "        row.append(hasiljumlah)\n",
    "#         MATC[i][j] = hasiljumlah            \n",
    "    # print(row)\n",
    "    MATC.append(row)\n",
    "\n",
    "print(MATC)"
   ]
  },
  {
   "attachments": {},
   "cell_type": "markdown",
   "metadata": {},
   "source": [
    "Pengurangan pada matriks sama seperti proses penjumlahan matriks, dengan mengganti operator (+) menjadi (-)"
   ]
  },
  {
   "attachments": {},
   "cell_type": "markdown",
   "metadata": {},
   "source": [
    "### 4. Perkalian Matriks\n",
    "\n",
    "Perkalian matriks dilakukan dengan menjumlahkan hasil perkalian suatu baris matriks pertama ke kolom matriks kedua. Setiap baris di matriks pertama akan dikalikan ke setiap kolom di matriks kedua.\n",
    "\n",
    "Proses perkalian matriks menggunakan _nested loop for_ di dalam _nested loop yang kedua_. Perulangan ketiga digunakan untuk melakukan proses penjumlahan hasil perkalian baris dan kolom. Hasilnya elemen matriks baru akan ditempatkan pada koordinat tersebut."
   ]
  },
  {
   "cell_type": "markdown",
   "metadata": {},
   "source": [
    "<img src=\"images/w12matriks_perkalian.JPG\">"
   ]
  },
  {
   "cell_type": "markdown",
   "metadata": {},
   "source": [
    "<img src=\"images/w12MatrikEdanF.png\">"
   ]
  },
  {
   "cell_type": "code",
   "execution_count": null,
   "metadata": {},
   "outputs": [],
   "source": [
    "matE = [\n",
    "        [1, 2],\n",
    "        [3, 4],\n",
    "        [5, 6 ]\n",
    "]\n",
    "\n",
    "matF = [\n",
    "    [7, 8, 9  ],\n",
    "    [10, 11, 12 ]\n",
    "]\n",
    "\n",
    "matG = []\n",
    "# # print(len(matE))\n",
    "# # print(len(matE[0]))\n",
    "# # print(len(matF))\n",
    "# # print(len(matF[0]))\n",
    "\n",
    "for x in range(0, len(matE)):\n",
    "    row = []\n",
    "    for y in range(0, len(matE)):\n",
    "        total = 0\n",
    "        for z in range(0, len(matF)):\n",
    "            total = total + (matE[x][z] * matF[z][y])\n",
    "        row.append(total)\n",
    "    matG.append(row)\n",
    "    \n",
    "for x in range(0, len(matG)):\n",
    "    for y in range(0, len(matG[0])):\n",
    "        print (matG[x][y],'\\t', end=' ')\n",
    "    print ()\n",
    "    \n",
    "matG"
   ]
  },
  {
   "attachments": {},
   "cell_type": "markdown",
   "metadata": {},
   "source": [
    "### 5. Transpose Matrik\n"
   ]
  },
  {
   "cell_type": "code",
   "execution_count": null,
   "metadata": {},
   "outputs": [],
   "source": [
    "# Transpose matrik\n",
    "matriks = matG\n",
    "print(\"Matrik awal\")\n",
    "for baris in matriks:\n",
    "    print(baris)\n",
    "# Menghitung jumlah baris dan kolom pada matriks\n",
    "baris = len(matriks)\n",
    "kolom = len(matriks[0])\n",
    "    \n",
    "# Membuat matriks transpos\n",
    "transpos = []\n",
    "for j in range(kolom):\n",
    "    # Membuat baris kosong untuk setiap kolom pada matriks transpos\n",
    "    baris_transpos = []\n",
    "    for i in range(baris):\n",
    "        # Menambahkan elemen dari kolom ke baris untuk transpos\n",
    "        baris_transpos.append(matriks[i][j])\n",
    "        # Menambahkan baris transpos ke matriks transpos\n",
    "    transpos.append(baris_transpos) \n",
    "\n",
    "print(\"Matrik setelah ditranspos\")\n",
    "for baris in transpos:\n",
    "    print(baris)"
   ]
  },
  {
   "attachments": {},
   "cell_type": "markdown",
   "metadata": {},
   "source": [
    "### 6. Library NumPy untuk Operasi Matriks"
   ]
  },
  {
   "attachments": {},
   "cell_type": "markdown",
   "metadata": {},
   "source": [
    "__NumPy__ adalah sebuah _library_ untuk Python --> \"Numeric Python\" or \"Numerical Python\". NumPy memperkaya bahasa pemrograman python melalui struktur data, implementasi multi-dimensional arrays dan matriks. NumPy memberikan kemudahan untuk mengolah data matriks skala besar dan berbagai proses operasi matriks lainnya. Keuntungan lain penggunaan NumPy adalah konsumsi memori komputer yang lebih kecil dibanding menggunakan bentuk list pada python. \n",
    "\n",
    "> It provides fast and efficient operations on arrays of homogeneous data. NumPy extends python into a high-level language for manipulating numerical data, similiar to MATLAB.\n",
    "\n",
    "Perhatikan contoh operasi perkalian matriks"
   ]
  },
  {
   "cell_type": "code",
   "execution_count": null,
   "metadata": {},
   "outputs": [],
   "source": [
    "import numpy as np\n",
    "\n",
    "# inisialisasi matrik 3x2 dengan nilai random\n",
    "matNA = np.matrix(np.random.rand(3, 2))\n",
    "# print matriks pertama\n",
    "print('Matriks pertama :\\n', matNA)\n",
    "\n",
    "# inisialisasi matrik 2x3 dengan nilai random\n",
    "matNB = np.matrix(np.random.rand(2, 3))\n",
    "# print matriks kedua\n",
    "print('\\n Matriks kedua :\\n', matNB)\n",
    "\n",
    "# perkalian matrik menggunakan operator *\n",
    "matNC = matNA * matNB\n",
    "# print matriks hasil perkalian\n",
    "print('\\n Matriks hasil perkalian :\\n', matNC)"
   ]
  },
  {
   "cell_type": "markdown",
   "metadata": {},
   "source": [
    "### Membuat matriks\n"
   ]
  },
  {
   "cell_type": "markdown",
   "metadata": {},
   "source": [
    "Perhatikan contoh-contoh membuat matriks di bawah ini.\n"
   ]
  },
  {
   "cell_type": "code",
   "execution_count": null,
   "metadata": {
    "scrolled": true
   },
   "outputs": [],
   "source": [
    "import numpy as np\n",
    "\n",
    "# Membuata matriks 2x2\n",
    "matnpA = np.matrix([[1,2],[3,4]])\n",
    "print('Matriks 2x2 : \\n', matnpA)\n",
    "print(type(matnpA))"
   ]
  },
  {
   "cell_type": "code",
   "execution_count": null,
   "metadata": {},
   "outputs": [],
   "source": [
    "# gunakan perintah shape untuk memperoleh informasi ukuran matriks\n",
    "print('Dimensi matriks :', matnpA.shape)"
   ]
  },
  {
   "cell_type": "markdown",
   "metadata": {},
   "source": [
    "Program di bawah ini membentuk matriks dengan panjang elemen 12, dan nilai elemen dimulai dari indeks 0 sampai 11 dengan ukuran 3×4."
   ]
  },
  {
   "cell_type": "code",
   "execution_count": null,
   "metadata": {},
   "outputs": [],
   "source": [
    "from numpy import * \n",
    "matrikNP = range(12) \n",
    "matrikNP = reshape(matrikNP,(4,3)) \n",
    "print(matrikNP)"
   ]
  }
 ],
 "metadata": {
  "kernelspec": {
   "display_name": "Python 3",
   "language": "python",
   "name": "python3"
  },
  "language_info": {
   "codemirror_mode": {
    "name": "ipython",
    "version": 3
   },
   "file_extension": ".py",
   "mimetype": "text/x-python",
   "name": "python",
   "nbconvert_exporter": "python",
   "pygments_lexer": "ipython3",
   "version": "3.9.10"
  }
 },
 "nbformat": 4,
 "nbformat_minor": 2
}
