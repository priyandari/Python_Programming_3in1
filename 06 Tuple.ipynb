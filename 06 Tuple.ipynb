{
 "cells": [
  {
   "attachments": {},
   "cell_type": "markdown",
   "metadata": {},
   "source": [
    "## Tuple\n",
    "\n",
    "Python memiliki struktur data yang disebut sebagai __tuple__. Tuple pada dasarnya adalah sebuah __list yang tidak dapat diubah (immutable)__. \n",
    "\n",
    "__Tuple__ ditulis menggunakan kurung biasa `( )`.\n",
    "\n",
    "Perhatikan kembali __contoh list__ di bawah ini."
   ]
  },
  {
   "cell_type": "code",
   "execution_count": null,
   "metadata": {},
   "outputs": [],
   "source": [
    "daftarMahasiswa = ['Andhika', 'Andru', 'Enggar', 'Joshua']\n",
    "print(daftarMahasiswa)\n",
    "print(len(daftarMahasiswa))\n",
    "print(daftarMahasiswa[2])"
   ]
  },
  {
   "cell_type": "code",
   "execution_count": null,
   "metadata": {},
   "outputs": [],
   "source": [
    "# Mengganti data keempat dari daftarMahasiswa\n",
    "daftarMahasiswa[3] = 'Yoshua'"
   ]
  },
  {
   "cell_type": "code",
   "execution_count": null,
   "metadata": {},
   "outputs": [],
   "source": [
    "print(daftarMahasiswa)"
   ]
  },
  {
   "cell_type": "code",
   "execution_count": null,
   "metadata": {},
   "outputs": [],
   "source": [
    "# Menambah satu data bernama Ardan\n",
    "daftarMahasiswa.append('Ardan')"
   ]
  },
  {
   "cell_type": "code",
   "execution_count": null,
   "metadata": {},
   "outputs": [],
   "source": [
    "print(daftarMahasiswa)"
   ]
  },
  {
   "attachments": {},
   "cell_type": "markdown",
   "metadata": {},
   "source": [
    "Pada _tuple_, __penggantian dan penambahan data tidak dapat dilakukan (_immutable_)__.\n",
    "\n",
    "Proses assignment pada tuple mirip pada list, hanya saja menggunakan tanda `( )` sebagai pengganti `[  ]` pada list.\n",
    "`tuple_variabel = ( elemen1, elemen2, ... , elemenN )`\n"
   ]
  },
  {
   "cell_type": "code",
   "execution_count": null,
   "metadata": {},
   "outputs": [],
   "source": [
    "tupleMahasiswa = ('Andhika', 'Andru', 'Enggar', 'Yoshua', 'Ardan')\n",
    "print(tupleMahasiswa)"
   ]
  },
  {
   "cell_type": "code",
   "execution_count": null,
   "metadata": {},
   "outputs": [],
   "source": [
    "print(type(tupleMahasiswa))\n",
    "print(len(tupleMahasiswa))"
   ]
  },
  {
   "cell_type": "markdown",
   "metadata": {},
   "source": [
    "Cara mengakses tuple sama seperti mengakses list."
   ]
  },
  {
   "cell_type": "code",
   "execution_count": null,
   "metadata": {},
   "outputs": [],
   "source": [
    "tupleMahasiswa = ('Andhika', 'Andru', 'Enggar', 'Yoshua', 'Ardan')\n",
    "\n",
    "print(tupleMahasiswa[4])"
   ]
  },
  {
   "attachments": {},
   "cell_type": "markdown",
   "metadata": {},
   "source": [
    "Data pada tuple __tidak dapat diubah__ atau __ditambahkan__. "
   ]
  },
  {
   "cell_type": "code",
   "execution_count": null,
   "metadata": {},
   "outputs": [],
   "source": [
    "tupleMahasiswa[4] = 'Maulana'"
   ]
  },
  {
   "cell_type": "code",
   "execution_count": null,
   "metadata": {},
   "outputs": [],
   "source": [
    "tupleMahasiswa.append('Maulana')"
   ]
  },
  {
   "attachments": {},
   "cell_type": "markdown",
   "metadata": {},
   "source": [
    "Apa __manfaat__ menggunakan __tuple__ ketika datanya ternyata tidak bisa diubah ? Salah satu keunggulan tuple dibanding list adalah __kecepatan akses__. Pada program yang dimaksudkan untuk mengolah struktur data (matriks) berukuran besar, tuple tentunya lebih disarankan untuk digunakan dibanding list.\n",
    "\n",
    "Oleh karena itu, terkadang seorang programmer melakukan perubahan atau pembentukan tuple dari list ketika bermaksud melakukan pengolahan terhadap struktur data berukuran besar. \n",
    "\n"
   ]
  }
 ],
 "metadata": {
  "kernelspec": {
   "display_name": "Python 3",
   "language": "python",
   "name": "python3"
  },
  "language_info": {
   "codemirror_mode": {
    "name": "ipython",
    "version": 3
   },
   "file_extension": ".py",
   "mimetype": "text/x-python",
   "name": "python",
   "nbconvert_exporter": "python",
   "pygments_lexer": "ipython3",
   "version": "3.9.10"
  }
 },
 "nbformat": 4,
 "nbformat_minor": 2
}
