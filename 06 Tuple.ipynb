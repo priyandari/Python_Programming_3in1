{
 "cells": [
  {
   "attachments": {},
   "cell_type": "markdown",
   "metadata": {},
   "source": [
    "## Tuple\n",
    "\n",
    "Python memiliki struktur data yang disebut sebagai __tuple__. Tuple pada dasarnya adalah sebuah __list yang tidak dapat diubah (immutable)__. \n",
    "\n",
    "__Tuple__ ditulis menggunakan kurung biasa `( )`.\n",
    "\n",
    "Perhatikan kembali __contoh list__ di bawah ini."
   ]
  },
  {
   "cell_type": "code",
   "execution_count": 1,
   "metadata": {},
   "outputs": [
    {
     "name": "stdout",
     "output_type": "stream",
     "text": [
      "['Andhika', 'Andru', 'Enggar', 'Joshua']\n",
      "4\n",
      "Enggar\n"
     ]
    }
   ],
   "source": [
    "daftarMahasiswa = ['Andhika', 'Andru', 'Enggar', 'Joshua']\n",
    "print(daftarMahasiswa)\n",
    "print(len(daftarMahasiswa))\n",
    "print(daftarMahasiswa[2])"
   ]
  },
  {
   "cell_type": "code",
   "execution_count": 2,
   "metadata": {},
   "outputs": [],
   "source": [
    "# Mengganti data keempat dari daftarMahasiswa\n",
    "daftarMahasiswa[3] = 'Yoshua'"
   ]
  },
  {
   "cell_type": "code",
   "execution_count": 3,
   "metadata": {},
   "outputs": [
    {
     "name": "stdout",
     "output_type": "stream",
     "text": [
      "['Andhika', 'Andru', 'Enggar', 'Yoshua']\n"
     ]
    }
   ],
   "source": [
    "print(daftarMahasiswa)"
   ]
  },
  {
   "cell_type": "code",
   "execution_count": 4,
   "metadata": {},
   "outputs": [],
   "source": [
    "# Menambah satu data bernama Ardan\n",
    "daftarMahasiswa.append('Ardan')"
   ]
  },
  {
   "cell_type": "code",
   "execution_count": 5,
   "metadata": {},
   "outputs": [
    {
     "name": "stdout",
     "output_type": "stream",
     "text": [
      "['Andhika', 'Andru', 'Enggar', 'Yoshua', 'Ardan']\n"
     ]
    }
   ],
   "source": [
    "print(daftarMahasiswa)"
   ]
  },
  {
   "attachments": {},
   "cell_type": "markdown",
   "metadata": {},
   "source": [
    "Pada _tuple_, __penggantian dan penambahan data tidak dapat dilakukan (_immutable_)__.\n",
    "\n",
    "Proses assignment pada tuple mirip pada list, hanya saja menggunakan tanda `( )` sebagai pengganti `[  ]` pada list.\n",
    "`tuple_variabel = ( elemen1, elemen2, ... , elemenN )`\n"
   ]
  },
  {
   "cell_type": "code",
   "execution_count": 6,
   "metadata": {},
   "outputs": [
    {
     "name": "stdout",
     "output_type": "stream",
     "text": [
      "('Andhika', 'Andru', 'Enggar', 'Yoshua', 'Ardan')\n"
     ]
    }
   ],
   "source": [
    "tupleMahasiswa = ('Andhika', 'Andru', 'Enggar', 'Yoshua', 'Ardan')\n",
    "print(tupleMahasiswa)"
   ]
  },
  {
   "cell_type": "code",
   "execution_count": 7,
   "metadata": {},
   "outputs": [
    {
     "name": "stdout",
     "output_type": "stream",
     "text": [
      "<class 'tuple'>\n",
      "5\n"
     ]
    }
   ],
   "source": [
    "print(type(tupleMahasiswa))\n",
    "print(len(tupleMahasiswa))"
   ]
  },
  {
   "cell_type": "markdown",
   "metadata": {},
   "source": [
    "Cara mengakses tuple sama seperti mengakses list."
   ]
  },
  {
   "cell_type": "code",
   "execution_count": 8,
   "metadata": {},
   "outputs": [
    {
     "name": "stdout",
     "output_type": "stream",
     "text": [
      "Ardan\n"
     ]
    }
   ],
   "source": [
    "tupleMahasiswa = ('Andhika', 'Andru', 'Enggar', 'Yoshua', 'Ardan')\n",
    "\n",
    "print(tupleMahasiswa[4])"
   ]
  },
  {
   "attachments": {},
   "cell_type": "markdown",
   "metadata": {},
   "source": [
    "Data pada tuple __tidak dapat diubah__ atau __ditambahkan__. "
   ]
  },
  {
   "cell_type": "code",
   "execution_count": 9,
   "metadata": {},
   "outputs": [
    {
     "ename": "TypeError",
     "evalue": "'tuple' object does not support item assignment",
     "output_type": "error",
     "traceback": [
      "\u001b[1;31m---------------------------------------------------------------------------\u001b[0m",
      "\u001b[1;31mTypeError\u001b[0m                                 Traceback (most recent call last)",
      "Cell \u001b[1;32mIn[9], line 1\u001b[0m\n\u001b[1;32m----> 1\u001b[0m tupleMahasiswa[\u001b[39m4\u001b[39;49m] \u001b[39m=\u001b[39m \u001b[39m'\u001b[39m\u001b[39mMaulana\u001b[39m\u001b[39m'\u001b[39m\n",
      "\u001b[1;31mTypeError\u001b[0m: 'tuple' object does not support item assignment"
     ]
    }
   ],
   "source": [
    "tupleMahasiswa[4] = 'Maulana'"
   ]
  },
  {
   "cell_type": "code",
   "execution_count": 10,
   "metadata": {},
   "outputs": [
    {
     "ename": "AttributeError",
     "evalue": "'tuple' object has no attribute 'append'",
     "output_type": "error",
     "traceback": [
      "\u001b[1;31m---------------------------------------------------------------------------\u001b[0m",
      "\u001b[1;31mAttributeError\u001b[0m                            Traceback (most recent call last)",
      "Cell \u001b[1;32mIn[10], line 1\u001b[0m\n\u001b[1;32m----> 1\u001b[0m tupleMahasiswa\u001b[39m.\u001b[39;49mappend(\u001b[39m'\u001b[39m\u001b[39mMaulana\u001b[39m\u001b[39m'\u001b[39m)\n",
      "\u001b[1;31mAttributeError\u001b[0m: 'tuple' object has no attribute 'append'"
     ]
    }
   ],
   "source": [
    "tupleMahasiswa.append('Maulana')"
   ]
  },
  {
   "attachments": {},
   "cell_type": "markdown",
   "metadata": {},
   "source": [
    "Apa __manfaat__ menggunakan __tuple__ ketika datanya ternyata tidak bisa diubah ? Salah satu keunggulan tuple dibanding list adalah __kecepatan akses__. Pada program yang dimaksudkan untuk mengolah struktur data (matriks) berukuran besar, tuple tentunya lebih disarankan untuk digunakan dibanding list.\n",
    "\n",
    "Oleh karena itu, terkadang seorang programmer melakukan perubahan atau pembentukan tuple dari list ketika bermaksud melakukan pengolahan terhadap struktur data berukuran besar. \n",
    "\n"
   ]
  }
 ],
 "metadata": {
  "kernelspec": {
   "display_name": "Python 3",
   "language": "python",
   "name": "python3"
  },
  "language_info": {
   "codemirror_mode": {
    "name": "ipython",
    "version": 3
   },
   "file_extension": ".py",
   "mimetype": "text/x-python",
   "name": "python",
   "nbconvert_exporter": "python",
   "pygments_lexer": "ipython3",
   "version": "3.9.10"
  }
 },
 "nbformat": 4,
 "nbformat_minor": 2
}
