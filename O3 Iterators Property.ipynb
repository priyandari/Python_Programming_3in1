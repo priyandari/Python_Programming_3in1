{
 "cells": [
  {
   "attachments": {},
   "cell_type": "markdown",
   "metadata": {},
   "source": [
    "# Properti Iterators dalam Class"
   ]
  },
  {
   "attachments": {},
   "cell_type": "markdown",
   "metadata": {},
   "source": [
    "Pada pembahasan sebelumnya, objek yang dibuat memiliki banyak atribut (_property_), tetapi atribut itu menyimpan data. Terkadang, diperlukan membuat Class yang memiliki atribut (property) yang isinya banyak, seperti data bertipe list, tuple, set, atau dictionary. Dalam hal ini, diperlukanlah membuat Class yang memiliki atribut dengan sifat _iterrable_, atau disebut sebagai __Class Iterator__.\n",
    "\n",
    "* Suatu class _iterator_ adalah sebuah objek yang memiliki item / value yang dapat dihitung (countable).\n",
    "* Sebuah class _iterator_ dapat membentuk objek yang dapat diiterasikan / di-_loop_ untuk menampilkan semua item nilai yang dimiliki.\n",
    "* Secara teknis, di Python, sebuah iterator adalah objek yang mengimplementasikan _iterator protocol_, berupa metode `__iter__()` dan `__next__()`.\n",
    "\n",
    "Agar mudah memahami, perhatikan objek dengan tipe data berupa list, tuple, set, dan dictioanry adalah contoh objek yang nilainya dapat ditampilkan melalui proses iterasi/loop `for item in objek`."
   ]
  },
  {
   "cell_type": "code",
   "execution_count": 1,
   "metadata": {},
   "outputs": [
    {
     "name": "stdout",
     "output_type": "stream",
     "text": [
      "Andhika\n",
      "Annisa\n",
      "Thoby\n"
     ]
    }
   ],
   "source": [
    "mahasiswa_2019 = [\"Andhika\", \"Annisa\", \"Thoby\"]\n",
    "for item in mahasiswa_2019:\n",
    "    print(item)"
   ]
  },
  {
   "cell_type": "code",
   "execution_count": 3,
   "metadata": {},
   "outputs": [
    {
     "name": "stdout",
     "output_type": "stream",
     "text": [
      "Andhika\n",
      "Annisa\n"
     ]
    }
   ],
   "source": [
    "mahasiswa_2019 = [\"Andhika\", \"Annisa\", \"Thoby\"]\n",
    "# Menggunakan fungsi iter() dan next() \n",
    "mhs = iter(mahasiswa_2019)\n",
    "print(next(mhs))\n",
    "print(next(mhs))"
   ]
  },
  {
   "attachments": {},
   "cell_type": "markdown",
   "metadata": {},
   "source": [
    "### 1. Membuat sebuah Iterator\n",
    "\n",
    "Membuat class sebagai sebuah iterator, harus mengimplementasikan methods `__iter__()` dan `__next__()` pada object.\n",
    "\n",
    "* Pertama, pada fungsi `__init__()`, definisikan dari class, termasuk variabel yang akan bisa diiterasikan.\n",
    "* Selanjutnya, method `__iter__()` dibuat tetapi harus `return` objek iterator object itu sendiri.\n",
    "* Kemudian, method `__next__()` melakukan operasi iteratif yang diinginkan, dan harus mengembalikan nilai _return_ item value sesuai urutannya."
   ]
  },
  {
   "attachments": {},
   "cell_type": "markdown",
   "metadata": {},
   "source": [
    "Contoh, Mahasiswa bisa memiliki lebih dari satu telepon "
   ]
  },
  {
   "cell_type": "code",
   "execution_count": 19,
   "metadata": {},
   "outputs": [
    {
     "name": "stdout",
     "output_type": "stream",
     "text": [
      "Maria\n",
      "081234\n",
      "085687\n"
     ]
    }
   ],
   "source": [
    "class Mahasiswa:\n",
    "    def __init__(self, nim, nama, telpon):\n",
    "        self.Nim = nim\n",
    "        self.Nama = nama\n",
    "        self.Telepon = telpon\n",
    "        self.index = 0\n",
    "\n",
    "    def __iter__(self):\n",
    "        return self\n",
    "\n",
    "    def __next__(self):\n",
    "        if self.index < len(self.Telepon):\n",
    "            value = self.Telepon[self.index]\n",
    "            self.index += 1\n",
    "            return value\n",
    "        else:\n",
    "            raise StopIteration\n",
    "\n",
    "# Contoh penggunaan\n",
    "mhs1 = Mahasiswa(\"I0322023\", \"Maria\",[\"081234\", \"085687\"])\n",
    "print(mhs1.Nama)\n",
    "for hp in mhs1.Telepon:\n",
    "    print(hp)\n",
    "# print(mhs1.Telepon[0])"
   ]
  },
  {
   "attachments": {},
   "cell_type": "markdown",
   "metadata": {},
   "source": [
    "Bagaimana jika __Class Mahasiswa__ memiliki __lebih dari satu atribut__ yang ingin bisa diiterasikan ?"
   ]
  },
  {
   "cell_type": "code",
   "execution_count": 2,
   "metadata": {},
   "outputs": [
    {
     "name": "stdout",
     "output_type": "stream",
     "text": [
      "Anin\n",
      "08566\n",
      "08577\n",
      "Karanganyar\n"
     ]
    }
   ],
   "source": [
    "class Mahasiswa:\n",
    "    def __init__(self, nim, nama, telpons, alamats):\n",
    "        self.Nim = nim\n",
    "        self.Nama = nama\n",
    "        self.Telepon = telpons\n",
    "        self.Alamat = alamats\n",
    "        self.index = 0\n",
    "\n",
    "    def __iter__(self):\n",
    "        return self\n",
    "\n",
    "    def __next__(self):\n",
    "        if self.index < min(len(self.Telepon),len(self.Alamat)) :\n",
    "            value = (self.Telepon[self.index], self.Alamat[self.index])\n",
    "            self.index += 1\n",
    "            return value\n",
    "        else:\n",
    "            raise StopIteration\n",
    "\n",
    "# Contoh penggunaan\n",
    "mhs2 = Mahasiswa(\"I0322043\", \"Anin\",[\"08566\", \"08577\"],[\"Karanganyar\"])\n",
    "print(mhs2.Nama)\n",
    "for hp in mhs2.Telepon:\n",
    "    print(hp)\n",
    "for alamat in mhs2.Alamat:\n",
    "    print(alamat)"
   ]
  }
 ],
 "metadata": {
  "kernelspec": {
   "display_name": "python_programming_3in1",
   "language": "python",
   "name": "python3"
  },
  "language_info": {
   "codemirror_mode": {
    "name": "ipython",
    "version": 3
   },
   "file_extension": ".py",
   "mimetype": "text/x-python",
   "name": "python",
   "nbconvert_exporter": "python",
   "pygments_lexer": "ipython3",
   "version": "3.9.10"
  },
  "orig_nbformat": 4
 },
 "nbformat": 4,
 "nbformat_minor": 2
}
