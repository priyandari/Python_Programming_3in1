{
 "cells": [
  {
   "cell_type": "markdown",
   "metadata": {},
   "source": [
    "# Fungsi-fungsi Numerik"
   ]
  },
  {
   "cell_type": "markdown",
   "metadata": {},
   "source": [
    "## abs (x)"
   ]
  },
  {
   "cell_type": "code",
   "execution_count": 1,
   "metadata": {},
   "outputs": [
    {
     "name": "stdout",
     "output_type": "stream",
     "text": [
      "a:  -200\n",
      "b:  225\n",
      "\n",
      "|a|:  200\n",
      "|b|:  225\n"
     ]
    }
   ],
   "source": [
    "a = -200\n",
    "b = 225\n",
    "\n",
    "print(\"a: \", a)\n",
    "print(\"b: \", b)\n",
    "print(\"\")\n",
    "print(\"|a|: \", abs(a))\n",
    "print(\"|b|: \", abs(b))"
   ]
  },
  {
   "cell_type": "markdown",
   "metadata": {},
   "source": [
    "## pow (x, y)"
   ]
  },
  {
   "cell_type": "code",
   "execution_count": 2,
   "metadata": {},
   "outputs": [
    {
     "name": "stdout",
     "output_type": "stream",
     "text": [
      "a:  2\n",
      "b:  5\n",
      "\n",
      "pow(a, b):  32\n"
     ]
    }
   ],
   "source": [
    "a = 2\n",
    "b = 5\n",
    "\n",
    "print(\"a: \", a)\n",
    "print(\"b: \", b)\n",
    "print(\"\")\n",
    "print(\"pow(a, b): \", pow(a, b))"
   ]
  },
  {
   "cell_type": "markdown",
   "metadata": {},
   "source": [
    "## round (x [, n] )"
   ]
  },
  {
   "cell_type": "code",
   "execution_count": 3,
   "metadata": {},
   "outputs": [
    {
     "name": "stdout",
     "output_type": "stream",
     "text": [
      "a:  3.142857142857143\n",
      "b:  5.142857142857142\n",
      "\n",
      "round(a, 2):  3.14\n",
      "round(b, 3):  5.1429\n"
     ]
    }
   ],
   "source": [
    "a = 22/7\n",
    "b = 2+ 22/7\n",
    "\n",
    "print(\"a: \", a)\n",
    "print(\"b: \", b)\n",
    "print(\"\")\n",
    "print(\"round(a, 2): \", round(a, 2))\n",
    "print(\"round(b, 3): \", round(b, 4))"
   ]
  },
  {
   "cell_type": "markdown",
   "metadata": {},
   "source": [
    "## math.ceil (x)"
   ]
  },
  {
   "cell_type": "code",
   "execution_count": 4,
   "metadata": {},
   "outputs": [
    {
     "name": "stdout",
     "output_type": "stream",
     "text": [
      "a:  100.25\n",
      "b:  125.75\n",
      "\n",
      "math.ceil(a):  101\n",
      "math.ceil(b):  126\n"
     ]
    }
   ],
   "source": [
    "import math\n",
    "\n",
    "a = 100.25\n",
    "b = 125.75\n",
    "print(\"a: \", a)\n",
    "print(\"b: \", b)\n",
    "print(\"\")\n",
    "print(\"math.ceil(a): \", math.ceil(a))\n",
    "print(\"math.ceil(b): \", math.ceil(b))"
   ]
  },
  {
   "cell_type": "markdown",
   "metadata": {},
   "source": [
    "## math.floor (x)"
   ]
  },
  {
   "cell_type": "code",
   "execution_count": 5,
   "metadata": {},
   "outputs": [
    {
     "name": "stdout",
     "output_type": "stream",
     "text": [
      "a:  100.25\n",
      "b:  125.75\n",
      "\n",
      "math.floor(a):  100\n",
      "math.floor(b):  125\n"
     ]
    }
   ],
   "source": [
    "import math\n",
    "\n",
    "a = 100.25\n",
    "b = 125.75\n",
    "print(\"a: \", a)\n",
    "print(\"b: \", b)\n",
    "print(\"\")\n",
    "print(\"math.floor(a): \", math.floor(a))\n",
    "print(\"math.floor(b): \", math.floor(b))"
   ]
  },
  {
   "cell_type": "markdown",
   "metadata": {},
   "source": [
    "## math.exp (x)"
   ]
  },
  {
   "cell_type": "code",
   "execution_count": 6,
   "metadata": {},
   "outputs": [
    {
     "name": "stdout",
     "output_type": "stream",
     "text": [
      "a:  2\n",
      "b:  3\n",
      "\n",
      "math.exp(a):  7.38905609893065\n",
      "math.exp(b):  20.085536923187668\n"
     ]
    }
   ],
   "source": [
    "import math\n",
    "a = 2\n",
    "b = 3\n",
    "\n",
    "print(\"a: \", a)\n",
    "print(\"b: \", b)\n",
    "print(\"\")\n",
    "print(\"math.exp(a): \", math.exp(a))\n",
    "print(\"math.exp(b): \", math.exp(b))"
   ]
  },
  {
   "cell_type": "markdown",
   "metadata": {},
   "source": [
    "## math.sqrt (x)"
   ]
  },
  {
   "cell_type": "code",
   "execution_count": 7,
   "metadata": {},
   "outputs": [
    {
     "name": "stdout",
     "output_type": "stream",
     "text": [
      "a:  36\n",
      "b:  250\n",
      "\n",
      "math.sqrt(a):  6.0\n",
      "math.sqrt(b):  15.811388300841896\n"
     ]
    }
   ],
   "source": [
    "a = 36\n",
    "b = 250\n",
    "\n",
    "print(\"a: \", a)\n",
    "print(\"b: \", b)\n",
    "print(\"\")\n",
    "print(\"math.sqrt(a): \", math.sqrt(a))\n",
    "print(\"math.sqrt(b): \", math.sqrt(b))"
   ]
  },
  {
   "cell_type": "markdown",
   "metadata": {},
   "source": [
    "## math.log (x)"
   ]
  },
  {
   "cell_type": "code",
   "execution_count": 8,
   "metadata": {},
   "outputs": [
    {
     "name": "stdout",
     "output_type": "stream",
     "text": [
      "a:  2\n",
      "b:  3\n",
      "\n",
      "math.log(a):  0.6931471805599453\n",
      "math.log(b):  1.0986122886681098\n"
     ]
    }
   ],
   "source": [
    "a = 2\n",
    "b = 3\n",
    "\n",
    "print(\"a: \", a)\n",
    "print(\"b: \", b)\n",
    "print(\"\")\n",
    "print(\"math.log(a): \", math.log(a))\n",
    "print(\"math.log(b): \", math.log(b))"
   ]
  },
  {
   "cell_type": "markdown",
   "metadata": {},
   "source": [
    "## math.log10 (x)"
   ]
  },
  {
   "cell_type": "code",
   "execution_count": 9,
   "metadata": {},
   "outputs": [
    {
     "name": "stdout",
     "output_type": "stream",
     "text": [
      "a:  100\n",
      "b:  1000\n",
      "\n",
      "math.log10(a):  2.0\n",
      "math.log10(b):  3.0\n"
     ]
    }
   ],
   "source": [
    "a = 100\n",
    "b = 1000\n",
    "\n",
    "print(\"a: \", a)\n",
    "print(\"b: \", b)\n",
    "print(\"\")\n",
    "print(\"math.log10(a): \", math.log10(a))\n",
    "print(\"math.log10(b): \", math.log10(b))"
   ]
  },
  {
   "cell_type": "markdown",
   "metadata": {},
   "source": [
    "## random.randrange (awal, akhir) "
   ]
  },
  {
   "cell_type": "code",
   "execution_count": 10,
   "metadata": {},
   "outputs": [
    {
     "name": "stdout",
     "output_type": "stream",
     "text": [
      "random.randrange(0,1):  0\n",
      "random.randrange(1,100):  27\n",
      "random.randrange(1,1000):  918\n",
      "random.randrange(-100,0):  -97\n"
     ]
    }
   ],
   "source": [
    "import random\n",
    "\n",
    "# Bilangan random dari 0 sampai 1\n",
    "print(\"random.randrange(0,1): \", random.randrange(0,1))\n",
    "\n",
    "# Bilangan random dari 1 sampai 100\n",
    "print(\"random.randrange(1,100): \", random.randrange(1,100))\n",
    "\n",
    "# Bilangan random dari 1 sampai 1000\n",
    "print(\"random.randrange(1,1000): \", random.randrange(1,1000))\n",
    "\n",
    "# Bilangan random dari -100 sampai 0\n",
    "print(\"random.randrange(-100,0): \", random.randrange(-100,0))"
   ]
  },
  {
   "cell_type": "markdown",
   "metadata": {},
   "source": [
    "## random.random()"
   ]
  },
  {
   "cell_type": "code",
   "execution_count": 11,
   "metadata": {},
   "outputs": [
    {
     "name": "stdout",
     "output_type": "stream",
     "text": [
      "random.random():  0.5040057816789215\n"
     ]
    }
   ],
   "source": [
    "# Bilangan random dari 0 sampai 1\n",
    "print(\"random.random(): \", random.random())"
   ]
  }
 ],
 "metadata": {
  "kernelspec": {
   "display_name": "Python 3",
   "language": "python",
   "name": "python3"
  },
  "language_info": {
   "codemirror_mode": {
    "name": "ipython",
    "version": 3
   },
   "file_extension": ".py",
   "mimetype": "text/x-python",
   "name": "python",
   "nbconvert_exporter": "python",
   "pygments_lexer": "ipython3",
   "version": "3.9.10"
  }
 },
 "nbformat": 4,
 "nbformat_minor": 2
}
