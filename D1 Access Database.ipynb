{
 "cells": [
  {
   "cell_type": "code",
   "execution_count": 14,
   "metadata": {},
   "outputs": [],
   "source": [
    "# Microsoft Access Database Engine 2016 -> Download dan diinstall, bagi komputer tertentu\n",
    "# pip install pyodbc"
   ]
  },
  {
   "cell_type": "code",
   "execution_count": 10,
   "metadata": {},
   "outputs": [
    {
     "name": "stdout",
     "output_type": "stream",
     "text": [
      "('B001', 'Surakarta', 'Ir. Sutami 20 Jebres')\n",
      "('B002', 'Yogyakarta', 'Gondotaman 52')\n",
      "('B003', 'Semarang', 'Simpang Lima 5')\n",
      "('B004', 'Bandung', 'Homan 23')\n",
      "('B005', 'Surabaya', 'Sepuluh November 10')\n",
      "('B006', 'Surakarta', 'Oslo')\n"
     ]
    }
   ],
   "source": [
    "import pyodbc\n",
    "\n",
    "conn = pyodbc.connect(r'Driver={Microsoft Access Driver (*.mdb, *.accdb)};DBQ=D:\\20_DEV\\python_programming_3in1\\files\\StayHome.accdb;')\n",
    "cursor = conn.cursor()\n",
    "cursor.execute('select branchno, city, street from branch')\n",
    "   \n",
    "for row in cursor.fetchall():\n",
    "    print(row)\n",
    "    # print(row[1])"
   ]
  },
  {
   "cell_type": "code",
   "execution_count": 7,
   "metadata": {},
   "outputs": [
    {
     "name": "stdout",
     "output_type": "stream",
     "text": [
      "branchNo\n",
      "street\n",
      "city\n",
      "state\n",
      "zipcode\n",
      "mgrStaffNo\n",
      "idstate\n"
     ]
    }
   ],
   "source": [
    "columns = [column[0] for column in cursor.description]\n",
    "# print(columns)\n",
    "for column in columns:\n",
    "    print(column)"
   ]
  },
  {
   "cell_type": "code",
   "execution_count": 8,
   "metadata": {},
   "outputs": [
    {
     "name": "stdout",
     "output_type": "stream",
     "text": [
      "(('branchNo', <class 'str'>, None, 4, 4, 0, True), ('street', <class 'str'>, None, 30, 30, 0, True), ('city', <class 'str'>, None, 20, 20, 0, True), ('state', <class 'int'>, None, 5, 5, 0, True), ('zipcode', <class 'int'>, None, 10, 10, 0, True), ('mgrStaffNo', <class 'str'>, None, 5, 5, 0, True), ('idstate', <class 'str'>, None, 255, 255, 0, True))\n"
     ]
    }
   ],
   "source": [
    "print(cursor.description)"
   ]
  },
  {
   "cell_type": "code",
   "execution_count": 30,
   "metadata": {},
   "outputs": [
    {
     "name": "stdout",
     "output_type": "stream",
     "text": [
      "Customers\n",
      "Employee Privileges\n",
      "Employees\n",
      "Inventory Transaction Types\n",
      "Inventory Transactions\n",
      "Invoices\n",
      "Order Details\n",
      "Order Details Status\n",
      "Orders\n",
      "Orders Status\n",
      "Orders Tax Status\n",
      "Privileges\n",
      "Products\n",
      "Purchase Order Details\n",
      "Purchase Order Status\n",
      "Purchase Orders\n",
      "Sales Reports\n",
      "Shippers\n",
      "Strings\n",
      "Suppliers\n",
      "['Customers', 'Employee Privileges', 'Employees', 'Inventory Transaction Types', 'Inventory Transactions', 'Invoices', 'Order Details', 'Order Details Status', 'Orders', 'Orders Status', 'Orders Tax Status', 'Privileges', 'Products', 'Purchase Order Details', 'Purchase Order Status', 'Purchase Orders', 'Sales Reports', 'Shippers', 'Strings', 'Suppliers']\n"
     ]
    }
   ],
   "source": [
    "conn = pyodbc.connect(r'Driver={Microsoft Access Driver (*.mdb, *.accdb)};DBQ=D:\\20_DEV\\Python-tutorial-for-beginners\\database\\Northwind.accdb;')\n",
    "cursor = conn.cursor()\n",
    "for i in cursor.tables(tableType='Table'):\n",
    "    print(i.table_name)\n",
    "    \n",
    "tables_name =[column[2] for column in cursor.tables(tableType='Table')]\n",
    "print(tables_name)"
   ]
  },
  {
   "cell_type": "code",
   "execution_count": 21,
   "metadata": {},
   "outputs": [
    {
     "name": "stdout",
     "output_type": "stream",
     "text": [
      "Supplier IDs\n",
      "ID\n",
      "Product Code\n",
      "Product Name\n",
      "Description\n",
      "Standard Cost\n",
      "List Price\n",
      "Reorder Level\n",
      "Target Level\n",
      "Quantity Per Unit\n",
      "Discontinued\n",
      "Minimum Reorder Quantity\n",
      "Category\n",
      "Attachments\n"
     ]
    }
   ],
   "source": [
    "conn = pyodbc.connect(r'Driver={Microsoft Access Driver (*.mdb, *.accdb)};DBQ=D:\\20_DEV\\Python-tutorial-for-beginners\\database\\Northwind.accdb;')\n",
    "cursor = conn.cursor()\n",
    "cursor.execute('select * from Products')\n",
    "columns = [column[0] for column in cursor.description]\n",
    "# print(columns)\n",
    "for column in columns:\n",
    "    print(column)"
   ]
  }
 ],
 "metadata": {
  "kernelspec": {
   "display_name": ".envikuliah",
   "language": "python",
   "name": "python3"
  },
  "language_info": {
   "codemirror_mode": {
    "name": "ipython",
    "version": 3
   },
   "file_extension": ".py",
   "mimetype": "text/x-python",
   "name": "python",
   "nbconvert_exporter": "python",
   "pygments_lexer": "ipython3",
   "version": "3.9.10"
  },
  "orig_nbformat": 4
 },
 "nbformat": 4,
 "nbformat_minor": 2
}
