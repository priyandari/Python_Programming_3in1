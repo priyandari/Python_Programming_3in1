{
 "cells": [
  {
   "cell_type": "code",
   "execution_count": 14,
   "metadata": {},
   "outputs": [],
   "source": [
    "# Microsoft Access Database Engine 2016 -> Download dan diinstall, bagi komputer tertentu\n",
    "# https://www.microsoft.com/en-us/download/details.aspx?id=54920\n",
    "\n",
    "# pip install pyodbc"
   ]
  },
  {
   "cell_type": "code",
   "execution_count": 1,
   "metadata": {},
   "outputs": [
    {
     "name": "stdout",
     "output_type": "stream",
     "text": [
      "('B001', 'Ir. Sutami 20 Jebres', 'Surakarta', 1, 97201, 'S0003', None)\n",
      "('B002', 'Gondotaman 52', 'Yogyakarta', 2, 98122, 'S0010', None)\n",
      "('B003', 'Simpang Lima 5', 'Semarang', 1, 10012, 'S0415', None)\n",
      "('B004', 'Homan 23', 'Bandung', 3, 98128, 'S2250', None)\n",
      "('B005', 'Sepuluh November 10', 'Surabaya', 4, 10013, None, None)\n",
      "('B006', 'Oslo', 'Surakarta', 1, 97201, 'Chin', None)\n"
     ]
    }
   ],
   "source": [
    "import pyodbc\n",
    "\n",
    "conn = pyodbc.connect(r'Driver={Microsoft Access Driver (*.mdb, *.accdb)};DBQ=D:\\20_DEV\\python_programming_3in1\\files\\StayHome.accdb;')\n",
    "cursor = conn.cursor()\n",
    "cursor.execute('select *  from branch')\n",
    "   \n",
    "for row in cursor.fetchall():\n",
    "    print(row)\n",
    "    # print(row[2])\n",
    "    # print(type(row))"
   ]
  },
  {
   "attachments": {},
   "cell_type": "markdown",
   "metadata": {},
   "source": [
    "Since you are using the 32-bit versions of both Microsoft Office and Python you should be good to go once you have the right connection string. It should look like this:\n",
    "\n",
    "```python\n",
    "connStr = (\n",
    "    r\"DRIVER={Microsoft Access Driver (*.mdb, *.accdb)};\"\n",
    "    r\"DBQ=C:\\full\\path\\to\\your\\PYODBC.accdb;\"\n",
    "    )\n",
    "```"
   ]
  },
  {
   "cell_type": "code",
   "execution_count": 7,
   "metadata": {},
   "outputs": [
    {
     "name": "stdout",
     "output_type": "stream",
     "text": [
      "(('branchNo', <class 'str'>, None, 4, 4, 0, True), ('street', <class 'str'>, None, 30, 30, 0, True), ('city', <class 'str'>, None, 20, 20, 0, True), ('state', <class 'int'>, None, 5, 5, 0, True), ('zipcode', <class 'int'>, None, 10, 10, 0, True), ('mgrStaffNo', <class 'str'>, None, 5, 5, 0, True), ('idstate', <class 'str'>, None, 255, 255, 0, True))\n"
     ]
    }
   ],
   "source": [
    "print(cursor.description)"
   ]
  },
  {
   "cell_type": "code",
   "execution_count": 8,
   "metadata": {},
   "outputs": [
    {
     "name": "stdout",
     "output_type": "stream",
     "text": [
      "branchNo\n",
      "street\n",
      "city\n",
      "state\n",
      "zipcode\n",
      "mgrStaffNo\n",
      "idstate\n"
     ]
    }
   ],
   "source": [
    "columns = [column[0] for column in cursor.description]\n",
    "# print(columns)\n",
    "for column in columns:\n",
    "    print(column)"
   ]
  },
  {
   "cell_type": "code",
   "execution_count": 8,
   "metadata": {},
   "outputs": [
    {
     "name": "stdout",
     "output_type": "stream",
     "text": [
      "(('branchNo', <class 'str'>, None, 4, 4, 0, True), ('street', <class 'str'>, None, 30, 30, 0, True), ('city', <class 'str'>, None, 20, 20, 0, True), ('state', <class 'int'>, None, 5, 5, 0, True), ('zipcode', <class 'int'>, None, 10, 10, 0, True), ('mgrStaffNo', <class 'str'>, None, 5, 5, 0, True), ('idstate', <class 'str'>, None, 255, 255, 0, True))\n"
     ]
    }
   ],
   "source": [
    "print(cursor.description)"
   ]
  },
  {
   "cell_type": "code",
   "execution_count": 11,
   "metadata": {},
   "outputs": [
    {
     "name": "stdout",
     "output_type": "stream",
     "text": [
      "(('table_cat', <class 'str'>, None, 255, 255, 0, True), ('table_schem', <class 'str'>, None, 128, 128, 0, True), ('table_name', <class 'str'>, None, 128, 128, 0, True), ('table_type', <class 'str'>, None, 128, 128, 0, True), ('remarks', <class 'str'>, None, 254, 254, 0, True))\n",
      "===============\n",
      "actor\n",
      "branch\n",
      "director\n",
      "member\n",
      "registration\n",
      "rental\n",
      "role\n",
      "staff\n",
      "state\n",
      "supplier\n",
      "telephone\n",
      "video\n",
      "videoforrent\n",
      "videoorder\n",
      "video-orderline\n"
     ]
    }
   ],
   "source": [
    "conn = pyodbc.connect(r'Driver={Microsoft Access Driver (*.mdb, *.accdb)};DBQ=D:\\20_DEV\\python_programming_3in1\\files\\StayHome.accdb;')\n",
    "cursor = conn.cursor()\n",
    "Tables = cursor.tables(tableType='Table')\n",
    "print(Tables.description)\n",
    "print(\"===============\")\n",
    "for table in Tables:\n",
    "    print(table.table_name)\n",
    "    \n",
    "# tables_name =[column[2] for column in cursor.tables(tableType='Table')]\n",
    "# print(tables_name)"
   ]
  },
  {
   "cell_type": "code",
   "execution_count": 21,
   "metadata": {},
   "outputs": [
    {
     "name": "stdout",
     "output_type": "stream",
     "text": [
      "Supplier IDs\n",
      "ID\n",
      "Product Code\n",
      "Product Name\n",
      "Description\n",
      "Standard Cost\n",
      "List Price\n",
      "Reorder Level\n",
      "Target Level\n",
      "Quantity Per Unit\n",
      "Discontinued\n",
      "Minimum Reorder Quantity\n",
      "Category\n",
      "Attachments\n"
     ]
    }
   ],
   "source": [
    "conn = pyodbc.connect(r'Driver={Microsoft Access Driver (*.mdb, *.accdb)};DBQ=D:\\20_DEV\\Python-tutorial-for-beginners\\database\\Northwind.accdb;')\n",
    "cursor = conn.cursor()\n",
    "cursor.execute('select * from Products')\n",
    "columns = [column[0] for column in cursor.description]\n",
    "# print(columns)\n",
    "for column in columns:\n",
    "    print(column)"
   ]
  }
 ],
 "metadata": {
  "kernelspec": {
   "display_name": ".envikuliah",
   "language": "python",
   "name": "python3"
  },
  "language_info": {
   "codemirror_mode": {
    "name": "ipython",
    "version": 3
   },
   "file_extension": ".py",
   "mimetype": "text/x-python",
   "name": "python",
   "nbconvert_exporter": "python",
   "pygments_lexer": "ipython3",
   "version": "3.9.10"
  },
  "orig_nbformat": 4
 },
 "nbformat": 4,
 "nbformat_minor": 2
}
