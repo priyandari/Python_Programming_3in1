{
 "cells": [
  {
   "attachments": {},
   "cell_type": "markdown",
   "metadata": {},
   "source": [
    "# String sebagai List\n",
    "\n",
    "Tipe __String__, yang telah dipelajari, pada prinsiptnya adalah kumpulan (_collection_) dari karakter, atau lebih dari itu, kalimat adalah kumpulan dari kata, dan paragraf adalah kumpulan dari kalimat. Pada sesi ini, diperkenalkan beberapa contoh manipulasi string."
   ]
  },
  {
   "attachments": {},
   "cell_type": "markdown",
   "metadata": {},
   "source": [
    "### 1. Indeks Karakter sebuah String\n",
    "\n",
    "__String__ dalam bentuk kata atau kalimat adalah kumpulan karekter atau huruf. Sebagai sebuah kumpulan, kata atau kalimat tentu dapat dianalogikan dengan sebuah list, dimana setiap huruf dalam kata atau kalimat memiliki posisi atau indeks."
   ]
  },
  {
   "attachments": {},
   "cell_type": "markdown",
   "metadata": {},
   "source": [
    "<img src=\"images/w10stringindeks.JPG\">"
   ]
  },
  {
   "cell_type": "code",
   "execution_count": 1,
   "metadata": {
    "scrolled": true
   },
   "outputs": [
    {
     "name": "stdout",
     "output_type": "stream",
     "text": [
      "8\n"
     ]
    }
   ],
   "source": [
    "# Panjang Karakter sebuah string\n",
    "bulan = \"Romadhon\"\n",
    "nchar = len(bulan)\n",
    "print(nchar)"
   ]
  },
  {
   "attachments": {},
   "cell_type": "markdown",
   "metadata": {},
   "source": [
    "### 2. Mengakses Karakter String\n",
    "\n",
    "Mengakses karakter sebuah string dapat langsung dengan menentukan posisi atau indeks karakter tersebut sebagaimana mengakses isi sebuah list."
   ]
  },
  {
   "cell_type": "code",
   "execution_count": 2,
   "metadata": {},
   "outputs": [
    {
     "name": "stdout",
     "output_type": "stream",
     "text": [
      "d\n",
      "n\n"
     ]
    }
   ],
   "source": [
    "print(bulan[4])\n",
    "print(bulan[-1])"
   ]
  },
  {
   "cell_type": "code",
   "execution_count": 3,
   "metadata": {},
   "outputs": [
    {
     "name": "stdout",
     "output_type": "stream",
     "text": [
      "R\n",
      "o\n",
      "m\n",
      "a\n",
      "d\n",
      "h\n",
      "o\n",
      "n\n"
     ]
    }
   ],
   "source": [
    "# Mengakses karakter menggunakan  for\n",
    "for huruf in bulan:\n",
    "    print(huruf)"
   ]
  },
  {
   "cell_type": "code",
   "execution_count": 4,
   "metadata": {},
   "outputs": [
    {
     "name": "stdout",
     "output_type": "stream",
     "text": [
      "R\n",
      "o\n",
      "m\n",
      "a\n",
      "d\n",
      "h\n",
      "o\n",
      "n\n"
     ]
    }
   ],
   "source": [
    "# Mengakses karakter menggunakan while\n",
    "indek = 0\n",
    "while indek < len(bulan):\n",
    "    print(bulan[indek])\n",
    "    indek = indek + 1"
   ]
  },
  {
   "attachments": {},
   "cell_type": "markdown",
   "metadata": {},
   "source": [
    "### 3. Memotong Kata: Menggunakan Slice\n",
    "\n",
    "Konsep _slice_ atau mengambil sebagian elemen dari sebuah kumpulan penting untuk dipahami, khususnya pada saat berinteraksi dengan analisis data. \n",
    "\n",
    "Format pemotongan atau pengambilan data dalam sebuah list sebagai berikut.\n",
    "\n",
    "`<string> [<indeks_awal> : <indeks_akhir>]`"
   ]
  },
  {
   "cell_type": "code",
   "execution_count": 12,
   "metadata": {},
   "outputs": [
    {
     "name": "stdout",
     "output_type": "stream",
     "text": [
      "Jan\n",
      "Feb\n"
     ]
    }
   ],
   "source": [
    "# Penerapan penggunaan slice\n",
    "namaBulan = 'JanFebMarAprMayJunJulAugSepOctNovDec'\n",
    "\n",
    "print(namaBulan[0:3]) #indek ke-0 s.d. sebelum indek ke-3\n",
    "print(namaBulan[3:6]) #indek ke-3 s.d. sebelum indek ke-6"
   ]
  },
  {
   "attachments": {},
   "cell_type": "markdown",
   "metadata": {},
   "source": [
    "<img src=\"images/w10stringbulan.JPG\">"
   ]
  },
  {
   "cell_type": "code",
   "execution_count": 15,
   "metadata": {},
   "outputs": [
    {
     "name": "stdout",
     "output_type": "stream",
     "text": [
      "Dec\n"
     ]
    }
   ],
   "source": [
    "# Otomatisasi penampilan nama bulan\n",
    "namaBulan = 'JanFebMarAprMayJunJulAugSepOctNovDec'\n",
    "kbulan = int(input(\"Input nomor bulan kelahiran (1 s.d. 12) : \"))\n",
    "indek_awal = (kbulan -1 ) * 3\n",
    "indek_akhir = indek_awal + 3\n",
    "print(namaBulan[indek_awal:indek_akhir])"
   ]
  },
  {
   "cell_type": "code",
   "execution_count": 19,
   "metadata": {},
   "outputs": [
    {
     "name": "stdout",
     "output_type": "stream",
     "text": [
      " penuh\n",
      " penuh rahmat\n"
     ]
    }
   ],
   "source": [
    "kalimat = \"bulan yang penuh rahmat\"\n",
    "print(kalimat[10:16])\n",
    "print(kalimat[10:])"
   ]
  },
  {
   "attachments": {},
   "cell_type": "markdown",
   "metadata": {},
   "source": [
    "#### 4. Memotong Kalimat jadi Kata: split()\n",
    "\n",
    "Kalimat dapat dipecah menjadi kata dan disimpan menjadi list menggunakan fungsi `.split()`. "
   ]
  },
  {
   "cell_type": "code",
   "execution_count": 20,
   "metadata": {},
   "outputs": [
    {
     "name": "stdout",
     "output_type": "stream",
     "text": [
      "['bulan', 'yang', 'penuh', 'rahmat']\n",
      "rahmat\n"
     ]
    }
   ],
   "source": [
    "# Memotong kalimat menjadi kata menggunakan .split()\n",
    "kalimat = \"bulan yang penuh rahmat\"\n",
    "kata = kalimat.split()\n",
    "print(kata)\n",
    "print(kata[3])"
   ]
  },
  {
   "attachments": {},
   "cell_type": "markdown",
   "metadata": {},
   "source": [
    "#### 5. Slice untuk List\n",
    "\n",
    "Proses _Slicing_ juga dapat diterapkan pada list yang telah dipelajari sebelumnya. Perhatikan ilustrasi list dan slicing di bawah ini."
   ]
  },
  {
   "cell_type": "code",
   "execution_count": 21,
   "metadata": {},
   "outputs": [
    {
     "name": "stdout",
     "output_type": "stream",
     "text": [
      "['I0319005', 'I0319007', 'I0319014']\n"
     ]
    }
   ],
   "source": [
    "nims = ['I0319001', 'I0319004','I0319005', 'I0319007', 'I0319014' ]\n",
    "nimLulus = nims[2:5]\n",
    "print(nimLulus)"
   ]
  },
  {
   "attachments": {},
   "cell_type": "markdown",
   "metadata": {},
   "source": [
    "#### 6. String bersifat Immutable\n",
    "\n",
    "Elemen karakter atau huruf dalam _string_ tidak dapat diganti (_immutable_), tidak seperti tipe data list yang dapat diganti."
   ]
  },
  {
   "cell_type": "code",
   "execution_count": 22,
   "metadata": {},
   "outputs": [
    {
     "name": "stdout",
     "output_type": "stream",
     "text": [
      "hurufdalanstring\n",
      "n\n"
     ]
    }
   ],
   "source": [
    "salah_ketik = 'hurufdalanstring'\n",
    "print(salah_ketik)\n",
    "print(salah_ketik[9])"
   ]
  },
  {
   "cell_type": "code",
   "execution_count": 23,
   "metadata": {},
   "outputs": [
    {
     "ename": "TypeError",
     "evalue": "'str' object does not support item assignment",
     "output_type": "error",
     "traceback": [
      "\u001b[1;31m---------------------------------------------------------------------------\u001b[0m",
      "\u001b[1;31mTypeError\u001b[0m                                 Traceback (most recent call last)",
      "Cell \u001b[1;32mIn[23], line 1\u001b[0m\n\u001b[1;32m----> 1\u001b[0m salah_ketik[\u001b[39m9\u001b[39;49m] \u001b[39m=\u001b[39m \u001b[39m'\u001b[39m\u001b[39mm\u001b[39m\u001b[39m'\u001b[39m \u001b[39m#Coba ganti n menjadi m\u001b[39;00m\n",
      "\u001b[1;31mTypeError\u001b[0m: 'str' object does not support item assignment"
     ]
    }
   ],
   "source": [
    "salah_ketik[9] = 'm' #Coba ganti n menjadi m"
   ]
  },
  {
   "attachments": {},
   "cell_type": "markdown",
   "metadata": {},
   "source": [
    "Dengan memahami konsep slice, dapat dilakukan `trik modifikasi` atas kesalahan ketik tersebut."
   ]
  },
  {
   "cell_type": "code",
   "execution_count": 26,
   "metadata": {},
   "outputs": [
    {
     "name": "stdout",
     "output_type": "stream",
     "text": [
      "hurufdalamstring\n",
      "<class 'str'>\n"
     ]
    }
   ],
   "source": [
    "# Pahami trik yang digunakan berikut ini.\n",
    "salah_ketik = salah_ketik[:9] + 'm' + salah_ketik[10:]\n",
    "print(salah_ketik)\n",
    "print(type(salah_ketik))"
   ]
  },
  {
   "attachments": {},
   "cell_type": "markdown",
   "metadata": {},
   "source": [
    "#### 7. Fungsi Operasi pada String\n",
    "\n",
    "Fungsi-fungsi yang terdapat pada sebuah string sebagai berikut."
   ]
  },
  {
   "cell_type": "markdown",
   "metadata": {},
   "source": [
    "<img src=\"images/w10StringOperasi.png\">"
   ]
  },
  {
   "cell_type": "code",
   "execution_count": 28,
   "metadata": {},
   "outputs": [
    {
     "name": "stdout",
     "output_type": "stream",
     "text": [
      "Bulan Yang Penuh Rahmat\n",
      "BULAN YANG PENUH RAHMAT\n",
      "4\n"
     ]
    }
   ],
   "source": [
    "# Penerapan fungsi bawaan pada string\n",
    "kalimat = \"bulan yang penuh rahmat\"\n",
    "print(kalimat.title())\n",
    "print(kalimat.upper())\n",
    "print(kalimat.count('a'))"
   ]
  },
  {
   "cell_type": "markdown",
   "metadata": {},
   "source": [
    "## Latihan Mandiri\n",
    "1. Lakukan proses operasi string pada teks di bawah ini:\n",
    "\n",
    "Kata algoritma berasal dari nama seorang ahli matematika dari Uzbekistan bernama Abu Abdullah Muhammad Ibn Musa al-Khwarizmi (770-840 M) yang menulis kitab Al Jabr wa ’Al-muqabala (rules of restoration and reduction) sekitar tahun 825 M. Di dalam literatur barat dia lebih terkenal dengan sebutan Algorizm. Panggilan inilah yang kemudian dipakai untuk menyebut konsep algoritma yang ditemukannya. \n",
    "\n",
    "2. Lakukan proses-proses string yang diperlukan, kemudian lakukan split pada teks di bawah ini dan simpanlah dalam listKata. Cobalah hitung ada berapa kata 'algoritma', 'yang', 'atau', 'sistematis', 'logis' dalam teks di bawah ini.\n",
    "\n",
    "Agoritma adalah prosedur sistematis untuk memecahkan masalah matematis dalam langkah-langkah terbatas; atau urutan logis pengambilan keputusan untuk pemecahan masalah. Sekumpulan langkah sistematis bermakna bahwa algoritma tersusun atas langkah-langkah yang mengikuti suatu urutan atau pola tertentu dan tidak melompat-lompat atau acak. Urutan pemecahan masalah yang dibuat oleh seseorang bisa berbeda dengan orang lain asalkan memenuhi prinsip kedua (logis) dan menghasilkan keluaran yang sama dalam penyelesaian suatu masalah. Logis bermakna bahwa algoritma tidak saja dapat dipahami oleh satu pihak (penyusun algoritma) melainkan juga dapat dipahami bahkan diuji kebenarannya oleh pihak lain. Dengan demikian, algoritma dapat dikatakan benar apabila ada pihak lain yang dapat membaca, menggunakan hingga menghasilkan suatu solusi yang sama dengan solusi yang dihasilkan oleh pembuat algoritma. \n",
    "Oleh karena sebuah algoritma harus dapat dipahami dan diuji oleh pihak lain, maka sebuah algoritma harus diwujudkan dalam bentuk tulisan (bukan hanya lisan atau dalam pemikiran seseorang saja) dan ditulis dengan sebuah aturan tertentu. Algoritma hanya untuk menyelesaikan suatu masalah tertentu yang berarti tidak semua masalah dapat diselesaikan dengan sebuah algoritma karena sebuah algoritma umumnya disusun untuk suatu masalah spesifik. Masalah lain dengan karakteristik yang sama dengan masalah awal saja yang dapat diselesaikan dengan sebuah algoritma. Namun demikian, algoritma yang bersifat umum, dapat diterapkan untuk berbagai kasus masalah dengan melakukan modifikasi."
   ]
  }
 ],
 "metadata": {
  "kernelspec": {
   "display_name": "Python 3",
   "language": "python",
   "name": "python3"
  },
  "language_info": {
   "codemirror_mode": {
    "name": "ipython",
    "version": 3
   },
   "file_extension": ".py",
   "mimetype": "text/x-python",
   "name": "python",
   "nbconvert_exporter": "python",
   "pygments_lexer": "ipython3",
   "version": "3.9.10"
  }
 },
 "nbformat": 4,
 "nbformat_minor": 2
}
