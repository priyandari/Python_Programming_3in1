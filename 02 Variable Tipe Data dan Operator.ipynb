{
 "cells": [
  {
   "cell_type": "markdown",
   "metadata": {},
   "source": [
    "## 1. Identifier (Pengenal)"
   ]
  },
  {
   "attachments": {},
   "cell_type": "markdown",
   "metadata": {},
   "source": [
    "* Setiap objek pasti mempunyai nama (pengenal, _identifier_). \n",
    "* Nama diberikan agar objek tersebut mudah dikenal dan dibedakan dari objek lainnya. \n",
    "* Pada pemrograman, nama dipakai sebagai pengenal bagi “suatu objek (variabel, konstanta, parameter, fungsi, class, properti, dan lain-lain)”.\n",
    "* Program berinteraksi dengan “sesuatu objek” melalui pemanggilan nama objek . \n",
    "* Setiap nama objek haruslah unik, tidak boleh ada dua buah nama yang sama."
   ]
  },
  {
   "attachments": {},
   "cell_type": "markdown",
   "metadata": {},
   "source": [
    "#### Aturan penamaan\n",
    "* Nama harus dimulai dengan huruf, tidak boleh dimulai dengan angka, spasi, atau karakter khusus lainnya\n",
    "* Karakter berikutnya dapat berupa huruf, angka, atau garis bawah ( _ )\n",
    "* Karakter di dalam nama tidak boleh berupa operator aritmatika, operator relasional, tanda baca dan karakter khusus lain. Contoh tidak boleh berupa +/*-\"';:@#.\n",
    "* Panjang karakter boleh berapa saja, hingga maksimal 256 karakter\n",
    "* Huruf besar dan huruf kecil dianggap berbeda (_case sensitivity_) atau bisa juga sama tergantung pada aturan pada setiap program yang digunakan.\n",
    "* Karakter-karakter di dalam nama tidak boleh dipisah dengan spasi. Spasi dapat diganti dengan garis bawah."
   ]
  },
  {
   "attachments": {},
   "cell_type": "markdown",
   "metadata": {},
   "source": [
    ">[TODO]. Pelajari apa perbedaan istilah __variabel__, __konstanta__, dan __parameter__ ?"
   ]
  },
  {
   "attachments": {},
   "cell_type": "markdown",
   "metadata": {},
   "source": [
    "#### Pemberian Nilai pada Variable (Assignment)"
   ]
  },
  {
   "attachments": {},
   "cell_type": "markdown",
   "metadata": {},
   "source": [
    "Pemberian nilai pada suatu  variable mengikuti kaidah berikut :\n",
    "\n",
    "< variable > = < expression >\n",
    "\n",
    "Aturan penulisan nama pada variable mengikuti kaidah yang dijelaskan pada aturan penulisan  identifier atau Pengenal\n",
    "\n",
    "Contoh:\n",
    "```python\n",
    "nama = 'Yusuf' \n",
    "tinggi = 167\n",
    "berat_badan = 66\n",
    "ukuran_kacamata = -1.75\n",
    "```"
   ]
  },
  {
   "attachments": {},
   "cell_type": "markdown",
   "metadata": {},
   "source": [
    "#### Print (Output)\n",
    "Menampilkan isi suatu variabel menggunakan perintah `print`.\n",
    "```python\n",
    "print(nama)\n",
    "print(tinggi)\n",
    "print(ukuran_kacamata)\n",
    "```\n",
    "Perintah `print` menampilkan output satu-persatu, dan dapat dimodifikasi dengan menggunakan tanda penggabungan `, ` untuk menggabungkan variabel atau format `f dan { }`. COntoh:\n",
    "```python\n",
    "print(nama, \" tinggi\", tinggi, \" cm\")\n",
    "print(f\"{nama} tinggi {tinggi} cm\")\n",
    "```"
   ]
  },
  {
   "cell_type": "code",
   "execution_count": null,
   "metadata": {},
   "outputs": [],
   "source": [
    "nama = 'Yusuf' \n",
    "tinggi = 166\n",
    "berat_badan = 66\n",
    "ukuran_kacamata = -1.75\n",
    "print(nama, \"tinggi\", tinggi,\"cm\")\n",
    "print(f\"{nama} tinggi {tinggi}cm\") # Perhatikan perbedaan hasil tampilan"
   ]
  },
  {
   "attachments": {},
   "cell_type": "markdown",
   "metadata": {},
   "source": [
    "#### Penulisan Komentar (Comment)\n",
    "__Komentar atau comments__ adalah baris-baris dalam program yang tidak akan dijalankan (diesksekusi) oleh bahasa program. Komentar digunakan sebagai informasi untuk memudahkan _programmer_ mengingat fungsi baris-baris perintah yang dituliskan atau memberi catatan jika ada bagian program yang belum diselesaikan.\n",
    "\n",
    "```python\n",
    "# Komentar diawali dengan tanda #\n",
    "# Baris komentar ini tidak dieksekusi\n",
    "print(\"Baris program yang dieksekusi.\")\n",
    "nilai_ipk = 2.75\n",
    "print(\"IPK\", nilai_ipk, \"perlu ditingkatkan\") # Perhatikan cara menggabungkan teks dan variabel\n",
    "# Beberapa print dengan format khusus dibahas pada bagian string.\n",
    "```\n",
    "\n",
    "Jika contoh di atas komentar untuk setiap baris, komentar bisa juga ditulis dalam blok khusus sehingga berisi kalimat panjang atau paragraf.\n",
    "```python\n",
    "\"\"\" \n",
    "Komentar multi baris\n",
    "Bisa menuliskan beberapa baris sekaligus\n",
    "dan baris ini tidak akan dieksekusi\n",
    "\"\"\"\n",
    "print(\"Baris terakhir dieksekusi\")\n",
    "```"
   ]
  },
  {
   "cell_type": "markdown",
   "metadata": {},
   "source": [
    "## 2. Tipe Data"
   ]
  },
  {
   "attachments": {},
   "cell_type": "markdown",
   "metadata": {},
   "source": [
    "Fungsi memahami tipe data:\n",
    "* Memastikan data yang tersimpan bernilai benar __sesuai tujuan__. Misal, menyimpan nilai ujian tidak boleh tipe data bilangan bulat karena kemungkinan nilai berupa desimal (pecahan), menyimpan nomer telepon sebaiknya berupa tipe string karena ada kemungkinan pengguna menuliskan _0812345678_ diawali dengan _0 atau nol_. \n",
    "* Menjamin sebuah data dapat tersimpan dalam suatu variabel karena __adanya batasan rentang/jangkauan__ setiap tipe data. Contoh, pada bahasa program tertentu, ada tipe data yang hanya bisa menyimpan nilai bilangan bulat dari 0 s.d. 255, ada yang bisa menyimpan nilai bilangan bulat antara −2,147,483,648 sampai +2,147,483,647.\n",
    "* __Efisiensi memori__ program dikarenakan setiap tipe data memiliki __besaran (_size_)__ penggunaan memori komputer yang berbeda. \n",
    "\n",
    "Sesi ini akan dibahas tipe data sederhana, yakni __String, Numerik (integer dan float), dan Boolean__."
   ]
  },
  {
   "attachments": {},
   "cell_type": "markdown",
   "metadata": {},
   "source": [
    "### 2.1 String\n",
    "__String__ digunakan untuk mengekspresikan atau menyimpan suatu nilai teks, misal nama, alamat, nama mata kuliah, judul buku, kalimat dan banyak hal lainnya.\n",
    "\n",
    "Contoh data string :\n",
    "\n",
    "'Priyandari', 'Gang Senden 1, Ds. Sorogenen, Kalasan', 'Program Komputer'"
   ]
  },
  {
   "attachments": {},
   "cell_type": "markdown",
   "metadata": {},
   "source": [
    "#### Praktek penulisan dan penampilan luaran tipe data string"
   ]
  },
  {
   "cell_type": "code",
   "execution_count": null,
   "metadata": {},
   "outputs": [],
   "source": [
    "# Menuliskan varibel tipe String.\n",
    "nama_teman = \"Milla Guftiana\"\n",
    "pesan = \"Ketika hari terlihat mendung, bawalah payung.\"\n",
    "nomor_hp = \"+6282123456789\"\n",
    "kecamatan = \"Batu\"\n",
    "kabupaten = \"Malang\"\n",
    "# Menampilkan string\n",
    "print(nama_teman)\n",
    "print(\"Isi pesan :\", pesan)\n",
    "print(\"__Informasi detail__\")\n",
    "print(f\" No.Hp :{nomor_hp}, Alamat: {kecamatan}, {kabupaten}\")"
   ]
  },
  {
   "cell_type": "code",
   "execution_count": null,
   "metadata": {},
   "outputs": [],
   "source": [
    "# Menggunakan tambahan fungsi format huruf\n",
    "print(f\"Pesan sopan : {pesan}\")\n",
    "print(f\"Pesan perhatian : {pesan.title()}\")\n",
    "print(f\"Pesan TEGAS : {pesan.upper()}\")"
   ]
  },
  {
   "attachments": {},
   "cell_type": "markdown",
   "metadata": {},
   "source": [
    "#### Penambahan spasi dan tab pada String\n",
    "Terkadang diperlukan hasil tampilan string ditambah spasi atau tab agar menjorok ke dalam atau lebih rapi.\n",
    "```python\n",
    "print(\"Bahasa pemrograman antara lain:\\tPython,\\tPHP,\\tVisual.Net,\\tRubby\")\n",
    "print(\"Bahasa pemrograman antara lain:\\n\\tPython,\\n\\tPHP,\\n\\tVisual.Net,\\n\\tRubby\")\n",
    "```"
   ]
  },
  {
   "cell_type": "code",
   "execution_count": null,
   "metadata": {},
   "outputs": [],
   "source": [
    "print(\"Bahasa pemrograman antara lain:\\tPython,\\tPHP,\\tVisual.Net,\\tRubby\")\n",
    "print(\"Bahasa pemrograman antara lain:\\n\\tPython,\\n\\tPHP,\\n\\tVisual.Net,\\n\\tRubby\")"
   ]
  },
  {
   "attachments": {},
   "cell_type": "markdown",
   "metadata": {},
   "source": [
    "> [!TODO] \n",
    "Bagaimana cara memberikan nilai (_assign_) dan menampilkan variabel pada kasus:\n",
    "1. Nama yang mengandung tanda petik, contohnya Syafe'i \n",
    "2. Variabel yang berisi tanda %, contohnya: persentase lulus 85%\n",
    "3. Pesan dengan tanda petik ganda dan tunggal, contohnya: ibu berpesan \"hati-hati di perjalanan ya, Syafe'i\""
   ]
  },
  {
   "cell_type": "code",
   "execution_count": null,
   "metadata": {},
   "outputs": [],
   "source": [
    "nama_teman2 = \"Muhammad Syafe'i\"\n",
    "persetase_lulus = \"85%\"\n",
    "print(nama_teman2)\n",
    "print(persetase_lulus)\n",
    "pesan_ibu = '\"hati-hati di perjalanan ya Syafe\\'i\"'\n",
    "print(f\"Pesan ibu : {pesan_ibu}\")"
   ]
  },
  {
   "attachments": {},
   "cell_type": "markdown",
   "metadata": {},
   "source": [
    "### 2.2 Tipe Data Numerik"
   ]
  },
  {
   "attachments": {},
   "cell_type": "markdown",
   "metadata": {},
   "source": [
    "Ada dua bentuk tipe data numerik di python, <b>integer</b> dan <b>floating</b>.\n",
    "\n",
    "Contoh integer : ..., -3, -2, -1, 0, 1, 2, 3, ...\n",
    "\n",
    "Integer biasa digunakan untuk mengekspresikan hal-hal berikut:\n",
    "* Jumlah orang dalam suatu ruangan\n",
    "* score dalam suatu pertandingan olah raga\n",
    "\n",
    "Contoh floating : 2.0, 3.1, -2.4\n",
    "\n",
    "Float bisa digunakan untuk mengekspresikan hal-hal berikut:\n",
    "* Nilai perkuliahan, atau nilai rata-rata perkuliahan\n",
    "* Harga produk\n",
    "* Persentase\n"
   ]
  },
  {
   "attachments": {},
   "cell_type": "markdown",
   "metadata": {},
   "source": [
    "#### Assigment Varibel bertipe Numerik\n",
    "Contoh pemberian nilai numerik pada variabel\n",
    "```python\n",
    "jumlah_ujian = 3\n",
    "nilai_quiz = 87.45\n",
    "nilai_uts = 80\n",
    "nilai_uas = 87\n",
    "nilai_akhir = (nilai_quiz+nilai_uts+nilai_uas)/jumlah_ujian\n",
    "``` \n",
    "\n",
    "#### Assigment Konstanta bertipe Numerik\n",
    "Konstanta dianjurkan menggunakan huruf kapital\n",
    "```python\n",
    "PI = 3.14\n",
    "MAX_ITERASI = 7\n",
    "```\n",
    "\n",
    "#### Assigment pada beberapa variabel bersamaan\n",
    "```python\n",
    "Nilai1, Nilai2, Nilai3 = 87.5, 80, 87\n",
    "```\n",
    "\n",
    "#### Assigment nilai besar\n",
    "```python\n",
    "deposito = 7_500_000_000\n",
    "```\n",
    "\n",
    "#### Hasil operasi pada tipe data suatu variabel\n",
    "__Pembagian__ selalu menghasilkan nilai bertipe float.\n",
    "```python\n",
    "Nilai2 = 80\n",
    "nilai_akhir = (Nilai2)/2\n",
    "```\n",
    "\n",
    "Operasi aritmatika antara integer dan float menghasilkan nilai float\n",
    "```python\n",
    "Nilai1, Nilai2 = 87.5, 80\n",
    "total_nilai = Nilai1+Nilai2\n",
    "```\n"
   ]
  },
  {
   "attachments": {},
   "cell_type": "markdown",
   "metadata": {},
   "source": [
    "#### Memeriksa Tipe Data suatu variabel\n",
    "Setiap variabel di Python, pada prinsipnya adalah objek yang memiliki tipe data atau properti. Untuk memeriksa tipe data bisa digunakan perintah `print(type(nama_variabel))`."
   ]
  },
  {
   "cell_type": "code",
   "execution_count": null,
   "metadata": {},
   "outputs": [],
   "source": [
    "tinggi = 167\n",
    "MAX_ITERASI = 7\n",
    "nilai = 87.5\n",
    "nilai_angka = 'A-'\n",
    "lulus = True\n",
    "print(type(tinggi))\n",
    "print(type(MAX_ITERASI))\n",
    "print(type(nilai))\n",
    "print(type(nilai_angka))\n",
    "print(type(lulus))"
   ]
  },
  {
   "attachments": {},
   "cell_type": "markdown",
   "metadata": {},
   "source": [
    "#### Casting - Konversi Tipe Data\n",
    "Berbeda dengan beberapa program lain, Python __tidak harus__ mendefinisikan terlebih dahulu tipe data suatu variabel.\n",
    "\n",
    "Setiap __input nilai dari pengguna__, selalu ber-tipe data string. Oleh karena itu, jika dimaksudkan untuk input berupa numerik, maka perlu dilakukan casting atau konversi ke tipe data yang diperlukan."
   ]
  },
  {
   "cell_type": "code",
   "execution_count": null,
   "metadata": {},
   "outputs": [],
   "source": [
    "nama = input(\"Tuliskan nama : \")\n",
    "tinggi = float(input(\"Tuliskan tinggi : \"))\n",
    "kehadiran = int(input(\"Jumlah kehadiran : \"))\n",
    "lulus = bool(input(\"Apakah lulus (y=True/enter=False) : \"))\n",
    "print(type(nama))\n",
    "print(type(tinggi))\n",
    "print(type(kehadiran))\n",
    "print(type(lulus))\n",
    "print(lulus)"
   ]
  },
  {
   "attachments": {},
   "cell_type": "markdown",
   "metadata": {},
   "source": [
    "#### Generate Angka Random\n",
    "Terkadang diperlukan membuat angka random. "
   ]
  },
  {
   "cell_type": "code",
   "execution_count": null,
   "metadata": {},
   "outputs": [],
   "source": [
    "import random\n",
    "\n",
    "# Menghasilkan bilangan random bertipe integer antara 1 s.d. 100\n",
    "x = random.randrange(1,100) \n",
    "print(x)\n",
    "print(type(x))\n",
    "# Menghasilkan bilangan random bertipe float antara 0 s.d. 1\n",
    "y = random.random()\n",
    "print(y)\n",
    "print(type(y))\n",
    "# Menghasilkan bilangan random bertipe float antara nilai tertentu\n",
    "z = random.uniform(2.5,5.5)\n",
    "print(z)\n",
    "print(type(z))\n",
    "# Jika menginginkan hasil random float dan 2 digit desimal\n",
    "print(round(z, 2))"
   ]
  },
  {
   "cell_type": "markdown",
   "metadata": {},
   "source": [
    "### 2.3. Booleans"
   ]
  },
  {
   "attachments": {},
   "cell_type": "markdown",
   "metadata": {},
   "source": [
    "__Boolean__ adalah tipe data yang hanya dapat menyimpan dua bentuk nilai, <b>True</b> atau <b>False</b>.\n",
    "\n",
    "Beberapa contoh penggunaan tipe data boolean adalah:\n",
    "*  Kondisi lampu: Hidup (True) atau Mati (False)\n",
    "*  Status jawaban benar atau salah\n",
    "```python\n",
    "Answ1 = True\n",
    "Answ2 = False\n",
    "lulus = bool(input(\"Apakah lulus (y=True/enter=False) : \"))\n",
    "print(type(lulus))\n",
    "print(lulus)\n",
    "```"
   ]
  },
  {
   "attachments": {},
   "cell_type": "markdown",
   "metadata": {},
   "source": [
    "## 3. Operators"
   ]
  },
  {
   "attachments": {},
   "cell_type": "markdown",
   "metadata": {},
   "source": [
    "__Operator__ adalah simbol yang digunakan melakukan suatu proses (perintah/transformasi) pada satu atau beberapa variabel. Operator yang sering digunakan :\n",
    "* Operator Aritmatika\n",
    "* Operator Komparasi\n",
    "* Operator Logika\n",
    "* Operator Bitwise\n",
    "* Operator Assignment\n",
    "* Operator Identitas\n",
    "* Operator Keanggotaan\n",
    "\n",
    "Selain mengenal jenis dan penggunaan operator, harus juga diketahui __tingkat urutan (precedence)__ pengoperasian suatu operator agar bisa dilakukan __validasi__ apakah luaran program sama dengan yang diharapkan atau jika dilakukan secara manual."
   ]
  },
  {
   "attachments": {},
   "cell_type": "markdown",
   "metadata": {},
   "source": [
    "### Operator Artimatika\n",
    "<img src=\"images/operator_aritmatika.jpg\">"
   ]
  },
  {
   "cell_type": "code",
   "execution_count": null,
   "metadata": {},
   "outputs": [],
   "source": [
    "print(53 // 24)\n",
    "print(53 % 24) \n",
    "print(17 // 10)"
   ]
  },
  {
   "attachments": {},
   "cell_type": "markdown",
   "metadata": {},
   "source": [
    "#### Oprator Komparasi\n",
    "![Alt text](images/operator_comparison.jpg)"
   ]
  },
  {
   "cell_type": "code",
   "execution_count": null,
   "metadata": {},
   "outputs": [],
   "source": [
    "x = 5\n",
    "y = 3\n",
    "print(x == y)\n",
    "print(x != y)\n",
    "print(x >= y)"
   ]
  },
  {
   "attachments": {},
   "cell_type": "markdown",
   "metadata": {},
   "source": [
    "#### Operator Logika\n",
    "![Alt text](images/operator_logika.png)"
   ]
  },
  {
   "cell_type": "code",
   "execution_count": null,
   "metadata": {},
   "outputs": [],
   "source": [
    "x = 5\n",
    "# Apa hasil proses di bawah ini?\n",
    "print(x > 3 and x < 10)\n",
    "print(x > 3 or x < 4)"
   ]
  },
  {
   "attachments": {},
   "cell_type": "markdown",
   "metadata": {},
   "source": [
    "#### Operator Bitwise (Komparasi Bit)\n",
    "![Alt text](images/operator_bitwise.png)"
   ]
  },
  {
   "cell_type": "code",
   "execution_count": null,
   "metadata": {},
   "outputs": [],
   "source": [
    "print(6 & 3)\n",
    "print(6 | 3)\n",
    "\"\"\"\n",
    "Operator & mengkomparasi/membandingkan setiap bit \n",
    "dan memberi nilai 1 jika kedua nilai yang dibandingkan bernilai 1, \n",
    "dan sebaliknya diberi nilai 0:\n",
    "\n",
    "6 = 0000000000000110\n",
    "3 = 0000000000000011\n",
    "--------------------\n",
    "2 = 0000000000000010\n",
    "====================\n",
    "\n",
    "Operator | mengkomparasi/membandingkan setiap bit \n",
    "dan memberi nilai 1 jika salah satu nilai yang dibandingkan bernilai 1, \n",
    "dan sebaliknya diberi nilai 0 jika kedua nilai yang dibandingkan adalah 0:\n",
    "\n",
    "6 = 0000000000000110\n",
    "3 = 0000000000000011\n",
    "--------------------\n",
    "7 = 0000000000000111\n",
    "====================\n",
    "\n",
    "Bilangan desimal dan nilai binary:\n",
    "0 = 0000000000000000\n",
    "1 = 0000000000000001\n",
    "2 = 0000000000000010\n",
    "3 = 0000000000000011\n",
    "4 = 0000000000000100\n",
    "5 = 0000000000000101\n",
    "6 = 0000000000000110\n",
    "7 = 0000000000000111\n",
    "\"\"\""
   ]
  },
  {
   "cell_type": "code",
   "execution_count": null,
   "metadata": {},
   "outputs": [],
   "source": [
    "print(~3)\n",
    "\"\"\"\n",
    "Operator ~ meng-invert setiap bit (0 menjadi 1, dan 1 menjadi 0).\n",
    "\n",
    "Meng-inversi 3 menjadi -4, perhatikan inversi bit:\n",
    " 3 = 0000000000000011\n",
    "-4 = 1111111111111100\n",
    "\n",
    "Bilangan desimal dan nilai bit-nya:\n",
    " 4 = 0000000000000100\n",
    " 3 = 0000000000000011\n",
    " 2 = 0000000000000010\n",
    " 1 = 0000000000000001\n",
    " 0 = 0000000000000000\n",
    "-1 = 1111111111111111\n",
    "-2 = 1111111111111110\n",
    "-3 = 1111111111111101\n",
    "-4 = 1111111111111100\n",
    "\"\"\""
   ]
  },
  {
   "attachments": {},
   "cell_type": "markdown",
   "metadata": {},
   "source": [
    "#### Operator Assigment\n",
    "![Alt text](images/operator_assigment.jpg)"
   ]
  },
  {
   "cell_type": "code",
   "execution_count": null,
   "metadata": {},
   "outputs": [],
   "source": [
    "x = 5\n",
    "x += 3\n",
    "print(x)\n",
    "x *= 3\n",
    "print(x)\n",
    "# Selanjutnya berapa hasil proses di bawah ini?\n",
    "x |= 3\n",
    "# print(x)\n",
    "x &= 3\n",
    "# print(x)"
   ]
  },
  {
   "attachments": {},
   "cell_type": "markdown",
   "metadata": {},
   "source": [
    "#### Operator Identitas\n",
    "![Alt text](images/operator_indentitas.png)"
   ]
  },
  {
   "cell_type": "code",
   "execution_count": null,
   "metadata": {},
   "outputs": [],
   "source": [
    "x = [\"samsung\", \"oppo\"]\n",
    "y = [\"samsung\", \"oppo\"]\n",
    "z = x\n",
    "\n",
    "print(x is z)\n",
    "# True karena z is (adalah) objek yang sama dengan x\n",
    "\n",
    "print(x is y)\n",
    "# False karena x is not (bukanlah) objek yang sama dengan y, meskipun memiliki data yang sama\n",
    "\n",
    "print(x == y)\n",
    "# True karena data di dalam x sama dengan data pada y\n",
    "# Operator \"is\" dan \"==\", memiliki perbedaan makna."
   ]
  },
  {
   "attachments": {},
   "cell_type": "markdown",
   "metadata": {},
   "source": [
    "#### Operator Keanggotaan\n",
    "![Alt text](images/operator_keanggotaan.png)"
   ]
  },
  {
   "cell_type": "code",
   "execution_count": null,
   "metadata": {},
   "outputs": [],
   "source": [
    "x = [\"samsung\", \"oppo\"]\n",
    "\n",
    "print(\"oppo\" in x)"
   ]
  },
  {
   "attachments": {},
   "cell_type": "markdown",
   "metadata": {},
   "source": [
    "## 4. Latihan Implementasi Diagram Alir menjadi Program"
   ]
  },
  {
   "cell_type": "code",
   "execution_count": null,
   "metadata": {},
   "outputs": [],
   "source": [
    "# Menghitung luas persegi empat\n",
    "# Inisiasi variabel\n",
    "panjang = 0\n",
    "lebar = 0\n",
    "luas =0\n",
    "\"\"\"\n",
    "Program python memberikan kemudahan \n",
    "untuk tidak harus melakukan inisiasi tipe data dan \n",
    "pemberian inisiasi nilai awal\n",
    "\"\"\"\n",
    "\n",
    "# Pemberian (assigment) nilai variable\n",
    "panjang = 120.0\n",
    "lebar = 65\n",
    "\n",
    "# Proses\n",
    "luas = panjang * lebar\n",
    "\n",
    "# Output/Menampilkan hasil\n",
    "print('panjang : ', panjang)\n",
    "print('lebar : ', lebar)\n",
    "print('Luas persegi panjang : ', luas)"
   ]
  },
  {
   "cell_type": "code",
   "execution_count": null,
   "metadata": {},
   "outputs": [],
   "source": [
    "# Menghitung Upah Pekerja \n",
    "# Inisiasi sekaligus assignment (pemberian nilai)\n",
    "upah_perjam = 10000.0\n",
    "jam_kerja = float(input(\"jam kerja seminggu :\"))\n",
    "\n",
    "# Proses\n",
    "honor = upah_perjam * jam_kerja\n",
    "\n",
    "# Output atau hasil program\n",
    "print('Bekerja selama', jam_kerja, 'jam, dibayar sebesar', honor)"
   ]
  }
 ],
 "metadata": {
  "kernelspec": {
   "display_name": "Python 3",
   "language": "python",
   "name": "python3"
  },
  "language_info": {
   "codemirror_mode": {
    "name": "ipython",
    "version": 3
   },
   "file_extension": ".py",
   "mimetype": "text/x-python",
   "name": "python",
   "nbconvert_exporter": "python",
   "pygments_lexer": "ipython3",
   "version": "3.9.10"
  }
 },
 "nbformat": 4,
 "nbformat_minor": 2
}
