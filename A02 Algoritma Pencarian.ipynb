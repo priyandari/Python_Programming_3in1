{
 "cells": [
  {
   "attachments": {},
   "cell_type": "markdown",
   "metadata": {},
   "source": [
    "# Pencarian Data"
   ]
  },
  {
   "attachments": {},
   "cell_type": "markdown",
   "metadata": {},
   "source": [
    "Memahami algoritma-algoritma dasar adalah penting bagi programmer karena algoritma-algoritma itu menjadi dasar bagi banyak algoritma dan struktur data yang lebih kompleks serta memungkinkan programmer untuk menyelesaikan berbagai masalah pemrograman dengan lebih efisien."
   ]
  },
  {
   "attachments": {},
   "cell_type": "markdown",
   "metadata": {},
   "source": [
    "\n",
    "Beberapa algoritma pencarian yang perlu dipelajari:\n",
    "\n",
    "#### 1. Linear Search (Pencarian Linear):\n",
    "\n",
    "> Algoritma ini sederhana dan langsung maju dari awal hingga akhir list atau array untuk mencari elemen yang diinginkan. \n",
    "\n",
    "> Walaupun sederhana, efisiensi pencariannya adalah O(n), di mana n adalah jumlah elemen dalam list.\n",
    "\n",
    "##### 1.1 Jump Search (Pencarian Loncat):\n",
    "\n",
    "> Algoritma ini mirip dengan pencarian linier, tetapi dengan mengambil langkah 'loncat' dalam rentang terurut dari elemen.\n",
    "\n",
    "> Langkah loncat dilakukan dengan memilih elemen yang berselisih sekitar akar kuadrat dari panjang list sebagai titik loncat.\n",
    "\n",
    "> Setelah elemen yang lebih besar dari atau sama dengan elemen yang dicari ditemukan, pencarian linier dilakukan dalam blok yang sesuai.\n",
    "\n",
    "> Algoritma bekerja dengan baik pada data terurut, dengan kompleksitas waktu O(√n).\n",
    "\n",
    "#### 2. Binary Search (Pencarian Biner):\n",
    "\n",
    "> Algoritma ini hanya berfungsi pada data yang terurut, baik dalam bentuk list atau array.\n",
    "\n",
    "> Membandingkan elemen tengah dengan elemen yang dicari dan kemudian menentukan apakah harus mencari di setengah atas atau setengah bawah array.\n",
    "\n",
    "> Efisiensi pencarian ini adalah O(log n), yang jauh lebih cepat daripada pencarian linear untuk list yang besar.\n",
    "\n",
    "##### 2.1. Interpolation Search (Pencarian Interpolasi):\n",
    "\n",
    "> Algoritma ini mirip dengan pencarian biner tetapi cocok untuk data yang terdistribusi secara merata dan terurut dengan baik.\n",
    "\n",
    "> Berbeda dengan pencarian biner yang menggunakan pemisahan nilai tengah untuk memperkecil rentang pencarian, interpolasi search menggunakan interpolasi linier untuk memperkirakan posisi target.\n",
    "\n",
    "> Algoritma bekerja lebih baik pada data yang berurutan secara teratur, di mana perbedaan antara elemen-elemen berturut-turut relatif konsisten.\n",
    "\n",
    "> Kompleksitas waktu rata-rata algoritma ini adalah O(log log n) dalam kasus terbaik dan O(n) dalam kasus terburuk.\n",
    "\n",
    "##### 2.2. Exponential Search (Pencarian Eksponensial):\n",
    "\n",
    "> Algoritma ini adalah variasi dari pencarian biner, tetapi dimulai dengan langkah-langkah eksponensial untuk menemukan rentang yang mungkin mengandung elemen yang dicari.\n",
    "\n",
    "> Langkah-langkah eksponensial dilakukan hingga batas atas dari rentang (yaitu, elemen yang dieksplorasi) lebih besar daripada elemen yang dicari. \n",
    "\n",
    "> Setelah rentang ditemukan, pencarian biner biasa diterapkan dalam rentang tersebut.\n",
    "\n",
    "> Algoritma bekerja efisien pada data terurut, dengan kompleksitas waktu O(log n).\n",
    "\n",
    "##### 2.3. Ternary Search (Pencarian Ternary):\n",
    "\n",
    "> Algoritma ini adalah variasi dari pencarian biner di mana rentang pencarian dibagi menjadi tiga bagian, bukan dua.\n",
    "\n",
    "> Setiap langkah memeriksa apakah elemen yang dicari berada di sepertiga pertama, kedua, atau terakhir dari rentang.\n",
    "\n",
    "> Algoritma terus berlanjut secara rekursif pada bagian yang relevan sampai elemen ditemukan atau rentang berkurang menjadi satu elemen.\n",
    "\n",
    "> Algoritma bekerja pada data terurut, dengan kompleksitas waktu O(log3 n), yang sedikit lebih buruk daripada pencarian biner.\n",
    "\n",
    "#### 3. Depth-First Search (DFS) (Pencarian Dalam Kedalaman):\n",
    "\n",
    "> Digunakan untuk mencari atau melintasi struktur data berhierarki, seperti pohon atau grafik. \n",
    "\n",
    "> Algoritma ini menggunakan pendekatan rekursif atau stek untuk melintasi node dan menyelidiki setiap cabang sejauh mungkin sebelum mundur.\n",
    "> DFS tidak menjamin menemukan solusi terpendek, tetapi dapat digunakan untuk menemukan solusi dalam struktur data yang kompleks.\n",
    "\n",
    "##### 4. Breadth-First Search (BFS) (Pencarian Lebar):\n",
    "\n",
    "> Juga digunakan untuk melintasi struktur data berhierarki, tetapi dengan pendekatan berbeda dari DFS.\n",
    "\n",
    "> Algoritma ini mengeksplorasi semua node pada tingkat yang sama sebelum melanjutkan ke tingkat berikutnya.\n",
    "\n",
    "> Seperti DFS, BFS juga digunakan pada grafik dan pohon, tetapi cenderung memberikan solusi terpendek dalam masalah tertentu.\n",
    "\n",
    "##### 5. Binary Search Tree (BST) (Pohon Pencarian Biner):\n",
    "\n",
    "> BST adalah struktur data yang mengatur elemen-elemennya dalam struktur pohon di mana setiap node memiliki dua anak: satu di sebelah kiri (lebih kecil) dan satu di sebelah kanan (lebih besar).\n",
    "\n",
    "> Pencarian dalam BST sangat cepat dengan kompleksitas waktu O(log n) pada kasus rata-rata jika pohon seimbang.\n",
    "\n",
    "> Pada saat yang sama, BST memungkinkan penyisipan dan penghapusan elemen dalam waktu logaritmik yang relatif cepat."
   ]
  },
  {
   "attachments": {},
   "cell_type": "markdown",
   "metadata": {},
   "source": [
    "Pernyataan \"`O(n)`, `di mana n adalah jumlah elemen dalam list`\" merujuk pada __kompleksitas waktu algoritma__. __Notasi O(n)__ menunjukkan bahwa waktu yang dibutuhkan untuk menyelesaikan algoritma _secara linear bertambah sebanding dengan jumlah elemen dalam list_."
   ]
  },
  {
   "attachments": {},
   "cell_type": "markdown",
   "metadata": {},
   "source": [
    "### 1. Linear Search "
   ]
  },
  {
   "cell_type": "code",
   "execution_count": 1,
   "metadata": {},
   "outputs": [
    {
     "name": "stdout",
     "output_type": "stream",
     "text": [
      "Elemen 6 ditemukan pada indeks 5.\n"
     ]
    }
   ],
   "source": [
    "def linear_search(arr, target):\n",
    "    for i in range(len(arr)):\n",
    "        if arr[i] == target:\n",
    "            return i  # Mengembalikan indeks di mana elemen ditemukan\n",
    "    return -1  # Mengembalikan -1 jika elemen tidak ditemukan\n",
    "\n",
    "# Contoh penggunaan program\n",
    "data = [4, 7, 2, 9, 1, 6, 5]\n",
    "target_value = 6\n",
    "\n",
    "result = linear_search(data, target_value)\n",
    "\n",
    "if result != -1:\n",
    "    print(f\"Elemen {target_value} ditemukan pada indeks {result}.\")\n",
    "else:\n",
    "    print(f\"Elemen {target_value} tidak ditemukan dalam list.\")\n"
   ]
  },
  {
   "attachments": {},
   "cell_type": "markdown",
   "metadata": {},
   "source": [
    "Penjelasan:\n",
    "\n",
    "* Fungsi `linear_search(arr, target)` menerima dua __parameter__: `arr adalah list` yang akan dicari, dan `target adalah nilai yang dicari`.\n",
    "* Fungsi menggunakan loop for untuk mengiterasi melalui setiap elemen dalam list arr.\n",
    "* Pada setiap iterasi, fungsi memeriksa __apakah elemen saat ini sama dengan target__. Jika ya, fungsi __mengembalikan indeks__ di mana elemen tersebut ditemukan.\n",
    "* Jika tidak ada elemen yang cocok dengan target, fungsi mengembalikan -1.\n",
    "\n",
    "Contoh penggunaan program menunjukkan pencarian nilai 6 dalam list data. Jika nilai 6 ditemukan dalam list, program akan mencetak pesan yang menyatakan bahwa nilai tersebut ditemukan beserta indeksnya. Jika tidak, program akan mencetak pesan yang menyatakan bahwa nilai tersebut tidak ditemukan.\n",
    "\n",
    "\n",
    "\n",
    "\n"
   ]
  },
  {
   "attachments": {},
   "cell_type": "markdown",
   "metadata": {},
   "source": [
    "### 2. Binary Search\n",
    "\n",
    "Mensyaratkan array atau list harus dalam keadaan terurut."
   ]
  },
  {
   "cell_type": "code",
   "execution_count": 2,
   "metadata": {},
   "outputs": [
    {
     "name": "stdout",
     "output_type": "stream",
     "text": [
      "Elemen 11 ditemukan pada indeks 5.\n"
     ]
    }
   ],
   "source": [
    "def binary_search(arr, target):\n",
    "    left = 0\n",
    "    right = len(arr) - 1\n",
    "\n",
    "    while left <= right:\n",
    "        mid = (left + right) // 2\n",
    "        if arr[mid] == target:\n",
    "            return mid\n",
    "        elif arr[mid] < target:\n",
    "            left = mid + 1\n",
    "        else:\n",
    "            right = mid - 1\n",
    "\n",
    "    return -1\n",
    "\n",
    "# Contoh penggunaan program\n",
    "data = [1, 3, 5, 7, 9, 11, 13, 15, 17, 19]\n",
    "target_value = 11\n",
    "\n",
    "result = binary_search(data, target_value)\n",
    "\n",
    "if result != -1:\n",
    "    print(f\"Elemen {target_value} ditemukan pada indeks {result}.\")\n",
    "else:\n",
    "    print(f\"Elemen {target_value} tidak ditemukan dalam list.\")"
   ]
  },
  {
   "attachments": {},
   "cell_type": "markdown",
   "metadata": {},
   "source": [
    "Penjelasan:\n",
    "\n",
    "* Fungsi `binary_search(arr, target)` menerima _dua parameter_: `arr adalah list` yang akan dicari (list harus dalam keadaan terurut), dan `target adalah nilai yang dicari`.\n",
    "* Pada awalnya, dua pointer `left` dan `right` diatur untuk menunjuk ke indeks awal dan akhir dari list, yaitu 0 dan len(arr) - 1.\n",
    "* Selama `left` tidak lebih besar dari `right`, algoritma melakukan pencarian.\n",
    "* Di setiap iterasi, algoritma menghitung indeks tengah (`mid`) dari rentang pencarian saat ini dan memeriksa apakah elemen di indeks tengah tersebut sama dengan target.\n",
    "* Jika __elemen di indeks tengah adalah target__, maka __pencarian selesai__ dan fungsi mengembalikan indeks di mana elemen ditemukan.\n",
    "* Jika elemen di indeks tengah lebih kecil dari target, algoritma memperkecil rentang pencarian ke bagian kanan dari `mid` dengan mengubah nilai `left` menjadi `mid + 1`.\n",
    "* Jika elemen di indeks tengah lebih besar dari target, algoritma memperkecil rentang pencarian ke bagian kiri dari `mid` dengan mengubah nilai `right` menjadi `mid - 1`.\n",
    "* Jika tidak ada elemen dalam rentang pencarian yang sama dengan target, algoritma mengembalikan -1.\n",
    "\n",
    "Contoh penggunaan program menunjukkan pencarian nilai 11 dalam list data.\n",
    "Jika nilai 11 ditemukan dalam list, program akan mencetak pesan yang menyatakan bahwa nilai tersebut ditemukan beserta indeksnya. Jika tidak, program akan mencetak pesan yang menyatakan bahwa nilai tersebut tidak ditemukan."
   ]
  }
 ],
 "metadata": {
  "kernelspec": {
   "display_name": "python_programming_3in1",
   "language": "python",
   "name": "python3"
  },
  "language_info": {
   "codemirror_mode": {
    "name": "ipython",
    "version": 3
   },
   "file_extension": ".py",
   "mimetype": "text/x-python",
   "name": "python",
   "nbconvert_exporter": "python",
   "pygments_lexer": "ipython3",
   "version": "3.9.10"
  },
  "orig_nbformat": 4
 },
 "nbformat": 4,
 "nbformat_minor": 2
}
