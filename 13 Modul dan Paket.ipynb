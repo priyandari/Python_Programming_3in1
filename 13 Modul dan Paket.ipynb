{
 "cells": [
  {
   "attachments": {},
   "cell_type": "markdown",
   "metadata": {},
   "source": [
    "# Modul dan Paket\n",
    "\n",
    "__Modul (module)__ adalah kumpulan kode-kode program yang sejenis yang disimpan pada suatu file untuk dapat dipanggil atau digunakan oleh file lain.\n",
    "\n",
    "__Paket (packet)__ adalah suatu direktori atau subdirektori tertentu yang menyimpan atau menyatukan sekumpulan modul.\n",
    "\n",
    "Python memiliki modul-modul siap pakai atau biasa disebut _library_. Library dapat tersedia pada saat instalasi atau ditambahkan (_install_) sesuai kebutuhan. \n",
    "\n",
    "Programmer bisa juga membuat modul atau paket sesuai kebutuhan khusus."
   ]
  },
  {
   "attachments": {},
   "cell_type": "markdown",
   "metadata": {},
   "source": [
    "## 1. Membuat Modul\n",
    "\n",
    "Pembuatan modul hampir sama dengan membuat fungsi. Hanya saja kemudian fungsi tersebut disimpan dalam sebuah file `*.py`. Simpan fungsi di bawah ini dalam sebuah file `geometri.py`"
   ]
  },
  {
   "cell_type": "code",
   "execution_count": 1,
   "metadata": {},
   "outputs": [],
   "source": [
    "# nama file: geometri.py\n",
    "import math\n",
    "\n",
    "\n",
    "#luas lingkaran\n",
    "def luasLingkaran(r):\n",
    "    return math.pi * r**2\n",
    "\n",
    "\n",
    "#keliling lingkaran\n",
    "def kelilingLingkaran(r):\n",
    "    return 2*math.pi*r"
   ]
  },
  {
   "attachments": {},
   "cell_type": "markdown",
   "metadata": {},
   "source": [
    "## 2. Mengakses Modul\n",
    "\n",
    "#### 2.1. Menggunakan `import <namaModul>`\n",
    "\n",
    "Perintah `import <namaModul>` akan memanggil atau mengaktifkan semua fungsi dari modul yang dipanggil.\n",
    "\n",
    "Menggunakan fungsi yang tersimpan pada modul harus dengan format `<namaModul>.<namaFungsi()>`"
   ]
  },
  {
   "cell_type": "code",
   "execution_count": 2,
   "metadata": {},
   "outputs": [
    {
     "name": "stdout",
     "output_type": "stream",
     "text": [
      "153.93804002589985\n",
      "43.982297150257104\n"
     ]
    }
   ],
   "source": [
    "# namafile: modul_latihan1.py\n",
    "import geometri\n",
    "\n",
    "\n",
    "luaslink = geometri.luasLingkaran(7)\n",
    "kellink = geometri.kelilingLingkaran(7)\n",
    "print(luaslink)\n",
    "print(kellink)"
   ]
  },
  {
   "attachments": {},
   "cell_type": "markdown",
   "metadata": {},
   "source": [
    "Eksekusi program dari file modul_latihan1.py melalui __terminal__.\n",
    "\n",
    "> `python modul_latihan1.py`"
   ]
  },
  {
   "attachments": {},
   "cell_type": "markdown",
   "metadata": {},
   "source": [
    "![Alt text](images/modul_latihan1.jpg)"
   ]
  },
  {
   "attachments": {},
   "cell_type": "markdown",
   "metadata": {},
   "source": [
    "#### 2.2 Menggunakan `< from ... import ... >`\n",
    "\n",
    "Baris perintah `from ... import ...` dimaksudkan untuk mengakses fungsi tertentu pada modul.\n",
    "\n",
    "Apabila menggunakan perintah ini, nama modul tidak perlu mengawali nama fungsi yang akan dipanggil, cukup menggunakan printah `<namaFungsi()>`"
   ]
  },
  {
   "cell_type": "code",
   "execution_count": 3,
   "metadata": {},
   "outputs": [
    {
     "name": "stdout",
     "output_type": "stream",
     "text": [
      "615.7521601035994\n"
     ]
    }
   ],
   "source": [
    "# namafile: modul_latihan2.py\n",
    "from geometri import luasLingkaran\n",
    "\n",
    "\n",
    "luaslink = luasLingkaran(14)\n",
    "print(luaslink)\n"
   ]
  },
  {
   "attachments": {},
   "cell_type": "markdown",
   "metadata": {},
   "source": [
    "![Alt text](images/modul_latihan2.jpg)"
   ]
  },
  {
   "attachments": {},
   "cell_type": "markdown",
   "metadata": {},
   "source": [
    "#### 2.3. Penggunaan nama alias\n",
    "\n",
    "Jika nama modul cukup panjang, agar mudah menggunakan nama modul boleh disingkat dengan format penulisan `import <namaModul> as <namaSingkatModul>`."
   ]
  },
  {
   "cell_type": "code",
   "execution_count": 4,
   "metadata": {},
   "outputs": [
    {
     "name": "stdout",
     "output_type": "stream",
     "text": [
      "254.46900494077323\n",
      "56.548667764616276\n"
     ]
    }
   ],
   "source": [
    "# namafile: modul_latihan3.py\n",
    "import geometri as gm\n",
    "\n",
    "\n",
    "luaslink = gm.luasLingkaran(9)\n",
    "kellink = gm.kelilingLingkaran(9)\n",
    "print(luaslink)\n",
    "print(kellink)\n"
   ]
  },
  {
   "attachments": {},
   "cell_type": "markdown",
   "metadata": {},
   "source": [
    "![Alt text](images/modul_latihan3.jpg)"
   ]
  },
  {
   "attachments": {},
   "cell_type": "markdown",
   "metadata": {},
   "source": [
    "#### 2.4. Melihat Fungsi dalam Modul\n",
    "\n",
    "Gunakan perintah `dir(<namaModul>)` untuk melihat daftar fungsi, atribut, dan nama-nama variabel, kelas atau lainnya yang ada di dalam file modul yang dipanggil. Cukup jalankan melalui terminal perintah tersebut."
   ]
  },
  {
   "cell_type": "code",
   "execution_count": 9,
   "metadata": {},
   "outputs": [
    {
     "name": "stdout",
     "output_type": "stream",
     "text": [
      "['__builtins__', '__cached__', '__doc__', '__file__', '__loader__', '__name__', '__package__', '__spec__', 'kelilingLingkaran', 'luasLingkaran', 'math']\n"
     ]
    }
   ],
   "source": [
    "import geometri as gm\n",
    "\n",
    "\n",
    "print(dir(gm))"
   ]
  },
  {
   "attachments": {},
   "cell_type": "markdown",
   "metadata": {},
   "source": [
    "![Alt text](images/modul_latihan4_dir.jpg)"
   ]
  },
  {
   "attachments": {},
   "cell_type": "markdown",
   "metadata": {},
   "source": [
    "Perhatikan bahwa di dalam sebuah file python (`*.py`) __secara otomatis__ terdapat __properti__ (__atributes__) atau __variabel__ berupa `'__builtins__', '__cached__', '__doc__', '__file__', '__loader__', '__name__', '__package__', '__spec__'` meskipun kita tidak membuatnya.\n",
    "\n",
    "Pada bagian berikutnya, dibahas penggunaan variabel `__name__`."
   ]
  },
  {
   "attachments": {},
   "cell_type": "markdown",
   "metadata": {},
   "source": [
    "## 3. Blok Struktur Standard pada File Python \n",
    "\n",
    "Blok struktur yang baku atau standard pada python mengikuti kaidah berikut:"
   ]
  },
  {
   "attachments": {},
   "cell_type": "markdown",
   "metadata": {},
   "source": [
    "```python\n",
    "<import namaModul>\n",
    "\n",
    "<Assigment variabel Global atau Konstanta>\n",
    "\n",
    "def <namaFungsi>():\n",
    "    <blok ekspresi proses dalam fungsi>\n",
    "    return <nilaiBalikan>\n",
    "\n",
    "def main():\n",
    "    <blok UTAMA PROGRAM di File Ini>\n",
    "    <pemanggilan namaFungsi()>\n",
    "    ...\n",
    "    \n",
    "if __name__=='__main__':\n",
    "    main()\n",
    "```"
   ]
  },
  {
   "attachments": {},
   "cell_type": "markdown",
   "metadata": {},
   "source": [
    "[__PENJELASAN__]\n",
    "\n",
    "Blok program Python yang dimulai dengan `def main():` digunakan untuk mendefinisikan sebuah __fungsi utama__ atau _entry point_ dari program. Ini membantu dalam mengatur dan menjalankan kode utama program.\n",
    "\n",
    "Pernyataan `if __name__ == \"__main__\":` digunakan untuk memeriksa __apakah skrip Python dijalankan secara langsung__ atau __diimpor sebagai modul ke dalam skrip lain__. \n",
    "\n",
    "__Jika dijalankan langsung__, maka blok kode di dalamnya akan dieksekusi. Hal ini memungkinkan untuk memiliki bagian kode yang hanya dijalankan jika skrip dijalankan secara langsung, dan ini sering digunakan untuk memanggil fungsi utama, seperti main(), agar program dapat dijalankan dengan benar.\n",
    "\n",
    "__Jika file tersebut dijalankan dari file lain__ (dalam hal ini, __file bertindak sebagai modul__), maka variabel `__name__` di file modul tidak berisi nilai `__main__` melainkan berubah sesuai nama file atau nama modul yang dipanggil, dan akibatnya blok utama dari modul tidak akan dieksekusi. "
   ]
  },
  {
   "attachments": {},
   "cell_type": "markdown",
   "metadata": {},
   "source": [
    "Dengan demikian, adanya fungsi main di dalam file modul dapat dimanfaatkan untuk melakukan proses pengujian fungsi-fungsi di dalam file modul sebelum digunakan/dipanggil oleh file lain.\n",
    "\n",
    "Lakukan modifikasi file `geometri.py` dengan menambahkan sebuah fungsi menghitung luasTrapesium. Buat blok fungsi `def main()` dan blok `if __name__ == \"__main__\":`, dan ujilah fungsi menghtung luas trapesium sudah benar, dengan memanggil fungsi luasTrapesium() dari blok main() dan memasukkan argument sample. Verifikasi hasilnya dengan menghitung manual."
   ]
  },
  {
   "cell_type": "code",
   "execution_count": 5,
   "metadata": {},
   "outputs": [
    {
     "name": "stdout",
     "output_type": "stream",
     "text": [
      "150.0\n"
     ]
    }
   ],
   "source": [
    "# nama file: geometri.py\n",
    "import math\n",
    "\n",
    "\n",
    "#luas lingkaran\n",
    "def luasLingkaran(r):\n",
    "    return math.pi * r**2\n",
    "\n",
    "\n",
    "#keliling lingkaran\n",
    "def kelilingLingkaran(r):\n",
    "    return 2*math.pi*r\n",
    "\n",
    "\n",
    "#luas trapesium\n",
    "def luasTrapesium(a,b,t):\n",
    "    luas = 0.5 * (a+b) * t\n",
    "    return luas\n",
    "\n",
    "\n",
    "def main():\n",
    "    luastrapesium=luasTrapesium(10,20,10) #hasilnya yg benar harus 150 \n",
    "    print(luastrapesium)\n",
    "    \n",
    "\n",
    "if __name__==\"__main__\":\n",
    "    main()"
   ]
  },
  {
   "attachments": {},
   "cell_type": "markdown",
   "metadata": {},
   "source": [
    "Jika hasil sudah benar, buatlah file `modul_latihan4.py` yang mengimport modul gemoetri. Panggil fungsi mengitung luasLinkaran() dan luasTrapesium() dan berikan argument yang sesuai.\n",
    "Lihat, bahwa hasil menghitung luasTrepesium sesuai dengan argumen dari file pemanggail ini, bukan menjalankan pemanggilan fungsi dari dalam file modul."
   ]
  },
  {
   "cell_type": "code",
   "execution_count": 6,
   "metadata": {},
   "outputs": [
    {
     "name": "stdout",
     "output_type": "stream",
     "text": [
      "254.46900494077323\n",
      "75.0\n"
     ]
    }
   ],
   "source": [
    "# namafile: modul_latihan4.py\n",
    "import geometri as gm\n",
    "\n",
    "\n",
    "luaslink = gm.luasLingkaran(9)\n",
    "luastrapesium = gm.luasTrapesium(5,10,10)\n",
    "print(luaslink)\n",
    "print(luastrapesium)\n"
   ]
  },
  {
   "attachments": {},
   "cell_type": "markdown",
   "metadata": {},
   "source": [
    "![Alt text](images/modul_latihan4.jpg)"
   ]
  },
  {
   "attachments": {},
   "cell_type": "markdown",
   "metadata": {},
   "source": [
    "## 4. Membuat Paket\n",
    "\n",
    "__Paket (packet)__ adalah suatu direktori atau subdirektori tertentu yang menyimpan atau menyatukan sekumpulan modul. Cara membuatnya sebagai berikut.\n",
    "\n",
    "* Buat direktori (folder) `matematika`\n",
    "* copy file `geometri.py` ke dalam folder matematika\n",
    "* Buat file `__init__.py` di dalam foder matematika\n",
    "* Isi file `__init__.py` dengan sintaks `from . import geometri`\n"
   ]
  },
  {
   "cell_type": "code",
   "execution_count": null,
   "metadata": {},
   "outputs": [],
   "source": [
    "# File : __init__.py\n",
    "from . import geometri\n"
   ]
  },
  {
   "attachments": {},
   "cell_type": "markdown",
   "metadata": {},
   "source": [
    "#### Mengakses Paket dan modul-modul di dalamnya\n",
    "\n",
    "Gunakan perintah \n",
    "\n",
    "`import namaPaket.namaModul`\n",
    "\n",
    "atau\n",
    "\n",
    "`from namaPaket.namaModul import namaFungsi`\n",
    "\n"
   ]
  },
  {
   "cell_type": "code",
   "execution_count": 11,
   "metadata": {},
   "outputs": [
    {
     "name": "stdout",
     "output_type": "stream",
     "text": [
      "7542.9639612690935\n",
      "75.0\n"
     ]
    }
   ],
   "source": [
    "# File: modul_paket1.py\n",
    "import matematika.geometri as gm\n",
    "\n",
    "\n",
    "def main():\n",
    "    jari_jari = 49\n",
    "    luasLink = gm.luasLingkaran(jari_jari)\n",
    "    luastrapsm = gm.luasTrapesium(5,10,10)\n",
    "    print(luasLink)\n",
    "    print(luastrapsm)\n",
    "\n",
    "\n",
    "if __name__=='__main__':\n",
    "    main()\n"
   ]
  },
  {
   "attachments": {},
   "cell_type": "markdown",
   "metadata": {},
   "source": [
    "![Alt text](images/modul_paket1.jpg)"
   ]
  },
  {
   "cell_type": "code",
   "execution_count": 12,
   "metadata": {},
   "outputs": [
    {
     "name": "stdout",
     "output_type": "stream",
     "text": [
      "75.0\n"
     ]
    }
   ],
   "source": [
    "# File: modul_paket2.py\n",
    "from matematika.geometri import luasTrapesium, luasLingkaran\n",
    "\n",
    "\n",
    "def main():\n",
    "    luastrapsm = luasTrapesium(5,10,10)\n",
    "    print(luastrapsm)\n",
    "\n",
    "\n",
    "if __name__=='__main__':\n",
    "    main()\n"
   ]
  },
  {
   "attachments": {},
   "cell_type": "markdown",
   "metadata": {},
   "source": [
    "![Alt text](images/modul_paket2.jpg)"
   ]
  }
 ],
 "metadata": {
  "interpreter": {
   "hash": "ac59ebe37160ed0dfa835113d9b8498d9f09ceb179beaac4002f036b9467c963"
  },
  "kernelspec": {
   "display_name": "Python 3.9.10 64-bit",
   "language": "python",
   "name": "python3"
  },
  "language_info": {
   "codemirror_mode": {
    "name": "ipython",
    "version": 3
   },
   "file_extension": ".py",
   "mimetype": "text/x-python",
   "name": "python",
   "nbconvert_exporter": "python",
   "pygments_lexer": "ipython3",
   "version": "3.9.10"
  },
  "orig_nbformat": 4
 },
 "nbformat": 4,
 "nbformat_minor": 2
}
