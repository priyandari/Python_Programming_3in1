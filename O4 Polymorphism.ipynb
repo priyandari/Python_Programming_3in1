{
 "cells": [
  {
   "attachments": {},
   "cell_type": "markdown",
   "metadata": {},
   "source": [
    "# Polymorphism"
   ]
  },
  {
   "attachments": {},
   "cell_type": "markdown",
   "metadata": {},
   "source": [
    "Konsep polimorfisme (_polymorphism_) adalah konsep dimana terdapat method yang sama untuk objek-objek dari class yang berbeda, dan pemanggilan metode tersebut menghasilkan perilaku yang sesuai dengan jenis objek yang dipanggil."
   ]
  },
  {
   "cell_type": "code",
   "execution_count": 4,
   "metadata": {},
   "outputs": [
    {
     "name": "stdout",
     "output_type": "stream",
     "text": [
      "Luas persegi: 25\n",
      "Luas lingkaran: 28.274333882308138\n",
      "Luas segitiga: 12.0\n",
      "25\n",
      "28.274333882308138\n",
      "12.0\n"
     ]
    }
   ],
   "source": [
    "import math\n",
    "\n",
    "class Shape:\n",
    "    def area(self):\n",
    "        pass\n",
    "\n",
    "class Square(Shape):\n",
    "    def __init__(self, side_length):\n",
    "        self.side_length = side_length\n",
    "    \n",
    "    def area(self):\n",
    "        return self.side_length ** 2\n",
    "        \n",
    "class Circle(Shape):\n",
    "    def __init__(self, radius):\n",
    "        self.radius = radius\n",
    "    \n",
    "    def area(self):\n",
    "        return math.pi * self.radius ** 2\n",
    "\n",
    "class Triangle(Shape):\n",
    "    def __init__(self, base, height):\n",
    "        self.base = base\n",
    "        self.height = height\n",
    "    \n",
    "    def area(self):\n",
    "        return 0.5 * self.base * self.height\n",
    "\n",
    "# Fungsi yang menggunakan polimorfisme area untuk menghitung luas\n",
    "def calculate_area(shape):\n",
    "    return shape.area()\n",
    "\n",
    "# Membuat objek dari kelas-kelas yang berbeda\n",
    "square = Square(5)\n",
    "circle = Circle(3)\n",
    "triangle = Triangle(4, 6)\n",
    "\n",
    "# Memanggil fungsi yang calculate_area(),\n",
    "# calculate_area() kemudian menggunakan  polimorfisme area untuk menghitung luas\n",
    "print(\"Luas persegi:\", calculate_area(square))\n",
    "print(\"Luas lingkaran:\", calculate_area(circle))\n",
    "print(\"Luas segitiga:\", calculate_area(triangle))\n",
    "\n",
    "# Sama maknanya kalau dipanggil satu persatu, tanpa melalu fungsi calculate_area()\n",
    "print(square.area())\n",
    "print(circle.area())\n",
    "print(triangle.area())"
   ]
  },
  {
   "attachments": {},
   "cell_type": "markdown",
   "metadata": {},
   "source": [
    "[Penjelasan]\n",
    "\n",
    "* Class induk (parent) __Shape__ memiliki tiga __class turunan__: __Square__, __Circle__, dan __Triangle__.\n",
    "* Setiap class turunan memiliki metode __`area()`__ yang mengimplementasikan perhitungan luas sesuai dengan jenis bentuknya.\n",
    "* Kemudian, ada fungsi calculate_area() yang menerima objek Shape dan memanggil metode `area()` dari objek tersebut.\n",
    "* Polimorfisme terjadi pada pemanggilan metode __area()__ pada objek Shape yang berbeda (Square, Circle, dan Triangle) menggunakan fungsi calculate_area(). "
   ]
  }
 ],
 "metadata": {
  "kernelspec": {
   "display_name": "python_programming_3in1",
   "language": "python",
   "name": "python3"
  },
  "language_info": {
   "codemirror_mode": {
    "name": "ipython",
    "version": 3
   },
   "file_extension": ".py",
   "mimetype": "text/x-python",
   "name": "python",
   "nbconvert_exporter": "python",
   "pygments_lexer": "ipython3",
   "version": "3.9.10"
  },
  "orig_nbformat": 4
 },
 "nbformat": 4,
 "nbformat_minor": 2
}
