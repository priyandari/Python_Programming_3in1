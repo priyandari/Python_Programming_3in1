{
 "cells": [
  {
   "attachments": {},
   "cell_type": "markdown",
   "metadata": {},
   "source": [
    "# Pengulangan (Iterasi)\n",
    "\n",
    "__Pengulangan__ atau __iterasi (loop)__ adalah suatu sintak program yang mengatur (_control_) berapa kali atau sampai kapan suatu blok program diulangi diproses eksekusinya. Pengulangan membutuhkan __batasan pengulangan__, yakni suatu kondisi yang jika memenuhi syarat, maka pengulangan akan terus dilakukan, dan sebaliknya jika sudah tidak memenuhi syarat maka pengulangan akan dihentikan.\n",
    "\n",
    "Perhatikan blok diagram pengulangan secara umum di bawah ini"
   ]
  },
  {
   "cell_type": "markdown",
   "metadata": {},
   "source": [
    "<img src=\"images/w06DiagramPerulangan.png\">"
   ]
  },
  {
   "attachments": {},
   "cell_type": "markdown",
   "metadata": {},
   "source": [
    "Implementasi pengulangan dapat menggunakan \n",
    "1. __While__\n",
    "2. __For__\n",
    "\n",
    "Bagian awal ini kita akan mempelajari pengulangan menggunakan <b>While</b> kemudian dilanjutkan dengan <b>For</b>.\n",
    "\n",
    "Pada sesi berikutnya, pengulangan menggunakan For akan lebih kompleks ketika telah mempelajari tipe data terstrukur <b>List</b>\n"
   ]
  },
  {
   "attachments": {},
   "cell_type": "markdown",
   "metadata": {},
   "source": [
    "## 1. Pengulangan - While\n",
    "Penggunaan __while__ akan mengeksekusi (memproses) terus (berulang) suatu blok program  __sampai suatu kondisi dipenuhi (True)__.\n",
    "\n",
    "![Alt text](images/pengulangan_while.png)"
   ]
  },
  {
   "attachments": {},
   "cell_type": "markdown",
   "metadata": {},
   "source": [
    "#### 1.1 Increment dan Decrement"
   ]
  },
  {
   "cell_type": "code",
   "execution_count": null,
   "metadata": {},
   "outputs": [],
   "source": [
    "i = 7\n",
    "\n",
    "while i <= 10:\n",
    "    # <= 10 adalah syarat atau kondisi yang membatasi pengulangan \n",
    "    print(i)\n",
    "    # Agar blok program bisa berhenti, maka wajib dibuat agar i bisa memenuhi syarat\n",
    "    i = i+1 # Increment ( i sebelumnya naik/bertambah 1)\n",
    "print(\"selesai\")"
   ]
  },
  {
   "cell_type": "code",
   "execution_count": null,
   "metadata": {},
   "outputs": [],
   "source": [
    "k = 95\n",
    "while k > 90:\n",
    "    print(k)\n",
    "    k -= 1 #k = k-1, Decrement atau pengurangan nilai i sebelumnya sebesar 1 \n",
    "print(\"Selesai\")"
   ]
  },
  {
   "attachments": {},
   "cell_type": "markdown",
   "metadata": {},
   "source": [
    "__Increment dan Decrement__ tidak harus bernilai 1, tetapi juga bisa nilai desimal."
   ]
  },
  {
   "cell_type": "code",
   "execution_count": null,
   "metadata": {},
   "outputs": [],
   "source": [
    "max_nilai = 3.0\n",
    "delta = 1.0\n",
    "\n",
    "while delta <= max_nilai:\n",
    "    print(\"Nilai delta saat ini : {0:.4f}\".format(delta) )\n",
    "    delta = delta + 0.5\n",
    "print(\"Selesai\")"
   ]
  },
  {
   "cell_type": "code",
   "execution_count": null,
   "metadata": {},
   "outputs": [],
   "source": [
    "delta = 2\n",
    "\n",
    "while delta >= 1:\n",
    "    print(\"Nilai delta saat ini :\", delta)\n",
    "    print(\"Go !!!\")\n",
    "    delta = delta - 0.5\n",
    "print(\"STOP !!!\")"
   ]
  },
  {
   "attachments": {},
   "cell_type": "markdown",
   "metadata": {},
   "source": [
    "__Karakter__ penggunaan __while__ adalah biasanya programmer ingin agar __blok program dieksekusi minimal 1 kali__, kemudian dilakukan pengubahan status apakah blok program akan diulangi lagi atau dihentikan. "
   ]
  },
  {
   "cell_type": "code",
   "execution_count": null,
   "metadata": {},
   "outputs": [],
   "source": [
    "ulangi = True\n",
    "counter = 1\n",
    "\n",
    "while ulangi == True:\n",
    "    print(\"Blok Proses ke-\",counter, \"Dieksekusi\")\n",
    "    print(\" - - - - - - - - - - -\")\n",
    "    \n",
    "    inputPengguna = input(\"Apakah program diulangi ? (y=Ya/Enter=Tidak) \")\n",
    "    if inputPengguna == 'y':\n",
    "        ulangi = True\n",
    "        counter = counter + 1\n",
    "    else:\n",
    "        ulangi = False\n",
    "    print(\"\")\n",
    "\n",
    "print(\"Selesai\")\n",
    "\n",
    "# [NOTE] \n",
    "# while ulangi == True:\n",
    "# sama maknanya dengan \n",
    "# while ulangi:"
   ]
  },
  {
   "attachments": {},
   "cell_type": "markdown",
   "metadata": {},
   "source": [
    "Implementasi blok program di atas dapat digunakan sebagai berikut."
   ]
  },
  {
   "cell_type": "code",
   "execution_count": null,
   "metadata": {},
   "outputs": [],
   "source": [
    "# Menghitung nilai total dan rata-rata\n",
    "ulangi = True\n",
    "counter = 1\n",
    "total = 0.0\n",
    "while ulangi == True:\n",
    "    nilai = float(input(f\"Nilai Tugas ke-{counter} :\"))\n",
    "    total = total + nilai\n",
    "     \n",
    "    inputPengguna = input(\"Apakah input nilai lagi ? (y=Ya/Enter=Tidak) \")\n",
    "    if inputPengguna == 'y':\n",
    "        ulangi = True\n",
    "        counter +=1\n",
    "    else:\n",
    "        ulangi = False\n",
    "    print(\"\")\n",
    "\n",
    "print(\"Total Nilai : \", total)\n",
    "print(\"Rataan Nilai : \", total/counter)"
   ]
  },
  {
   "attachments": {},
   "cell_type": "markdown",
   "metadata": {},
   "source": [
    "#### 1.2 Break, Continue dan Else\n",
    "Penggunaan sintak __break__ dapat __menghentikan pengulangan (loop)__ atau __keluar dari pengulangan__ meskipun kondisi syarat masih bernilai terpenuhi (True)."
   ]
  },
  {
   "attachments": {},
   "cell_type": "markdown",
   "metadata": {},
   "source": [
    "![Alt text](images/pengulangan_while_break.jpg)"
   ]
  },
  {
   "cell_type": "code",
   "execution_count": null,
   "metadata": {},
   "outputs": [],
   "source": [
    "# Break\n",
    "i = 1\n",
    "while i < 6:\n",
    "  print(i)\n",
    "  if i == 3:\n",
    "    break\n",
    "  i += 1"
   ]
  },
  {
   "attachments": {},
   "cell_type": "markdown",
   "metadata": {},
   "source": [
    "Penggunaan sintak __continue__ dapat menghentikan pengulangan (loop) pada saat ini, dan lanjut pada pengulangan / iterasi berikutnya. Perhatikan contoh di bawah ini. "
   ]
  },
  {
   "cell_type": "code",
   "execution_count": null,
   "metadata": {},
   "outputs": [],
   "source": [
    "# Continue ke iterasi berikutnya jika i bernilai 3\n",
    "\n",
    "i = 0\n",
    "while i < 5:\n",
    "  i += 1\n",
    "  if i == 3:\n",
    "    continue\n",
    "  print(i)"
   ]
  },
  {
   "attachments": {},
   "cell_type": "markdown",
   "metadata": {},
   "source": [
    "Penggunaan sintak __else__ akan melakukan eksekusi suatu proses/blok program sebanyak 1 (satu) kali setelah kondisi syarat tidak lagi dipenuhi. Perhatikan contoh di bawah ini. "
   ]
  },
  {
   "cell_type": "code",
   "execution_count": null,
   "metadata": {},
   "outputs": [],
   "source": [
    "i = 1\n",
    "while i < 6:\n",
    "  print(i)\n",
    "  i += 1\n",
    "else:\n",
    "  print(\"i tidak lagi bernilai kurang dari 6\")"
   ]
  },
  {
   "attachments": {},
   "cell_type": "markdown",
   "metadata": {},
   "source": [
    "## 2. Pengulangan - For\n",
    "\n",
    "Pengulangan menggunakan sintak __For__ secara umum ada dua bentuk\n",
    "\n",
    "> <b>For</b> counter in <b>range(elemen)</b>\n",
    "\n",
    "> <b>For</b> counter in <b>range(start, end, step )</b>"
   ]
  },
  {
   "attachments": {},
   "cell_type": "markdown",
   "metadata": {},
   "source": [
    "#### 2.1 Pengulangan menggunakan __For__ `<counter>` __in range(`<elemen>`)__\n",
    "Perhatikan contoh "
   ]
  },
  {
   "cell_type": "code",
   "execution_count": null,
   "metadata": {},
   "outputs": [],
   "source": [
    "# mulai dari counter i=0 sampai i < elemen\n",
    "# Index pada python dimulai dari 0\n",
    "for i in range(5):  \n",
    "    #print(i) \n",
    "    print(\"index \", i , \"adalah elemen ke-\", i+1)\n",
    "     "
   ]
  },
  {
   "attachments": {},
   "cell_type": "markdown",
   "metadata": {},
   "source": [
    "#### 2.2 Pengulangan menggunakan __For__ `<counter>` __in range(`<start>`, `<end>`, `<step>`)__\n",
    "Nilai __step__ hanya boleh berupa bilangan __integer (positif atau negatif)__. \n",
    "Perhatikan contoh."
   ]
  },
  {
   "cell_type": "code",
   "execution_count": null,
   "metadata": {},
   "outputs": [],
   "source": [
    "# Pengulangan dari counter i=start sampai i < end, dengan step 1\n",
    "# lakukan pengulangan mulai dari counter i=3 sampai i < 7\n",
    "for i in range(3, 7): \n",
    "    print(\"kuadrat dari \", i, \" adalah \", i**2)\n"
   ]
  },
  {
   "cell_type": "code",
   "execution_count": null,
   "metadata": {},
   "outputs": [],
   "source": [
    "for i in range(997, 1000):\n",
    "    print(i+1, \"Nilai pangkat 3 adalah \", pow(i+1,3))"
   ]
  },
  {
   "attachments": {},
   "cell_type": "markdown",
   "metadata": {},
   "source": [
    "Inkremen (__step__) bernilai __selain 1__. "
   ]
  },
  {
   "cell_type": "code",
   "execution_count": null,
   "metadata": {},
   "outputs": [],
   "source": [
    "# Menggunakan step inkremen bernilai selain 1\n",
    "for k in range(2, 10, 3):\n",
    "    print(k, \" kuadrat adalah \", k**2)"
   ]
  },
  {
   "attachments": {},
   "cell_type": "markdown",
   "metadata": {},
   "source": [
    "Dekremen (__step__) turun __menggunakan -1__"
   ]
  },
  {
   "cell_type": "code",
   "execution_count": null,
   "metadata": {
    "scrolled": false
   },
   "outputs": [],
   "source": [
    "# Pengulangan mulai dari i=start sampai i > end, step -1\n",
    "# Pengulangan mulai dari i=10 sampai i > 6, step -1\n",
    "for i in range(10, 6, -1):  \n",
    "    print(\"elemen # \",i)"
   ]
  },
  {
   "cell_type": "code",
   "execution_count": null,
   "metadata": {},
   "outputs": [],
   "source": [
    "# Pengulangan mulai dari i=10 sampai i > 5, step -2\n",
    "for i in range(10, 5, -2):\n",
    "    print(\"elemen \", i)"
   ]
  },
  {
   "attachments": {},
   "cell_type": "markdown",
   "metadata": {},
   "source": [
    "Inkremen (__step__) berupa __nilai desimal__ menghasilkan _error_"
   ]
  },
  {
   "cell_type": "code",
   "execution_count": null,
   "metadata": {
    "scrolled": true
   },
   "outputs": [],
   "source": [
    "for i in range(2, 4, 0.1):\n",
    "    print(i)"
   ]
  },
  {
   "attachments": {},
   "cell_type": "markdown",
   "metadata": {},
   "source": [
    "Apabila menginginkan perubahan nilai (delta) sesuai nilai desimal untuk memproses suatu pengulangan, bisa menggunakan __while__ atau __memodifikasi perintah for__ sebagai berikut."
   ]
  },
  {
   "cell_type": "code",
   "execution_count": null,
   "metadata": {},
   "outputs": [],
   "source": [
    "start = 2\n",
    "end = 4\n",
    "ink = 0.1\n",
    "jumlah_pengulangan = int((abs(end-start))/ink)\n",
    "# print(jumlah_pengulangan)\n",
    "for i in range(jumlah_pengulangan):\n",
    "    print(start)\n",
    "    start = start + ink"
   ]
  },
  {
   "attachments": {},
   "cell_type": "markdown",
   "metadata": {},
   "source": [
    "Contoh, menghitung luas bidang di bawah sebuah kurva persamaan kuadrat dari rentang nilai x=a sampai x=b, dengan nilai inkremen (delta) sebesar 0,1."
   ]
  },
  {
   "cell_type": "code",
   "execution_count": null,
   "metadata": {},
   "outputs": [],
   "source": [
    "# menghitung luas bidang di bawah sebuah kurva persamaan kuadrat.\n",
    "a = -1 \n",
    "b = 1\n",
    "delta = 0.1\n",
    "n = int(abs(a-b) / delta)\n",
    "\n",
    "for i in range(n):\n",
    "    y = 3*(a**2) + 4*a + 4\n",
    "    a += delta\n",
    "    print(f\"Nilai y = {y} ketika x = {a}\")\n"
   ]
  },
  {
   "attachments": {},
   "cell_type": "markdown",
   "metadata": {},
   "source": [
    ">[TODO] Lakukan modifikasi untuk memperoleh nilai minimum y pada nilai x = berapa?"
   ]
  },
  {
   "attachments": {},
   "cell_type": "markdown",
   "metadata": {},
   "source": [
    "#### 2.3 Break, Else pada Pengulangan For\n",
    "Prinsipnya sama dengan penggunaan break dan else pada while. Hanya saja, jika blok bertemu dengan perintah _break_, maka blok __else__ tidak akan diproses/eksekusi."
   ]
  },
  {
   "cell_type": "code",
   "execution_count": null,
   "metadata": {},
   "outputs": [],
   "source": [
    "for i in range(6):\n",
    "  if i == 3: break\n",
    "  print(i)\n",
    "else:\n",
    "  print(\"Akhirnya selesai!\")"
   ]
  },
  {
   "attachments": {},
   "cell_type": "markdown",
   "metadata": {},
   "source": [
    "#### 2.4 Pengulangan berkalang (Nested Loop)\n",
    "Kadangkala, di dalam sebuah pengulangan, terdapat proses pengulangan lagi atau dikenal sebagai pengulangan berkalang (nested loop). Perhatikan contoh ini."
   ]
  },
  {
   "cell_type": "code",
   "execution_count": 3,
   "metadata": {},
   "outputs": [
    {
     "name": "stdout",
     "output_type": "stream",
     "text": [
      "Nilai i = 1 dan j=0\n",
      "Nilai i = 2 dan j=0\n",
      "Nilai i = 2 dan j=1\n",
      "Nilai i = 3 dan j=0\n",
      "Nilai i = 3 dan j=1\n",
      "Nilai i = 3 dan j=2\n",
      "Nilai i = 4 dan j=0\n",
      "Nilai i = 4 dan j=1\n",
      "Nilai i = 4 dan j=2\n",
      "Nilai i = 4 dan j=3\n"
     ]
    }
   ],
   "source": [
    "# Pengulangan berkalang dengan memanfaatkan indek awal dari for pertama \n",
    "# sebagai batas range untuk for kedua\n",
    "for i in range(5):\n",
    "    for j in range(i):\n",
    "        print(f\"Nilai i = {i} dan j={j}\")\n"
   ]
  },
  {
   "attachments": {},
   "cell_type": "markdown",
   "metadata": {},
   "source": [
    "> [TODO] Diskusikan mengapa hasil pengulangan di atas, tidak ada hasil untuk index i=0 ?"
   ]
  },
  {
   "attachments": {},
   "cell_type": "markdown",
   "metadata": {},
   "source": [
    "#### 2.5 Penggunaan __For__ pada Tipe Data Sruktur (List, dll)\n",
    "Pembahasan ini akan dibahas pada saat pembahasan Tipe data Struktur __List__"
   ]
  },
  {
   "cell_type": "markdown",
   "metadata": {},
   "source": [
    "### Latihan Pengulangan"
   ]
  },
  {
   "cell_type": "code",
   "execution_count": null,
   "metadata": {},
   "outputs": [],
   "source": [
    "# Menhitung Kejadian munculnya gambar atau angka pada pelemparan koin\n",
    "import random\n",
    "\n",
    "maxPengulangan = 10\n",
    "nAngka = 0\n",
    "nGambar = 0\n",
    "nPelemparan = 1\n",
    "while nPelemparan <= maxPengulangan:\n",
    "    angkaOrgambar = random.randrange(0,2) # 0 mewakili gambar, 1 mewakili angka\n",
    "    if angkaOrgambar == 0:\n",
    "       nGambar = nGambar + 1\n",
    "       print(\"Gambar\")\n",
    "    else:\n",
    "       nAngka = nAngka + 1\n",
    "       print(\"Angka\")\n",
    "    nPelemparan += 1\n",
    "\n",
    "print(\"\")\n",
    "print(f\"Dari pelemparan koin sebanyak {maxPengulangan} kali, diperoleh \\n angka : {nAngka} kali, dan \\n gambar : {nGambar} kali\")"
   ]
  },
  {
   "attachments": {},
   "cell_type": "markdown",
   "metadata": {},
   "source": [
    "> [TODO] Modifikasi program di atas untuk kasus kejadian munculnya setiap angka pada __pelemparan dadu__"
   ]
  }
 ],
 "metadata": {
  "kernelspec": {
   "display_name": "Python 3",
   "language": "python",
   "name": "python3"
  },
  "language_info": {
   "codemirror_mode": {
    "name": "ipython",
    "version": 3
   },
   "file_extension": ".py",
   "mimetype": "text/x-python",
   "name": "python",
   "nbconvert_exporter": "python",
   "pygments_lexer": "ipython3",
   "version": "3.9.10"
  }
 },
 "nbformat": 4,
 "nbformat_minor": 2
}
