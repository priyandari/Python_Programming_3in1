{
 "cells": [
  {
   "attachments": {},
   "cell_type": "markdown",
   "metadata": {},
   "source": [
    "# Pengulangan (Iterasi)\n",
    "\n",
    "__Pengulangan__ atau __iterasi (loop)__ adalah suatu sintak program yang mengatur (_control_) berapa kali atau sampai kapan suatu blok program diulangi diproses eksekusinya. Pengulangan membutuhkan __batasan pengulangan__, yakni suatu kondisi yang jika memenuhi syarat, maka pengulangan akan terus dilakukan, dan sebaliknya jika sudah tidak memenuhi syarat maka pengulangan akan dihentikan.\n",
    "\n",
    "Perhatikan blok diagram pengulangan secara umum di bawah ini"
   ]
  },
  {
   "cell_type": "markdown",
   "metadata": {},
   "source": [
    "<img src=\"images/w06DiagramPerulangan.png\">"
   ]
  },
  {
   "attachments": {},
   "cell_type": "markdown",
   "metadata": {},
   "source": [
    "Implementasi pengulangan dapat menggunakan \n",
    "1. __While__\n",
    "2. __For__\n",
    "\n",
    "Bagian awal ini kita akan mempelajari pengulangan menggunakan <b>While</b> kemudian dilanjutkan dengan <b>For</b>.\n",
    "\n",
    "Pada sesi berikutnya, pengulangan menggunakan For akan lebih kompleks ketika telah mempelajari tipe data terstrukur <b>List</b>\n"
   ]
  },
  {
   "attachments": {},
   "cell_type": "markdown",
   "metadata": {},
   "source": [
    "## 1. Pengulangan - While\n",
    "Penggunaan __while__ akan mengeksekusi (memproses) terus (berulang) suatu blok program  __sampai suatu kondisi dipenuhi (True)__.\n",
    "\n",
    "![Alt text](images/pengulangan_while.png)"
   ]
  },
  {
   "attachments": {},
   "cell_type": "markdown",
   "metadata": {},
   "source": [
    "#### 1.1 Increment dan Decrement"
   ]
  },
  {
   "cell_type": "code",
   "execution_count": 1,
   "metadata": {},
   "outputs": [
    {
     "name": "stdout",
     "output_type": "stream",
     "text": [
      "7\n",
      "8\n",
      "9\n",
      "10\n",
      "selesai\n"
     ]
    }
   ],
   "source": [
    "i = 7\n",
    "\n",
    "while i <= 10:\n",
    "    # <= 10 adalah syarat atau kondisi yang membatasi pengulangan \n",
    "    print(i)\n",
    "    # Agar blok program bisa berhenti, maka wajib dibuat agar i bisa memenuhi syarat\n",
    "    i = i+1 # Increment ( i sebelumnya naik/bertambah 1)\n",
    "print(\"selesai\")"
   ]
  },
  {
   "cell_type": "code",
   "execution_count": 2,
   "metadata": {},
   "outputs": [
    {
     "name": "stdout",
     "output_type": "stream",
     "text": [
      "95\n",
      "94\n",
      "93\n",
      "92\n",
      "91\n",
      "Selesai\n"
     ]
    }
   ],
   "source": [
    "k = 95\n",
    "while k > 90:\n",
    "    print(k)\n",
    "    k -= 1 #k = k-1, Decrement atau pengurangan nilai i sebelumnya sebesar 1 \n",
    "print(\"Selesai\")"
   ]
  },
  {
   "attachments": {},
   "cell_type": "markdown",
   "metadata": {},
   "source": [
    "__Increment dan Decrement__ tidak harus bernilai 1, tetapi juga bisa nilai desimal."
   ]
  },
  {
   "cell_type": "code",
   "execution_count": 3,
   "metadata": {},
   "outputs": [
    {
     "name": "stdout",
     "output_type": "stream",
     "text": [
      "Nilai delta saat ini : 1.0000\n",
      "Nilai delta saat ini : 1.5000\n",
      "Nilai delta saat ini : 2.0000\n",
      "Nilai delta saat ini : 2.5000\n",
      "Nilai delta saat ini : 3.0000\n",
      "Selesai\n"
     ]
    }
   ],
   "source": [
    "max_nilai = 3.0\n",
    "delta = 1.0\n",
    "\n",
    "while delta <= max_nilai:\n",
    "    print(\"Nilai delta saat ini : {0:.4f}\".format(delta) )\n",
    "    delta = delta + 0.5\n",
    "print(\"Selesai\")"
   ]
  },
  {
   "cell_type": "code",
   "execution_count": 4,
   "metadata": {},
   "outputs": [
    {
     "name": "stdout",
     "output_type": "stream",
     "text": [
      "Nilai delta saat ini : 2\n",
      "Go !!!\n",
      "Nilai delta saat ini : 1.5\n",
      "Go !!!\n",
      "Nilai delta saat ini : 1.0\n",
      "Go !!!\n",
      "STOP !!!\n"
     ]
    }
   ],
   "source": [
    "delta = 2\n",
    "\n",
    "while delta >= 1:\n",
    "    print(\"Nilai delta saat ini :\", delta)\n",
    "    print(\"Go !!!\")\n",
    "    delta = delta - 0.5\n",
    "print(\"STOP !!!\")"
   ]
  },
  {
   "attachments": {},
   "cell_type": "markdown",
   "metadata": {},
   "source": [
    "__Karakter__ penggunaan __while__ adalah biasanya programmer ingin agar __blok program dieksekusi minimal 1 kali__, kemudian dilakukan pengubahan status apakah blok program akan diulangi lagi atau dihentikan. "
   ]
  },
  {
   "cell_type": "code",
   "execution_count": 5,
   "metadata": {},
   "outputs": [
    {
     "name": "stdout",
     "output_type": "stream",
     "text": [
      "Blok Proses ke- 1 Dieksekusi\n",
      " - - - - - - - - - - -\n",
      "\n",
      "Blok Proses ke- 2 Dieksekusi\n",
      " - - - - - - - - - - -\n",
      "\n",
      "Selesai\n"
     ]
    }
   ],
   "source": [
    "ulangi = True\n",
    "counter = 1\n",
    "\n",
    "while ulangi == True:\n",
    "    print(\"Blok Proses ke-\",counter, \"Dieksekusi\")\n",
    "    print(\" - - - - - - - - - - -\")\n",
    "    \n",
    "    inputPengguna = input(\"Apakah program diulangi ? (y=Ya/Enter=Tidak) \")\n",
    "    if inputPengguna == 'y':\n",
    "        ulangi = True\n",
    "        counter = counter + 1\n",
    "    else:\n",
    "        ulangi = False\n",
    "    print(\"\")\n",
    "\n",
    "print(\"Selesai\")\n",
    "\n",
    "# [NOTE] \n",
    "# while ulangi == True:\n",
    "# sama maknanya dengan \n",
    "# while ulangi:"
   ]
  },
  {
   "attachments": {},
   "cell_type": "markdown",
   "metadata": {},
   "source": [
    "Implementasi blok program di atas dapat digunakan sebagai berikut."
   ]
  },
  {
   "cell_type": "code",
   "execution_count": 6,
   "metadata": {},
   "outputs": [
    {
     "name": "stdout",
     "output_type": "stream",
     "text": [
      "\n",
      "\n",
      "\n",
      "Total Nilai :  241.0\n",
      "Rataan Nilai :  80.33333333333333\n"
     ]
    }
   ],
   "source": [
    "# Menghitung nilai total dan rata-rata\n",
    "ulangi = True\n",
    "counter = 1\n",
    "total = 0.0\n",
    "while ulangi == True:\n",
    "    nilai = float(input(f\"Nilai Tugas ke-{counter} :\"))\n",
    "    total = total + nilai\n",
    "     \n",
    "    inputPengguna = input(\"Apakah input nilai lagi ? (y=Ya/Enter=Tidak) \")\n",
    "    if inputPengguna == 'y':\n",
    "        ulangi = True\n",
    "        counter +=1\n",
    "    else:\n",
    "        ulangi = False\n",
    "    print(\"\")\n",
    "\n",
    "print(\"Total Nilai : \", total)\n",
    "print(\"Rataan Nilai : \", total/counter)"
   ]
  },
  {
   "attachments": {},
   "cell_type": "markdown",
   "metadata": {},
   "source": [
    "#### 1.2 Break, Continue dan Else\n",
    "Penggunaan sintak __break__ dapat __menghentikan pengulangan (loop)__ atau __keluar dari pengulangan__ meskipun kondisi syarat masih bernilai terpenuhi (True)."
   ]
  },
  {
   "attachments": {},
   "cell_type": "markdown",
   "metadata": {},
   "source": [
    "![Alt text](images/pengulangan_while_break.jpg)"
   ]
  },
  {
   "cell_type": "code",
   "execution_count": 7,
   "metadata": {},
   "outputs": [
    {
     "name": "stdout",
     "output_type": "stream",
     "text": [
      "1\n",
      "2\n",
      "3\n"
     ]
    }
   ],
   "source": [
    "# Break\n",
    "i = 1\n",
    "while i < 6:\n",
    "  print(i)\n",
    "  if i == 3:\n",
    "    break\n",
    "  i += 1"
   ]
  },
  {
   "attachments": {},
   "cell_type": "markdown",
   "metadata": {},
   "source": [
    "Penggunaan sintak __continue__ dapat menghentikan pengulangan (loop) pada saat ini, dan lanjut pada pengulangan / iterasi berikutnya. Perhatikan contoh di bawah ini. "
   ]
  },
  {
   "cell_type": "code",
   "execution_count": 8,
   "metadata": {},
   "outputs": [
    {
     "name": "stdout",
     "output_type": "stream",
     "text": [
      "1\n",
      "2\n",
      "4\n",
      "5\n"
     ]
    }
   ],
   "source": [
    "# Continue ke iterasi berikutnya jika i bernilai 3\n",
    "\n",
    "i = 0\n",
    "while i < 5:\n",
    "  i += 1\n",
    "  if i == 3:\n",
    "    continue\n",
    "  print(i)"
   ]
  },
  {
   "attachments": {},
   "cell_type": "markdown",
   "metadata": {},
   "source": [
    "Penggunaan sintak __else__ akan melakukan eksekusi suatu proses/blok program sebanyak 1 (satu) kali setelah kondisi syarat tidak lagi dipenuhi. Perhatikan contoh di bawah ini. "
   ]
  },
  {
   "cell_type": "code",
   "execution_count": 9,
   "metadata": {},
   "outputs": [
    {
     "name": "stdout",
     "output_type": "stream",
     "text": [
      "1\n",
      "2\n",
      "3\n",
      "4\n",
      "5\n",
      "i tidak lagi bernilai kurang dari 6\n"
     ]
    }
   ],
   "source": [
    "i = 1\n",
    "while i < 6:\n",
    "  print(i)\n",
    "  i += 1\n",
    "else:\n",
    "  print(\"i tidak lagi bernilai kurang dari 6\")"
   ]
  },
  {
   "attachments": {},
   "cell_type": "markdown",
   "metadata": {},
   "source": [
    "## 2. Pengulangan - For\n",
    "\n",
    "Pengulangan menggunakan sintak __For__ secara umum ada dua bentuk\n",
    "\n",
    "> <b>For</b> counter in <b>range(elemen)</b>\n",
    "\n",
    "> <b>For</b> counter in <b>range(start, end, step )</b>"
   ]
  },
  {
   "attachments": {},
   "cell_type": "markdown",
   "metadata": {},
   "source": [
    "#### 2.1 Pengulangan menggunakan __For__ `<counter>` __in range(`<elemen>`)__\n",
    "Perhatikan contoh "
   ]
  },
  {
   "cell_type": "code",
   "execution_count": 10,
   "metadata": {},
   "outputs": [
    {
     "name": "stdout",
     "output_type": "stream",
     "text": [
      "index  0 adalah elemen ke- 1\n",
      "index  1 adalah elemen ke- 2\n",
      "index  2 adalah elemen ke- 3\n",
      "index  3 adalah elemen ke- 4\n",
      "index  4 adalah elemen ke- 5\n"
     ]
    }
   ],
   "source": [
    "# mulai dari counter i=0 sampai i < elemen\n",
    "# Index pada python dimulai dari 0\n",
    "for i in range(5):  \n",
    "    #print(i) \n",
    "    print(\"index \", i , \"adalah elemen ke-\", i+1)\n",
    "     "
   ]
  },
  {
   "attachments": {},
   "cell_type": "markdown",
   "metadata": {},
   "source": [
    "#### 2.2 Pengulangan menggunakan __For__ `<counter>` __in range(`<start>`, `<end>`, `<step>`)__\n",
    "Nilai __step__ hanya boleh berupa bilangan __integer (positif atau negatif)__. \n",
    "Perhatikan contoh."
   ]
  },
  {
   "cell_type": "code",
   "execution_count": 11,
   "metadata": {},
   "outputs": [
    {
     "name": "stdout",
     "output_type": "stream",
     "text": [
      "kuadrat dari  3  adalah  9\n",
      "kuadrat dari  4  adalah  16\n",
      "kuadrat dari  5  adalah  25\n",
      "kuadrat dari  6  adalah  36\n"
     ]
    }
   ],
   "source": [
    "# Pengulangan dari counter i=start sampai i < end, dengan step 1\n",
    "# lakukan pengulangan mulai dari counter i=3 sampai i < 7\n",
    "for i in range(3, 7): \n",
    "    print(\"kuadrat dari \", i, \" adalah \", i**2)\n"
   ]
  },
  {
   "cell_type": "code",
   "execution_count": 12,
   "metadata": {},
   "outputs": [
    {
     "name": "stdout",
     "output_type": "stream",
     "text": [
      "998 Nilai pangkat 3 adalah  994011992\n",
      "999 Nilai pangkat 3 adalah  997002999\n",
      "1000 Nilai pangkat 3 adalah  1000000000\n"
     ]
    }
   ],
   "source": [
    "for i in range(997, 1000):\n",
    "    print(i+1, \"Nilai pangkat 3 adalah \", pow(i+1,3))"
   ]
  },
  {
   "attachments": {},
   "cell_type": "markdown",
   "metadata": {},
   "source": [
    "Inkremen (__step__) bernilai __selain 1__. "
   ]
  },
  {
   "cell_type": "code",
   "execution_count": 13,
   "metadata": {},
   "outputs": [
    {
     "name": "stdout",
     "output_type": "stream",
     "text": [
      "2  kuadrat adalah  4\n",
      "5  kuadrat adalah  25\n",
      "8  kuadrat adalah  64\n"
     ]
    }
   ],
   "source": [
    "# Menggunakan step inkremen bernilai selain 1\n",
    "for k in range(2, 10, 3):\n",
    "    print(k, \" kuadrat adalah \", k**2)"
   ]
  },
  {
   "attachments": {},
   "cell_type": "markdown",
   "metadata": {},
   "source": [
    "Dekremen (__step__) turun __menggunakan -1__"
   ]
  },
  {
   "cell_type": "code",
   "execution_count": 14,
   "metadata": {
    "scrolled": false
   },
   "outputs": [
    {
     "name": "stdout",
     "output_type": "stream",
     "text": [
      "elemen #  10\n",
      "elemen #  9\n",
      "elemen #  8\n",
      "elemen #  7\n"
     ]
    }
   ],
   "source": [
    "# Pengulangan mulai dari i=start sampai i > end, step -1\n",
    "# Pengulangan mulai dari i=10 sampai i > 6, step -1\n",
    "for i in range(10, 6, -1):  \n",
    "    print(\"elemen # \",i)"
   ]
  },
  {
   "cell_type": "code",
   "execution_count": 15,
   "metadata": {},
   "outputs": [
    {
     "name": "stdout",
     "output_type": "stream",
     "text": [
      "elemen  10\n",
      "elemen  8\n",
      "elemen  6\n"
     ]
    }
   ],
   "source": [
    "# Pengulangan mulai dari i=10 sampai i > 5, step -2\n",
    "for i in range(10, 5, -2):\n",
    "    print(\"elemen \", i)"
   ]
  },
  {
   "attachments": {},
   "cell_type": "markdown",
   "metadata": {},
   "source": [
    "Inkremen (__step__) berupa __nilai desimal__ menghasilkan _error_"
   ]
  },
  {
   "cell_type": "code",
   "execution_count": 16,
   "metadata": {
    "scrolled": true
   },
   "outputs": [
    {
     "ename": "TypeError",
     "evalue": "'float' object cannot be interpreted as an integer",
     "output_type": "error",
     "traceback": [
      "\u001b[1;31m---------------------------------------------------------------------------\u001b[0m",
      "\u001b[1;31mTypeError\u001b[0m                                 Traceback (most recent call last)",
      "Cell \u001b[1;32mIn[16], line 1\u001b[0m\n\u001b[1;32m----> 1\u001b[0m \u001b[39mfor\u001b[39;00m i \u001b[39min\u001b[39;00m \u001b[39mrange\u001b[39;49m(\u001b[39m2\u001b[39;49m, \u001b[39m4\u001b[39;49m, \u001b[39m0.1\u001b[39;49m):\n\u001b[0;32m      2\u001b[0m     \u001b[39mprint\u001b[39m(i)\n",
      "\u001b[1;31mTypeError\u001b[0m: 'float' object cannot be interpreted as an integer"
     ]
    }
   ],
   "source": [
    "for i in range(2, 4, 0.1):\n",
    "    print(i)"
   ]
  },
  {
   "attachments": {},
   "cell_type": "markdown",
   "metadata": {},
   "source": [
    "Apabila menginginkan perubahan nilai (delta) sesuai nilai desimal untuk memproses suatu pengulangan, bisa menggunakan __while__ atau __memodifikasi perintah for__ sebagai berikut."
   ]
  },
  {
   "cell_type": "code",
   "execution_count": 17,
   "metadata": {},
   "outputs": [
    {
     "name": "stdout",
     "output_type": "stream",
     "text": [
      "2\n",
      "2.1\n",
      "2.2\n",
      "2.3000000000000003\n",
      "2.4000000000000004\n",
      "2.5000000000000004\n",
      "2.6000000000000005\n",
      "2.7000000000000006\n",
      "2.8000000000000007\n",
      "2.900000000000001\n",
      "3.000000000000001\n",
      "3.100000000000001\n",
      "3.200000000000001\n",
      "3.300000000000001\n",
      "3.4000000000000012\n",
      "3.5000000000000013\n",
      "3.6000000000000014\n",
      "3.7000000000000015\n",
      "3.8000000000000016\n",
      "3.9000000000000017\n"
     ]
    }
   ],
   "source": [
    "start = 2\n",
    "end = 4\n",
    "ink = 0.1\n",
    "jumlah_pengulangan = int((abs(end-start))/ink)\n",
    "# print(jumlah_pengulangan)\n",
    "for i in range(jumlah_pengulangan):\n",
    "    print(start)\n",
    "    start = start + ink"
   ]
  },
  {
   "attachments": {},
   "cell_type": "markdown",
   "metadata": {},
   "source": [
    "Contoh, menghitung luas bidang di bawah sebuah kurva persamaan kuadrat dari rentang nilai x=a sampai x=b, dengan nilai inkremen (delta) sebesar 0,1."
   ]
  },
  {
   "cell_type": "code",
   "execution_count": 18,
   "metadata": {},
   "outputs": [
    {
     "name": "stdout",
     "output_type": "stream",
     "text": [
      "Nilai y = 3 ketika x = -0.9\n",
      "Nilai y = 2.83 ketika x = -0.8\n",
      "Nilai y = 2.72 ketika x = -0.7000000000000001\n",
      "Nilai y = 2.67 ketika x = -0.6000000000000001\n",
      "Nilai y = 2.6799999999999997 ketika x = -0.5000000000000001\n",
      "Nilai y = 2.75 ketika x = -0.40000000000000013\n",
      "Nilai y = 2.88 ketika x = -0.30000000000000016\n",
      "Nilai y = 3.0699999999999994 ketika x = -0.20000000000000015\n",
      "Nilai y = 3.3199999999999994 ketika x = -0.10000000000000014\n",
      "Nilai y = 3.6299999999999994 ketika x = -1.3877787807814457e-16\n",
      "Nilai y = 3.9999999999999996 ketika x = 0.09999999999999987\n",
      "Nilai y = 4.43 ketika x = 0.19999999999999987\n",
      "Nilai y = 4.919999999999999 ketika x = 0.2999999999999999\n",
      "Nilai y = 5.469999999999999 ketika x = 0.3999999999999999\n",
      "Nilai y = 6.079999999999999 ketika x = 0.4999999999999999\n",
      "Nilai y = 6.749999999999999 ketika x = 0.5999999999999999\n",
      "Nilai y = 7.479999999999999 ketika x = 0.6999999999999998\n",
      "Nilai y = 8.27 ketika x = 0.7999999999999998\n",
      "Nilai y = 9.119999999999997 ketika x = 0.8999999999999998\n",
      "Nilai y = 10.029999999999998 ketika x = 0.9999999999999998\n"
     ]
    }
   ],
   "source": [
    "# menghitung luas bidang di bawah sebuah kurva persamaan kuadrat.\n",
    "a = -1 \n",
    "b = 1\n",
    "delta = 0.1\n",
    "n = int(abs(a-b) / delta)\n",
    "\n",
    "for i in range(n):\n",
    "    y = 3*(a**2) + 4*a + 4\n",
    "    a += delta\n",
    "    print(f\"Nilai y = {y} ketika x = {a}\")\n"
   ]
  },
  {
   "attachments": {},
   "cell_type": "markdown",
   "metadata": {},
   "source": [
    ">[TODO] Lakukan modifikasi untuk memperoleh nilai minimum y pada nilai x = berapa?"
   ]
  },
  {
   "attachments": {},
   "cell_type": "markdown",
   "metadata": {},
   "source": [
    "#### 2.3 Break, Else pada Pengulangan For\n",
    "Prinsipnya sama dengan penggunaan break dan else pada while. Hanya saja, jika blok bertemu dengan perintah _break_, maka blok __else__ tidak akan diproses/eksekusi."
   ]
  },
  {
   "cell_type": "code",
   "execution_count": 19,
   "metadata": {},
   "outputs": [
    {
     "name": "stdout",
     "output_type": "stream",
     "text": [
      "0\n",
      "1\n",
      "2\n"
     ]
    }
   ],
   "source": [
    "for i in range(6):\n",
    "  if i == 3: break\n",
    "  print(i)\n",
    "else:\n",
    "  print(\"Akhirnya selesai!\")"
   ]
  },
  {
   "attachments": {},
   "cell_type": "markdown",
   "metadata": {},
   "source": [
    "#### 2.4 Pengulangan berkalang (Nested Loop)\n",
    "Kadangkala, di dalam sebuah pengulangan, terdapat proses pengulangan lagi atau dikenal sebagai pengulangan berkalang (nested loop). Perhatikan contoh ini."
   ]
  },
  {
   "cell_type": "code",
   "execution_count": 20,
   "metadata": {},
   "outputs": [
    {
     "name": "stdout",
     "output_type": "stream",
     "text": [
      "Nilai i = 1 dan j=0\n",
      "Nilai i = 2 dan j=0\n",
      "Nilai i = 2 dan j=1\n",
      "Nilai i = 3 dan j=0\n",
      "Nilai i = 3 dan j=1\n",
      "Nilai i = 3 dan j=2\n",
      "Nilai i = 4 dan j=0\n",
      "Nilai i = 4 dan j=1\n",
      "Nilai i = 4 dan j=2\n",
      "Nilai i = 4 dan j=3\n"
     ]
    }
   ],
   "source": [
    "# Pengulangan berkalang dengan memanfaatkan indek awal dari for pertama \n",
    "# sebagai batas range untuk for kedua\n",
    "for i in range(5):\n",
    "    for j in range(i):\n",
    "        print(f\"Nilai i = {i} dan j={j}\")\n"
   ]
  },
  {
   "attachments": {},
   "cell_type": "markdown",
   "metadata": {},
   "source": [
    "> [TODO] Diskusikan mengapa hasil pengulangan di atas, tidak ada hasil untuk index i=0 ?"
   ]
  },
  {
   "attachments": {},
   "cell_type": "markdown",
   "metadata": {},
   "source": [
    "#### 2.5 Penggunaan __For__ pada Tipe Data Sruktur (List, dll)\n",
    "Pembahasan ini akan dibahas pada saat pembahasan Tipe data Struktur __List__"
   ]
  },
  {
   "cell_type": "markdown",
   "metadata": {},
   "source": [
    "### Latihan Pengulangan"
   ]
  },
  {
   "cell_type": "code",
   "execution_count": 21,
   "metadata": {},
   "outputs": [
    {
     "name": "stdout",
     "output_type": "stream",
     "text": [
      "Angka\n",
      "Angka\n",
      "Angka\n",
      "Angka\n",
      "Gambar\n",
      "Angka\n",
      "Angka\n",
      "Gambar\n",
      "Angka\n",
      "Gambar\n",
      "\n",
      "Dari pelemparan koin sebanyak 10 kali, diperoleh \n",
      " angka : 7 kali, dan \n",
      " gambar : 3 kali\n"
     ]
    }
   ],
   "source": [
    "# Menhitung Kejadian munculnya gambar atau angka pada pelemparan koin\n",
    "import random\n",
    "\n",
    "maxPengulangan = 10\n",
    "nAngka = 0\n",
    "nGambar = 0\n",
    "nPelemparan = 1\n",
    "while nPelemparan <= maxPengulangan:\n",
    "    angkaOrgambar = random.randrange(0,2) # 0 mewakili gambar, 1 mewakili angka\n",
    "    if angkaOrgambar == 0:\n",
    "       nGambar = nGambar + 1\n",
    "       print(\"Gambar\")\n",
    "    else:\n",
    "       nAngka = nAngka + 1\n",
    "       print(\"Angka\")\n",
    "    nPelemparan += 1\n",
    "\n",
    "print(\"\")\n",
    "print(f\"Dari pelemparan koin sebanyak {maxPengulangan} kali, diperoleh \\n angka : {nAngka} kali, dan \\n gambar : {nGambar} kali\")"
   ]
  },
  {
   "attachments": {},
   "cell_type": "markdown",
   "metadata": {},
   "source": [
    "> [TODO] Modifikasi program di atas untuk kasus kejadian munculnya setiap angka pada __pelemparan dadu__"
   ]
  }
 ],
 "metadata": {
  "kernelspec": {
   "display_name": "Python 3",
   "language": "python",
   "name": "python3"
  },
  "language_info": {
   "codemirror_mode": {
    "name": "ipython",
    "version": 3
   },
   "file_extension": ".py",
   "mimetype": "text/x-python",
   "name": "python",
   "nbconvert_exporter": "python",
   "pygments_lexer": "ipython3",
   "version": "3.9.10"
  }
 },
 "nbformat": 4,
 "nbformat_minor": 2
}
