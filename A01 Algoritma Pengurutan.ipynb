{
 "cells": [
  {
   "attachments": {},
   "cell_type": "markdown",
   "metadata": {},
   "source": [
    "# Pengurutan Data"
   ]
  },
  {
   "attachments": {},
   "cell_type": "markdown",
   "metadata": {},
   "source": [
    "Cara kerja atau algoritma __pengurutan data__ perlu diketahui oleh seorang programmer, meskipun di beberapa tipe data seperti _list_ dan library _Numpy_, _Pandas_ proses ini sudah disediakan fungsi `sort()`. Berikut ini beberada alasan yang mendasarinya:\n",
    "\n",
    "* _Optimisasi Kinerja_: Memilih algoritma yang tepat untuk pengurutan data dapat meningkatkan kinerja aplikasi secara signifikan. Beberapa algoritma lebih efisien dalam kondisi tertentu daripada yang lain. Misalnya, jika data sudah hampir terurut, algoritma seperti _Insertion Sort_ atau _Bubble Sort_ dapat lebih efisien daripada algoritma seperti _Quick Sort_ atau _Merge Sort_.\n",
    "\n",
    "* _Skalabilitas_: Ketika bekerja dengan jumlah data yang besar, performa algoritma pengurutan dapat berdampak pada kinerja keseluruhan aplikasi. Programmer perlu memahami kompleksitas waktu (_time complexity_) dari setiap algoritma pengurutan untuk memilih yang paling cocok dengan kebutuhan aplikasi.\n",
    "\n",
    "* _Pemecahan Masalah_: Algoritma pengurutan merupakan bagian penting dari _toolbox pemrograman_. Terkadang, algoritma pengurutan juga digunakan sebagai langkah awal dalam pemecahan masalah yang lebih kompleks. Misalnya, algoritma pengurutan sering digunakan dalam algoritma pencarian atau dalam implementasi struktur data lainnya.\n",
    "\n",
    "* _Kebutuhan Aplikasi yang Berbeda_: Tiap aplikasi memiliki kebutuhan yang berbeda-beda. Ada situasi di mana perlu memprioritaskan stabilitas pengurutan (mempertahankan urutan relatif dari elemen-elemen dengan nilai yang sama) atau meminimalkan penggunaan memori tambahan. Programmer perlu memahami karakteristik masing-masing algoritma untuk memilih yang sesuai dengan kebutuhan aplikasi.\n",
    "\n",
    "* _Pemahaman yang Mendalam tentang Komputasi_: Mengetahui berbagai algoritma pengurutan membantu programmer memahami prinsip-prinsip dasar komputasi dan logika di balik algoritma. Ini membantu meningkatkan pemahaman tentang dasar-dasar ilmu komputer dan membangun keterampilan pemecahan masalah.\n",
    "\n",
    "Algoritma pngurutann data antara lain _Bubble Sort_, Insertion Sort_, _Quick Sort_ dan _Merge Sort_."
   ]
  },
  {
   "attachments": {},
   "cell_type": "markdown",
   "metadata": {},
   "source": [
    "### 1. Bubble Sort\n"
   ]
  },
  {
   "cell_type": "code",
   "execution_count": 3,
   "metadata": {},
   "outputs": [
    {
     "name": "stdout",
     "output_type": "stream",
     "text": [
      "Array yang sudah diurutkan:\n",
      "[11, 12, 22, 25, 34, 64, 90]\n"
     ]
    }
   ],
   "source": [
    "def bubble_sort(arr):\n",
    "    n = len(arr)\n",
    "    \n",
    "    # Iterasi untuk semua elemen dalam array\n",
    "    for i in range(n):\n",
    "        \n",
    "        # Elemen-elemen terakhir i sudah berada di tempatnya,\n",
    "        # sehingga tidak perlu memeriksanya lagi\n",
    "        for j in range(0, n-i-1):\n",
    "            \n",
    "            # Tukar nilainya jika elemen j lebih besar dari elemen j berikutnya\n",
    "            if arr[j] > arr[j+1]:\n",
    "                arr[j], arr[j+1] = arr[j+1], arr[j]\n",
    "\n",
    "# Contoh penggunaan:\n",
    "arr = [64, 34, 25, 12, 22, 11, 90]\n",
    "bubble_sort(arr)\n",
    "\n",
    "print(\"Array yang sudah diurutkan:\")\n",
    "print(arr)\n"
   ]
  },
  {
   "attachments": {},
   "cell_type": "markdown",
   "metadata": {},
   "source": [
    "1. Algoritma Bubble Sort membandingkan setiap pasangan elemen berurutan dalam sebuah array dan menukar mereka jika mereka berada dalam urutan yang salah.\n",
    "\n",
    "2. Algoritma ini melakukan iterasi melalui array sebanyak n kali, di mana n adalah panjang array tersebut.\n",
    "\n",
    "3. Dalam setiap iterasi, ia membandingkan elemen-elemen berdekatan dan menukar mereka jika mereka berada dalam urutan yang salah.\n",
    "\n",
    "4. Dengan cara ini, elemen terbesar akan \"mengapung\" ke bagian atas array (seperti gelembung naik ke permukaan air), dan setelah iterasi selesai, elemen terbesar akan berada di posisi paling akhir.\n",
    "\n",
    "5. Proses ini diulangi untuk setiap elemen dalam array, hingga seluruh array terurut.\n",
    "\n",
    "> Bagaimana jika mengurutkan dari besar ke kecil (Z-A) ?"
   ]
  },
  {
   "attachments": {},
   "cell_type": "markdown",
   "metadata": {},
   "source": [
    "### 2. Insertion Sort\n"
   ]
  },
  {
   "cell_type": "code",
   "execution_count": 4,
   "metadata": {},
   "outputs": [
    {
     "name": "stdout",
     "output_type": "stream",
     "text": [
      "Array yang sudah diurutkan:\n",
      "[5, 6, 11, 12, 13]\n"
     ]
    }
   ],
   "source": [
    "def insertion_sort(arr):\n",
    "    # Lakukan iterasi untuk seluruh elemen dalam array\n",
    "    for i in range(1, len(arr)):\n",
    "        key = arr[i]\n",
    "        j = i - 1\n",
    "        \n",
    "        # Pindahkan elemen-elemen dari arr[0..i-1], yang lebih besar dari variabel key, \n",
    "        # ke satu posisi di depan posisi mereka saat ini\n",
    "        while j >= 0 and key < arr[j]:\n",
    "            arr[j + 1] = arr[j]\n",
    "            j -= 1\n",
    "        arr[j + 1] = key # Update elemen array [j+1] dengan nilai key\n",
    "\n",
    "# Contoh penggunaan:\n",
    "arr = [12, 11, 13, 5, 6]\n",
    "insertion_sort(arr)\n",
    "\n",
    "print(\"Array yang sudah diurutkan:\")\n",
    "print(arr)"
   ]
  },
  {
   "attachments": {},
   "cell_type": "markdown",
   "metadata": {},
   "source": [
    "1. Algoritma Insertion Sort __membagi array menjadi dua bagian__: bagian yang _sudah diurutkan_ dan bagian yang _belum diurutkan_. Pada awalnya, bagian terurut hanya terdiri dari satu elemen yaitu elemen pertama.\n",
    "\n",
    "2. Algoritma ini kemudian secara berurutan memilih setiap elemen dari bagian belum diurutkan dan memasukkannya ke dalam bagian yang sudah diurutkan sesuai dengan urutan yang benar.\n",
    "\n",
    "3. Ketika memasukkan setiap elemen ke dalam bagian terurut, algoritma __membandingkan elemen__ tersebut __dengan elemen-elemen__ yang sudah ada __dalam bagian terurut__ dan __menyisipkannya__ ke posisi yang tepat.\n",
    "\n",
    "4. Langkah-langkah tersebut diulangi hingga seluruh elemen diproses, dan pada akhirnya, seluruh array akan terurut.\n",
    "\n",
    "Algoritma ini cukup efisien untuk array yang kecil atau hampir terurut, tetapi tidak seefisien seperti algoritma Quicksort atau Merge Sort untuk array yang besar atau acak."
   ]
  },
  {
   "attachments": {},
   "cell_type": "markdown",
   "metadata": {},
   "source": [
    "### 3. Quick Sort\n"
   ]
  },
  {
   "cell_type": "code",
   "execution_count": 1,
   "metadata": {},
   "outputs": [
    {
     "name": "stdout",
     "output_type": "stream",
     "text": [
      "Array yang sudah diurutkan:\n",
      "[1, 5, 7, 8, 9, 10]\n"
     ]
    }
   ],
   "source": [
    "def partition(arr, low, high):\n",
    "    pivot = arr[high]\n",
    "    i = low - 1\n",
    "    \n",
    "    for j in range(low, high):\n",
    "        if arr[j] < pivot:\n",
    "            i += 1\n",
    "            arr[i], arr[j] = arr[j], arr[i]\n",
    "    \n",
    "    arr[i + 1], arr[high] = arr[high], arr[i + 1]\n",
    "    return i + 1\n",
    "\n",
    "def quick_sort(arr, low, high):\n",
    "    if low < high:\n",
    "        pi = partition(arr, low, high)\n",
    "        \n",
    "        quick_sort(arr, low, pi - 1)\n",
    "        quick_sort(arr, pi + 1, high)\n",
    "\n",
    "# Contoh penggunaan:\n",
    "arr = [10, 7, 8, 9, 1, 5]\n",
    "n = len(arr)\n",
    "quick_sort(arr, 0, n - 1)\n",
    "\n",
    "print(\"Array yang sudah diurutkan:\")\n",
    "print(arr)"
   ]
  },
  {
   "attachments": {},
   "cell_type": "markdown",
   "metadata": {},
   "source": [
    "__Algoritma Quick Sort__ merupakan algoritma pengurutan yang menggunakan pendekatan _divide and conquer_ (bagi dan kuasai).\n",
    "\n",
    "1. Langkah pertama adalah memilih _elemen pivot_ dari array. Dalam implementasi di atas, elemen pivot diambil dari bagian paling kanan array.\n",
    "\n",
    "2. Setelah elemen pivot dipilih, array dibagi menjadi dua bagian: elemen-elemen yang lebih kecil dari pivot dan elemen-elemen yang lebih besar dari pivot.\n",
    "\n",
    "3. Selanjutnya, melakukan partisi pada array sehingga elemen-elemen yang lebih kecil dari pivot berada di sebelah kiri pivot, dan elemen-elemen yang lebih besar berada di sebelah kanan pivot. Ini dilakukan menggunakan _fungsi partition_.\n",
    "\n",
    "4. Setelah partisi selesai, melakukan rekursi pada kedua bagian array yang tersisa (kiri dan kanan) secara terpisah sampai setiap bagian menjadi terurut.\n",
    "\n",
    "5. Ketika proses rekursi selesai, seluruh array akan terurut secara keseluruhan.\n",
    "\n",
    "Algoritma Quick Sort memiliki kompleksitas waktu rata-rata O(n log n) dan kompleksitas waktu terburuk O(n^2). Meskipun memiliki kompleksitas waktu terburuk yang lebih buruk daripada Merge Sort, Quick Sort biasanya lebih cepat dalam praktiknya karena overhead yang lebih rendah."
   ]
  },
  {
   "cell_type": "code",
   "execution_count": 2,
   "metadata": {},
   "outputs": [
    {
     "name": "stdout",
     "output_type": "stream",
     "text": [
      "Array yang sudah diurutkan:\n",
      "[1, 5, 7, 8, 9, 10]\n"
     ]
    }
   ],
   "source": [
    "# Modifikasi quick sort menggunakan fungsi rekursif dan lambda\n",
    "def quick_sort(arr):\n",
    "    if len(arr) <= 1:\n",
    "        return arr\n",
    "    else:\n",
    "        pivot = arr[0]\n",
    "        less_than_pivot = [x for x in arr[1:] if x <= pivot]\n",
    "        greater_than_pivot = [x for x in arr[1:] if x > pivot]\n",
    "        return quick_sort(less_than_pivot) + [pivot] + quick_sort(greater_than_pivot)\n",
    "\n",
    "# Contoh penggunaan:\n",
    "arr = [10, 7, 8, 9, 1, 5]\n",
    "sorted_arr = quick_sort(arr)\n",
    "print(\"Array yang sudah diurutkan:\")\n",
    "print(sorted_arr)"
   ]
  },
  {
   "attachments": {},
   "cell_type": "markdown",
   "metadata": {},
   "source": [
    "Algoritma Quick Sort menggunakan pendekatan rekursif dan fungsi lambda untuk mengurutkan array.\n",
    "\n",
    "1. Pada setiap langkah, algoritma ini memilih elemen pivot dari array. Dalam implementasi di atas, elemen pertama dalam array dijadikan sebagai pivot.\n",
    "\n",
    "2. Selanjutnya, algoritma membagi array menjadi dua bagian: elemen-elemen yang lebih kecil dari atau sama dengan pivot, dan elemen-elemen yang lebih besar dari pivot.\n",
    "\n",
    "3. Algoritma kemudian memanggil dirinya sendiri secara rekursif untuk mengurutkan kedua bagian array tersebut.\n",
    "\n",
    "4. Setelah rekursi selesai, elemen-elemen dari kedua bagian yang sudah diurutkan digabungkan bersama dengan pivot di antara keduanya, sehingga membentuk array yang sudah terurut.\n",
    "\n",
    "5. Proses ini diulangi hingga seluruh array terurut."
   ]
  },
  {
   "attachments": {},
   "cell_type": "markdown",
   "metadata": {},
   "source": [
    "### 4. Merge Sort\n"
   ]
  },
  {
   "cell_type": "code",
   "execution_count": 3,
   "metadata": {},
   "outputs": [
    {
     "name": "stdout",
     "output_type": "stream",
     "text": [
      "Array yang sudah diurutkan:\n",
      "[5, 6, 7, 11, 12, 13]\n"
     ]
    }
   ],
   "source": [
    "def merge_sort(arr):\n",
    "    if len(arr) > 1:\n",
    "        mid = len(arr) // 2  # Menentukan titik tengah array\n",
    "        left_half = arr[:mid]  # Membagi array menjadi dua bagian\n",
    "        right_half = arr[mid:]\n",
    "\n",
    "        # Rekursi untuk mengurutkan kedua bagian array\n",
    "        merge_sort(left_half)\n",
    "        merge_sort(right_half)\n",
    "\n",
    "        # Inisialisasi indeks untuk kedua bagian array dan array utuh\n",
    "        i = j = k = 0\n",
    "\n",
    "        # Menggabungkan kedua bagian yang sudah diurutkan menjadi array yang utuh\n",
    "        while i < len(left_half) and j < len(right_half):\n",
    "            if left_half[i] < right_half[j]:\n",
    "                arr[k] = left_half[i]\n",
    "                i += 1\n",
    "            else:\n",
    "                arr[k] = right_half[j]\n",
    "                j += 1\n",
    "            k += 1\n",
    "\n",
    "        # Menyalin sisa elemen yang belum tergabung dari kedua bagian\n",
    "        while i < len(left_half):\n",
    "            arr[k] = left_half[i]\n",
    "            i += 1\n",
    "            k += 1\n",
    "\n",
    "        while j < len(right_half):\n",
    "            arr[k] = right_half[j]\n",
    "            j += 1\n",
    "            k += 1\n",
    "\n",
    "# Contoh penggunaan:\n",
    "arr = [12, 11, 13, 5, 6, 7]\n",
    "merge_sort(arr)\n",
    "print(\"Array yang sudah diurutkan:\")\n",
    "print(arr)"
   ]
  },
  {
   "attachments": {},
   "cell_type": "markdown",
   "metadata": {},
   "source": [
    "Algoritma Merge Sort menggunakan pendekatan divide and conquer (bagi dan kuasai) untuk mengurutkan array.\n",
    "\n",
    "1. Pada setiap langkah, algoritma membagi array menjadi dua bagian hingga setiap bagian hanya berisi satu elemen.\n",
    "\n",
    "2. Setelah array dibagi menjadi bagian-bagian yang lebih kecil, algoritma secara rekursif mengurutkan kedua bagian tersebut.\n",
    "\n",
    "3. Setelah kedua bagian diurutkan, algoritma menggabungkan kedua bagian tersebut kembali menjadi array yang utuh dengan cara membandingkan elemen-elemen dari kedua bagian dan menempatkannya dalam urutan yang benar.\n",
    "\n",
    "4. Proses ini diulangi hingga seluruh array terurut.\n",
    "\n",
    "Algoritma Merge Sort memiliki kompleksitas waktu O(n log n), di mana n adalah jumlah elemen dalam array. Hal ini membuat Merge Sort menjadi salah satu algoritma pengurutan yang efisien, terutama untuk data dalam jumlah besar."
   ]
  },
  {
   "attachments": {},
   "cell_type": "markdown",
   "metadata": {},
   "source": [
    "1. Fungsi merge_sort() menerima sebuah array sebagai argumen.\n",
    "\n",
    "2. Jika panjang array lebih dari 1, fungsi membagi array menjadi dua bagian.\n",
    "\n",
    "3. Fungsi kemudian melakukan rekursi untuk mengurutkan kedua bagian array tersebut.\n",
    "\n",
    "4. Setelah kedua bagian diurutkan, fungsi merge_sort() memanggil fungsi merge() untuk menggabungkan kedua bagian tersebut kembali menjadi array yang terurut.\n",
    "\n",
    "5. Fungsi merge() melakukan penggabungan dengan cara membandingkan elemen-elemen dari kedua bagian array dan menempatkannya dalam urutan yang benar.\n",
    "\n",
    "6. Proses ini diulangi hingga seluruh array terurut.\n",
    "\n"
   ]
  },
  {
   "attachments": {},
   "cell_type": "markdown",
   "metadata": {},
   "source": [
    "## 5. Kinerja Algoritma Pengurutan"
   ]
  },
  {
   "attachments": {},
   "cell_type": "markdown",
   "metadata": {},
   "source": [
    "Pernyataan \"kompleksitas waktu rata-rata O(n log n) dan kompleksitas waktu terburuk O(n^2)\" mengacu pada kinerja algoritma pengurutan dalam hal waktu yang diperlukan untuk mengurutkan data.\n",
    "\n",
    "##### 1. Kompleksitas Waktu Rata-rata O(n log n):\n",
    "\n",
    "* Ini berarti bahwa pada kasus rata-rata, algoritma tersebut memiliki kompleksitas waktu yang tumbuh secara logaritmik terhadap ukuran input data (n).\n",
    "* Algoritma dengan kompleksitas waktu O(n log n) umumnya dianggap efisien dan dapat menangani jumlah data yang besar dengan relatif cepat.\n",
    "* Contoh dari algoritma dengan kompleksitas waktu rata-rata O(n log n) adalah Merge Sort dan Quick Sort.\n",
    "\n",
    "##### 2. Kompleksitas Waktu Terburuk O(n^2):\n",
    "\n",
    "* Ini berarti bahwa pada kasus terburuk, algoritma tersebut memiliki kompleksitas waktu yang tumbuh secara kuadratik terhadap ukuran input data (n).\n",
    "* Algoritma dengan kompleksitas waktu O(n^2) cenderung tidak efisien dan dapat menjadi lambat saat menangani jumlah data yang besar.\n",
    "* Contoh dari algoritma dengan kompleksitas waktu terburuk O(n^2) adalah Bubble Sort dan Insertion Sort."
   ]
  }
 ],
 "metadata": {
  "kernelspec": {
   "display_name": "python_programming_3in1",
   "language": "python",
   "name": "python3"
  },
  "language_info": {
   "codemirror_mode": {
    "name": "ipython",
    "version": 3
   },
   "file_extension": ".py",
   "mimetype": "text/x-python",
   "name": "python",
   "nbconvert_exporter": "python",
   "pygments_lexer": "ipython3",
   "version": "3.9.10"
  },
  "orig_nbformat": 4
 },
 "nbformat": 4,
 "nbformat_minor": 2
}
