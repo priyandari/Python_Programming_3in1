{
 "cells": [
  {
   "attachments": {},
   "cell_type": "markdown",
   "metadata": {},
   "source": [
    "# Penanganan File dan Direktori\n",
    "\n",
    "Penanganan file mencakup proses membuka `open()`, menutup `closed()`, membaca `read()` dan menulis `write()`. Oleh karena itu, ada beberapa hal yang harus dipahami terlebih dahulu pada saat membuka `open()` file, yakni __mode akses__."
   ]
  },
  {
   "cell_type": "markdown",
   "metadata": {},
   "source": [
    "Mode akses files.\n",
    "\n",
    "![Alt text](images/file_mode_akses1.jpg)"
   ]
  },
  {
   "cell_type": "markdown",
   "metadata": {},
   "source": [
    "Kombinasi mode akses files menjadi sebagai berikut.\n",
    "\n",
    "![Alt text](images/file_mode_akses.jpg)"
   ]
  },
  {
   "attachments": {},
   "cell_type": "markdown",
   "metadata": {},
   "source": [
    "## 1. Membuka file"
   ]
  },
  {
   "attachments": {},
   "cell_type": "markdown",
   "metadata": {},
   "source": [
    "Membuka, membaca, dan menulis file perlu menentukan lokasi (_path_) suatu file.\n",
    "\n",
    "* `C:\\MyFolder\\MySubFolder\\MySubSubFolder\\MyFile.txt`\n",
    "* `Macintosh HD/MyFolder/MySubFolder/MySubSubFolderMyFile/MyFile.txt`"
   ]
  },
  {
   "attachments": {},
   "cell_type": "markdown",
   "metadata": {},
   "source": [
    "Ketika menjalankan fungsi `open()`, fungsi tersebut memberikan nilai balik setidaknya dalam 3 atribut sebagai berikut:\n",
    "\n",
    "* `closed` : bernilai _True_ jika file tersebut _masih tertutup_, sebaliknya _False_.\n",
    "* `mode`   : bernilai mode yang digunakan, misal r+\n",
    "* `name`   : nama file yang dibuka, misal file_latihan1.txt"
   ]
  },
  {
   "cell_type": "code",
   "execution_count": 15,
   "metadata": {},
   "outputs": [
    {
     "name": "stdout",
     "output_type": "stream",
     "text": [
      "<_io.TextIOWrapper name='files/file_latihan1.txt' mode='r' encoding='cp1252'>\n",
      "False\n",
      "files/file_latihan1.txt\n",
      "r\n"
     ]
    }
   ],
   "source": [
    "f = open(\"files/file_latihan1.txt\", \"r\")\n",
    "print(f)\n",
    "print(f.closed)\n",
    "print(f.name)\n",
    "print(f.mode)"
   ]
  },
  {
   "attachments": {},
   "cell_type": "markdown",
   "metadata": {},
   "source": [
    "## 2. Menutup file\n",
    "\n",
    "Ketika membuka file open(), kita menyimpan nilai balik misal dalam variabel atau objek `f`, sehingga ketika akan menutupnya, gunakan sintaks 'f.close()'."
   ]
  },
  {
   "cell_type": "code",
   "execution_count": 18,
   "metadata": {},
   "outputs": [
    {
     "name": "stdout",
     "output_type": "stream",
     "text": [
      "<_io.TextIOWrapper name='files/file_latihan1.txt' mode='r' encoding='cp1252'>\n",
      "Bukti file sudah dibuka :  False\n",
      "files/file_latihan1.txt\n",
      "r\n",
      "Bukti file sudah ditutup :  True\n"
     ]
    }
   ],
   "source": [
    "# Membuka file\n",
    "f = open(\"files/file_latihan1.txt\", \"r\")\n",
    "print(f)\n",
    "print(\"Bukti file sudah dibuka : \", f.closed)\n",
    "print(f.name)\n",
    "print(f.mode)\n",
    "\n",
    "# Menutup file\n",
    "f.close()\n",
    "print(\"Bukti file sudah ditutup : \", f.closed)\n"
   ]
  },
  {
   "attachments": {},
   "cell_type": "markdown",
   "metadata": {},
   "source": [
    "## 3. Membaca file\n",
    "\n",
    "Proses membaca suatu file teks, prinsipnya ada tiga tahapan:\n",
    "1. Buka file `varObject = open(*args)` .\n",
    "2. Baca file `varString = varobject.read(*args)`, disimpan dalam variabel string\n",
    "3. Tutup `varObject.close()`\n",
    "\n",
    "Berikut ini macam-macam cara membaca data di dalam file."
   ]
  },
  {
   "cell_type": "code",
   "execution_count": 22,
   "metadata": {},
   "outputs": [
    {
     "name": "stdout",
     "output_type": "stream",
     "text": [
      "isi file latihan 1\n",
      "Bukti file sudah ditutup :  True\n"
     ]
    }
   ],
   "source": [
    "# Membuka file\n",
    "f = open(\"files/file_latihan1.txt\", \"r\")\n",
    "\n",
    "# Membaca dengan fungsi read(), membaca sebanyak 19 byte\n",
    "s = f.read(19)\n",
    "print(s)\n",
    "\n",
    "# Menutup file\n",
    "f.close()\n",
    "print(\"Bukti file sudah ditutup : \", f.closed)"
   ]
  },
  {
   "cell_type": "code",
   "execution_count": 23,
   "metadata": {},
   "outputs": [
    {
     "name": "stdout",
     "output_type": "stream",
     "text": [
      "isi file latihan 1\n",
      "Bukti file sudah ditutup :  True\n"
     ]
    }
   ],
   "source": [
    "# Membuka file\n",
    "f = open(\"files/file_latihan1.txt\", \"r\")\n",
    "\n",
    "# Membaca dengan fungsi readline() membaca 1 baris\n",
    "s = f.readline()\n",
    "print(s)\n",
    "\n",
    "# Menutup file\n",
    "f.close()\n",
    "print(\"Bukti file sudah ditutup : \", f.closed)"
   ]
  },
  {
   "cell_type": "code",
   "execution_count": 24,
   "metadata": {},
   "outputs": [
    {
     "name": "stdout",
     "output_type": "stream",
     "text": [
      "isi file latihan 1\n",
      "isi file latihan 1 baris 2\n",
      "isi file latihan 1 baris 3\n",
      "Bukti file sudah ditutup :  True\n"
     ]
    }
   ],
   "source": [
    "# Membuka file\n",
    "f = open(\"files/file_latihan1.txt\", \"r\")\n",
    "\n",
    "# Membaca dengan fungsi readline() membaca seluruh baris\n",
    "while True:\n",
    "    baris = f.readline()\n",
    "    if not baris: # Jika baris sudah tidak berisi data (EOF)\n",
    "        break\n",
    "    print(baris, end='')\n",
    "\n",
    "# Menutup file\n",
    "f.close()\n",
    "print(\"Bukti file sudah ditutup : \", f.closed)"
   ]
  },
  {
   "cell_type": "code",
   "execution_count": 29,
   "metadata": {},
   "outputs": [
    {
     "name": "stdout",
     "output_type": "stream",
     "text": [
      "isi file latihan 1\n",
      "isi file latihan 1 baris 2\n",
      "isi file latihan 1 baris 3\n",
      "Bukti file sudah ditutup :  True\n"
     ]
    }
   ],
   "source": [
    "# Membuka file\n",
    "f = open(\"files/file_latihan1.txt\", \"r\")\n",
    "\n",
    "# Membaca isi file dan loop dengan for. TIDAK PERLU lagi fungsi read()\n",
    "for baris in f:\n",
    "    print(baris, end='')\n",
    "\n",
    "# Menutup file\n",
    "f.close()\n",
    "print(\"Bukti file sudah ditutup : \", f.closed)"
   ]
  },
  {
   "cell_type": "code",
   "execution_count": 31,
   "metadata": {},
   "outputs": [
    {
     "name": "stdout",
     "output_type": "stream",
     "text": [
      "<class 'list'>\n",
      "['isi file latihan 1\\n', 'isi file latihan 1 baris 2\\n', 'isi file latihan 1 baris 3\\n']\n",
      "-----------\n",
      "isi file latihan 1\n",
      "isi file latihan 1 baris 2\n",
      "isi file latihan 1 baris 3\n",
      "Bukti file sudah ditutup :  True\n"
     ]
    }
   ],
   "source": [
    "# Membuka file\n",
    "f = open(\"files/file_latihan1.txt\", \"r\")\n",
    "\n",
    "# Membaca isi file menggunakan readlines(). Setiap baris data disimpan dalam list\n",
    "isi_file = f.readlines()\n",
    "print(type(isi_file))\n",
    "print(isi_file)\n",
    "print(\"-----------\")\n",
    "for baris in isi_file:\n",
    "    print(baris, end='')\n",
    "\n",
    "# Menutup file\n",
    "f.close()\n",
    "print(\"Bukti file sudah ditutup : \", f.closed)"
   ]
  },
  {
   "cell_type": "code",
   "execution_count": 4,
   "metadata": {},
   "outputs": [
    {
     "name": "stdout",
     "output_type": "stream",
     "text": [
      "isi file latihan 1\n",
      "isi file latihan 1 baris 2\n",
      "isi file latihan 1 baris 3\n",
      "Bukti file sudah ditutup :  True\n"
     ]
    }
   ],
   "source": [
    "# Menggabungkan pembukaan file dan membaca menggunakan with\n",
    "with open(\"files/file_latihan1.txt\", \"r\") as f:\n",
    "    for baris in f:\n",
    "        print(baris, end='')\n",
    "\n",
    "# Menutup file\n",
    "f.close()\n",
    "print(\"Bukti file sudah ditutup : \", f.closed)"
   ]
  },
  {
   "attachments": {},
   "cell_type": "markdown",
   "metadata": {},
   "source": [
    "## 4. Menulis file\n",
    "\n",
    "Proses menulis suatu file teks, prinsipnya ada tiga tahapan:\n",
    "1. Buka file `varObject = open(*args)` .\n",
    "2. Menulis file `varobject.write(\"String data yang ditulis\")`, \n",
    "3. Tutup `varObject.close()`"
   ]
  },
  {
   "cell_type": "code",
   "execution_count": 3,
   "metadata": {},
   "outputs": [
    {
     "name": "stdout",
     "output_type": "stream",
     "text": [
      "Bukti file sudah ditutup :  True\n",
      "Cari file_latihan2.txt dan lihat isinya\n"
     ]
    }
   ],
   "source": [
    "# Membuka file\n",
    "f = open(\"files/file_latihan2.txt\", \"w\")\n",
    "\n",
    "# Menulis dengan fungsi write()\n",
    "f.write(\"Isi file latihan menulis 1\\n\") # Perhatikan penggunaan \\n untuk new line\n",
    "f.write(\"Isi file latihan menulis 1 baris ke-2\")\n",
    "\n",
    "# Menutup file\n",
    "f.close()\n",
    "print(\"Bukti file sudah ditutup : \", f.closed)\n",
    "print(\"Cari file_latihan2.txt dan lihat isinya\")"
   ]
  },
  {
   "attachments": {},
   "cell_type": "markdown",
   "metadata": {},
   "source": [
    "## 5. Fungsi Berkaitan dengan Files\n",
    "\n",
    "Beberapa fungsi files telah dipelajari, dan beberapa lainnya dapat dipraktekkan mandiri\n",
    "* `open()`  : membuka file \n",
    "* `close()`  : menutup file \n",
    "* `read(<byte>)` : membaca isi file dalam jumlah byte tertenu\n",
    "* `readline(<indek_baris>)` : membaca hanya sebuah baris teks\n",
    "* `readlines()` : membaca seluruh baris teks dan menyimpan menjadi list\n",
    "* `write('teks')` : menuliskan \"teks\" ke sebuah file\n",
    "* `truncate()` : menghapus isi sebuah file\n",
    "* `seek(0)` : memindahkan posisi pembacaan/penulisan (read/write) ke posisi indeks di awal\n",
    "* `tell()` : mengetahui posisi pointer/penunjuk file\n",
    "\n"
   ]
  },
  {
   "attachments": {},
   "cell_type": "markdown",
   "metadata": {},
   "source": [
    "## 6. Mengganti Nama dan Menghapus File \n",
    "\n",
    "Fungsi yang digunakan\n",
    "* `rename()`  : mengubah nama file \n",
    "* `remove()`  : menghapus file\n",
    "\n",
    "Perlu mengimport modul _operating system_ `os`\n"
   ]
  },
  {
   "cell_type": "code",
   "execution_count": 6,
   "metadata": {},
   "outputs": [],
   "source": [
    "# Rename file\n",
    "import os\n",
    "\n",
    "os.rename(\"files/file_latihanrename2.txt\", \"files/file_latihanrename1.txt\")"
   ]
  },
  {
   "cell_type": "code",
   "execution_count": 8,
   "metadata": {},
   "outputs": [],
   "source": [
    "# Hapus file\n",
    "import os\n",
    "\n",
    "os.remove(\"files/file_latihanhapus.txt\")"
   ]
  },
  {
   "attachments": {},
   "cell_type": "markdown",
   "metadata": {},
   "source": [
    "## 7. Periksa Keberadaan File\n",
    "\n",
    "Fungsi yang digunakan\n",
    "* `exists()`  : mengubah nama file \n",
    "\n",
    "Perlu mengimport modul _operating system_ `os`"
   ]
  },
  {
   "cell_type": "code",
   "execution_count": 9,
   "metadata": {},
   "outputs": [
    {
     "name": "stdout",
     "output_type": "stream",
     "text": [
      "Check file ada ? True\n"
     ]
    }
   ],
   "source": [
    "# Periksa Keberadaan file\n",
    "import os\n",
    "\n",
    "print(f\"Check file ada ? {os.path.exists('files/file_latihanhapus.txt')}\")"
   ]
  },
  {
   "attachments": {},
   "cell_type": "markdown",
   "metadata": {},
   "source": [
    "## 8. Direktori (Folder)\n",
    "\n",
    "#### 8.1 Mengetahui Direktori (folder) Aktif\n",
    "Fungsi yang digunakan\n",
    "* `os.getcwd()`  : mengetahui nama direktori aktif dimana file bekerja \n",
    "\n",
    "Perlu mengimport modul _operating system_ `os`"
   ]
  },
  {
   "cell_type": "code",
   "execution_count": 10,
   "metadata": {},
   "outputs": [
    {
     "name": "stdout",
     "output_type": "stream",
     "text": [
      "d:\\20_DEV\\python_programming_3in1\n"
     ]
    }
   ],
   "source": [
    "# Mengetahui direktori aktif\n",
    "import os\n",
    "\n",
    "dir_aktif = os.getcwd()\n",
    "print(dir_aktif) "
   ]
  },
  {
   "attachments": {},
   "cell_type": "markdown",
   "metadata": {},
   "source": [
    "#### 8.2 Berpindah Direktori (folder)\n",
    "Fungsi yang digunakan\n",
    "* `os.chdir(\"namaDirektoriTujuan\")`  : berpindah direktori aktif \n",
    "\n",
    "Perlu mengimport modul _operating system_ `os`"
   ]
  },
  {
   "cell_type": "code",
   "execution_count": 11,
   "metadata": {},
   "outputs": [
    {
     "name": "stdout",
     "output_type": "stream",
     "text": [
      "d:\\20_DEV\\python_programming_3in1\n",
      "D:\\01_KULIAH_ACT\\Program Komputer 2023 Genap\n"
     ]
    }
   ],
   "source": [
    "# Berpindah Direktori Aktif\n",
    "import os\n",
    "\n",
    "dir_aktif = os.getcwd()\n",
    "print(dir_aktif)\n",
    "# Pindah direktori\n",
    "os.chdir(\"D:/01_KULIAH_ACT/Program Komputer 2023 Genap/\") \n",
    "dir_aktif = os.getcwd()\n",
    "print(dir_aktif)\n"
   ]
  },
  {
   "attachments": {},
   "cell_type": "markdown",
   "metadata": {},
   "source": [
    "#### 8.3 Membuat Direktori (folder)\n",
    "Fungsi yang digunakan\n",
    "* `os.mkdir(\"namaDirektoriDibuat\")`  : membuat direktori\n",
    "\n",
    "Perlu mengimport modul _operating system_ `os`"
   ]
  },
  {
   "cell_type": "code",
   "execution_count": 14,
   "metadata": {},
   "outputs": [
    {
     "name": "stdout",
     "output_type": "stream",
     "text": [
      "D:\\20_DEV\\python_programming_3in1\n"
     ]
    }
   ],
   "source": [
    "# Membuat direktori\n",
    "import os\n",
    "\n",
    "# Periksa dahulu posisi direktori aktif saat ini\n",
    "dir_aktif = os.getcwd()\n",
    "print(dir_aktif)\n",
    "# Jika perlu diubah, lakukan\n",
    "# os.chdir(\"D:/20_DEV/python_programming_3in1/\")\n",
    "\n",
    "os.mkdir(\"files/direktori_dibuat\")"
   ]
  },
  {
   "attachments": {},
   "cell_type": "markdown",
   "metadata": {},
   "source": [
    "#### 8.4 Mengapus Direktori (folder)\n",
    "Fungsi yang digunakan\n",
    "* `os.rmdir(\"namaDirektoriDihapus\")`  : menghapus direktori\n",
    "\n",
    "Perlu mengimport modul _operating system_ `os`"
   ]
  },
  {
   "cell_type": "code",
   "execution_count": 15,
   "metadata": {},
   "outputs": [
    {
     "name": "stdout",
     "output_type": "stream",
     "text": [
      "D:\\20_DEV\\python_programming_3in1\n"
     ]
    }
   ],
   "source": [
    "# Mengapus direktori\n",
    "import os\n",
    "\n",
    "# Periksa dahulu posisi direktori aktif saat ini\n",
    "dir_aktif = os.getcwd()\n",
    "print(dir_aktif)\n",
    "# Jika perlu diubah, lakukan\n",
    "# os.chdir(\"D:/20_DEV/python_programming_3in1/\")\n",
    "\n",
    "os.rmdir(\"files/direktori_dibuat\")"
   ]
  }
 ],
 "metadata": {
  "kernelspec": {
   "display_name": "Python 3",
   "language": "python",
   "name": "python3"
  },
  "language_info": {
   "codemirror_mode": {
    "name": "ipython",
    "version": 3
   },
   "file_extension": ".py",
   "mimetype": "text/x-python",
   "name": "python",
   "nbconvert_exporter": "python",
   "pygments_lexer": "ipython3",
   "version": "3.9.10"
  }
 },
 "nbformat": 4,
 "nbformat_minor": 2
}
