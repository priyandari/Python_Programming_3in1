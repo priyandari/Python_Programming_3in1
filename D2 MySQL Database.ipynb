{
 "cells": [
  {
   "attachments": {},
   "cell_type": "markdown",
   "metadata": {},
   "source": [
    "### MySQL Database\n",
    "\n",
    "Link Tutorial lengkap:\n",
    "\n",
    "https://realpython.com/python-mysql/\n",
    "\n",
    "https://www.w3schools.com/python/python_mysql_getstarted.asp\n",
    "\n",
    "\n",
    "Tutorial ini sebagai sebuah pengenalan sederhana dan dibatasi tatacara __mengakses data__ dari sebuah MySQL database."
   ]
  },
  {
   "cell_type": "code",
   "execution_count": 3,
   "metadata": {},
   "outputs": [
    {
     "data": {
      "text/plain": [
       "' \\nAsumsi:\\n1. Telah install MySQL software, baik berdiri sendiri maupun melalui bundling XAMPP atau Laragon\\n2. Aktikan atau Run Mysql Database telah dilakukan\\n3. Memiliki sebuah database yang akan ditampilkan datanya\\n'"
      ]
     },
     "execution_count": 3,
     "metadata": {},
     "output_type": "execute_result"
    }
   ],
   "source": [
    "''' \n",
    "Asumsi:\n",
    "1. Telah install MySQL software, baik berdiri sendiri maupun melalui bundling XAMPP atau Laragon\n",
    "2. Aktikan atau Run Mysql Database telah dilakukan\n",
    "3. Memiliki sebuah database yang akan ditampilkan datanya\n",
    "'''"
   ]
  },
  {
   "cell_type": "code",
   "execution_count": 1,
   "metadata": {},
   "outputs": [],
   "source": [
    "# Install library\n",
    "# pip install mysql-connector-python"
   ]
  },
  {
   "cell_type": "code",
   "execution_count": 13,
   "metadata": {},
   "outputs": [
    {
     "name": "stdout",
     "output_type": "stream",
     "text": [
      "('B001', 'Ir. Sutami 20 Jebres', 'Solo', 'Jawa Tengah', '97201', 'S0003')\n",
      "('B002', 'Gondotaman 52', 'Yogyakarta', 'Yogyakarta', '98122', 'S0010')\n",
      "('B003', 'Simpang Lima 5', 'Semarang', 'Jawa Tengah', '10012', 'S0415')\n",
      "('B004', 'Homan 23', 'Bandung', 'Jawa Barat', '98128', 'S2250')\n",
      "('B005', 'Sepuluh November 10', 'Surabaya', 'Jawa Timur', '10013', None)\n",
      "('B056', 'street', 'City', 'Aceh', '00000', None)\n"
     ]
    }
   ],
   "source": [
    "import mysql.connector\n",
    "\n",
    "# Koneksi ke Database,\n",
    "mydb = mysql.connector.connect(\n",
    "  host=\"localhost\",\n",
    "  user=\"root\",\n",
    "  password=\"\",\n",
    "  database=\"stayhome\"\n",
    ")\n",
    "\n",
    "mycursor = mydb.cursor()\n",
    "\n",
    "sql_string = \"SELECT * FROM branch\"\n",
    "mycursor.execute(sql_string)\n",
    "\n",
    "myresult = mycursor.fetchall()\n",
    "for row in myresult:\n",
    "  print(row)"
   ]
  },
  {
   "cell_type": "code",
   "execution_count": 14,
   "metadata": {},
   "outputs": [
    {
     "name": "stdout",
     "output_type": "stream",
     "text": [
      "[('branchNo', 253, None, None, None, None, 0, 20483, 45), ('street', 253, None, None, None, None, 0, 1, 45), ('city', 253, None, None, None, None, 0, 16393, 45), ('state', 254, None, None, None, None, 0, 4353, 45), ('zipcode', 253, None, None, None, None, 0, 1, 45), ('mgrStaffNo', 253, None, None, None, None, 1, 16392, 45)]\n",
      "branchNo\n",
      "street\n",
      "city\n",
      "state\n",
      "zipcode\n",
      "mgrStaffNo\n"
     ]
    }
   ],
   "source": [
    "# Menampilkan nama-nama atribut atau kolom dalam tabel branch\n",
    "print(mycursor.description)\n",
    "columns = [column[0] for column in mycursor.description]\n",
    "for column in columns:\n",
    "    print(column)"
   ]
  },
  {
   "cell_type": "code",
   "execution_count": 15,
   "metadata": {},
   "outputs": [
    {
     "name": "stdout",
     "output_type": "stream",
     "text": [
      "('B004', 'Bandung')\n",
      "('B056', 'City')\n",
      "('B003', 'Semarang')\n",
      "('B001', 'Solo')\n",
      "('B005', 'Surabaya')\n",
      "('B002', 'Yogyakarta')\n"
     ]
    }
   ],
   "source": [
    "import mysql.connector\n",
    "\n",
    "# Koneksi ke Database,\n",
    "mydb = mysql.connector.connect(\n",
    "  host=\"localhost\",\n",
    "  user=\"root\",\n",
    "  password=\"\",\n",
    "  database=\"stayhome\"\n",
    ")\n",
    "\n",
    "mycursor = mydb.cursor()\n",
    "\n",
    "# Menampilkan sebagian atribut tertentu saja\n",
    "sql_string = \"SELECT branchno, city FROM branch\"\n",
    "mycursor.execute(sql_string)\n",
    "\n",
    "myresult = mycursor.fetchall()\n",
    "for row in myresult:\n",
    "  print(row)"
   ]
  },
  {
   "cell_type": "code",
   "execution_count": 18,
   "metadata": {},
   "outputs": [
    {
     "name": "stdout",
     "output_type": "stream",
     "text": [
      "[('B004', 'Bandung'), ('B056', 'City'), ('B003', 'Semarang'), ('B001', 'Solo'), ('B005', 'Surabaya'), ('B002', 'Yogyakarta')]\n",
      "('B004', 'Bandung')\n",
      "('B056', 'City')\n",
      "('B003', 'Semarang')\n",
      "('B001', 'Solo')\n",
      "('B005', 'Surabaya')\n",
      "('B002', 'Yogyakarta')\n"
     ]
    }
   ],
   "source": [
    "# Menyimpan data menjadi list\n",
    "\n",
    "data_list =[]\n",
    "for row in myresult:\n",
    "  data_list.append(row)\n",
    "  \n",
    "print(data_list)\n",
    "for baris in data_list:\n",
    "    print(baris)"
   ]
  },
  {
   "cell_type": "code",
   "execution_count": 27,
   "metadata": {},
   "outputs": [
    {
     "name": "stdout",
     "output_type": "stream",
     "text": [
      "('branchNo', 'varchar(4)', 'NO', 'PRI', None, '')\n",
      "('street', 'varchar(20)', 'NO', '', 'street', '')\n",
      "('city', 'varchar(20)', 'NO', 'MUL', 'City', '')\n",
      "('state', \"enum('Aceh','DKI Jakarta','Jambi','Jawa Tengah','Jawa Barat','Jawa Timur','Nusa Tenggara Barat','Jayapura','Ambon','Kalimantan Selatan','Kalimantan Timur','Kalimantan Tengah','Sulawesi Selatan','Sulawesi Tenggara','Sumatera Selatan','Sumatera Barat','Sumatera Utara','Yogyakarta')\", 'NO', '', None, '')\n",
      "('zipcode', 'varchar(5)', 'NO', '', '00000', '')\n",
      "('mgrStaffNo', 'varchar(5)', 'YES', 'MUL', None, '')\n"
     ]
    }
   ],
   "source": [
    "# Melihat atribut-atribut dalam suatu tabel\n",
    "import mysql.connector\n",
    "\n",
    "# Koneksi ke Database,\n",
    "mydb = mysql.connector.connect(\n",
    "  host=\"localhost\",\n",
    "  user=\"root\",\n",
    "  password=\"\",\n",
    "  database=\"stayhome\"\n",
    ")\n",
    "\n",
    "mycursor = mydb.cursor()\n",
    "\n",
    "# Melihat atribut-atribut dalam suatu tabel\n",
    "sql_string = \"DESCRIBE branch\"\n",
    "mycursor.execute(sql_string)\n",
    "\n",
    "myresult = mycursor.fetchall()\n",
    "for row in myresult:\n",
    "  print(row)\n",
    "  \n"
   ]
  },
  {
   "cell_type": "code",
   "execution_count": 26,
   "metadata": {},
   "outputs": [
    {
     "name": "stdout",
     "output_type": "stream",
     "text": [
      "('actor',)\n",
      "('branch',)\n",
      "('director',)\n",
      "('member',)\n",
      "('registration',)\n",
      "('rental',)\n",
      "('role',)\n",
      "('staff',)\n",
      "('supplier',)\n",
      "('telephone',)\n",
      "('teleponstaff',)\n",
      "('video',)\n",
      "('videoitem',)\n",
      "('videoorder',)\n",
      "('videoorderline',)\n"
     ]
    }
   ],
   "source": [
    "# Melihat tabel-tabel dalam sebuah database\n",
    "import mysql.connector\n",
    "\n",
    "# Koneksi ke Database,\n",
    "mydb = mysql.connector.connect(\n",
    "  host=\"localhost\",\n",
    "  user=\"root\",\n",
    "  password=\"\",\n",
    "  database=\"stayhome\"\n",
    ")\n",
    "\n",
    "mycursor = mydb.cursor()\n",
    "\n",
    "# Melihat daftar tabel dalam sebuah database\n",
    "sql_string = \"SHOW tables\"\n",
    "mycursor.execute(sql_string)\n",
    "\n",
    "myresult = mycursor.fetchall()\n",
    "for row in myresult:\n",
    "  print(row)\n",
    "  "
   ]
  }
 ],
 "metadata": {
  "kernelspec": {
   "display_name": "python_programming_3in1",
   "language": "python",
   "name": "python3"
  },
  "language_info": {
   "codemirror_mode": {
    "name": "ipython",
    "version": 3
   },
   "file_extension": ".py",
   "mimetype": "text/x-python",
   "name": "python",
   "nbconvert_exporter": "python",
   "pygments_lexer": "ipython3",
   "version": "3.9.10"
  },
  "orig_nbformat": 4
 },
 "nbformat": 4,
 "nbformat_minor": 2
}
