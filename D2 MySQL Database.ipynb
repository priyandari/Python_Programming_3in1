{
 "cells": [
  {
   "attachments": {},
   "cell_type": "markdown",
   "metadata": {},
   "source": [
    "### MySQL Database\n",
    "\n",
    "Link Tutorial lengkap:\n",
    "\n",
    "https://realpython.com/python-mysql/\n",
    "\n",
    "https://www.w3schools.com/python/python_mysql_getstarted.asp\n",
    "\n",
    "\n",
    "Tutorial ini sebagai sebuah pengenalan sederhana, dibatasi tatacara __mengakses data__ dan melakukan __import SQL__ file pembuatan database (bagian akhir tutorial). Dengan tutorial ini dan ditambah dengan pengetahuan tentang perintah-perintah SQL, Anda dapat melakukan banyak hal untuk Create (INSERT), Read (SELECT), Update (UPDATE), dan Delete (DELETE) [CRUD] pengelolaan basisdata."
   ]
  },
  {
   "cell_type": "code",
   "execution_count": 3,
   "metadata": {},
   "outputs": [
    {
     "data": {
      "text/plain": [
       "' \\nAsumsi:\\n1. Telah install MySQL software, baik berdiri sendiri maupun melalui bundling XAMPP atau Laragon\\n2. Aktikan atau Run Mysql Database telah dilakukan\\n3. Memiliki sebuah database yang akan ditampilkan datanya\\n'"
      ]
     },
     "execution_count": 3,
     "metadata": {},
     "output_type": "execute_result"
    }
   ],
   "source": [
    "''' \n",
    "Asumsi:\n",
    "1. Telah install MySQL software, baik berdiri sendiri maupun melalui bundling XAMPP atau Laragon\n",
    "2. Aktikan atau Run Mysql Database telah dilakukan\n",
    "3. Memiliki sebuah database yang akan ditampilkan datanya\n",
    "'''"
   ]
  },
  {
   "cell_type": "code",
   "execution_count": 1,
   "metadata": {},
   "outputs": [],
   "source": [
    "# Install library\n",
    "# pip install mysql-connector-python"
   ]
  },
  {
   "cell_type": "code",
   "execution_count": 14,
   "metadata": {},
   "outputs": [
    {
     "name": "stdout",
     "output_type": "stream",
     "text": [
      "('B001', 'Ir. Sutami 20 Jebres', 'Solo', 'Jawa Tengah', '97201', 'S0003')\n",
      "('B002', 'Gondotaman 52', 'Yogyakarta', 'Yogyakarta', '98122', 'S0010')\n",
      "('B003', 'Simpang Lima 5', 'Semarang', 'Jawa Tengah', '10012', 'S0415')\n",
      "('B004', 'Homan 23', 'Bandung', 'Jawa Barat', '98128', 'S2250')\n",
      "('B005', 'Sepuluh November 10', 'Surabaya', 'Jawa Timur', '10013', None)\n",
      "('B056', 'street', 'City', 'Aceh', '00000', None)\n"
     ]
    }
   ],
   "source": [
    "import mysql.connector\n",
    "\n",
    "# Koneksi ke Database,\n",
    "mydb = mysql.connector.connect(\n",
    "  host=\"localhost\",\n",
    "  user=\"root\",\n",
    "  password=\"\",\n",
    "  database=\"stayhome\"\n",
    ")\n",
    "# membentuk objek hasil koneksi\n",
    "mycursor = mydb.cursor()\n",
    "# membuat variabel string berisi perintah SQL untuk read data dari sebuah tabel\n",
    "sql_string = \"SELECT * FROM branch\"\n",
    "# mengeksekusi proses berdasarkan isi dari variabel string\n",
    "mycursor.execute(sql_string)\n",
    "# melakukan ekstraksi hasil proses\n",
    "myresult = mycursor.fetchall()\n",
    "for row in myresult:\n",
    "  print(row)"
   ]
  },
  {
   "attachments": {},
   "cell_type": "markdown",
   "metadata": {},
   "source": [
    "#### Melihat atribut-atribut dalam sebuah tabel"
   ]
  },
  {
   "cell_type": "code",
   "execution_count": 5,
   "metadata": {},
   "outputs": [
    {
     "name": "stdout",
     "output_type": "stream",
     "text": [
      "('branchNo', 'varchar(4)', 'NO', 'PRI', None, '')\n",
      "('street', 'varchar(20)', 'NO', '', 'street', '')\n",
      "('city', 'varchar(20)', 'NO', 'MUL', 'City', '')\n",
      "('state', \"enum('Aceh','DKI Jakarta','Jambi','Jawa Tengah','Jawa Barat','Jawa Timur','Nusa Tenggara Barat','Jayapura','Ambon','Kalimantan Selatan','Kalimantan Timur','Kalimantan Tengah','Sulawesi Selatan','Sulawesi Tenggara','Sumatera Selatan','Sumatera Barat','Sumatera Utara','Yogyakarta')\", 'NO', '', None, '')\n",
      "('zipcode', 'varchar(5)', 'NO', '', '00000', '')\n",
      "('mgrStaffNo', 'varchar(5)', 'YES', 'MUL', None, '')\n",
      "--------------------\n",
      "branchNo\n",
      "street\n",
      "city\n",
      "state\n",
      "zipcode\n",
      "mgrStaffNo\n"
     ]
    }
   ],
   "source": [
    "# membuat variabel string berisi perintah SQL untuk melihat atribut-atribut dalam suatu tabel\n",
    "sql_string = \"DESCRIBE branch\"\n",
    "# mengeksekusi proses berdasarkan isi dari variabel string\n",
    "mycursor.execute(sql_string)\n",
    "# melakukan ekstraksi hasil proses\n",
    "myresult = mycursor.fetchall()\n",
    "for row in myresult:\n",
    "  print(row)\n",
    "\n",
    "print(\"-\"*20)  \n",
    "for row in myresult:\n",
    "  print(row[0])"
   ]
  },
  {
   "attachments": {},
   "cell_type": "markdown",
   "metadata": {},
   "source": [
    "#### Menampilkan data atribut tertentu saja"
   ]
  },
  {
   "cell_type": "code",
   "execution_count": 6,
   "metadata": {},
   "outputs": [
    {
     "name": "stdout",
     "output_type": "stream",
     "text": [
      "('B004', 'Bandung')\n",
      "('B056', 'City')\n",
      "('B003', 'Semarang')\n",
      "('B001', 'Solo')\n",
      "('B005', 'Surabaya')\n",
      "('B002', 'Yogyakarta')\n"
     ]
    }
   ],
   "source": [
    "# membuat variabel string SQL berisi perintah untuk menampilkan sebagian atribut tertentu saja\n",
    "sql_string = \"SELECT branchno, city FROM branch\"\n",
    "# mengeksekusi proses berdasarkan isi dari variabel string\n",
    "mycursor.execute(sql_string)\n",
    "# melakukan ekstraksi hasil proses\n",
    "myresult = mycursor.fetchall()\n",
    "for row in myresult:\n",
    "  print(row)"
   ]
  },
  {
   "cell_type": "code",
   "execution_count": 7,
   "metadata": {},
   "outputs": [
    {
     "name": "stdout",
     "output_type": "stream",
     "text": [
      "('B004', 'Bandung')\n",
      "('B056', 'City')\n",
      "('B003', 'Semarang')\n",
      "('B001', 'Solo')\n",
      "('B005', 'Surabaya')\n",
      "('B002', 'Yogyakarta')\n"
     ]
    }
   ],
   "source": [
    "# Menyimpan data menjadi list\n",
    "data_list =[]\n",
    "for row in myresult:\n",
    "  data_list.append(row)\n",
    "  \n",
    "for baris in data_list:\n",
    "    print(baris)"
   ]
  },
  {
   "attachments": {},
   "cell_type": "markdown",
   "metadata": {},
   "source": [
    "#### Melihat Tabel-tabel dalam sebuah Database"
   ]
  },
  {
   "cell_type": "code",
   "execution_count": 8,
   "metadata": {},
   "outputs": [
    {
     "name": "stdout",
     "output_type": "stream",
     "text": [
      "('actor',)\n",
      "('branch',)\n",
      "('director',)\n",
      "('member',)\n",
      "('registration',)\n",
      "('rental',)\n",
      "('role',)\n",
      "('staff',)\n",
      "('supplier',)\n",
      "('telephone',)\n",
      "('teleponstaff',)\n",
      "('video',)\n",
      "('videoitem',)\n",
      "('videoorder',)\n",
      "('videoorderline',)\n"
     ]
    }
   ],
   "source": [
    "import mysql.connector\n",
    "\n",
    "# Koneksi ke Database,\n",
    "mydb = mysql.connector.connect(\n",
    "  host=\"localhost\",\n",
    "  user=\"root\",\n",
    "  password=\"\",\n",
    "  database=\"stayhome\"\n",
    ")\n",
    "mycursor = mydb.cursor()\n",
    "\n",
    "# membuat variabel string SQL berisi perintah untuk melihat daftar tabel dalam sebuah database\n",
    "sql_string = \"SHOW tables\"\n",
    "# mengeksekusi proses berdasarkan isi dari variabel string\n",
    "mycursor.execute(sql_string)\n",
    "# melakukan ekstraksi hasil proses\n",
    "myresult = mycursor.fetchall()\n",
    "for row in myresult:\n",
    "  print(row)\n",
    "  "
   ]
  },
  {
   "attachments": {},
   "cell_type": "markdown",
   "metadata": {},
   "source": [
    "#### Melakukan import SQL file"
   ]
  },
  {
   "cell_type": "code",
   "execution_count": 15,
   "metadata": {},
   "outputs": [],
   "source": [
    "# Membuka file\n",
    "fo = open(\"files/StayHome.sql\", \"r\")\n",
    "\n",
    "# Membaca dengan fungsi read()\n",
    "isifile = fo.read()\n",
    "# print(isifile)\n",
    "# Menutup file\n",
    "fo.close()"
   ]
  },
  {
   "cell_type": "code",
   "execution_count": 13,
   "metadata": {},
   "outputs": [],
   "source": [
    "import mysql.connector\n",
    "\n",
    "# Koneksi ke server, tetpi tidak mendefinisikan nama database \n",
    "# karena asumsinya database belum dibentuk\n",
    "mydb = mysql.connector.connect(\n",
    "  host=\"localhost\",\n",
    "  user=\"root\",\n",
    "  password=\"\"\n",
    ")\n",
    "mycursor = mydb.cursor()\n",
    "\n",
    "# membuat variabel string SQL berisi perintah-perintah pembuatan database, tables dan insert data\n",
    "# berdasarkan hasil pembacaan dari sebuah file SQL \n",
    "sql_string = isifile\n",
    "# mengeksekusi proses berdasarkan isi dari variabel string\n",
    "mycursor.execute(sql_string)\n",
    "\n",
    "# Silahkan coba mengakses membaca daftar table atau membaca data dari sebuah tabel  "
   ]
  }
 ],
 "metadata": {
  "kernelspec": {
   "display_name": "python_programming_3in1",
   "language": "python",
   "name": "python3"
  },
  "language_info": {
   "codemirror_mode": {
    "name": "ipython",
    "version": 3
   },
   "file_extension": ".py",
   "mimetype": "text/x-python",
   "name": "python",
   "nbconvert_exporter": "python",
   "pygments_lexer": "ipython3",
   "version": "3.9.10"
  },
  "orig_nbformat": 4
 },
 "nbformat": 4,
 "nbformat_minor": 2
}
