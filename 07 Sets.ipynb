{
 "cells": [
  {
   "attachments": {},
   "cell_type": "markdown",
   "metadata": {},
   "source": [
    "# SET"
   ]
  },
  {
   "attachments": {},
   "cell_type": "markdown",
   "metadata": {},
   "source": [
    "__Set__ adalah satu diantara empat __tipe struktur data__ di Python yang digunakan untuk menyimpan sekumpulan data pada sebuah variabel. Tiga tipe data lainnya adalah __Tuple, List, dan Dictionary__.\n",
    "\n",
    "Karakteristik set adalah kumpulan data yang belum terurut (_unordered_), tidak dapat diubah (_unchangeable_)*, dan tidak ber-indeks (_unindexed_).\n",
    "\n",
    "* Note: item pada Set tidak dapat diubah, tetapi dapat dihapus dan diberikan item baru.\n",
    "\n",
    "__Sets__ ditulis menggunakan kurung kurawal `{ }`.\n"
   ]
  },
  {
   "cell_type": "code",
   "execution_count": null,
   "metadata": {},
   "outputs": [],
   "source": [
    "# Membuat set\n",
    "set_mahasiswa = {'Yoshan', 'Annisa', 'Nafis', 'Thoby'}\n",
    "print(type(set_mahasiswa))\n",
    "print(set_mahasiswa)"
   ]
  },
  {
   "cell_type": "code",
   "execution_count": null,
   "metadata": {},
   "outputs": [],
   "source": [
    "# Set tidak boleh duplikat, akan dianggap satu data\n",
    "set_mahasiswa = {'Yoshan', 'Annisa', 'Nafis', 'Annisa'}\n",
    "print(type(set_mahasiswa))\n",
    "print(set_mahasiswa)"
   ]
  },
  {
   "cell_type": "code",
   "execution_count": null,
   "metadata": {},
   "outputs": [],
   "source": [
    "# Set bisa berisi data yang beragam\n",
    "set_nilai = {'Yoshan', 85, 'A'}\n",
    "print(set_nilai)\n"
   ]
  },
  {
   "attachments": {},
   "cell_type": "markdown",
   "metadata": {},
   "source": [
    "### 1. Mengakses Set"
   ]
  },
  {
   "cell_type": "code",
   "execution_count": null,
   "metadata": {},
   "outputs": [],
   "source": [
    "# Mengakses set harus menggunakan iterasi karena tidak memiliki indeks\n",
    "set_mahasiswa = {'Yoshan', 'Annisa', 'Nafis', 'Thoby'}\n",
    "for x in set_mahasiswa:\n",
    "  print(x)\n",
    "print('---------')\n",
    "\n",
    "# Akses chek apakah Nafis ada di set_mahasiswa\n",
    "print(\"Nafis\" in set_mahasiswa) \n",
    "\n",
    "# Error karena set tidak berindeks\n",
    "# print(set_mahasiswa[1]) "
   ]
  },
  {
   "attachments": {},
   "cell_type": "markdown",
   "metadata": {},
   "source": [
    "### 2. Menambah item pada Set"
   ]
  },
  {
   "cell_type": "code",
   "execution_count": null,
   "metadata": {},
   "outputs": [],
   "source": [
    "set_mahasiswa = {'Yoshan', 'Annisa', 'Nafis', 'Thoby'}\n",
    "set_mahasiswa.add(\"Gloria\")\n",
    "\n",
    "print(set_mahasiswa)"
   ]
  },
  {
   "attachments": {},
   "cell_type": "markdown",
   "metadata": {},
   "source": [
    "### 3. Update item Set"
   ]
  },
  {
   "cell_type": "code",
   "execution_count": null,
   "metadata": {},
   "outputs": [],
   "source": [
    "mahasiswa_A = {'Yoshan', 'Annisa'}\n",
    "mahasiswa_B = {'Nafis', 'Thoby'}\n",
    "mahasiswa_A.update(mahasiswa_B)\n",
    "print(mahasiswa_A)"
   ]
  },
  {
   "attachments": {},
   "cell_type": "markdown",
   "metadata": {},
   "source": [
    "### 4. Update Set menggunakan Koleksi bertipe lain"
   ]
  },
  {
   "cell_type": "code",
   "execution_count": null,
   "metadata": {},
   "outputs": [],
   "source": [
    "# \n",
    "mahasiswa_A = {'Yoshan', 'Annisa'}\n",
    "mahasiswa_B = ['Nafis', 'Thoby']\n",
    "mahasiswa_A.update(mahasiswa_B)\n",
    "print(mahasiswa_A)"
   ]
  },
  {
   "attachments": {},
   "cell_type": "markdown",
   "metadata": {},
   "source": [
    "### 5. Remove item dalam Set\n",
    "Bisa menggunakan _`remove()`_, atau _`discard()`_, atau _`pop()`_, atau _`clear()`_"
   ]
  },
  {
   "cell_type": "code",
   "execution_count": null,
   "metadata": {},
   "outputs": [],
   "source": [
    "# Menggunakan remove()\n",
    "set_mahasiswa = {'Yoshan', 'Annisa', 'Nafis', 'Thoby'}\n",
    "set_mahasiswa.remove(\"Annisa\")\n",
    "print(set_mahasiswa)\n",
    "\n",
    "# Menggunakan discard()\n",
    "set_mahasiswa = {'Yoshan', 'Annisa', 'Nafis', 'Thoby'}\n",
    "set_mahasiswa.discard(\"Anisa\") # Tidak Error meskipun Anisa tidak ada\n",
    "print(set_mahasiswa)\n",
    "\n",
    "# Menggunakan pop() akan menghapus paling akhir (atau mungkin random)\n",
    "set_mahasiswa = {'Yoshan', 'Annisa', 'Nafis', 'Thoby'}\n",
    "set_mahasiswa.pop() \n",
    "print(set_mahasiswa)\n",
    "\n",
    "# Menggunakan clear() akan menghapus seluruhnya\n",
    "set_mahasiswa = {'Yoshan', 'Annisa', 'Nafis', 'Thoby'}\n",
    "set_mahasiswa.clear() \n",
    "print(set_mahasiswa)\n",
    "\n",
    "# Menggunakan del akan menghapus variabelnya juga\n",
    "set_mahasiswa = {'Yoshan', 'Annisa', 'Nafis', 'Thoby'}\n",
    "del set_mahasiswa \n",
    "print(set_mahasiswa)\n"
   ]
  },
  {
   "attachments": {},
   "cell_type": "markdown",
   "metadata": {},
   "source": [
    "### 6. Join Sets\n",
    "Menggunakan _`union()`_ atau _`update()`_, atau _`intersection_update()`_, atau _`symmetric_difference_update()`_, atau _`symmetric_difference()`_"
   ]
  },
  {
   "cell_type": "code",
   "execution_count": null,
   "metadata": {},
   "outputs": [],
   "source": [
    "### Join menggunakan union()\n",
    "set_mahasiswaA = {'Yoshan', 'Annisa'}\n",
    "set_mahasiswaB = {'Nafis', 'Thoby'}\n",
    "set_mahasiswa= set_mahasiswaA.union(set_mahasiswaB) \n",
    "print(set_mahasiswa)\n"
   ]
  },
  {
   "cell_type": "code",
   "execution_count": null,
   "metadata": {},
   "outputs": [],
   "source": [
    "### Join menggunakan update()\n",
    "set_mahasiswaA = {'Yoshan', 'Annisa'}\n",
    "set_mahasiswaB = {'Nafis', 'Thoby'}\n",
    "set_mahasiswaA.update(set_mahasiswaB) \n",
    "print(set_mahasiswaA)"
   ]
  },
  {
   "cell_type": "code",
   "execution_count": null,
   "metadata": {},
   "outputs": [],
   "source": [
    "### intersection_update(), Hanya mengambil yang Duplikat\n",
    "set_mahasiswaA = {'Yoshan', 'Annisa'}\n",
    "set_mahasiswaB = {'Nafis', 'Thoby', 'Annisa'}\n",
    "set_mahasiswaA.intersection_update(set_mahasiswaB) \n",
    "print(set_mahasiswaA)"
   ]
  },
  {
   "cell_type": "code",
   "execution_count": null,
   "metadata": {},
   "outputs": [],
   "source": [
    "### symmetric_difference_update, Data yang duplikat tidak dimasukkan\n",
    "set_mahasiswaA = {'Yoshan', 'Annisa'}\n",
    "set_mahasiswaB = {'Nafis', 'Thoby', 'Annisa'}\n",
    "set_mahasiswaA.symmetric_difference_update(set_mahasiswaB) \n",
    "print(set_mahasiswaA)"
   ]
  },
  {
   "cell_type": "code",
   "execution_count": null,
   "metadata": {},
   "outputs": [],
   "source": [
    "### symmetric_difference, Data yang berbeda yang diambil\n",
    "set_mahasiswaA = {'Yoshan', 'Annisa'}\n",
    "set_mahasiswaB = {'Nafis', 'Thoby', 'Annisa'}\n",
    "set_mahasiswa = set_mahasiswaA.symmetric_difference(set_mahasiswaB) \n",
    "print(set_mahasiswa)"
   ]
  },
  {
   "attachments": {},
   "cell_type": "markdown",
   "metadata": {},
   "source": [
    "#### Rangkuman Method pada Sets\n",
    "![Alt text](images/set_method.png)"
   ]
  }
 ],
 "metadata": {
  "kernelspec": {
   "display_name": "python_programming_3in1",
   "language": "python",
   "name": "python3"
  },
  "language_info": {
   "codemirror_mode": {
    "name": "ipython",
    "version": 3
   },
   "file_extension": ".py",
   "mimetype": "text/x-python",
   "name": "python",
   "nbconvert_exporter": "python",
   "pygments_lexer": "ipython3",
   "version": "3.9.10"
  },
  "orig_nbformat": 4
 },
 "nbformat": 4,
 "nbformat_minor": 2
}
