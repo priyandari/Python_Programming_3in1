{
 "cells": [
  {
   "attachments": {},
   "cell_type": "markdown",
   "metadata": {},
   "source": [
    "# User-Defined Functions\n",
    "Pada sesi tutorial ini akan diajarkan beberapa hal:\n",
    "* Penulisan dan Pemanggilan Function (Fungsi)\n",
    "* Fungsi Memiliki dan Tanpa Nilai Balik\n",
    "* Fungsi Menghasilkan Lebih dari Satu Nilai Balik\n",
    "* Menelusur Kesalahan (Error) dalam Fungsi\n",
    "* Fungsi Lambda\n",
    "* Fungsi dengan Parameters dan Arguments\n"
   ]
  },
  {
   "attachments": {},
   "cell_type": "markdown",
   "metadata": {},
   "source": [
    "## 1. Penulisan dan Pemanggilan Function (Fungsi)\n",
    "__User-defined function__ adalah penamaan untuk __sekumpulan perintah__ yang dibuat oleh programmer untuk menyelesaikan sebuah proses / tugas tertentu, dan hanya yang akan dieksekusi jika  dipanggil pada bagian lain dari baris-baris program. Misal, programmer membuat fungsi menghitung luas segitiga, fungsi menghitung rata-rata nilai, fungsi menghitung tarif parkir, dan masih banyak lainnya. Pada __diagram alir__, fungsi disimbolkan sebagai __kotak prosedur__ (kotak dengan dua garis di tepi kanan dan kiri).\n",
    "\n",
    "Fungsi dibuat programmer dengan tujuan:\n",
    "1. mengumpulkan suatu blok proses dalam sebuah kelompok baris-baris program\n",
    "2. memudahkan mengerjakan proses tertentu yang kemungkinan dieksekusi lebih dari sekali, hanya dengan memanggil nama fungsi di baris-baris program lain,\n",
    "3. membuat program lebih rapi dan ringkas karena tidak harus membuat ulang suatu blok proses jika digunakan beberapa kali,\n",
    "4. memudahkan memeriksa (verifikasi) jika ada kesalahan logika atau penulisan dalam sebuah blok proses\n",
    "\n",
    "Bentuk dasar penulisan fungsi sebagai berikut:\n",
    "\n",
    "> def `< functionName >`( `< Parameters >` ):\n",
    ">>    `< indented statement(s) >`\n",
    "\n",
    "Penggunaan user-defined function, sama seperti memanggil built-in function.\n",
    "> `nama_function(<arguments>)` \n",
    "\n",
    "atau\n",
    "> `<variabel_penerima_hasil>` = `nama_function(<arguments>)` \n",
    "\n",
    "__Function__ harus __dibuat__ atau didefinisikan terlebih __dahulu__ kemudian bisa dipanggil/digunakan. Pada python, ini artinya harus diletakkan di atas baris pemanggilan fungsi, atau diletakkan pada file terpisah menjadi sebuah modul (dipelajari pada sesi lain). "
   ]
  },
  {
   "cell_type": "code",
   "execution_count": null,
   "metadata": {},
   "outputs": [],
   "source": [
    "# Penulisan function\n",
    "def luasSegitiga(alas, tinggi):\n",
    "    luas = 0.5 * alas * tinggi\n",
    "    return luas\n",
    "\n",
    "# Pemanggilan function\n",
    "luas_sgt = luasSegitiga(20,25)\n",
    "print(f\"Luas segitiga : {luas_sgt} \")\n",
    "print(f\"Luas segitiga : {luasSegitiga(120,320)} \")\n"
   ]
  },
  {
   "attachments": {},
   "cell_type": "markdown",
   "metadata": {},
   "source": [
    "__Penamaan__ fungsi mengikuti kaidah penulisan identifier (pengenal). Selain itu, nama fungsi juga tidak boleh menggunakan kata-kata pemrograman yang ada dalam bahasa program seperti contoh di bawah ini."
   ]
  },
  {
   "cell_type": "markdown",
   "metadata": {},
   "source": [
    "<img src=\"images/w04PenamaanFungsi.png\">"
   ]
  },
  {
   "attachments": {},
   "cell_type": "markdown",
   "metadata": {},
   "source": [
    "Fungsi memberikan __nilai balik atau `return`__ kepada bagian blok program yang memanggil nama fungsi tersebut. \n",
    "\n",
    "Fungsi memiliki __`<parameters>`__, yakni __variabel yang menerima nilai__ dari `arguments` yang dikirim saat pemanggilan fungsi, dimana nilai variabel parameter tersebut akan digunakan oleh baris-baris program di dalam fungsi.\n",
    "\n",
    "Fungsi memiliki __`<arguments>`__, yakni nilai yang __dikirim oleh baris pemanggilan fungsi__, untuk kemudian diterima oleh variabel `<parameters>` untuk diproses pada blok proses dalam fungsi."
   ]
  },
  {
   "attachments": {},
   "cell_type": "markdown",
   "metadata": {},
   "source": [
    "## 2. Fungsi yang Memiliki dan Tidak Memiliki Nilai Balik\n",
    "\n",
    "Pada beberapa bahasa program tertentu, fungsi yang memiliki nilai balik disebut __function__ dan yang tidak memiliki nilai balik disebut sebagai __procedure__. \n",
    "Fungsi yang memberikan nilai balik memiliki baris perintah __`return`__. "
   ]
  },
  {
   "attachments": {},
   "cell_type": "markdown",
   "metadata": {},
   "source": [
    "#### 2.1. Fungsi Bisa Tidak memiliki Nilai Balik"
   ]
  },
  {
   "cell_type": "code",
   "execution_count": null,
   "metadata": {},
   "outputs": [],
   "source": [
    "# Contoh fungsi tidak memiliki nilai balik\n",
    "def cetakBiodata(nm, hp, email):\n",
    "    print(\"Data Pengguna Program \")\n",
    "    print(\"======================\")\n",
    "    print(\"Nama \\t\\t: \", nm)\n",
    "    print(\"Handphone \\t: \", hp)\n",
    "    print(\"Email \\t\\t: \", email)\n",
    "\n",
    "nama = \"Mila\"\n",
    "handphone = \"-\"\n",
    "email = \"mila@gmail.com\"\n",
    "\n",
    "cetakBiodata(nama,handphone,email)"
   ]
  },
  {
   "attachments": {},
   "cell_type": "markdown",
   "metadata": {},
   "source": [
    "#### 2.2. Fungsi Bisa Menghasilkan lebih dari Satu Nilai Balik\n",
    "\n",
    "Python memiliki kelebihan dibanding bahasa program lain, yakni bisa memberikan nilai balik lebih dari satu."
   ]
  },
  {
   "cell_type": "code",
   "execution_count": null,
   "metadata": {},
   "outputs": [],
   "source": [
    "# fungsi statistik nilai kelas\n",
    "def hitung_statistik_nilai(listNilai):\n",
    "    total = 0\n",
    "    for nilai in listNilai:\n",
    "        total = total + nilai\n",
    "    rataan = total / len(listNilai)\n",
    "    # rataan = sum(listNilai)/len(listNilai) # ALternatif cara\n",
    "    variansi = sum((x-rataan)**2 for x in listNilai) / len(listNilai)\n",
    "    stddev = variansi ** 0.5\n",
    "    return total, rataan, stddev\n",
    "\n",
    "nilai_kelasA = [78, 89, 88, 97]\n",
    "\n",
    "totalNIlai, rataanNilai, stdevNilai = hitung_statistik_nilai(nilai_kelasA)\n",
    "print(\"Total Nilai Kelas : \", totalNIlai)\n",
    "print(\"Rata-rata Nilai Kelas : \", rataanNilai)\n",
    "print(\"Standar Deviasi Nilai Kelas : \", stdevNilai)"
   ]
  },
  {
   "attachments": {},
   "cell_type": "markdown",
   "metadata": {},
   "source": [
    "## 3. Menelusur Kesalahan (Error) dalam Fungsi\n",
    "\n",
    "Menelusur kesalahan dalam suatu fungsi dilakukan dengan cara:\n",
    "1. Mulailah melihat pada baris terakhir, __isi pesan kesalahan (error)__.\n",
    "2. Telusur ke baris-baris di atasnya, dan __lihat lokasi kesalahan__."
   ]
  },
  {
   "cell_type": "code",
   "execution_count": null,
   "metadata": {},
   "outputs": [],
   "source": [
    "def cetak_garis(tgaris, n):    \n",
    "    garis = tgaris * n\n",
    "    print(garis)\n",
    "    print(varBelumTerdefinisi)\n",
    "    pass    # Akan mengabaikan jika error, agar bagian lain program tetap bisa jalan\n",
    "\n",
    "def cetakBiodata(nama, email):\n",
    "    print(\"Data Pengguna :\")\n",
    "    cetak_garis(\"=\",20)\n",
    "    print(nama)\n",
    "    print(email)\n",
    "    cetak_garis(\"-\",20)\n",
    "    \n",
    "# Bagian Utama Program\n",
    "nama = \"Priyandari\"\n",
    "email = \"emailku@smun.ac.id\"\n",
    "cetakBiodata(nama, email)\n",
    "    "
   ]
  },
  {
   "attachments": {},
   "cell_type": "markdown",
   "metadata": {},
   "source": [
    "## 4. Fungsi Lambda\n",
    "\n",
    "Fungsi lambda adalah fungsi yang __tidak bernama__.\n",
    "\n",
    "Fungsi lambda __hanya memiliki sebuah ekspresi atau proses__, tetapi boleh memiliki __beberapa argument__.\n",
    "\n",
    "Format umum penulisan sebagai berikut:\n",
    "\n",
    "`<variabel_hasil> = lambda <parameters> : <ekspresi_proses>`\n",
    "\n",
    "*  `variabel_hasil` adalah variabel yang menerima nilai balik (return) atau hasil fungsi.\n",
    "*  `parameters` adalah variabel-variabel yang menerima nilai arguments dari pemanggilan fungsi.\n",
    "*  `ekspresi_proses` adalah __sebuah baris proses sederhana__ yang akan dijalankan oleh fungsi.\n",
    "\n"
   ]
  },
  {
   "cell_type": "code",
   "execution_count": null,
   "metadata": {},
   "outputs": [],
   "source": [
    "# Fungsi lambda\n",
    "x = lambda a : a + 10   # a pertama adalah pendefinisian parameter, a kedua adalah penggunaan variabel a pada proses\n",
    "print(x(5)) # Nilai 5 adalah argument yang dikirim"
   ]
  },
  {
   "cell_type": "code",
   "execution_count": null,
   "metadata": {},
   "outputs": [],
   "source": [
    "# Fungsi lambda dengan dua parameter, dan sebuah baris proses.\n",
    "x = lambda a, b : a * b\n",
    "print(x(5, 6))"
   ]
  },
  {
   "attachments": {},
   "cell_type": "markdown",
   "metadata": {},
   "source": [
    "## 5. Parameters dan Arguments pada Fungsi\n",
    "Pada contoh fungsi `luasSegitiga` terdapat dua parameter (variabel) yang nilainya diperlukan untuk menghitung luas segitiga. Kedua nilai tersebut dikirim saat pemanggilan fungsi (dalam bentuk arguments).\n",
    "\n",
    "Karakteristik umum `parameters`: \n",
    "* __Penamaan parameters__ boleh sama atau berbeda dengan variabel arguments. \n",
    "* __Variabel bersifat lokal__, yakni hanya dikenali dalam blok (baris) program dalam fungsi. Kecuali ditentukan lain dalam pembuatannya (dibahas detail nantinya).\n",
    "* __Urutan penulisan parameter__, menentukan urutan pengisian nilai arguments. Kecuali ditentukan lain dalam pembuatannya (dibahas detail nantinya)."
   ]
  },
  {
   "attachments": {},
   "cell_type": "markdown",
   "metadata": {},
   "source": [
    "#### 5.1. Penamaan Parameter dan Arguments\n",
    "\n",
    "Penamaan parameters dan arguments boleh berbeda."
   ]
  },
  {
   "cell_type": "code",
   "execution_count": null,
   "metadata": {
    "scrolled": true
   },
   "outputs": [],
   "source": [
    "# Fungsi nilai_akhir, nama parameter tidak sama dengan arguments\n",
    "def hitung_NilaiAKhir(a,b,c,d):\n",
    "    nilai = a * 0.4 + b * 0.3 + c * 0.1 + d * 0.2\n",
    "    return nilai\n",
    "\n",
    "quiz = 90\n",
    "uts = 78\n",
    "tugas = 85\n",
    "uas = 75\n",
    "nilaiAkhir = hitung_NilaiAKhir(uas, uts, quiz,tugas)\n",
    "print(\"Nilai akhir mata kuliah : \", nilaiAkhir)"
   ]
  },
  {
   "attachments": {},
   "cell_type": "markdown",
   "metadata": {},
   "source": [
    "#### 5.2. Scope Variabel di Dalam Fungsi\n",
    "\n",
    "Variabel yang didefinisikan (diinisiasi) dalam sebuah fungsi, baik sebagai __parameter__ atau __variabel__, maka hanya akan dikenali __lokal__ di dalam fungsi tersebut. Kecuali diatur secara khusus untuk menjadi global."
   ]
  },
  {
   "cell_type": "code",
   "execution_count": null,
   "metadata": {
    "scrolled": false
   },
   "outputs": [],
   "source": [
    "\n",
    "# Mengatur agar variabel lokal menjadi global\n",
    "def fungsiku():\n",
    "    global variabel_lokal # diatur khusus menjadi global, dikenali di luar fungsi\n",
    "    \n",
    "    variabel_lokal = 100\n",
    "    print(\"Nilai di dalam fungsi \", variabel_lokal)\n",
    "    \n",
    "fungsiku()\n",
    "\n",
    "print(\"Nilai di luar fungsi \", variabel_lokal)"
   ]
  },
  {
   "cell_type": "markdown",
   "metadata": {},
   "source": [
    "Adapun variabel yang didefinisikan (diinisiasi) secara global (di bagian utama program), akan dikenali di seluruh bagian program termasuk bisa digunakan di dalam sebuah fungsi.\n"
   ]
  },
  {
   "cell_type": "code",
   "execution_count": null,
   "metadata": {},
   "outputs": [],
   "source": [
    "# variabel didefinisikan di luar fungsi, dikenali gobal\n",
    "maks = 100\n",
    "def cetak_maks():\n",
    "    print(\"Cetak nilai dalam fungsi \", maks)\n",
    "    \n",
    "cetak_maks()\n",
    "print(\"Cetak nilai di luar fungsi \", maks)"
   ]
  },
  {
   "cell_type": "code",
   "execution_count": null,
   "metadata": {},
   "outputs": [],
   "source": [
    "# Contoh lain memahami skup variabel, menggunakan fungsi di dalam fungsi\n",
    "def  outer():\n",
    "    title = 'original title' # variabel ini lokal di dalam outer saja \n",
    "    \n",
    "    def  inner():\n",
    "        title = 'another title' # variabel ini lokal di dalam inner\n",
    "        print('cetak title inner:', title)\n",
    "    \n",
    "    # Panggil fungsi inner() \n",
    "    inner()\n",
    "    print('cetak title outer:', title)\n",
    "\n",
    "# Panggil fungsi outer()\n",
    "outer()"
   ]
  },
  {
   "cell_type": "code",
   "execution_count": null,
   "metadata": {},
   "outputs": [],
   "source": [
    "# Contoh lain memahami skup variabel, menggunakan fungsi di dalam fungsi, dan pengaturan nonlocal\n",
    "def  outer():\n",
    "    title = 'original title' \n",
    "    \n",
    "    def  inner():\n",
    "        nonlocal title # DIKENALI sampai dalam fungsi outer, TETAPI TIDAK sampai GLOBAL di luar fungsi\n",
    "        title = 'another title'\n",
    "        print('cetak title inner:', title)\n",
    "    \n",
    "    # Panggil fungsi inner() \n",
    "    inner()\n",
    "    print('cetak title outer:', title)\n",
    "\n",
    "# Panggil fungsi outer()\n",
    "outer()"
   ]
  },
  {
   "attachments": {},
   "cell_type": "markdown",
   "metadata": {},
   "source": [
    "#### 5.3. Mengirim Arbritary Argument\n",
    "_Arbritary_ disini maksudnya bisa __berubah-ubah jumlah__ dan __bentuk variabel__ arguments yang akan dikirim (atau belum pasti). Biasa disimbolkan sebagai __`*args`__ dan mengikuti konsep _list_ dengan indeks mulai dari 0."
   ]
  },
  {
   "cell_type": "code",
   "execution_count": null,
   "metadata": {},
   "outputs": [],
   "source": [
    "# Arbitrary Argument.\n",
    "def cetak_garis(tgaris, n):    \n",
    "    garis = tgaris * n\n",
    "    print(garis)\n",
    "    pass\n",
    "\n",
    "# Indeks pada args seperti pada list, dimulai dari 0 dan seterusnya\n",
    "def cetakBiodata(*args):\n",
    "    print(f\"Data Pengguna : {args[0]}\")\n",
    "    cetak_garis(\"=\",20)\n",
    "    for item in args:\n",
    "        print(item)\n",
    "    cetak_garis(\"-\",20)\n",
    "    \n",
    "cetakBiodata(\"Priyandari\",\"Yogya\")\n",
    "cetakBiodata(\"Ainy\",\"ainy@gmail.com\", 158)"
   ]
  },
  {
   "attachments": {},
   "cell_type": "markdown",
   "metadata": {},
   "source": [
    "#### 5.4. Mengirim Arbritary Keyword Arguments\n",
    "Jika pada *args, indeks menggunakan default 0 s.d seterusnya seperti pada list, maka pada `__**kwargs__` __indeksnya__ bisa didefinisikan menggunakan _keyword_ pada saat pemanggilan fungsi(). Mengikuti konsep tipe data _dictionary_."
   ]
  },
  {
   "cell_type": "code",
   "execution_count": null,
   "metadata": {},
   "outputs": [],
   "source": [
    "# Fungsi dengan Arbitrary Keyword Arguments.\n",
    "def cetak_garis(tgaris, n):    \n",
    "    garis = tgaris * n\n",
    "    print(garis)\n",
    "    pass\n",
    "\n",
    "# Indeks pada args seperti pada list, dimulai dari 0 dan seterusnya\n",
    "def cetakBiodata(**kwargs):\n",
    "    print(f\"Data Pengguna : {kwargs['nama']}\")\n",
    "    cetak_garis(\"=\",20)\n",
    "    for key in kwargs:\n",
    "        print(f\"{key} : {kwargs[key]}\") # Konsep Dictionary\n",
    "    cetak_garis(\"-\",20)\n",
    "    \n",
    "cetakBiodata(nama=\"Priyandari\",kota = \"Yogya\")\n",
    "cetakBiodata(nama=\"Ainy\",email=\"ainy@gmail.com\", tinggi=158)"
   ]
  },
  {
   "attachments": {},
   "cell_type": "markdown",
   "metadata": {},
   "source": [
    "#### 5.5. Mengirim List Arguments\n",
    "Data yang dikirim oleh argumen berupa variabel list. Sedikit mirip dengan *args, hanya saja disini sudah pasti harus ada sebuah list yang dikirim."
   ]
  },
  {
   "cell_type": "code",
   "execution_count": null,
   "metadata": {},
   "outputs": [],
   "source": [
    "# Fungsi dengan List Arguments.\n",
    "def cetak_garis(tgaris, n):    \n",
    "    garis = tgaris * n\n",
    "    print(garis)\n",
    "    pass\n",
    "\n",
    "# Indeks pada args seperti pada list, dimulai dari 0 dan seterusnya\n",
    "def cetak_data(kelas, mhss):\n",
    "    print(f\"Data Kelas : {kelas}\")\n",
    "    cetak_garis(\"=\",20)\n",
    "    counter=1\n",
    "    for item in mhss:\n",
    "        print(f\"{counter} : {item}\") # Konsep List\n",
    "        counter += 1\n",
    "    cetak_garis(\"-\",20)\n",
    "\n",
    "data_kelasA = [\"Andika\", \"Bowman\"]\n",
    "cetak_data(\"A\", data_kelasA)\n",
    "data_kelasB = [\"Charlie\", \"Daniel\"] \n",
    "cetak_data(\"B\", data_kelasB)"
   ]
  },
  {
   "attachments": {},
   "cell_type": "markdown",
   "metadata": {},
   "source": [
    "#### 5.6. Mengatur Default Nilai Parameter\n",
    "Nilai variabel parameter pada fungsi bisa diset nilai tertentu di awal (_default_), agar jika tidak dikirim oleh argument, nilai default tersebut yang akan digunakan."
   ]
  },
  {
   "cell_type": "code",
   "execution_count": null,
   "metadata": {},
   "outputs": [],
   "source": [
    "def cetak_garis(tgaris, n):    \n",
    "    garis = tgaris * n\n",
    "    print(garis)\n",
    "    pass\n",
    "\n",
    "# Mengatur nilai default parameter\n",
    "def cetakBiodata(nama, kota = \"Yogya\"): # nilai default kota adalah Yogya\n",
    "    print(f\"Data Pengguna : {nama}\")\n",
    "    cetak_garis(\"=\",20)\n",
    "    print(f\"Nama : {nama}\")\n",
    "    print(f\"Kota : {kota}\")\n",
    "    cetak_garis(\"-\",20)\n",
    "\n",
    "cetakBiodata(\"Tobby\")\n",
    "cetakBiodata(\"Yurike\",\"Solo\")\n"
   ]
  },
  {
   "attachments": {},
   "cell_type": "markdown",
   "metadata": {},
   "source": [
    "#### 5.7. Positional-Only dan Keyword-Only Arguments\n",
    "Pada saat argument dikirimkan, bisa diatur argumen mana saja yang harus dikirim menggunakan __pendefinisian key__, dan mana saja yang tidak menggunakan key tetapi __posisi urutan pengiriman__ argumen tidak boleh terbaik (sesuai pendefinisian pada parameter)."
   ]
  },
  {
   "cell_type": "code",
   "execution_count": null,
   "metadata": {},
   "outputs": [],
   "source": [
    "# 5.7. Positional-Only dan Keyword-Only Arguments\n",
    "def pengolahan_data(a, b, /, *, c, d):\n",
    "    hasil = a * c + b * d\n",
    "    return hasil\n",
    "\n",
    "# [PERHATIKAN] setelah tanda *, argumen harus disebut key-nya\n",
    "# [PERHATIKAN] sebelum tanda /, urutan posisi argumen harus diperhatikan, \n",
    "# Tidak usah menulis key a=, dan b= karena menyebabkan error. \n",
    "# Urutan saja yg diperhatikan agar verifikasi hasil benar dalam proses pengolahan nilai. \n",
    "x = pengolahan_data(5, 6, c = 7, d = 8) \n",
    "print(x)\n"
   ]
  },
  {
   "attachments": {},
   "cell_type": "markdown",
   "metadata": {},
   "source": [
    "## 6. Rekursi\n",
    "\n",
    "Rekursi (_recursion_), adalah mendefinisikan sebuah fungsi yang dapat dipanggil oleh dirinya sendiri.\n",
    "\n",
    "Rekursi biasa dilakukan/dibutuhkan pada konsep matematika dan pemrograman. Rekursi ini akan mengulang pemanggilan fungsi-nya sendiri secara iteratif sampai suatu batasan (hasil atau proses) tertentu. \n",
    "\n",
    "Penggunaan rekursi harus hati-hati agar program tidak berjalan terus (memanggil fungsi dirinya sendiri) tanpa henti.\n",
    "\n",
    "Perhatikan contoh rekursi di bawah ini dimana, fungsi akan terus dipanggil oleh fungsi itu sendiri sampai `nilai k` `tidak lebih besar dari 0`, dimana `nilai k` ini akan `menurun dengan nilai -1` (decrement). "
   ]
  },
  {
   "cell_type": "code",
   "execution_count": null,
   "metadata": {},
   "outputs": [],
   "source": [
    "# Penerapan rekursi\n",
    "def fungsi_rekursi(k):\n",
    "  if(k > 0):\n",
    "    result = k + fungsi_rekursi(k - 1)\n",
    "    print(result)\n",
    "  else:\n",
    "    result = 0\n",
    "  return result\n",
    "\n",
    "print(\"Hasil proses dalam fungsi rekursi:\")\n",
    "bil_faktorial = fungsi_rekursi(4)\n",
    "print(\"Hasil akhir fungsi rekursi\")\n",
    "print(bil_faktorial)"
   ]
  },
  {
   "attachments": {},
   "cell_type": "markdown",
   "metadata": {},
   "source": [
    "### Latihan Mandiri\n",
    "\n",
    "A. Buatlah program-program sederhana yang menerapkan penggunaan fungsi untuk menghitung \n",
    "1. Konversi suhu Fahrenheit ke Celcius\n",
    "2. Konversi suhu Celcius ke Fahrenheit\n",
    "3. Konversi suhu Fahrenheit ke Reamur\n",
    "4. Konversi suhu Reamur ke Fahrenheit\n",
    "5. Konversi suhu Celcius ke Reamur\n",
    "6. Konversi suhu Reamur ke Celcius\n",
    "7. Luas Lingkaran\n",
    "8. Luas permukaan tabung\n",
    "9. Volume tabung\n",
    "\n",
    "B. Buatlah Program untuk menghitung \n",
    "1. Tarif Parkir Kendaraan di Bandara\n",
    "2. Menghitung Penggajian\n",
    "3. Menghitung BBI dan Status Berat Badan\n",
    "4. Tarif Parkir Kendaraan di Stasiun\n",
    "5. Menentukan kebutuhan cairan pengganti bagi dehidrasi\n",
    "6. Menentukan Tarif Tol Kendaraan\n",
    "\n",
    "Ketentuan penghitungan dapat dilihat [di sini](tasks/t03_percabangan.ipynb)"
   ]
  }
 ],
 "metadata": {
  "kernelspec": {
   "display_name": "Python 3 (ipykernel)",
   "language": "python",
   "name": "python3"
  },
  "language_info": {
   "codemirror_mode": {
    "name": "ipython",
    "version": 3
   },
   "file_extension": ".py",
   "mimetype": "text/x-python",
   "name": "python",
   "nbconvert_exporter": "python",
   "pygments_lexer": "ipython3",
   "version": "3.9.10"
  }
 },
 "nbformat": 4,
 "nbformat_minor": 2
}
