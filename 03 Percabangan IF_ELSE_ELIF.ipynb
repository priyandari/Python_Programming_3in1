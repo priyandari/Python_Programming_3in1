{
 "cells": [
  {
   "attachments": {},
   "cell_type": "markdown",
   "metadata": {},
   "source": [
    "# 1. Percabangan (Logika Keputusan)\n",
    "__Percabangan__ atau biasa disebut sebagai __logika keputusan__, sangat diperlukan dalam sebuah pemrograman. \n",
    "### 1.1 Percabangan IF-ELSE\n",
    "Perhatikan diagram alir percabangan di bawah ini."
   ]
  },
  {
   "cell_type": "markdown",
   "metadata": {},
   "source": [
    "<img src=\"images/w05DiagramPercabanganKeputusan.png\">"
   ]
  },
  {
   "cell_type": "markdown",
   "metadata": {},
   "source": [
    "1. Implementasi diagram pertama dalam blok program"
   ]
  },
  {
   "cell_type": "code",
   "execution_count": null,
   "metadata": {},
   "outputs": [],
   "source": [
    "nilai_akhir = float(input(\"Nilai akhir : \"))\n",
    "\n",
    "if nilai_akhir >= 60:\n",
    "    print(\"Anda Lulus\")"
   ]
  },
  {
   "cell_type": "markdown",
   "metadata": {},
   "source": [
    "2. Implementasi diagram kedua dalam blok program"
   ]
  },
  {
   "cell_type": "code",
   "execution_count": null,
   "metadata": {},
   "outputs": [],
   "source": [
    "nilai_akhir = float(input(\"Nilai akhir : \"))\n",
    "\n",
    "if nilai_akhir >= 60:\n",
    "    print(\"Anda Lulus\")\n",
    "else:\n",
    "    print(\"Anda Tidak Lulus\")\n"
   ]
  },
  {
   "cell_type": "markdown",
   "metadata": {},
   "source": [
    "<b>Diskusi !</b>\n",
    "\n",
    "Bagaimana hasil blok program di bawah ini ?\n"
   ]
  },
  {
   "cell_type": "code",
   "execution_count": null,
   "metadata": {},
   "outputs": [],
   "source": [
    "bilangan = float(input(\"Input sebuah bilangan : \"))\n",
    "pengecekan = bilangan % 2\n",
    "\n",
    "if pengecekan == 0:\n",
    "    print(\"Bilangan GENAP\")\n",
    "else:\n",
    "    print(\"Bilangan GANJIL\")"
   ]
  },
  {
   "attachments": {},
   "cell_type": "markdown",
   "metadata": {},
   "source": [
    "Percabangan membutuhkan __operator komparasi (pembanding)__ untuk mengambil keputusan. Ingat kembali operator komparasi di bawah ini."
   ]
  },
  {
   "cell_type": "markdown",
   "metadata": {},
   "source": [
    "<img src=\"images/w05OperatorPembanding.png\">"
   ]
  },
  {
   "cell_type": "code",
   "execution_count": null,
   "metadata": {},
   "outputs": [],
   "source": [
    "lanjut = input(\"Apakah akan melanjutkan program ? (Enter=Ya/n=tidak) : \")\n",
    "\n",
    "if lanjut != \"n\":\n",
    "    print(\"Program dilanjutkan\")\n",
    "else:\n",
    "    print(\"Program selesai\")"
   ]
  },
  {
   "attachments": {},
   "cell_type": "markdown",
   "metadata": {},
   "source": [
    "### 1.2. Percabangan Menggunakan ELIF\n",
    "\n",
    "Logika keputusan atau percabangan kadang tidak hanya sekali, tetapi berurutan sampai beberapa kali. Perhatikan aturan penilaian di bawah ini, dan diagram alir keputusan untuk menentukan seorang mahasiswa mendapat Nilai Angka dan Huruf berapa sesuai skor akhir yang diperoleh."
   ]
  },
  {
   "cell_type": "markdown",
   "metadata": {},
   "source": [
    "<img src=\"images/w05PercabanganElif.png\">"
   ]
  },
  {
   "cell_type": "markdown",
   "metadata": {},
   "source": [
    "<img src=\"images/w05PercabanganElifNilai.png\">"
   ]
  },
  {
   "cell_type": "code",
   "execution_count": null,
   "metadata": {},
   "outputs": [],
   "source": [
    "NA = float(input(\"Input Nilai Akhir : \"))\n",
    "    \n",
    "if NA >= 85:\n",
    "    print(\"Nilai A\")\n",
    "elif NA >= 80:\n",
    "    print(\"Nilai A-\")\n",
    "elif NA >= 75:\n",
    "    print(\"Nilai B+\")\n",
    "elif NA >= 70:\n",
    "    print(\"Nilai B\")\n",
    "elif NA >= 65:\n",
    "    print(\"Nilai C+\")\n",
    "elif NA >= 60:\n",
    "    print(\"Nilai C\")\n",
    "elif NA >= 55:\n",
    "    print(\"Nilai D\")\n",
    "else:\n",
    "    print(\"Nilai E\")\n",
    "    \n",
    "# Lanjutkan modifikasi program agar luaran juga menampilkan Nilai Angka, bukan hanya Huruf."
   ]
  },
  {
   "attachments": {},
   "cell_type": "markdown",
   "metadata": {},
   "source": [
    "### 1.3 Penggunaan Operator Logika: Not, And, Or\n",
    "Selain menggunakan operator komparasi (pembanding), operator logika juga sering digunakan untuk membuat suatu logika keputusan atau percabangan\n",
    "\n",
    "![Alt text](images/operator_logika.png)"
   ]
  },
  {
   "cell_type": "code",
   "execution_count": null,
   "metadata": {},
   "outputs": [],
   "source": [
    "# Penggunaan not\n",
    "status_kendaraan = bool(input(\"Kendaraan rusak? (Enter=Ya / n=Tidak) : \"))\n",
    "\n",
    "if not status_kendaraan:\n",
    "    print(\"Kendaraan RUSAK\")\n",
    "else:\n",
    "    print(\"Kendaraan NORMAL\")"
   ]
  },
  {
   "cell_type": "code",
   "execution_count": null,
   "metadata": {},
   "outputs": [],
   "source": [
    "# Penggunaan or\n",
    "usia = int(input(\"Usia Anda : \"))\n",
    "status_pernikahan = bool(input(\"Sudah menikah ? (Enter=Belum / y=Sudah) : \"))\n",
    "\n",
    "if (usia >= 17) or (status_pernikahan):\n",
    "    print(\"Wajib membuat KTP\")\n",
    "else:\n",
    "    print(\"Belum wajib membuat KTP\")"
   ]
  },
  {
   "cell_type": "code",
   "execution_count": null,
   "metadata": {},
   "outputs": [],
   "source": [
    "# Penggunaan and\n",
    "x = float(input(\"Nilai X : \"))\n",
    "\n",
    "if (x >= 5) and (x < 10):\n",
    "    print(\"x berada di antara 5 dan 10\")\n",
    "else:\n",
    "    print(\"x Tidak berada di antara 5 dan 10\")"
   ]
  }
 ],
 "metadata": {
  "kernelspec": {
   "display_name": "Python 3",
   "language": "python",
   "name": "python3"
  },
  "language_info": {
   "codemirror_mode": {
    "name": "ipython",
    "version": 3
   },
   "file_extension": ".py",
   "mimetype": "text/x-python",
   "name": "python",
   "nbconvert_exporter": "python",
   "pygments_lexer": "ipython3",
   "version": "3.9.10"
  }
 },
 "nbformat": 4,
 "nbformat_minor": 2
}
