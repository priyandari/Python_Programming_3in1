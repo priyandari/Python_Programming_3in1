{
 "cells": [
  {
   "attachments": {},
   "cell_type": "markdown",
   "metadata": {},
   "source": [
    "# File .csv"
   ]
  },
  {
   "attachments": {},
   "cell_type": "markdown",
   "metadata": {},
   "source": [
    "File __`.csv`__ (Comma-Separated Value) adalah yang merepresentasikan kumpulan data berbentuk baris dan kolom. Biasanya file ini diperoleh dari database, atau dibuat melalui spreadsheet. "
   ]
  },
  {
   "attachments": {},
   "cell_type": "markdown",
   "metadata": {},
   "source": [
    "## 1. Membaca File .csv\n",
    "\n",
    "Diperlukan _library_ atau _package_ untuk membaca file .csv. Gunakan perintah __`import csv`__ untuk memanggil library csv. Modul basic csv umumnya sudah tersedia oleh python \n",
    "\n",
    "Representasi data pada file csv\n",
    "\n",
    "<img src=\"images/w12spreadsheet.JPG\">\n",
    "\n",
    "<img src=\"images/w12spreadsheet_csv.JPG\">"
   ]
  },
  {
   "attachments": {},
   "cell_type": "markdown",
   "metadata": {},
   "source": [
    "* Kode program di bawah ini melakukan pencetakan baris perbaris isi file csv. \n",
    "* Setiap baris data berbentk list, yang kemudian memanfaatkan fungsi __.append()__ dibentuk data list dalam list (_nested list_).\n",
    "\n",
    "`csv.reader(csvfile, dialect='excel', **fmtparams)`\n",
    "\n",
    "https://docs.python.org/3/library/csv.html#module-contents"
   ]
  },
  {
   "cell_type": "code",
   "execution_count": 7,
   "metadata": {},
   "outputs": [
    {
     "name": "stdout",
     "output_type": "stream",
     "text": [
      "Nama Kolom : ['NIM', 'NAMA MHS', 'UK1', 'UK2', 'UK3', 'UK4']\n",
      "['I0319003', 'Afra Galda', '84', '66', '76', '45']\n",
      "['I0319011', 'Amelia Rahma', '76', '78', '', '56']\n",
      "['I0319013', 'Anisa Agustina', '86', '57', '89', '78']\n",
      "['I0319015', 'Annafis Manaruzzaki', '54', '', '89', '45']\n",
      "['i0319017', 'Annisa Syahliantina', '87', '67', '67', '89']\n",
      "['I0319023', 'Calvin William ', '65', '67', '87', '67']\n",
      "['I0319025', 'Dicka Korintus', '46', '', '65', '67']\n",
      "['I0319029', 'Elsa Jubilia', '78', '85', '78', '87']\n",
      "['I0319031', 'Evonella Pangaribuan', '57', '87', '92', '78']\n",
      "['I0319059', 'Abyan Naufalÿ', '89', '84', '78', '84']\n",
      "['I0319061', 'Fiqran Alauddin', '54', '68', '89', '67']\n",
      "Total 12 baris\n",
      "isi nested list yang dibuat :\n",
      "[['NIM', 'NAMA MHS', 'UK1', 'UK2', 'UK3', 'UK4'], ['I0319003', 'Afra Galda', '84', '66', '76', '45'], ['I0319011', 'Amelia Rahma', '76', '78', '', '56'], ['I0319013', 'Anisa Agustina', '86', '57', '89', '78'], ['I0319015', 'Annafis Manaruzzaki', '54', '', '89', '45'], ['i0319017', 'Annisa Syahliantina', '87', '67', '67', '89'], ['I0319023', 'Calvin William ', '65', '67', '87', '67'], ['I0319025', 'Dicka Korintus', '46', '', '65', '67'], ['I0319029', 'Elsa Jubilia', '78', '85', '78', '87'], ['I0319031', 'Evonella Pangaribuan', '57', '87', '92', '78'], ['I0319059', 'Abyan Naufalÿ', '89', '84', '78', '84'], ['I0319061', 'Fiqran Alauddin', '54', '68', '89', '67']]\n"
     ]
    }
   ],
   "source": [
    "import csv\n",
    "\n",
    "DATA_FILE_NAME = 'files/nilaiKuliah.csv'\n",
    "listNilai = []\n",
    "\n",
    "with open(DATA_FILE_NAME) as csvfile: # Buka file\n",
    "    # Melakukan parsing untuk pembacaan seluruh baris\n",
    "    readCSV = csv.reader(csvfile, delimiter=',')\n",
    "    line_count = 0\n",
    "    \n",
    "    # Melakukan penyimpanan baris-baris data menjadi nested list\n",
    "    for row in readCSV:\n",
    "        if line_count == 0:\n",
    "            print(f'Nama Kolom : {row}')\n",
    "            listNilai.append(row)\n",
    "            line_count += 1\n",
    "        else:\n",
    "            print(row)\n",
    "            listNilai.append(row)\n",
    "            line_count += 1\n",
    "    \n",
    "    print(f'Total {line_count} baris')\n",
    "\n",
    "csvfile.close() #Tutup file\n",
    "\n",
    "print(\"isi nested list yang dibuat :\")\n",
    "print(listNilai)"
   ]
  },
  {
   "attachments": {},
   "cell_type": "markdown",
   "metadata": {},
   "source": [
    "#### Latihan Mandiri\n",
    "1. Buatlah proses untuk menentukan skorAkhir setiap mahasiswa. Bobot UK1, UK2, UK3, UK4 berturut-turut adalah 0.2, 0.25, 0.2, 0.35.  \n",
    "2. Tentukan berapa nilai rata-rata skor. \n",
    "3. Kembangkan program untuk menentukan apakah mahasiswa memperoleh A, A-, B dan seterusnya berdasarkan aturan penilaian yang berlaku."
   ]
  },
  {
   "attachments": {},
   "cell_type": "markdown",
   "metadata": {},
   "source": [
    "## 2. Menulis File .csv\n",
    "\n",
    "Diperlukan _library_ atau _package_ untuk membaca file .csv. Gunakan perintah __`import csv`__ untuk memanggil library csv. Modul basic csv umumnya sudah tersedia oleh python \n",
    "\n",
    "```python\n",
    "import csv\n",
    "with open('some.csv', 'w', newline='') as csvfile:\n",
    "    writer = csv.writer(csvfile)\n",
    "    writer.writerows(someiterable)\n",
    "\n",
    "csvfile.close()\n",
    "```"
   ]
  },
  {
   "cell_type": "code",
   "execution_count": 8,
   "metadata": {},
   "outputs": [],
   "source": [
    "import csv\n",
    "\n",
    "DATA_FILE_NAME = 'files/nilaiKuliah.csv'\n",
    "\n",
    "listNilai = []\n",
    "\n",
    "# Buka dahulu datanya\n",
    "with open(DATA_FILE_NAME) as csvfile: # Buka file\n",
    "    readCSV = csv.reader(csvfile, delimiter=',')\n",
    "    line_count = 0\n",
    "    \n",
    "    # Melakukan penyimpanan baris-baris data menjadi nested list\n",
    "    for row in readCSV:\n",
    "        if line_count == 0:\n",
    "            listNilai.append(row)\n",
    "            line_count += 1\n",
    "        else:\n",
    "            listNilai.append(row)\n",
    "            line_count += 1\n",
    "\n",
    "csvfile.close() #Tutup file\n",
    "\n",
    "# Tambahkan sebuah baris data\n",
    "listNilai.append(['I0319999', 'ZGen', '54', '68', '89', '67'])\n",
    "\n",
    "with open(DATA_FILE_NAME, 'w', newline='') as csvfile:\n",
    "    writer = csv.writer(csvfile)\n",
    "    writer.writerows(listNilai)\n",
    "    \n",
    "csvfile.close()"
   ]
  },
  {
   "cell_type": "code",
   "execution_count": 9,
   "metadata": {},
   "outputs": [
    {
     "name": "stdout",
     "output_type": "stream",
     "text": [
      "Nama Kolom : ['NIM', 'NAMA MHS', 'UK1', 'UK2', 'UK3', 'UK4']\n",
      "['I0319003', 'Afra Galda', '84', '66', '76', '45']\n",
      "['I0319011', 'Amelia Rahma', '76', '78', '', '56']\n",
      "['I0319013', 'Anisa Agustina', '86', '57', '89', '78']\n",
      "['I0319015', 'Annafis Manaruzzaki', '54', '', '89', '45']\n",
      "['i0319017', 'Annisa Syahliantina', '87', '67', '67', '89']\n",
      "['I0319023', 'Calvin William ', '65', '67', '87', '67']\n",
      "['I0319025', 'Dicka Korintus', '46', '', '65', '67']\n",
      "['I0319029', 'Elsa Jubilia', '78', '85', '78', '87']\n",
      "['I0319031', 'Evonella Pangaribuan', '57', '87', '92', '78']\n",
      "['I0319059', 'Abyan Naufalÿ', '89', '84', '78', '84']\n",
      "['I0319061', 'Fiqran Alauddin', '54', '68', '89', '67']\n",
      "['I0319999', 'ZGen', '54', '68', '89', '67']\n",
      "Total 13 baris\n",
      "isi nested list yang dibuat :\n",
      "[['NIM', 'NAMA MHS', 'UK1', 'UK2', 'UK3', 'UK4'], ['I0319003', 'Afra Galda', '84', '66', '76', '45'], ['I0319011', 'Amelia Rahma', '76', '78', '', '56'], ['I0319013', 'Anisa Agustina', '86', '57', '89', '78'], ['I0319015', 'Annafis Manaruzzaki', '54', '', '89', '45'], ['i0319017', 'Annisa Syahliantina', '87', '67', '67', '89'], ['I0319023', 'Calvin William ', '65', '67', '87', '67'], ['I0319025', 'Dicka Korintus', '46', '', '65', '67'], ['I0319029', 'Elsa Jubilia', '78', '85', '78', '87'], ['I0319031', 'Evonella Pangaribuan', '57', '87', '92', '78'], ['I0319059', 'Abyan Naufalÿ', '89', '84', '78', '84'], ['I0319061', 'Fiqran Alauddin', '54', '68', '89', '67'], ['I0319999', 'ZGen', '54', '68', '89', '67']]\n"
     ]
    }
   ],
   "source": [
    "# Periksa apakah data sudah ditambahkan 1 baris\n",
    "import csv\n",
    "\n",
    "DATA_FILE_NAME = 'files/nilaiKuliah.csv'\n",
    "listNilai = []\n",
    "\n",
    "with open(DATA_FILE_NAME) as csvfile: # Buka file\n",
    "    # Melakukan parsing untuk pembacaan seluruh baris\n",
    "    readCSV = csv.reader(csvfile, delimiter=',')\n",
    "    line_count = 0\n",
    "    \n",
    "    # Melakukan penyimpanan baris-baris data menjadi nested list\n",
    "    for row in readCSV:\n",
    "        if line_count == 0:\n",
    "            print(f'Nama Kolom : {row}')\n",
    "            listNilai.append(row)\n",
    "            line_count += 1\n",
    "        else:\n",
    "            print(row)\n",
    "            listNilai.append(row)\n",
    "            line_count += 1\n",
    "    \n",
    "    print(f'Total {line_count} baris')\n",
    "\n",
    "csvfile.close() #Tutup file\n",
    "\n",
    "print(\"isi nested list yang dibuat :\")\n",
    "print(listNilai)"
   ]
  }
 ],
 "metadata": {
  "kernelspec": {
   "display_name": "python_programming_3in1",
   "language": "python",
   "name": "python3"
  },
  "language_info": {
   "codemirror_mode": {
    "name": "ipython",
    "version": 3
   },
   "file_extension": ".py",
   "mimetype": "text/x-python",
   "name": "python",
   "nbconvert_exporter": "python",
   "pygments_lexer": "ipython3",
   "version": "3.9.10"
  },
  "orig_nbformat": 4
 },
 "nbformat": 4,
 "nbformat_minor": 2
}
