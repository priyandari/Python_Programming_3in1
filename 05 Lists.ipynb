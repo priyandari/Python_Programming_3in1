{
 "cells": [
  {
   "attachments": {},
   "cell_type": "markdown",
   "metadata": {},
   "source": [
    "# Lists"
   ]
  },
  {
   "attachments": {},
   "cell_type": "markdown",
   "metadata": {},
   "source": [
    "__Lists__ adalah satu diantara empat __tipe struktur data__ atau __koleksi__ di Python yang digunakan untuk menyimpan sekumpulan data. Tiga tipe data lainnya adalah __Tuple, Set, dan Dictionary__.\n",
    "\n",
    "Karakteristik tipe data koleksi pada python:\n",
    "\n",
    "* __List__ adalah koleksi data yang dapat diurutkan dan diubah, serta membolehkan item duplikat. \n",
    "* __Tuple__ adalah koleksi data yang bisa diurutkan dan tidak bisa diubah, serta membolehkan item duplikat.\n",
    "* __Set__ adalah koleksi data yang tidak bisa diurutkan dan tidak bisa diubah*, serta tidak berindeks. Tidak membolehkan item duplikat.\n",
    "* __Dictionary__ adalah koleksi data bisa diurutkan**, diubah dan item tidak ada yang duplikat. .\n",
    "\n",
    "__variabel__ bertipe data __List__ akan __menyimpan sekumpulan data atau nilai__ minimum satu atau lebih. Pada bahasa pemrograman lain, list dikenal juga dengan istilah _array_.\n",
    "\n",
    "List banyak digunakan karena memudahkan __penyimpanan banyak data__ hanya dengan menggunakan __sebuah variabel__, dan ini yang membedakan dengan tipe data sederhana yang telah dipelajari sebelumnya. \n",
    "\n",
    "__List__ ditulis menggunakan kurung kotak `[ ]`."
   ]
  },
  {
   "cell_type": "code",
   "execution_count": 1,
   "metadata": {
    "scrolled": true
   },
   "outputs": [
    {
     "name": "stdout",
     "output_type": "stream",
     "text": [
      "Daftar Mahasiswa :\n",
      "Yoshan\n",
      "Nafis\n"
     ]
    }
   ],
   "source": [
    "# Variabel dengan Tipe data sederhana (string)\n",
    "nama_mhs1 = \"Yoshan\"\n",
    "nama_mhs2 = \"Annisa\"\n",
    "nama_mhs3 = \"Nafis\"\n",
    "\n",
    "print(\"Daftar Mahasiswa :\")\n",
    "print(nama_mhs1)\n",
    "print(nama_mhs3)"
   ]
  },
  {
   "attachments": {},
   "cell_type": "markdown",
   "metadata": {},
   "source": [
    "variabel __list__ memiliki sejumlah <b><i>elemen</i></b>, yakni data atau item yang disimpan.  Nama-nama Yoshan, Annisa, dan Nafis adalah contoh elemen dari data pada variabel mahasiswa ber-tipe data list.\n",
    "\n",
    "Variabel list memiliki <b><i>index</i></b>, yakni posisi elemen (item) di dalam list.  __Index digunakan__ untuk memudahkan __memanggil elemen__ yang diinginkan, atau __mengganti__ atau __manambahkan elemen pada posisi (index) tertentu__. "
   ]
  },
  {
   "cell_type": "code",
   "execution_count": 2,
   "metadata": {
    "scrolled": true
   },
   "outputs": [
    {
     "name": "stdout",
     "output_type": "stream",
     "text": [
      "Daftar Mahasiswa :\n",
      "Yoshan\n",
      "Annisa\n",
      "Nafis\n"
     ]
    }
   ],
   "source": [
    "# Variabel dengan tipe data Lists\n",
    "mahasiswa = ['Yoshan', 'Annisa', 'Nafis']\n",
    "\n",
    "print(\"Daftar Mahasiswa :\")\n",
    "print(mahasiswa[0])\n",
    "print(mahasiswa[1])\n",
    "print(mahasiswa[2])"
   ]
  },
  {
   "attachments": {},
   "cell_type": "markdown",
   "metadata": {},
   "source": [
    "Mengetahui Tipe Data dan Panjang Data"
   ]
  },
  {
   "cell_type": "code",
   "execution_count": 3,
   "metadata": {},
   "outputs": [
    {
     "name": "stdout",
     "output_type": "stream",
     "text": [
      "<class 'list'>\n",
      "3\n"
     ]
    }
   ],
   "source": [
    "print(type(mahasiswa))\n",
    "print(len(mahasiswa))"
   ]
  },
  {
   "attachments": {},
   "cell_type": "markdown",
   "metadata": {},
   "source": [
    "## 1. Membuat, Mengakses, dan Menambah Item pada Lists \n",
    "\n",
    "#### 1.1 Membuat dan Mengakses variabel List\n",
    "Variabel list dapat __dibuat__ dengan langsung memberi nilai data. \n",
    "__Mengakses__ item pada variabel lists dengan menggunakan index."
   ]
  },
  {
   "cell_type": "code",
   "execution_count": 4,
   "metadata": {},
   "outputs": [
    {
     "name": "stdout",
     "output_type": "stream",
     "text": [
      "Daftar Mahasiswa :\n",
      "Yoshan\n",
      "Annisa\n",
      "Thoby\n"
     ]
    }
   ],
   "source": [
    "# Membuat dan mengakses item pada variabel lists\n",
    "mahasiswa = ['Yoshan', 'Annisa', 'Nafis', 'Thoby']\n",
    "\n",
    "print(\"Daftar Mahasiswa :\")\n",
    "print(mahasiswa[0])\n",
    "print(mahasiswa[1])\n",
    "print(mahasiswa[3])"
   ]
  },
  {
   "attachments": {},
   "cell_type": "markdown",
   "metadata": {},
   "source": [
    "Mengakses data, dapat menggunakan __index secara terbalik__ (index dengan nilai negatif)"
   ]
  },
  {
   "cell_type": "code",
   "execution_count": 5,
   "metadata": {},
   "outputs": [
    {
     "name": "stdout",
     "output_type": "stream",
     "text": [
      "Daftar Mahasiswa :\n",
      "Thoby\n",
      "Nafis\n",
      "Annisa\n",
      "Yoshan\n"
     ]
    }
   ],
   "source": [
    "# Mengakses data dengan cara terbalik\n",
    "print(\"Daftar Mahasiswa :\")\n",
    "print(mahasiswa[-1])\n",
    "print(mahasiswa[-2])\n",
    "print(mahasiswa[-3])\n",
    "print(mahasiswa[-4])"
   ]
  },
  {
   "attachments": {},
   "cell_type": "markdown",
   "metadata": {},
   "source": [
    "#### 1.2 Menambah item menggunakan .append(), .insert() dan .extend()\n",
    "Penambahan item data pada variabel list, bisa menggunakan perintah `<nama_variabel>.append(<item_data>)`"
   ]
  },
  {
   "cell_type": "code",
   "execution_count": 6,
   "metadata": {},
   "outputs": [
    {
     "name": "stdout",
     "output_type": "stream",
     "text": [
      "['Apel', 'Jambu', 'kelengkeng']\n"
     ]
    }
   ],
   "source": [
    "# help(list) dapat digunakan untuk melihat sintak yang tersedia pada lists\n",
    "listBuah =[]\n",
    "\n",
    "# Penggunaan .append()\n",
    "listBuah.append(\"Apel\") \n",
    "listBuah.append(\"Jambu\") # Menambahkan satu buah data\n",
    "listBuah.append('kelengkeng')\n",
    "print(listBuah)"
   ]
  },
  {
   "cell_type": "code",
   "execution_count": 7,
   "metadata": {},
   "outputs": [
    {
     "name": "stdout",
     "output_type": "stream",
     "text": [
      "['Apel', 'Belimbing', 'Jambu', 'Alpukat', 'kelengkeng']\n"
     ]
    }
   ],
   "source": [
    "# Penggunaan .insert()\n",
    "# Menambahkan data pada indeks tertentu\n",
    "listBuah.insert(1, \"Belimbing\")\n",
    "listBuah.insert(3, \"Alpukat\") \n",
    "print(listBuah)"
   ]
  },
  {
   "cell_type": "code",
   "execution_count": 8,
   "metadata": {},
   "outputs": [
    {
     "name": "stdout",
     "output_type": "stream",
     "text": [
      "['Apel', 'Belimbing', 'Jambu', 'Alpukat', 'kelengkeng', 'Mangga', 'Pisang']\n"
     ]
    }
   ],
   "source": [
    "# Menambahkan beberapa item sekaligus ke bagian akhir data\n",
    "listBuah.extend([\"Mangga\",\"Pisang\"])\n",
    "print(listBuah)"
   ]
  },
  {
   "attachments": {},
   "cell_type": "markdown",
   "metadata": {},
   "source": [
    "#### 1.3 List Berisi item data Campuran\n",
    "\n",
    "Sebuah List dapat menyimpan item dari berbagai tipe data."
   ]
  },
  {
   "cell_type": "code",
   "execution_count": 9,
   "metadata": {},
   "outputs": [
    {
     "name": "stdout",
     "output_type": "stream",
     "text": [
      "Nama :  Yusuf\n",
      "Tinggi :  167\n",
      "Berat Badan :  66.0\n",
      "Lokasi :  Yogyakarta\n"
     ]
    }
   ],
   "source": [
    "listCampuran = [\"Yusuf\", 167, 66.0, \"Yogyakarta\"]\n",
    "\n",
    "print(\"Nama : \", listCampuran[0])\n",
    "print(\"Tinggi : \", listCampuran[1])\n",
    "print(\"Berat Badan : \", listCampuran[2])\n",
    "print(\"Lokasi : \", listCampuran[3])"
   ]
  },
  {
   "attachments": {},
   "cell_type": "markdown",
   "metadata": {},
   "source": [
    "## 2. Mengakses elemen List menggunakan Iterasi\n",
    "\n",
    "Akses elemen-elemen list dapat menggunakan iterasi atau pengulangan.\n",
    "\n",
    "#### 2.1 Menggunakan __While__"
   ]
  },
  {
   "cell_type": "code",
   "execution_count": 10,
   "metadata": {},
   "outputs": [
    {
     "name": "stdout",
     "output_type": "stream",
     "text": [
      "Yoshan\n",
      "Annisa\n",
      "Nafis\n",
      "Thoby\n"
     ]
    }
   ],
   "source": [
    "# Menggunakan Pengulangan While\n",
    "mahasiswa = ['Yoshan', 'Annisa', 'Nafis', 'Thoby']\n",
    "nMahasiswa = len(mahasiswa)\n",
    "myIndex = 0 # indeks dimulai dengan nilai 0\n",
    "while myIndex < nMahasiswa:\n",
    "    print(mahasiswa[myIndex])\n",
    "    myIndex = myIndex + 1 # increment indeks"
   ]
  },
  {
   "attachments": {},
   "cell_type": "markdown",
   "metadata": {},
   "source": [
    "\n",
    "#### 2.2 Menggunakan __For__ `<item>` __in__ `<list>`"
   ]
  },
  {
   "cell_type": "code",
   "execution_count": 11,
   "metadata": {},
   "outputs": [
    {
     "name": "stdout",
     "output_type": "stream",
     "text": [
      "Yoshan\n",
      "Annisa\n",
      "Nafis\n",
      "Thoby\n"
     ]
    }
   ],
   "source": [
    "# Menggunakan pengulangan for <item> in <lists>\n",
    "mahasiswa = ['Yoshan', 'Annisa', 'Nafis', 'Thoby']\n",
    "for item in mahasiswa:\n",
    "    print(item)"
   ]
  },
  {
   "attachments": {},
   "cell_type": "markdown",
   "metadata": {},
   "source": [
    "#### 2.3 Menggunakan __For__ `<counter>` __in range__(`<start>`, `<end>`)"
   ]
  },
  {
   "cell_type": "code",
   "execution_count": 12,
   "metadata": {},
   "outputs": [
    {
     "name": "stdout",
     "output_type": "stream",
     "text": [
      "Annisa\n",
      "Nafis\n"
     ]
    }
   ],
   "source": [
    "mahasiswa = ['Yoshan', 'Annisa', 'Nafis', 'Thoby']\n",
    "for i in range(1,3):\n",
    "    print(mahasiswa[i])"
   ]
  },
  {
   "attachments": {},
   "cell_type": "markdown",
   "metadata": {},
   "source": [
    "#### 2.4 List Comprehension\n",
    "Proses iterasi data list dengan perintah yang singkat (__short syntax__). Biasa digunakan untuk membuat list baru, dengan kondisi/syarat tertentu. Format penulisan sebagai berikut:\n",
    "`[print(x) for x in thislist]`"
   ]
  },
  {
   "cell_type": "code",
   "execution_count": 13,
   "metadata": {},
   "outputs": [
    {
     "name": "stdout",
     "output_type": "stream",
     "text": [
      "['Yoshan', 'Annisa', 'Nafis']\n"
     ]
    }
   ],
   "source": [
    "# Penerapan list comprehension, membuat list mahasiswa yang ada huruf a\n",
    "mahasiswa = ['Yoshan', 'Annisa', 'Nafis', 'Thoby']\n",
    "newmahasiswa = [x for x in mahasiswa if \"a\" in x]\n",
    "\n",
    "print(newmahasiswa)"
   ]
  },
  {
   "attachments": {},
   "cell_type": "markdown",
   "metadata": {},
   "source": [
    "# 3. Fungsi-Fungsi pada Lists\n",
    "\n",
    "__Lists__ memiliki beberapa __fungsi__ yang siap digunakan (built in). Fungsi .append(), .extend(), dan .insert() adalah contoh fungsi untuk penambahann item data.\n",
    "\n",
    "Untuk menampilkan fungsi apa saja yang tersedia, bisa digunakan perintah `print(dir(list))`."
   ]
  },
  {
   "cell_type": "code",
   "execution_count": 14,
   "metadata": {},
   "outputs": [
    {
     "name": "stdout",
     "output_type": "stream",
     "text": [
      "['__add__', '__class__', '__class_getitem__', '__contains__', '__delattr__', '__delitem__', '__dir__', '__doc__', '__eq__', '__format__', '__ge__', '__getattribute__', '__getitem__', '__gt__', '__hash__', '__iadd__', '__imul__', '__init__', '__init_subclass__', '__iter__', '__le__', '__len__', '__lt__', '__mul__', '__ne__', '__new__', '__reduce__', '__reduce_ex__', '__repr__', '__reversed__', '__rmul__', '__setattr__', '__setitem__', '__sizeof__', '__str__', '__subclasshook__', 'append', 'clear', 'copy', 'count', 'extend', 'index', 'insert', 'pop', 'remove', 'reverse', 'sort']\n"
     ]
    }
   ],
   "source": [
    "print(dir(list))"
   ]
  },
  {
   "attachments": {},
   "cell_type": "markdown",
   "metadata": {},
   "source": [
    "Berikut ini beberapa fungsi yang siap digunakan untuk lists.\n",
    "<img src=\"images/w09ListFungsi.png\">"
   ]
  },
  {
   "attachments": {},
   "cell_type": "markdown",
   "metadata": {},
   "source": [
    "### 3.1 Menghapus Elemen (Item) pada List\n",
    "#### 3.1.1 Remove()\n",
    "Menghapus __berdasarkan item__ yang disebutkan dalam remove\n"
   ]
  },
  {
   "cell_type": "code",
   "execution_count": 15,
   "metadata": {},
   "outputs": [
    {
     "name": "stdout",
     "output_type": "stream",
     "text": [
      "['Annisa', 'Nafis', 'Thoby']\n"
     ]
    }
   ],
   "source": [
    "mahasiswa = ['Yoshan', 'Annisa', 'Nafis', 'Thoby']\n",
    "mahasiswa.remove('Yoshan')\n",
    "print(mahasiswa)"
   ]
  },
  {
   "attachments": {},
   "cell_type": "markdown",
   "metadata": {},
   "source": [
    "#### 3.1.2 Pop()\n",
    "Menghapus __berdasarkan index__ yang disebutkan dalam pop, atau jika tidak menyebutkan index, maka index terakhir yang akan dihapus"
   ]
  },
  {
   "cell_type": "code",
   "execution_count": 16,
   "metadata": {},
   "outputs": [
    {
     "name": "stdout",
     "output_type": "stream",
     "text": [
      "['Yoshan', 'Annisa', 'Nafis']\n"
     ]
    }
   ],
   "source": [
    "mahasiswa = ['Yoshan', 'Annisa', 'Nafis', 'Thoby']\n",
    "mahasiswa.pop()\n",
    "print(mahasiswa)"
   ]
  },
  {
   "cell_type": "code",
   "execution_count": 17,
   "metadata": {},
   "outputs": [
    {
     "name": "stdout",
     "output_type": "stream",
     "text": [
      "['Yoshan', 'Nafis', 'Thoby']\n"
     ]
    }
   ],
   "source": [
    "mahasiswa = ['Yoshan', 'Annisa', 'Nafis', 'Thoby']\n",
    "mahasiswa.pop(1)\n",
    "print(mahasiswa)"
   ]
  },
  {
   "attachments": {},
   "cell_type": "markdown",
   "metadata": {},
   "source": [
    "#### 3.1.3 Clear()\n",
    "Menghapus atau __mengkosongkan data__ pada list."
   ]
  },
  {
   "cell_type": "code",
   "execution_count": 18,
   "metadata": {},
   "outputs": [
    {
     "name": "stdout",
     "output_type": "stream",
     "text": [
      "[]\n"
     ]
    }
   ],
   "source": [
    "mahasiswa = ['Yoshan', 'Annisa', 'Nafis', 'Thoby']\n",
    "mahasiswa.clear()\n",
    "print(mahasiswa)"
   ]
  },
  {
   "attachments": {},
   "cell_type": "markdown",
   "metadata": {},
   "source": [
    "### 3.2 Mengurutkan Item pada List\n",
    "#### 3.2.1 Sort()\n",
    "Mengurutkan item data dari A-Z atau sebaliknya Z-A"
   ]
  },
  {
   "cell_type": "code",
   "execution_count": 19,
   "metadata": {},
   "outputs": [
    {
     "name": "stdout",
     "output_type": "stream",
     "text": [
      "['Annisa', 'Nafis', 'Thoby', 'Yoshan']\n"
     ]
    }
   ],
   "source": [
    "# Mengurutkan dari A-Z\n",
    "mahasiswa = ['Yoshan', 'Annisa', 'Nafis', 'Thoby']\n",
    "mahasiswa.sort()\n",
    "print(mahasiswa)"
   ]
  },
  {
   "cell_type": "code",
   "execution_count": 20,
   "metadata": {},
   "outputs": [
    {
     "name": "stdout",
     "output_type": "stream",
     "text": [
      "['Yoshan', 'Thoby', 'Nafis', 'Annisa']\n"
     ]
    }
   ],
   "source": [
    "# Mengurutkan dari Z-A\n",
    "mahasiswa = ['Yoshan', 'Annisa', 'Nafis', 'Thoby']\n",
    "mahasiswa.sort(reverse=True)\n",
    "print(mahasiswa)"
   ]
  },
  {
   "cell_type": "code",
   "execution_count": 21,
   "metadata": {},
   "outputs": [
    {
     "name": "stdout",
     "output_type": "stream",
     "text": [
      "['annisa', 'Annisa', 'Nafis', 'Thoby', 'Yoshan']\n",
      "['Annisa', 'Nafis', 'Thoby', 'Yoshan', 'annisa']\n"
     ]
    }
   ],
   "source": [
    "# Mengurutkan dengan case-insensitive\n",
    "mahasiswa = ['Yoshan', 'annisa', 'Annisa', 'Nafis', 'Thoby']\n",
    "mahasiswa.sort(key = str.lower) # # case-insensitif\n",
    "print(mahasiswa)\n",
    "mahasiswa.sort() # Huruf KAPITAL diutamakan dari non-KAPITAL\n",
    "print(mahasiswa)"
   ]
  },
  {
   "attachments": {},
   "cell_type": "markdown",
   "metadata": {},
   "source": [
    "#### 3.2.2 Reverse()\n",
    "reverse() __menukar posisi data__ yang semula di belakang menjadi ke depan dan sebaliknya. Sedangkan sort() mengurutkan data\n"
   ]
  },
  {
   "cell_type": "code",
   "execution_count": 22,
   "metadata": {},
   "outputs": [
    {
     "name": "stdout",
     "output_type": "stream",
     "text": [
      "['Thoby', 'Nafis', 'Annisa', 'annisa', 'Yoshan']\n"
     ]
    }
   ],
   "source": [
    "# Membalikkan posisi data\n",
    "mahasiswa = ['Yoshan', 'annisa', 'Annisa', 'Nafis', 'Thoby']\n",
    "mahasiswa.reverse()\n",
    "print(mahasiswa)"
   ]
  },
  {
   "attachments": {},
   "cell_type": "markdown",
   "metadata": {},
   "source": [
    "### 3.3 Menggabungkan Data pada List "
   ]
  },
  {
   "cell_type": "code",
   "execution_count": 23,
   "metadata": {},
   "outputs": [
    {
     "name": "stdout",
     "output_type": "stream",
     "text": [
      "['Yoshan', 'Annisa', 'Nafis', 'Thoby', 'Imanuella', 'Yaris']\n",
      "['Yoshan', 'Annisa', 'Nafis', 'Thoby', 'Imanuella', 'Yaris']\n",
      "['Yoshan', 'Annisa', 'Nafis', 'Thoby', 'Imanuella', 'Yaris']\n"
     ]
    }
   ],
   "source": [
    "# Menggabungkan data menggunakan +\n",
    "mahasiswa_kelasA = ['Yoshan', 'Annisa', 'Nafis', 'Thoby']\n",
    "mahasiswa_kelasB = ['Imanuella', 'Yaris']\n",
    "mahasiswa = mahasiswa_kelasA + mahasiswa_kelasB\n",
    "print(mahasiswa)\n",
    "\n",
    "# Menggabungkan menggunakan Iterasi\n",
    "mahasiswa_kelasA = ['Yoshan', 'Annisa', 'Nafis', 'Thoby']\n",
    "mahasiswa_kelasB = ['Imanuella', 'Yaris']\n",
    "for x in mahasiswa_kelasB:\n",
    "    mahasiswa_kelasA.append(x)\n",
    "print(mahasiswa_kelasA)\n",
    "\n",
    "# Menggabungkan menggunakan extend()\n",
    "mahasiswa_kelasA = ['Yoshan', 'Annisa', 'Nafis', 'Thoby']\n",
    "mahasiswa_kelasB = ['Imanuella', 'Yaris']\n",
    "mahasiswa_kelasA.extend(mahasiswa_kelasB)\n",
    "print(mahasiswa_kelasA)"
   ]
  },
  {
   "attachments": {},
   "cell_type": "markdown",
   "metadata": {},
   "source": [
    "## 4. List di dalam List (List of List)\n",
    "\n",
    "List dapat menampung beragam data, termasuk di dalam sebuah list bisa berisi list juga. List yang seperti ini biasa disebut juga __list yang bersarang (_nested list_)__. Perhatikan ilustrasi di bawah ini.\n"
   ]
  },
  {
   "cell_type": "code",
   "execution_count": 24,
   "metadata": {},
   "outputs": [
    {
     "name": "stdout",
     "output_type": "stream",
     "text": [
      "[4, -1, [23, 45, 12], 87]\n",
      "4\n",
      "[23, 45, 12]\n",
      "3\n"
     ]
    }
   ],
   "source": [
    "listofList = [4, -1 , [23, 45, 12], 87] \n",
    "print(listofList)\n",
    "print(len(listofList))\n",
    "print(listofList[2])\n",
    "print(len(listofList[2]))"
   ]
  },
  {
   "attachments": {},
   "cell_type": "markdown",
   "metadata": {},
   "source": [
    "Mengakses _nested list_ ada dua cara:\n",
    "1. Menyimpannya dalam sebuah list baru, kemudian mengakses item list baru menggunakan indeksnya.\n",
    "2. Menggunakan sintak terstruktur, mengikuti standar pola `outerlist[indeksOuterList][ indeksInnerList ]`"
   ]
  },
  {
   "cell_type": "code",
   "execution_count": 25,
   "metadata": {},
   "outputs": [
    {
     "name": "stdout",
     "output_type": "stream",
     "text": [
      "45\n"
     ]
    }
   ],
   "source": [
    "listofList = [4, -1 , [23, 45, 12], 87] \n",
    "innerList = listofList[2]\n",
    "print(innerList[1])"
   ]
  },
  {
   "cell_type": "code",
   "execution_count": 26,
   "metadata": {},
   "outputs": [
    {
     "name": "stdout",
     "output_type": "stream",
     "text": [
      "45\n"
     ]
    }
   ],
   "source": [
    "listofList = [4, -1 , [23, 45, 12], 87] \n",
    "print(listofList[2][1]) "
   ]
  },
  {
   "attachments": {},
   "cell_type": "markdown",
   "metadata": {},
   "source": [
    "## 5. Representasi Grid / Matrik sebuah List\n",
    "\n",
    "List dapat merepresentasikan sebuah __grid__, atau __matriks__, yaitu sebuah kumpulan data yang terdiri dari __baris dan kolom__."
   ]
  },
  {
   "cell_type": "code",
   "execution_count": 27,
   "metadata": {},
   "outputs": [],
   "source": [
    "EMPTY = ''\n",
    "X = 'x'\n",
    "O = 'o'\n",
    "\n",
    "grid = [\\\n",
    "            [EMPTY, EMPTY, EMPTY], \\\n",
    "            [EMPTY, EMPTY, EMPTY], \\\n",
    "            [EMPTY, EMPTY, EMPTY] \\\n",
    "       ]"
   ]
  },
  {
   "cell_type": "code",
   "execution_count": 28,
   "metadata": {},
   "outputs": [
    {
     "name": "stdout",
     "output_type": "stream",
     "text": [
      "[['', '', ''], ['', '', ''], ['', '', '']]\n"
     ]
    }
   ],
   "source": [
    "print(grid)"
   ]
  },
  {
   "cell_type": "code",
   "execution_count": 29,
   "metadata": {},
   "outputs": [
    {
     "name": "stdout",
     "output_type": "stream",
     "text": [
      "[['', '', 'x'], ['', '', ''], ['', '', '']]\n"
     ]
    }
   ],
   "source": [
    "# Memberi nilai pada baris dan kolom tertentu\n",
    "baris = 0\n",
    "kolom = 2\n",
    "grid[baris][kolom] = X\n",
    "print(grid)"
   ]
  },
  {
   "attachments": {},
   "cell_type": "markdown",
   "metadata": {},
   "source": [
    "##### Pemanfaatan List untuk menyimpan data"
   ]
  },
  {
   "cell_type": "code",
   "execution_count": 30,
   "metadata": {},
   "outputs": [
    {
     "name": "stdout",
     "output_type": "stream",
     "text": [
      "Cara Pertama\n",
      "Daftar Mahasiswa :\n",
      "NIM\t Nama\t Telp\n",
      "1 \t Anin \t 08123\n",
      "2 \t Baeti \t 08234\n",
      "3 \t Cici \t 08345\n",
      "4 \t Dwin \t 08456\n",
      "=============================\n",
      "\n",
      "Cara Kedua\n",
      "Daftar Mahasiswa :\n",
      "NIM\t Nama\t Telp\n",
      "1 \t Anin \t 08123\n",
      "2 \t Baeti \t 08234\n",
      "3 \t Cici \t 08345\n",
      "4 \t Dwin \t 08456\n",
      "=============================\n"
     ]
    }
   ],
   "source": [
    "# Pemanfaatan Struktur Data list untuk menyimpan banyak baris data\n",
    "data_mahasiswa = [\n",
    "    [1, 'Anin', '08123'],\n",
    "    [2, 'Baeti', '08234'],\n",
    "    [3, 'Cici', '08345'],\n",
    "    [4, 'Dwin', '08456']\n",
    "]\n",
    "print('Cara Pertama')\n",
    "print('Daftar Mahasiswa :')\n",
    "print('NIM\\t Nama\\t Telp')\n",
    "for i in range(0,len(data_mahasiswa)):\n",
    "    print(data_mahasiswa[i][0],'\\t', data_mahasiswa[i][1], '\\t',data_mahasiswa[i][2])\n",
    "    i += 1\n",
    "print('=============================')\n",
    "\n",
    "print()\n",
    "print('Cara Kedua')\n",
    "print('Daftar Mahasiswa :')\n",
    "print('NIM\\t Nama\\t Telp')\n",
    "for mahasiswa in data_mahasiswa:\n",
    "    print(mahasiswa[0],'\\t', mahasiswa[1], '\\t',mahasiswa[2])    \n",
    "print('=============================')"
   ]
  },
  {
   "attachments": {},
   "cell_type": "markdown",
   "metadata": {},
   "source": [
    "Tugas latihan mandiri dapat dilihat pada [link tugas list](tasks/t05_list.ipynb)"
   ]
  },
  {
   "attachments": {},
   "cell_type": "markdown",
   "metadata": {},
   "source": [
    "Pada sesi lain, dibahas tentang __mengakses file .csv__ dan menyimpan data ke dalam bentuk _nested list_"
   ]
  }
 ],
 "metadata": {
  "kernelspec": {
   "display_name": "Python 3",
   "language": "python",
   "name": "python3"
  },
  "language_info": {
   "codemirror_mode": {
    "name": "ipython",
    "version": 3
   },
   "file_extension": ".py",
   "mimetype": "text/x-python",
   "name": "python",
   "nbconvert_exporter": "python",
   "pygments_lexer": "ipython3",
   "version": "3.9.10"
  }
 },
 "nbformat": 4,
 "nbformat_minor": 2
}
